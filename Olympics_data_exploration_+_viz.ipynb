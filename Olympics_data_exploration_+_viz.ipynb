{
  "cells": [
    {
      "cell_type": "code",
      "execution_count": 2,
      "id": "VmGARVaVjSdA",
      "metadata": {
        "colab": {
          "base_uri": "https://localhost:8080/"
        },
        "id": "VmGARVaVjSdA",
        "outputId": "b12c0169-2422-4e75-c6b3-3fc7706a1159"
      },
      "outputs": [
        {
          "name": "stdout",
          "output_type": "stream",
          "text": [
            "Requirement already satisfied: dash in ./project8808/lib/python3.9/site-packages (2.18.2)\n",
            "Requirement already satisfied: Flask<3.1,>=1.0.4 in ./project8808/lib/python3.9/site-packages (from dash) (3.0.3)\n",
            "Requirement already satisfied: Werkzeug<3.1 in ./project8808/lib/python3.9/site-packages (from dash) (3.0.6)\n",
            "Requirement already satisfied: plotly>=5.0.0 in ./project8808/lib/python3.9/site-packages (from dash) (6.0.0)\n",
            "Requirement already satisfied: dash-html-components==2.0.0 in ./project8808/lib/python3.9/site-packages (from dash) (2.0.0)\n",
            "Requirement already satisfied: dash-core-components==2.0.0 in ./project8808/lib/python3.9/site-packages (from dash) (2.0.0)\n",
            "Requirement already satisfied: dash-table==5.0.0 in ./project8808/lib/python3.9/site-packages (from dash) (5.0.0)\n",
            "Requirement already satisfied: importlib-metadata in ./project8808/lib/python3.9/site-packages (from dash) (8.6.1)\n",
            "Requirement already satisfied: typing-extensions>=4.1.1 in ./project8808/lib/python3.9/site-packages (from dash) (4.12.2)\n",
            "Requirement already satisfied: requests in ./project8808/lib/python3.9/site-packages (from dash) (2.32.3)\n",
            "Requirement already satisfied: retrying in ./project8808/lib/python3.9/site-packages (from dash) (1.3.4)\n",
            "Requirement already satisfied: nest-asyncio in ./project8808/lib/python3.9/site-packages (from dash) (1.6.0)\n",
            "Requirement already satisfied: setuptools in ./project8808/lib/python3.9/site-packages (from dash) (58.1.0)\n",
            "Requirement already satisfied: Jinja2>=3.1.2 in ./project8808/lib/python3.9/site-packages (from Flask<3.1,>=1.0.4->dash) (3.1.6)\n",
            "Requirement already satisfied: itsdangerous>=2.1.2 in ./project8808/lib/python3.9/site-packages (from Flask<3.1,>=1.0.4->dash) (2.2.0)\n",
            "Requirement already satisfied: click>=8.1.3 in ./project8808/lib/python3.9/site-packages (from Flask<3.1,>=1.0.4->dash) (8.1.8)\n",
            "Requirement already satisfied: blinker>=1.6.2 in ./project8808/lib/python3.9/site-packages (from Flask<3.1,>=1.0.4->dash) (1.9.0)\n",
            "Requirement already satisfied: zipp>=3.20 in ./project8808/lib/python3.9/site-packages (from importlib-metadata->dash) (3.21.0)\n",
            "Requirement already satisfied: narwhals>=1.15.1 in ./project8808/lib/python3.9/site-packages (from plotly>=5.0.0->dash) (1.30.0)\n",
            "Requirement already satisfied: packaging in ./project8808/lib/python3.9/site-packages (from plotly>=5.0.0->dash) (24.2)\n",
            "Requirement already satisfied: MarkupSafe>=2.1.1 in ./project8808/lib/python3.9/site-packages (from Werkzeug<3.1->dash) (3.0.2)\n",
            "Requirement already satisfied: charset-normalizer<4,>=2 in ./project8808/lib/python3.9/site-packages (from requests->dash) (3.4.1)\n",
            "Requirement already satisfied: idna<4,>=2.5 in ./project8808/lib/python3.9/site-packages (from requests->dash) (3.10)\n",
            "Requirement already satisfied: urllib3<3,>=1.21.1 in ./project8808/lib/python3.9/site-packages (from requests->dash) (2.3.0)\n",
            "Requirement already satisfied: certifi>=2017.4.17 in ./project8808/lib/python3.9/site-packages (from requests->dash) (2025.1.31)\n",
            "Requirement already satisfied: six>=1.7.0 in ./project8808/lib/python3.9/site-packages (from retrying->dash) (1.17.0)\n",
            "Note: you may need to restart the kernel to use updated packages.\n"
          ]
        }
      ],
      "source": [
        "pip install dash"
      ]
    },
    {
      "cell_type": "code",
      "execution_count": 3,
      "id": "76379269-c028-4f44-ad2b-7b56ed81234f",
      "metadata": {
        "id": "76379269-c028-4f44-ad2b-7b56ed81234f"
      },
      "outputs": [],
      "source": [
        "import pandas as pd\n",
        "import numpy as np\n",
        "import plotly.express as px\n",
        "import dash\n",
        "from dash import dcc, html\n",
        "from dash.dependencies import Input, Output\n",
        "import plotly.graph_objects as go\n",
        "import plotly.subplots as sp\n",
        "import pandas as pd\n",
        "from plotly.subplots import make_subplots"
      ]
    },
    {
      "cell_type": "code",
      "execution_count": 4,
      "id": "d100c77c-cc61-4871-a692-9cbe21ca4955",
      "metadata": {
        "id": "d100c77c-cc61-4871-a692-9cbe21ca4955"
      },
      "outputs": [],
      "source": [
        "olympics_data_original = pd.read_csv('all_athlete_games.csv')\n",
        "olympics_data = olympics_data_original.copy()"
      ]
    },
    {
      "cell_type": "code",
      "execution_count": 5,
      "id": "041e54fa-1261-4fae-80fe-ee8101490c62",
      "metadata": {
        "id": "041e54fa-1261-4fae-80fe-ee8101490c62"
      },
      "outputs": [],
      "source": [
        "olympics_data['Age'] = olympics_data['Age'].astype('Int64')"
      ]
    },
    {
      "cell_type": "code",
      "execution_count": 6,
      "id": "cMYo7bZ1tIhU",
      "metadata": {
        "id": "cMYo7bZ1tIhU"
      },
      "outputs": [],
      "source": [
        "import re\n",
        "\n",
        "olympics_data['Event'] = olympics_data.apply(\n",
        "    lambda row: re.sub(f'^{re.escape(row[\"Sport\"])}\\\\s*', '',\n",
        "                       re.sub(r'\\s*metres$', 'm',\n",
        "                       re.sub(r'^Athletics\\s*', '', row['Event']))),\n",
        "    axis=1\n",
        ")\n"
      ]
    },
    {
      "cell_type": "code",
      "execution_count": 7,
      "id": "guHPFEsnd4FY",
      "metadata": {
        "colab": {
          "base_uri": "https://localhost:8080/"
        },
        "id": "guHPFEsnd4FY",
        "outputId": "c7c69dc6-1283-490b-e42f-719713ff344a"
      },
      "outputs": [
        {
          "data": {
            "text/plain": [
              "929"
            ]
          },
          "execution_count": 7,
          "metadata": {},
          "output_type": "execute_result"
        }
      ],
      "source": [
        "olympics_data['Event'].unique().size"
      ]
    },
    {
      "cell_type": "code",
      "execution_count": 8,
      "id": "GvN85TWjgK_Y",
      "metadata": {
        "id": "GvN85TWjgK_Y"
      },
      "outputs": [],
      "source": [
        "olympics_data['Team'] = olympics_data['Team'].str.replace(r'\\d+$', '', regex=True)"
      ]
    },
    {
      "cell_type": "code",
      "execution_count": 9,
      "id": "eM-JePb3jMQw",
      "metadata": {
        "colab": {
          "base_uri": "https://localhost:8080/",
          "height": 164
        },
        "id": "eM-JePb3jMQw",
        "outputId": "419b3657-b92c-40d9-8e12-0f3653231e55"
      },
      "outputs": [
        {
          "data": {
            "text/html": [
              "<div>\n",
              "<style scoped>\n",
              "    .dataframe tbody tr th:only-of-type {\n",
              "        vertical-align: middle;\n",
              "    }\n",
              "\n",
              "    .dataframe tbody tr th {\n",
              "        vertical-align: top;\n",
              "    }\n",
              "\n",
              "    .dataframe thead th {\n",
              "        text-align: right;\n",
              "    }\n",
              "</style>\n",
              "<table border=\"1\" class=\"dataframe\">\n",
              "  <thead>\n",
              "    <tr style=\"text-align: right;\">\n",
              "      <th></th>\n",
              "      <th>Entry ID</th>\n",
              "      <th>Name</th>\n",
              "      <th>Gender</th>\n",
              "      <th>Age</th>\n",
              "      <th>Team</th>\n",
              "      <th>NOC</th>\n",
              "      <th>Year</th>\n",
              "      <th>Season</th>\n",
              "      <th>City</th>\n",
              "      <th>Sport</th>\n",
              "      <th>Event</th>\n",
              "      <th>Medal</th>\n",
              "    </tr>\n",
              "  </thead>\n",
              "  <tbody>\n",
              "    <tr>\n",
              "      <th>6</th>\n",
              "      <td>29</td>\n",
              "      <td>Einar Ferdinand \"Einari\" Aalto</td>\n",
              "      <td>Male</td>\n",
              "      <td>26</td>\n",
              "      <td>Finland</td>\n",
              "      <td>FIN</td>\n",
              "      <td>1952</td>\n",
              "      <td>Summer</td>\n",
              "      <td>Helsinki</td>\n",
              "      <td>Swimming</td>\n",
              "      <td>Men's 400 metres Freestyle</td>\n",
              "      <td>NaN</td>\n",
              "    </tr>\n",
              "    <tr>\n",
              "      <th>10</th>\n",
              "      <td>35</td>\n",
              "      <td>Arvo Ossian Aaltonen</td>\n",
              "      <td>Male</td>\n",
              "      <td>22</td>\n",
              "      <td>Finland</td>\n",
              "      <td>FIN</td>\n",
              "      <td>1912</td>\n",
              "      <td>Summer</td>\n",
              "      <td>Stockholm</td>\n",
              "      <td>Swimming</td>\n",
              "      <td>Men's 200 metres Breaststroke</td>\n",
              "      <td>NaN</td>\n",
              "    </tr>\n",
              "  </tbody>\n",
              "</table>\n",
              "</div>"
            ],
            "text/plain": [
              "    Entry ID                            Name Gender  Age     Team  NOC  Year  \\\n",
              "6         29  Einar Ferdinand \"Einari\" Aalto   Male   26  Finland  FIN  1952   \n",
              "10        35            Arvo Ossian Aaltonen   Male   22  Finland  FIN  1912   \n",
              "\n",
              "    Season       City     Sport                          Event Medal  \n",
              "6   Summer   Helsinki  Swimming     Men's 400 metres Freestyle   NaN  \n",
              "10  Summer  Stockholm  Swimming  Men's 200 metres Breaststroke   NaN  "
            ]
          },
          "execution_count": 9,
          "metadata": {},
          "output_type": "execute_result"
        }
      ],
      "source": [
        "olympics_data[olympics_data['Sport'] == 'Swimming'].head(2)"
      ]
    },
    {
      "cell_type": "markdown",
      "id": "qQWk0nqCmzTl",
      "metadata": {
        "id": "qQWk0nqCmzTl"
      },
      "source": [
        "# Age"
      ]
    },
    {
      "cell_type": "code",
      "execution_count": 10,
      "id": "_Z3dbif2lCSM",
      "metadata": {
        "colab": {
          "base_uri": "https://localhost:8080/",
          "height": 597
        },
        "id": "_Z3dbif2lCSM",
        "outputId": "31f22fa8-2a64-4cf2-a598-8873a0e36503"
      },
      "outputs": [
        {
          "name": "stderr",
          "output_type": "stream",
          "text": [
            "/var/folders/_l/9zwk5vpn34jdm7zv9_m4mgfr0000gn/T/ipykernel_39424/2847573078.py:7: FutureWarning: The default of observed=False is deprecated and will be changed to True in a future version of pandas. Pass observed=False to retain current behavior or observed=True to adopt the future default and silence this warning.\n",
            "  df_grouped = df.groupby([\"Year\", \"Age Group\"]).size().reset_index(name=\"Count\")\n"
          ]
        },
        {
          "data": {
            "application/vnd.plotly.v1+json": {
              "config": {
                "plotlyServerURL": "https://plot.ly"
              },
              "data": [
                {
                  "hovertemplate": "Age Group=%{y}<br>Year=%{x}<br>Number of Athletes=%{marker.size}<extra></extra>",
                  "legendgroup": "10-14",
                  "marker": {
                    "color": "#2E86C1",
                    "opacity": 0.85,
                    "size": {
                      "bdata": "AAAAAAACAAECAQQCAQAFAxcSFwcFBwoJAgQDAQIA",
                      "dtype": "i1"
                    },
                    "sizemode": "area",
                    "sizeref": 0.355625,
                    "symbol": "circle"
                  },
                  "mode": "markers",
                  "name": "10-14",
                  "orientation": "h",
                  "showlegend": true,
                  "type": "scatter",
                  "x": {
                    "bdata": "aAdsB3AHcgd0B3gHgAeEB4gHjAeQB5wHoAekB6gHrAewB7QHuAe8B8AHxAfIB8wH0AfUB9gH3AfgB+QH",
                    "dtype": "i2"
                  },
                  "xaxis": "x",
                  "y": [
                    "10-14",
                    "10-14",
                    "10-14",
                    "10-14",
                    "10-14",
                    "10-14",
                    "10-14",
                    "10-14",
                    "10-14",
                    "10-14",
                    "10-14",
                    "10-14",
                    "10-14",
                    "10-14",
                    "10-14",
                    "10-14",
                    "10-14",
                    "10-14",
                    "10-14",
                    "10-14",
                    "10-14",
                    "10-14",
                    "10-14",
                    "10-14",
                    "10-14",
                    "10-14",
                    "10-14",
                    "10-14",
                    "10-14",
                    "10-14"
                  ],
                  "yaxis": "y"
                },
                {
                  "hovertemplate": "Age Group=%{y}<br>Year=%{x}<br>Number of Athletes=%{marker.size}<extra></extra>",
                  "legendgroup": "15-17",
                  "marker": {
                    "color": "#1ABC9C",
                    "opacity": 0.85,
                    "size": {
                      "bdata": "AAADAAEABgAMAA8ADQAYABkAFAAtABoAIQAqAGUAfAApAToBIQGtALQA0QC2AKoAjgBxAFIAQAA6ADUA",
                      "dtype": "i2"
                    },
                    "sizemode": "area",
                    "sizeref": 0.355625,
                    "symbol": "circle"
                  },
                  "mode": "markers",
                  "name": "15-17",
                  "orientation": "h",
                  "showlegend": true,
                  "type": "scatter",
                  "x": {
                    "bdata": "aAdsB3AHcgd0B3gHgAeEB4gHjAeQB5wHoAekB6gHrAewB7QHuAe8B8AHxAfIB8wH0AfUB9gH3AfgB+QH",
                    "dtype": "i2"
                  },
                  "xaxis": "x",
                  "y": [
                    "15-17",
                    "15-17",
                    "15-17",
                    "15-17",
                    "15-17",
                    "15-17",
                    "15-17",
                    "15-17",
                    "15-17",
                    "15-17",
                    "15-17",
                    "15-17",
                    "15-17",
                    "15-17",
                    "15-17",
                    "15-17",
                    "15-17",
                    "15-17",
                    "15-17",
                    "15-17",
                    "15-17",
                    "15-17",
                    "15-17",
                    "15-17",
                    "15-17",
                    "15-17",
                    "15-17",
                    "15-17",
                    "15-17",
                    "15-17"
                  ],
                  "yaxis": "y"
                },
                {
                  "hovertemplate": "Age Group=%{y}<br>Year=%{x}<br>Number of Athletes=%{marker.size}<extra></extra>",
                  "legendgroup": "18-20",
                  "marker": {
                    "color": "#F39C12",
                    "opacity": 0.85,
                    "size": {
                      "bdata": "BQAWAA0ACwAhAD8AOAA+AFEAQABuAIIApwBtAP8AKAHOAQUCyQFJAcsBJwL7AegBkQFnAVMBDAESAQUB",
                      "dtype": "i2"
                    },
                    "sizemode": "area",
                    "sizeref": 0.355625,
                    "symbol": "circle"
                  },
                  "mode": "markers",
                  "name": "18-20",
                  "orientation": "h",
                  "showlegend": true,
                  "type": "scatter",
                  "x": {
                    "bdata": "aAdsB3AHcgd0B3gHgAeEB4gHjAeQB5wHoAekB6gHrAewB7QHuAe8B8AHxAfIB8wH0AfUB9gH3AfgB+QH",
                    "dtype": "i2"
                  },
                  "xaxis": "x",
                  "y": [
                    "18-20",
                    "18-20",
                    "18-20",
                    "18-20",
                    "18-20",
                    "18-20",
                    "18-20",
                    "18-20",
                    "18-20",
                    "18-20",
                    "18-20",
                    "18-20",
                    "18-20",
                    "18-20",
                    "18-20",
                    "18-20",
                    "18-20",
                    "18-20",
                    "18-20",
                    "18-20",
                    "18-20",
                    "18-20",
                    "18-20",
                    "18-20",
                    "18-20",
                    "18-20",
                    "18-20",
                    "18-20",
                    "18-20",
                    "18-20"
                  ],
                  "yaxis": "y"
                },
                {
                  "hovertemplate": "Age Group=%{y}<br>Year=%{x}<br>Number of Athletes=%{marker.size}<extra></extra>",
                  "legendgroup": "21-23",
                  "marker": {
                    "color": "#E74C3C",
                    "opacity": 0.85,
                    "size": {
                      "bdata": "AgAWABUADgAgAEAAGgBZAFAAKQBvAE0AigBIALEA2ABGARoB6QCzAK0BDAL0AdIBOQLlARMCwQHSAcYB",
                      "dtype": "i2"
                    },
                    "sizemode": "area",
                    "sizeref": 0.355625,
                    "symbol": "circle"
                  },
                  "mode": "markers",
                  "name": "21-23",
                  "orientation": "h",
                  "showlegend": true,
                  "type": "scatter",
                  "x": {
                    "bdata": "aAdsB3AHcgd0B3gHgAeEB4gHjAeQB5wHoAekB6gHrAewB7QHuAe8B8AHxAfIB8wH0AfUB9gH3AfgB+QH",
                    "dtype": "i2"
                  },
                  "xaxis": "x",
                  "y": [
                    "21-23",
                    "21-23",
                    "21-23",
                    "21-23",
                    "21-23",
                    "21-23",
                    "21-23",
                    "21-23",
                    "21-23",
                    "21-23",
                    "21-23",
                    "21-23",
                    "21-23",
                    "21-23",
                    "21-23",
                    "21-23",
                    "21-23",
                    "21-23",
                    "21-23",
                    "21-23",
                    "21-23",
                    "21-23",
                    "21-23",
                    "21-23",
                    "21-23",
                    "21-23",
                    "21-23",
                    "21-23",
                    "21-23",
                    "21-23"
                  ],
                  "yaxis": "y"
                },
                {
                  "hovertemplate": "Age Group=%{y}<br>Year=%{x}<br>Number of Athletes=%{marker.size}<extra></extra>",
                  "legendgroup": "24-26",
                  "marker": {
                    "color": "#8E44AD",
                    "opacity": 0.85,
                    "size": {
                      "bdata": "AAAFABAADgAfAB4AHQAWABEAHgA2AD0AVAAwAEMASgBoAGoANQA1AGwACwEqAVYBdQF7AdwBtgGaAa8B",
                      "dtype": "i2"
                    },
                    "sizemode": "area",
                    "sizeref": 0.355625,
                    "symbol": "circle"
                  },
                  "mode": "markers",
                  "name": "24-26",
                  "orientation": "h",
                  "showlegend": true,
                  "type": "scatter",
                  "x": {
                    "bdata": "aAdsB3AHcgd0B3gHgAeEB4gHjAeQB5wHoAekB6gHrAewB7QHuAe8B8AHxAfIB8wH0AfUB9gH3AfgB+QH",
                    "dtype": "i2"
                  },
                  "xaxis": "x",
                  "y": [
                    "24-26",
                    "24-26",
                    "24-26",
                    "24-26",
                    "24-26",
                    "24-26",
                    "24-26",
                    "24-26",
                    "24-26",
                    "24-26",
                    "24-26",
                    "24-26",
                    "24-26",
                    "24-26",
                    "24-26",
                    "24-26",
                    "24-26",
                    "24-26",
                    "24-26",
                    "24-26",
                    "24-26",
                    "24-26",
                    "24-26",
                    "24-26",
                    "24-26",
                    "24-26",
                    "24-26",
                    "24-26",
                    "24-26",
                    "24-26"
                  ],
                  "yaxis": "y"
                },
                {
                  "hovertemplate": "Age Group=%{y}<br>Year=%{x}<br>Number of Athletes=%{marker.size}<extra></extra>",
                  "legendgroup": "27-30",
                  "marker": {
                    "color": "#16A085",
                    "opacity": 0.85,
                    "size": {
                      "bdata": "AAAHAAEABwAPAA0AGQANABYACgAUACMAJQAVABAAFwANAA4AEAADABAAJwBoAJYA2ADeAPIADQEbAVAB",
                      "dtype": "i2"
                    },
                    "sizemode": "area",
                    "sizeref": 0.355625,
                    "symbol": "circle"
                  },
                  "mode": "markers",
                  "name": "27-30",
                  "orientation": "h",
                  "showlegend": true,
                  "type": "scatter",
                  "x": {
                    "bdata": "aAdsB3AHcgd0B3gHgAeEB4gHjAeQB5wHoAekB6gHrAewB7QHuAe8B8AHxAfIB8wH0AfUB9gH3AfgB+QH",
                    "dtype": "i2"
                  },
                  "xaxis": "x",
                  "y": [
                    "27-30",
                    "27-30",
                    "27-30",
                    "27-30",
                    "27-30",
                    "27-30",
                    "27-30",
                    "27-30",
                    "27-30",
                    "27-30",
                    "27-30",
                    "27-30",
                    "27-30",
                    "27-30",
                    "27-30",
                    "27-30",
                    "27-30",
                    "27-30",
                    "27-30",
                    "27-30",
                    "27-30",
                    "27-30",
                    "27-30",
                    "27-30",
                    "27-30",
                    "27-30",
                    "27-30",
                    "27-30",
                    "27-30",
                    "27-30"
                  ],
                  "yaxis": "y"
                },
                {
                  "hovertemplate": "Age Group=%{y}<br>Year=%{x}<br>Number of Athletes=%{marker.size}<extra></extra>",
                  "legendgroup": "31-35",
                  "marker": {
                    "color": "#D35400",
                    "opacity": 0.85,
                    "size": {
                      "bdata": "AAQDBAMJCAkBBAEFBwUGAAQCAAIEBgoHJjZFKkRZ",
                      "dtype": "i1"
                    },
                    "sizemode": "area",
                    "sizeref": 0.355625,
                    "symbol": "circle"
                  },
                  "mode": "markers",
                  "name": "31-35",
                  "orientation": "h",
                  "showlegend": true,
                  "type": "scatter",
                  "x": {
                    "bdata": "aAdsB3AHcgd0B3gHgAeEB4gHjAeQB5wHoAekB6gHrAewB7QHuAe8B8AHxAfIB8wH0AfUB9gH3AfgB+QH",
                    "dtype": "i2"
                  },
                  "xaxis": "x",
                  "y": [
                    "31-35",
                    "31-35",
                    "31-35",
                    "31-35",
                    "31-35",
                    "31-35",
                    "31-35",
                    "31-35",
                    "31-35",
                    "31-35",
                    "31-35",
                    "31-35",
                    "31-35",
                    "31-35",
                    "31-35",
                    "31-35",
                    "31-35",
                    "31-35",
                    "31-35",
                    "31-35",
                    "31-35",
                    "31-35",
                    "31-35",
                    "31-35",
                    "31-35",
                    "31-35",
                    "31-35",
                    "31-35",
                    "31-35",
                    "31-35"
                  ],
                  "yaxis": "y"
                },
                {
                  "hovertemplate": "Age Group=%{y}<br>Year=%{x}<br>Number of Athletes=%{marker.size}<extra></extra>",
                  "legendgroup": "36+",
                  "marker": {
                    "color": "#34495E",
                    "opacity": 0.85,
                    "size": {
                      "bdata": "AAMFAQMCBgACAAAAAQEAAAAAAAAAAAEAAAIHBwcK",
                      "dtype": "i1"
                    },
                    "sizemode": "area",
                    "sizeref": 0.355625,
                    "symbol": "circle"
                  },
                  "mode": "markers",
                  "name": "36+",
                  "orientation": "h",
                  "showlegend": true,
                  "type": "scatter",
                  "x": {
                    "bdata": "aAdsB3AHcgd0B3gHgAeEB4gHjAeQB5wHoAekB6gHrAewB7QHuAe8B8AHxAfIB8wH0AfUB9gH3AfgB+QH",
                    "dtype": "i2"
                  },
                  "xaxis": "x",
                  "y": [
                    "36+",
                    "36+",
                    "36+",
                    "36+",
                    "36+",
                    "36+",
                    "36+",
                    "36+",
                    "36+",
                    "36+",
                    "36+",
                    "36+",
                    "36+",
                    "36+",
                    "36+",
                    "36+",
                    "36+",
                    "36+",
                    "36+",
                    "36+",
                    "36+",
                    "36+",
                    "36+",
                    "36+",
                    "36+",
                    "36+",
                    "36+",
                    "36+",
                    "36+",
                    "36+"
                  ],
                  "yaxis": "y"
                }
              ],
              "layout": {
                "font": {
                  "size": 14
                },
                "legend": {
                  "itemsizing": "constant",
                  "title": {
                    "text": "Age Groups"
                  },
                  "tracegroupgap": 0
                },
                "paper_bgcolor": "white",
                "plot_bgcolor": "white",
                "template": {
                  "data": {
                    "bar": [
                      {
                        "error_x": {
                          "color": "rgb(36,36,36)"
                        },
                        "error_y": {
                          "color": "rgb(36,36,36)"
                        },
                        "marker": {
                          "line": {
                            "color": "white",
                            "width": 0.5
                          },
                          "pattern": {
                            "fillmode": "overlay",
                            "size": 10,
                            "solidity": 0.2
                          }
                        },
                        "type": "bar"
                      }
                    ],
                    "barpolar": [
                      {
                        "marker": {
                          "line": {
                            "color": "white",
                            "width": 0.5
                          },
                          "pattern": {
                            "fillmode": "overlay",
                            "size": 10,
                            "solidity": 0.2
                          }
                        },
                        "type": "barpolar"
                      }
                    ],
                    "carpet": [
                      {
                        "aaxis": {
                          "endlinecolor": "rgb(36,36,36)",
                          "gridcolor": "white",
                          "linecolor": "white",
                          "minorgridcolor": "white",
                          "startlinecolor": "rgb(36,36,36)"
                        },
                        "baxis": {
                          "endlinecolor": "rgb(36,36,36)",
                          "gridcolor": "white",
                          "linecolor": "white",
                          "minorgridcolor": "white",
                          "startlinecolor": "rgb(36,36,36)"
                        },
                        "type": "carpet"
                      }
                    ],
                    "choropleth": [
                      {
                        "colorbar": {
                          "outlinewidth": 1,
                          "tickcolor": "rgb(36,36,36)",
                          "ticks": "outside"
                        },
                        "type": "choropleth"
                      }
                    ],
                    "contour": [
                      {
                        "colorbar": {
                          "outlinewidth": 1,
                          "tickcolor": "rgb(36,36,36)",
                          "ticks": "outside"
                        },
                        "colorscale": [
                          [
                            0,
                            "#440154"
                          ],
                          [
                            0.1111111111111111,
                            "#482878"
                          ],
                          [
                            0.2222222222222222,
                            "#3e4989"
                          ],
                          [
                            0.3333333333333333,
                            "#31688e"
                          ],
                          [
                            0.4444444444444444,
                            "#26828e"
                          ],
                          [
                            0.5555555555555556,
                            "#1f9e89"
                          ],
                          [
                            0.6666666666666666,
                            "#35b779"
                          ],
                          [
                            0.7777777777777778,
                            "#6ece58"
                          ],
                          [
                            0.8888888888888888,
                            "#b5de2b"
                          ],
                          [
                            1,
                            "#fde725"
                          ]
                        ],
                        "type": "contour"
                      }
                    ],
                    "contourcarpet": [
                      {
                        "colorbar": {
                          "outlinewidth": 1,
                          "tickcolor": "rgb(36,36,36)",
                          "ticks": "outside"
                        },
                        "type": "contourcarpet"
                      }
                    ],
                    "heatmap": [
                      {
                        "colorbar": {
                          "outlinewidth": 1,
                          "tickcolor": "rgb(36,36,36)",
                          "ticks": "outside"
                        },
                        "colorscale": [
                          [
                            0,
                            "#440154"
                          ],
                          [
                            0.1111111111111111,
                            "#482878"
                          ],
                          [
                            0.2222222222222222,
                            "#3e4989"
                          ],
                          [
                            0.3333333333333333,
                            "#31688e"
                          ],
                          [
                            0.4444444444444444,
                            "#26828e"
                          ],
                          [
                            0.5555555555555556,
                            "#1f9e89"
                          ],
                          [
                            0.6666666666666666,
                            "#35b779"
                          ],
                          [
                            0.7777777777777778,
                            "#6ece58"
                          ],
                          [
                            0.8888888888888888,
                            "#b5de2b"
                          ],
                          [
                            1,
                            "#fde725"
                          ]
                        ],
                        "type": "heatmap"
                      }
                    ],
                    "histogram": [
                      {
                        "marker": {
                          "line": {
                            "color": "white",
                            "width": 0.6
                          }
                        },
                        "type": "histogram"
                      }
                    ],
                    "histogram2d": [
                      {
                        "colorbar": {
                          "outlinewidth": 1,
                          "tickcolor": "rgb(36,36,36)",
                          "ticks": "outside"
                        },
                        "colorscale": [
                          [
                            0,
                            "#440154"
                          ],
                          [
                            0.1111111111111111,
                            "#482878"
                          ],
                          [
                            0.2222222222222222,
                            "#3e4989"
                          ],
                          [
                            0.3333333333333333,
                            "#31688e"
                          ],
                          [
                            0.4444444444444444,
                            "#26828e"
                          ],
                          [
                            0.5555555555555556,
                            "#1f9e89"
                          ],
                          [
                            0.6666666666666666,
                            "#35b779"
                          ],
                          [
                            0.7777777777777778,
                            "#6ece58"
                          ],
                          [
                            0.8888888888888888,
                            "#b5de2b"
                          ],
                          [
                            1,
                            "#fde725"
                          ]
                        ],
                        "type": "histogram2d"
                      }
                    ],
                    "histogram2dcontour": [
                      {
                        "colorbar": {
                          "outlinewidth": 1,
                          "tickcolor": "rgb(36,36,36)",
                          "ticks": "outside"
                        },
                        "colorscale": [
                          [
                            0,
                            "#440154"
                          ],
                          [
                            0.1111111111111111,
                            "#482878"
                          ],
                          [
                            0.2222222222222222,
                            "#3e4989"
                          ],
                          [
                            0.3333333333333333,
                            "#31688e"
                          ],
                          [
                            0.4444444444444444,
                            "#26828e"
                          ],
                          [
                            0.5555555555555556,
                            "#1f9e89"
                          ],
                          [
                            0.6666666666666666,
                            "#35b779"
                          ],
                          [
                            0.7777777777777778,
                            "#6ece58"
                          ],
                          [
                            0.8888888888888888,
                            "#b5de2b"
                          ],
                          [
                            1,
                            "#fde725"
                          ]
                        ],
                        "type": "histogram2dcontour"
                      }
                    ],
                    "mesh3d": [
                      {
                        "colorbar": {
                          "outlinewidth": 1,
                          "tickcolor": "rgb(36,36,36)",
                          "ticks": "outside"
                        },
                        "type": "mesh3d"
                      }
                    ],
                    "parcoords": [
                      {
                        "line": {
                          "colorbar": {
                            "outlinewidth": 1,
                            "tickcolor": "rgb(36,36,36)",
                            "ticks": "outside"
                          }
                        },
                        "type": "parcoords"
                      }
                    ],
                    "pie": [
                      {
                        "automargin": true,
                        "type": "pie"
                      }
                    ],
                    "scatter": [
                      {
                        "fillpattern": {
                          "fillmode": "overlay",
                          "size": 10,
                          "solidity": 0.2
                        },
                        "type": "scatter"
                      }
                    ],
                    "scatter3d": [
                      {
                        "line": {
                          "colorbar": {
                            "outlinewidth": 1,
                            "tickcolor": "rgb(36,36,36)",
                            "ticks": "outside"
                          }
                        },
                        "marker": {
                          "colorbar": {
                            "outlinewidth": 1,
                            "tickcolor": "rgb(36,36,36)",
                            "ticks": "outside"
                          }
                        },
                        "type": "scatter3d"
                      }
                    ],
                    "scattercarpet": [
                      {
                        "marker": {
                          "colorbar": {
                            "outlinewidth": 1,
                            "tickcolor": "rgb(36,36,36)",
                            "ticks": "outside"
                          }
                        },
                        "type": "scattercarpet"
                      }
                    ],
                    "scattergeo": [
                      {
                        "marker": {
                          "colorbar": {
                            "outlinewidth": 1,
                            "tickcolor": "rgb(36,36,36)",
                            "ticks": "outside"
                          }
                        },
                        "type": "scattergeo"
                      }
                    ],
                    "scattergl": [
                      {
                        "marker": {
                          "colorbar": {
                            "outlinewidth": 1,
                            "tickcolor": "rgb(36,36,36)",
                            "ticks": "outside"
                          }
                        },
                        "type": "scattergl"
                      }
                    ],
                    "scattermap": [
                      {
                        "marker": {
                          "colorbar": {
                            "outlinewidth": 1,
                            "tickcolor": "rgb(36,36,36)",
                            "ticks": "outside"
                          }
                        },
                        "type": "scattermap"
                      }
                    ],
                    "scattermapbox": [
                      {
                        "marker": {
                          "colorbar": {
                            "outlinewidth": 1,
                            "tickcolor": "rgb(36,36,36)",
                            "ticks": "outside"
                          }
                        },
                        "type": "scattermapbox"
                      }
                    ],
                    "scatterpolar": [
                      {
                        "marker": {
                          "colorbar": {
                            "outlinewidth": 1,
                            "tickcolor": "rgb(36,36,36)",
                            "ticks": "outside"
                          }
                        },
                        "type": "scatterpolar"
                      }
                    ],
                    "scatterpolargl": [
                      {
                        "marker": {
                          "colorbar": {
                            "outlinewidth": 1,
                            "tickcolor": "rgb(36,36,36)",
                            "ticks": "outside"
                          }
                        },
                        "type": "scatterpolargl"
                      }
                    ],
                    "scatterternary": [
                      {
                        "marker": {
                          "colorbar": {
                            "outlinewidth": 1,
                            "tickcolor": "rgb(36,36,36)",
                            "ticks": "outside"
                          }
                        },
                        "type": "scatterternary"
                      }
                    ],
                    "surface": [
                      {
                        "colorbar": {
                          "outlinewidth": 1,
                          "tickcolor": "rgb(36,36,36)",
                          "ticks": "outside"
                        },
                        "colorscale": [
                          [
                            0,
                            "#440154"
                          ],
                          [
                            0.1111111111111111,
                            "#482878"
                          ],
                          [
                            0.2222222222222222,
                            "#3e4989"
                          ],
                          [
                            0.3333333333333333,
                            "#31688e"
                          ],
                          [
                            0.4444444444444444,
                            "#26828e"
                          ],
                          [
                            0.5555555555555556,
                            "#1f9e89"
                          ],
                          [
                            0.6666666666666666,
                            "#35b779"
                          ],
                          [
                            0.7777777777777778,
                            "#6ece58"
                          ],
                          [
                            0.8888888888888888,
                            "#b5de2b"
                          ],
                          [
                            1,
                            "#fde725"
                          ]
                        ],
                        "type": "surface"
                      }
                    ],
                    "table": [
                      {
                        "cells": {
                          "fill": {
                            "color": "rgb(237,237,237)"
                          },
                          "line": {
                            "color": "white"
                          }
                        },
                        "header": {
                          "fill": {
                            "color": "rgb(217,217,217)"
                          },
                          "line": {
                            "color": "white"
                          }
                        },
                        "type": "table"
                      }
                    ]
                  },
                  "layout": {
                    "annotationdefaults": {
                      "arrowhead": 0,
                      "arrowwidth": 1
                    },
                    "autotypenumbers": "strict",
                    "coloraxis": {
                      "colorbar": {
                        "outlinewidth": 1,
                        "tickcolor": "rgb(36,36,36)",
                        "ticks": "outside"
                      }
                    },
                    "colorscale": {
                      "diverging": [
                        [
                          0,
                          "rgb(103,0,31)"
                        ],
                        [
                          0.1,
                          "rgb(178,24,43)"
                        ],
                        [
                          0.2,
                          "rgb(214,96,77)"
                        ],
                        [
                          0.3,
                          "rgb(244,165,130)"
                        ],
                        [
                          0.4,
                          "rgb(253,219,199)"
                        ],
                        [
                          0.5,
                          "rgb(247,247,247)"
                        ],
                        [
                          0.6,
                          "rgb(209,229,240)"
                        ],
                        [
                          0.7,
                          "rgb(146,197,222)"
                        ],
                        [
                          0.8,
                          "rgb(67,147,195)"
                        ],
                        [
                          0.9,
                          "rgb(33,102,172)"
                        ],
                        [
                          1,
                          "rgb(5,48,97)"
                        ]
                      ],
                      "sequential": [
                        [
                          0,
                          "#440154"
                        ],
                        [
                          0.1111111111111111,
                          "#482878"
                        ],
                        [
                          0.2222222222222222,
                          "#3e4989"
                        ],
                        [
                          0.3333333333333333,
                          "#31688e"
                        ],
                        [
                          0.4444444444444444,
                          "#26828e"
                        ],
                        [
                          0.5555555555555556,
                          "#1f9e89"
                        ],
                        [
                          0.6666666666666666,
                          "#35b779"
                        ],
                        [
                          0.7777777777777778,
                          "#6ece58"
                        ],
                        [
                          0.8888888888888888,
                          "#b5de2b"
                        ],
                        [
                          1,
                          "#fde725"
                        ]
                      ],
                      "sequentialminus": [
                        [
                          0,
                          "#440154"
                        ],
                        [
                          0.1111111111111111,
                          "#482878"
                        ],
                        [
                          0.2222222222222222,
                          "#3e4989"
                        ],
                        [
                          0.3333333333333333,
                          "#31688e"
                        ],
                        [
                          0.4444444444444444,
                          "#26828e"
                        ],
                        [
                          0.5555555555555556,
                          "#1f9e89"
                        ],
                        [
                          0.6666666666666666,
                          "#35b779"
                        ],
                        [
                          0.7777777777777778,
                          "#6ece58"
                        ],
                        [
                          0.8888888888888888,
                          "#b5de2b"
                        ],
                        [
                          1,
                          "#fde725"
                        ]
                      ]
                    },
                    "colorway": [
                      "#1F77B4",
                      "#FF7F0E",
                      "#2CA02C",
                      "#D62728",
                      "#9467BD",
                      "#8C564B",
                      "#E377C2",
                      "#7F7F7F",
                      "#BCBD22",
                      "#17BECF"
                    ],
                    "font": {
                      "color": "rgb(36,36,36)"
                    },
                    "geo": {
                      "bgcolor": "white",
                      "lakecolor": "white",
                      "landcolor": "white",
                      "showlakes": true,
                      "showland": true,
                      "subunitcolor": "white"
                    },
                    "hoverlabel": {
                      "align": "left"
                    },
                    "hovermode": "closest",
                    "mapbox": {
                      "style": "light"
                    },
                    "paper_bgcolor": "white",
                    "plot_bgcolor": "white",
                    "polar": {
                      "angularaxis": {
                        "gridcolor": "rgb(232,232,232)",
                        "linecolor": "rgb(36,36,36)",
                        "showgrid": false,
                        "showline": true,
                        "ticks": "outside"
                      },
                      "bgcolor": "white",
                      "radialaxis": {
                        "gridcolor": "rgb(232,232,232)",
                        "linecolor": "rgb(36,36,36)",
                        "showgrid": false,
                        "showline": true,
                        "ticks": "outside"
                      }
                    },
                    "scene": {
                      "xaxis": {
                        "backgroundcolor": "white",
                        "gridcolor": "rgb(232,232,232)",
                        "gridwidth": 2,
                        "linecolor": "rgb(36,36,36)",
                        "showbackground": true,
                        "showgrid": false,
                        "showline": true,
                        "ticks": "outside",
                        "zeroline": false,
                        "zerolinecolor": "rgb(36,36,36)"
                      },
                      "yaxis": {
                        "backgroundcolor": "white",
                        "gridcolor": "rgb(232,232,232)",
                        "gridwidth": 2,
                        "linecolor": "rgb(36,36,36)",
                        "showbackground": true,
                        "showgrid": false,
                        "showline": true,
                        "ticks": "outside",
                        "zeroline": false,
                        "zerolinecolor": "rgb(36,36,36)"
                      },
                      "zaxis": {
                        "backgroundcolor": "white",
                        "gridcolor": "rgb(232,232,232)",
                        "gridwidth": 2,
                        "linecolor": "rgb(36,36,36)",
                        "showbackground": true,
                        "showgrid": false,
                        "showline": true,
                        "ticks": "outside",
                        "zeroline": false,
                        "zerolinecolor": "rgb(36,36,36)"
                      }
                    },
                    "shapedefaults": {
                      "fillcolor": "black",
                      "line": {
                        "width": 0
                      },
                      "opacity": 0.3
                    },
                    "ternary": {
                      "aaxis": {
                        "gridcolor": "rgb(232,232,232)",
                        "linecolor": "rgb(36,36,36)",
                        "showgrid": false,
                        "showline": true,
                        "ticks": "outside"
                      },
                      "baxis": {
                        "gridcolor": "rgb(232,232,232)",
                        "linecolor": "rgb(36,36,36)",
                        "showgrid": false,
                        "showline": true,
                        "ticks": "outside"
                      },
                      "bgcolor": "white",
                      "caxis": {
                        "gridcolor": "rgb(232,232,232)",
                        "linecolor": "rgb(36,36,36)",
                        "showgrid": false,
                        "showline": true,
                        "ticks": "outside"
                      }
                    },
                    "title": {
                      "x": 0.05
                    },
                    "xaxis": {
                      "automargin": true,
                      "gridcolor": "rgb(232,232,232)",
                      "linecolor": "rgb(36,36,36)",
                      "showgrid": false,
                      "showline": true,
                      "ticks": "outside",
                      "title": {
                        "standoff": 15
                      },
                      "zeroline": false,
                      "zerolinecolor": "rgb(36,36,36)"
                    },
                    "yaxis": {
                      "automargin": true,
                      "gridcolor": "rgb(232,232,232)",
                      "linecolor": "rgb(36,36,36)",
                      "showgrid": false,
                      "showline": true,
                      "ticks": "outside",
                      "title": {
                        "standoff": 15
                      },
                      "zeroline": false,
                      "zerolinecolor": "rgb(36,36,36)"
                    }
                  }
                },
                "title": {
                  "font": {
                    "size": 18
                  },
                  "text": "Age Distribution of Swimming Athletes Over Time"
                },
                "xaxis": {
                  "anchor": "y",
                  "domain": [
                    0,
                    1
                  ],
                  "showgrid": false,
                  "showline": false,
                  "tickmode": "array",
                  "title": {
                    "text": "Year"
                  }
                },
                "yaxis": {
                  "anchor": "x",
                  "categoryarray": [
                    "36+",
                    "31-35",
                    "27-30",
                    "24-26",
                    "21-23",
                    "18-20",
                    "15-17",
                    "10-14"
                  ],
                  "categoryorder": "array",
                  "domain": [
                    0,
                    1
                  ],
                  "gridcolor": "lightgray",
                  "griddash": "dashdot",
                  "gridwidth": 1,
                  "showgrid": true,
                  "showline": false,
                  "title": {
                    "text": "Age Group"
                  }
                }
              }
            }
          },
          "metadata": {},
          "output_type": "display_data"
        }
      ],
      "source": [
        "df = olympics_data[olympics_data['Sport'] == 'Swimming'].copy()\n",
        "\n",
        "bins = [10, 14, 17, 20, 23, 26, 30, 35, 100]\n",
        "labels = [\"10-14\", \"15-17\", \"18-20\", \"21-23\", \"24-26\", \"27-30\", \"31-35\", \"36+\"]\n",
        "df[\"Age Group\"] = pd.cut(df[\"Age\"], bins=bins, labels=labels, right=False)\n",
        "\n",
        "df_grouped = df.groupby([\"Year\", \"Age Group\"]).size().reset_index(name=\"Count\")\n",
        "\n",
        "color_palette = [\"#2E86C1\", \"#1ABC9C\", \"#F39C12\", \"#E74C3C\", \"#8E44AD\", \"#16A085\", \"#D35400\", \"#34495E\"]\n",
        "\n",
        "# Bubble chart\n",
        "fig = px.scatter(df_grouped,\n",
        "                 x=\"Year\",\n",
        "                 y=\"Age Group\",\n",
        "                 size=\"Count\",\n",
        "                 color=\"Age Group\",\n",
        "                 color_discrete_sequence=color_palette,\n",
        "                 title=\"Age Distribution of Swimming Athletes Over Time\",\n",
        "                 labels={\"Year\": \"Year\", \"Age Group\": \"Age Group\", \"Count\": \"Number of Athletes\"},\n",
        "                 opacity=0.85,\n",
        "                 size_max=40)\n",
        "\n",
        "# Styling\n",
        "fig.update_layout(\n",
        "    template=\"simple_white\",\n",
        "    font=dict(size=14),\n",
        "    title_font=dict(size=18),\n",
        "    plot_bgcolor=\"white\",\n",
        "    paper_bgcolor=\"white\",\n",
        "    xaxis=dict(\n",
        "        showline=False,\n",
        "        showgrid=False,\n",
        "        tickmode=\"array\",\n",
        "    ),\n",
        "    yaxis=dict(\n",
        "        showline=False,\n",
        "        showgrid=True,\n",
        "        gridcolor=\"lightgray\",\n",
        "        gridwidth=1,\n",
        "        griddash=\"dashdot\",\n",
        "    ),\n",
        "    legend_title_text=\"Age Groups\",\n",
        ")\n",
        "\n",
        "fig.show()"
      ]
    },
    {
      "cell_type": "markdown",
      "id": "1NzJzQlBZrpB",
      "metadata": {
        "id": "1NzJzQlBZrpB"
      },
      "source": [
        "# Age avec moyenne"
      ]
    },
    {
      "cell_type": "code",
      "execution_count": 11,
      "id": "ICmvdnHgpWP6",
      "metadata": {
        "colab": {
          "base_uri": "https://localhost:8080/",
          "height": 631
        },
        "id": "ICmvdnHgpWP6",
        "outputId": "4984a115-08e7-42d2-9867-904de707c52a"
      },
      "outputs": [
        {
          "name": "stderr",
          "output_type": "stream",
          "text": [
            "/var/folders/_l/9zwk5vpn34jdm7zv9_m4mgfr0000gn/T/ipykernel_39424/4159768857.py:7: FutureWarning:\n",
            "\n",
            "The default of observed=False is deprecated and will be changed to True in a future version of pandas. Pass observed=False to retain current behavior or observed=True to adopt the future default and silence this warning.\n",
            "\n"
          ]
        },
        {
          "data": {
            "application/vnd.plotly.v1+json": {
              "config": {
                "plotlyServerURL": "https://plot.ly"
              },
              "data": [
                {
                  "hovertemplate": "Age Group=%{y}<br>Year=%{x}<br>Number of Athletes=%{marker.size}<extra></extra>",
                  "legendgroup": "10-14",
                  "marker": {
                    "color": "#2E86C1",
                    "opacity": 0.85,
                    "size": {
                      "bdata": "AAAAAAACAAECAQQCAQAFAxcSFwcFBwoJAgQDAQIA",
                      "dtype": "i1"
                    },
                    "sizemode": "area",
                    "sizeref": 0.355625,
                    "symbol": "circle"
                  },
                  "mode": "markers",
                  "name": "10-14",
                  "orientation": "h",
                  "showlegend": true,
                  "type": "scatter",
                  "x": {
                    "bdata": "aAdsB3AHcgd0B3gHgAeEB4gHjAeQB5wHoAekB6gHrAewB7QHuAe8B8AHxAfIB8wH0AfUB9gH3AfgB+QH",
                    "dtype": "i2"
                  },
                  "xaxis": "x",
                  "y": [
                    "10-14",
                    "10-14",
                    "10-14",
                    "10-14",
                    "10-14",
                    "10-14",
                    "10-14",
                    "10-14",
                    "10-14",
                    "10-14",
                    "10-14",
                    "10-14",
                    "10-14",
                    "10-14",
                    "10-14",
                    "10-14",
                    "10-14",
                    "10-14",
                    "10-14",
                    "10-14",
                    "10-14",
                    "10-14",
                    "10-14",
                    "10-14",
                    "10-14",
                    "10-14",
                    "10-14",
                    "10-14",
                    "10-14",
                    "10-14"
                  ],
                  "yaxis": "y"
                },
                {
                  "hovertemplate": "Age Group=%{y}<br>Year=%{x}<br>Number of Athletes=%{marker.size}<extra></extra>",
                  "legendgroup": "15-17",
                  "marker": {
                    "color": "#1ABC9C",
                    "opacity": 0.85,
                    "size": {
                      "bdata": "AAADAAEABgAMAA8ADQAYABkAFAAtABoAIQAqAGUAfAApAToBIQGtALQA0QC2AKoAjgBxAFIAQAA6ADUA",
                      "dtype": "i2"
                    },
                    "sizemode": "area",
                    "sizeref": 0.355625,
                    "symbol": "circle"
                  },
                  "mode": "markers",
                  "name": "15-17",
                  "orientation": "h",
                  "showlegend": true,
                  "type": "scatter",
                  "x": {
                    "bdata": "aAdsB3AHcgd0B3gHgAeEB4gHjAeQB5wHoAekB6gHrAewB7QHuAe8B8AHxAfIB8wH0AfUB9gH3AfgB+QH",
                    "dtype": "i2"
                  },
                  "xaxis": "x",
                  "y": [
                    "15-17",
                    "15-17",
                    "15-17",
                    "15-17",
                    "15-17",
                    "15-17",
                    "15-17",
                    "15-17",
                    "15-17",
                    "15-17",
                    "15-17",
                    "15-17",
                    "15-17",
                    "15-17",
                    "15-17",
                    "15-17",
                    "15-17",
                    "15-17",
                    "15-17",
                    "15-17",
                    "15-17",
                    "15-17",
                    "15-17",
                    "15-17",
                    "15-17",
                    "15-17",
                    "15-17",
                    "15-17",
                    "15-17",
                    "15-17"
                  ],
                  "yaxis": "y"
                },
                {
                  "hovertemplate": "Age Group=%{y}<br>Year=%{x}<br>Number of Athletes=%{marker.size}<extra></extra>",
                  "legendgroup": "18-20",
                  "marker": {
                    "color": "#F39C12",
                    "opacity": 0.85,
                    "size": {
                      "bdata": "BQAWAA0ACwAhAD8AOAA+AFEAQABuAIIApwBtAP8AKAHOAQUCyQFJAcsBJwL7AegBkQFnAVMBDAESAQUB",
                      "dtype": "i2"
                    },
                    "sizemode": "area",
                    "sizeref": 0.355625,
                    "symbol": "circle"
                  },
                  "mode": "markers",
                  "name": "18-20",
                  "orientation": "h",
                  "showlegend": true,
                  "type": "scatter",
                  "x": {
                    "bdata": "aAdsB3AHcgd0B3gHgAeEB4gHjAeQB5wHoAekB6gHrAewB7QHuAe8B8AHxAfIB8wH0AfUB9gH3AfgB+QH",
                    "dtype": "i2"
                  },
                  "xaxis": "x",
                  "y": [
                    "18-20",
                    "18-20",
                    "18-20",
                    "18-20",
                    "18-20",
                    "18-20",
                    "18-20",
                    "18-20",
                    "18-20",
                    "18-20",
                    "18-20",
                    "18-20",
                    "18-20",
                    "18-20",
                    "18-20",
                    "18-20",
                    "18-20",
                    "18-20",
                    "18-20",
                    "18-20",
                    "18-20",
                    "18-20",
                    "18-20",
                    "18-20",
                    "18-20",
                    "18-20",
                    "18-20",
                    "18-20",
                    "18-20",
                    "18-20"
                  ],
                  "yaxis": "y"
                },
                {
                  "hovertemplate": "Age Group=%{y}<br>Year=%{x}<br>Number of Athletes=%{marker.size}<extra></extra>",
                  "legendgroup": "21-23",
                  "marker": {
                    "color": "#E74C3C",
                    "opacity": 0.85,
                    "size": {
                      "bdata": "AgAWABUADgAgAEAAGgBZAFAAKQBvAE0AigBIALEA2ABGARoB6QCzAK0BDAL0AdIBOQLlARMCwQHSAcYB",
                      "dtype": "i2"
                    },
                    "sizemode": "area",
                    "sizeref": 0.355625,
                    "symbol": "circle"
                  },
                  "mode": "markers",
                  "name": "21-23",
                  "orientation": "h",
                  "showlegend": true,
                  "type": "scatter",
                  "x": {
                    "bdata": "aAdsB3AHcgd0B3gHgAeEB4gHjAeQB5wHoAekB6gHrAewB7QHuAe8B8AHxAfIB8wH0AfUB9gH3AfgB+QH",
                    "dtype": "i2"
                  },
                  "xaxis": "x",
                  "y": [
                    "21-23",
                    "21-23",
                    "21-23",
                    "21-23",
                    "21-23",
                    "21-23",
                    "21-23",
                    "21-23",
                    "21-23",
                    "21-23",
                    "21-23",
                    "21-23",
                    "21-23",
                    "21-23",
                    "21-23",
                    "21-23",
                    "21-23",
                    "21-23",
                    "21-23",
                    "21-23",
                    "21-23",
                    "21-23",
                    "21-23",
                    "21-23",
                    "21-23",
                    "21-23",
                    "21-23",
                    "21-23",
                    "21-23",
                    "21-23"
                  ],
                  "yaxis": "y"
                },
                {
                  "hovertemplate": "Age Group=%{y}<br>Year=%{x}<br>Number of Athletes=%{marker.size}<extra></extra>",
                  "legendgroup": "24-26",
                  "marker": {
                    "color": "#8E44AD",
                    "opacity": 0.85,
                    "size": {
                      "bdata": "AAAFABAADgAfAB4AHQAWABEAHgA2AD0AVAAwAEMASgBoAGoANQA1AGwACwEqAVYBdQF7AdwBtgGaAa8B",
                      "dtype": "i2"
                    },
                    "sizemode": "area",
                    "sizeref": 0.355625,
                    "symbol": "circle"
                  },
                  "mode": "markers",
                  "name": "24-26",
                  "orientation": "h",
                  "showlegend": true,
                  "type": "scatter",
                  "x": {
                    "bdata": "aAdsB3AHcgd0B3gHgAeEB4gHjAeQB5wHoAekB6gHrAewB7QHuAe8B8AHxAfIB8wH0AfUB9gH3AfgB+QH",
                    "dtype": "i2"
                  },
                  "xaxis": "x",
                  "y": [
                    "24-26",
                    "24-26",
                    "24-26",
                    "24-26",
                    "24-26",
                    "24-26",
                    "24-26",
                    "24-26",
                    "24-26",
                    "24-26",
                    "24-26",
                    "24-26",
                    "24-26",
                    "24-26",
                    "24-26",
                    "24-26",
                    "24-26",
                    "24-26",
                    "24-26",
                    "24-26",
                    "24-26",
                    "24-26",
                    "24-26",
                    "24-26",
                    "24-26",
                    "24-26",
                    "24-26",
                    "24-26",
                    "24-26",
                    "24-26"
                  ],
                  "yaxis": "y"
                },
                {
                  "hovertemplate": "Age Group=%{y}<br>Year=%{x}<br>Number of Athletes=%{marker.size}<extra></extra>",
                  "legendgroup": "27-30",
                  "marker": {
                    "color": "#16A085",
                    "opacity": 0.85,
                    "size": {
                      "bdata": "AAAHAAEABwAPAA0AGQANABYACgAUACMAJQAVABAAFwANAA4AEAADABAAJwBoAJYA2ADeAPIADQEbAVAB",
                      "dtype": "i2"
                    },
                    "sizemode": "area",
                    "sizeref": 0.355625,
                    "symbol": "circle"
                  },
                  "mode": "markers",
                  "name": "27-30",
                  "orientation": "h",
                  "showlegend": true,
                  "type": "scatter",
                  "x": {
                    "bdata": "aAdsB3AHcgd0B3gHgAeEB4gHjAeQB5wHoAekB6gHrAewB7QHuAe8B8AHxAfIB8wH0AfUB9gH3AfgB+QH",
                    "dtype": "i2"
                  },
                  "xaxis": "x",
                  "y": [
                    "27-30",
                    "27-30",
                    "27-30",
                    "27-30",
                    "27-30",
                    "27-30",
                    "27-30",
                    "27-30",
                    "27-30",
                    "27-30",
                    "27-30",
                    "27-30",
                    "27-30",
                    "27-30",
                    "27-30",
                    "27-30",
                    "27-30",
                    "27-30",
                    "27-30",
                    "27-30",
                    "27-30",
                    "27-30",
                    "27-30",
                    "27-30",
                    "27-30",
                    "27-30",
                    "27-30",
                    "27-30",
                    "27-30",
                    "27-30"
                  ],
                  "yaxis": "y"
                },
                {
                  "hovertemplate": "Age Group=%{y}<br>Year=%{x}<br>Number of Athletes=%{marker.size}<extra></extra>",
                  "legendgroup": "31-35",
                  "marker": {
                    "color": "#D35400",
                    "opacity": 0.85,
                    "size": {
                      "bdata": "AAQDBAMJCAkBBAEFBwUGAAQCAAIEBgoHJjZFKkRZ",
                      "dtype": "i1"
                    },
                    "sizemode": "area",
                    "sizeref": 0.355625,
                    "symbol": "circle"
                  },
                  "mode": "markers",
                  "name": "31-35",
                  "orientation": "h",
                  "showlegend": true,
                  "type": "scatter",
                  "x": {
                    "bdata": "aAdsB3AHcgd0B3gHgAeEB4gHjAeQB5wHoAekB6gHrAewB7QHuAe8B8AHxAfIB8wH0AfUB9gH3AfgB+QH",
                    "dtype": "i2"
                  },
                  "xaxis": "x",
                  "y": [
                    "31-35",
                    "31-35",
                    "31-35",
                    "31-35",
                    "31-35",
                    "31-35",
                    "31-35",
                    "31-35",
                    "31-35",
                    "31-35",
                    "31-35",
                    "31-35",
                    "31-35",
                    "31-35",
                    "31-35",
                    "31-35",
                    "31-35",
                    "31-35",
                    "31-35",
                    "31-35",
                    "31-35",
                    "31-35",
                    "31-35",
                    "31-35",
                    "31-35",
                    "31-35",
                    "31-35",
                    "31-35",
                    "31-35",
                    "31-35"
                  ],
                  "yaxis": "y"
                },
                {
                  "hovertemplate": "Age Group=%{y}<br>Year=%{x}<br>Number of Athletes=%{marker.size}<extra></extra>",
                  "legendgroup": "36+",
                  "marker": {
                    "color": "#34495E",
                    "opacity": 0.85,
                    "size": {
                      "bdata": "AAMFAQMCBgACAAAAAQEAAAAAAAAAAAEAAAIHBwcK",
                      "dtype": "i1"
                    },
                    "sizemode": "area",
                    "sizeref": 0.355625,
                    "symbol": "circle"
                  },
                  "mode": "markers",
                  "name": "36+",
                  "orientation": "h",
                  "showlegend": true,
                  "type": "scatter",
                  "x": {
                    "bdata": "aAdsB3AHcgd0B3gHgAeEB4gHjAeQB5wHoAekB6gHrAewB7QHuAe8B8AHxAfIB8wH0AfUB9gH3AfgB+QH",
                    "dtype": "i2"
                  },
                  "xaxis": "x",
                  "y": [
                    "36+",
                    "36+",
                    "36+",
                    "36+",
                    "36+",
                    "36+",
                    "36+",
                    "36+",
                    "36+",
                    "36+",
                    "36+",
                    "36+",
                    "36+",
                    "36+",
                    "36+",
                    "36+",
                    "36+",
                    "36+",
                    "36+",
                    "36+",
                    "36+",
                    "36+",
                    "36+",
                    "36+",
                    "36+",
                    "36+",
                    "36+",
                    "36+",
                    "36+",
                    "36+"
                  ],
                  "yaxis": "y"
                },
                {
                  "marker": {
                    "color": "#000000",
                    "size": 6
                  },
                  "mode": "markers",
                  "name": "",
                  "type": "scatter",
                  "x": {
                    "bdata": "aAdsB3AHcgd0B3gHgAeEB4gHjAeQB5wHoAekB6gHrAewB7QHuAe8B8AHxAfIB8wH0AfUB9gH3AfgB+QH",
                    "dtype": "i2"
                  },
                  "y": [
                    "18-20",
                    "21-23",
                    "21-23",
                    "21-23",
                    "21-23",
                    "21-23",
                    "21-23",
                    "21-23",
                    "21-23",
                    "21-23",
                    "21-23",
                    "21-23",
                    "21-23",
                    "21-23",
                    "18-20",
                    "18-20",
                    "18-20",
                    "18-20",
                    "18-20",
                    "18-20",
                    "18-20",
                    "18-20",
                    "21-23",
                    "21-23",
                    "21-23",
                    "21-23",
                    "21-23",
                    "21-23",
                    "21-23",
                    "24-26"
                  ]
                },
                {
                  "line": {
                    "color": "#000000",
                    "width": 2
                  },
                  "mode": "lines",
                  "name": "Mean Age Trend",
                  "type": "scatter",
                  "x": {
                    "bdata": "aAdsB3AHcgd0B3gHgAeEB4gHjAeQB5wHoAekB6gHrAewB7QHuAe8B8AHxAfIB8wH0AfUB9gH3AfgB+QH",
                    "dtype": "i2"
                  },
                  "y": [
                    "18-20",
                    "21-23",
                    "21-23",
                    "21-23",
                    "21-23",
                    "21-23",
                    "21-23",
                    "21-23",
                    "21-23",
                    "21-23",
                    "21-23",
                    "21-23",
                    "21-23",
                    "21-23",
                    "18-20",
                    "18-20",
                    "18-20",
                    "18-20",
                    "18-20",
                    "18-20",
                    "18-20",
                    "18-20",
                    "21-23",
                    "21-23",
                    "21-23",
                    "21-23",
                    "21-23",
                    "21-23",
                    "21-23",
                    "24-26"
                  ]
                }
              ],
              "layout": {
                "font": {
                  "size": 14
                },
                "legend": {
                  "itemsizing": "constant",
                  "title": {
                    "text": "Age Groups"
                  },
                  "tracegroupgap": 0
                },
                "paper_bgcolor": "white",
                "plot_bgcolor": "white",
                "template": {
                  "data": {
                    "bar": [
                      {
                        "error_x": {
                          "color": "rgb(36,36,36)"
                        },
                        "error_y": {
                          "color": "rgb(36,36,36)"
                        },
                        "marker": {
                          "line": {
                            "color": "white",
                            "width": 0.5
                          },
                          "pattern": {
                            "fillmode": "overlay",
                            "size": 10,
                            "solidity": 0.2
                          }
                        },
                        "type": "bar"
                      }
                    ],
                    "barpolar": [
                      {
                        "marker": {
                          "line": {
                            "color": "white",
                            "width": 0.5
                          },
                          "pattern": {
                            "fillmode": "overlay",
                            "size": 10,
                            "solidity": 0.2
                          }
                        },
                        "type": "barpolar"
                      }
                    ],
                    "carpet": [
                      {
                        "aaxis": {
                          "endlinecolor": "rgb(36,36,36)",
                          "gridcolor": "white",
                          "linecolor": "white",
                          "minorgridcolor": "white",
                          "startlinecolor": "rgb(36,36,36)"
                        },
                        "baxis": {
                          "endlinecolor": "rgb(36,36,36)",
                          "gridcolor": "white",
                          "linecolor": "white",
                          "minorgridcolor": "white",
                          "startlinecolor": "rgb(36,36,36)"
                        },
                        "type": "carpet"
                      }
                    ],
                    "choropleth": [
                      {
                        "colorbar": {
                          "outlinewidth": 1,
                          "tickcolor": "rgb(36,36,36)",
                          "ticks": "outside"
                        },
                        "type": "choropleth"
                      }
                    ],
                    "contour": [
                      {
                        "colorbar": {
                          "outlinewidth": 1,
                          "tickcolor": "rgb(36,36,36)",
                          "ticks": "outside"
                        },
                        "colorscale": [
                          [
                            0,
                            "#440154"
                          ],
                          [
                            0.1111111111111111,
                            "#482878"
                          ],
                          [
                            0.2222222222222222,
                            "#3e4989"
                          ],
                          [
                            0.3333333333333333,
                            "#31688e"
                          ],
                          [
                            0.4444444444444444,
                            "#26828e"
                          ],
                          [
                            0.5555555555555556,
                            "#1f9e89"
                          ],
                          [
                            0.6666666666666666,
                            "#35b779"
                          ],
                          [
                            0.7777777777777778,
                            "#6ece58"
                          ],
                          [
                            0.8888888888888888,
                            "#b5de2b"
                          ],
                          [
                            1,
                            "#fde725"
                          ]
                        ],
                        "type": "contour"
                      }
                    ],
                    "contourcarpet": [
                      {
                        "colorbar": {
                          "outlinewidth": 1,
                          "tickcolor": "rgb(36,36,36)",
                          "ticks": "outside"
                        },
                        "type": "contourcarpet"
                      }
                    ],
                    "heatmap": [
                      {
                        "colorbar": {
                          "outlinewidth": 1,
                          "tickcolor": "rgb(36,36,36)",
                          "ticks": "outside"
                        },
                        "colorscale": [
                          [
                            0,
                            "#440154"
                          ],
                          [
                            0.1111111111111111,
                            "#482878"
                          ],
                          [
                            0.2222222222222222,
                            "#3e4989"
                          ],
                          [
                            0.3333333333333333,
                            "#31688e"
                          ],
                          [
                            0.4444444444444444,
                            "#26828e"
                          ],
                          [
                            0.5555555555555556,
                            "#1f9e89"
                          ],
                          [
                            0.6666666666666666,
                            "#35b779"
                          ],
                          [
                            0.7777777777777778,
                            "#6ece58"
                          ],
                          [
                            0.8888888888888888,
                            "#b5de2b"
                          ],
                          [
                            1,
                            "#fde725"
                          ]
                        ],
                        "type": "heatmap"
                      }
                    ],
                    "histogram": [
                      {
                        "marker": {
                          "line": {
                            "color": "white",
                            "width": 0.6
                          }
                        },
                        "type": "histogram"
                      }
                    ],
                    "histogram2d": [
                      {
                        "colorbar": {
                          "outlinewidth": 1,
                          "tickcolor": "rgb(36,36,36)",
                          "ticks": "outside"
                        },
                        "colorscale": [
                          [
                            0,
                            "#440154"
                          ],
                          [
                            0.1111111111111111,
                            "#482878"
                          ],
                          [
                            0.2222222222222222,
                            "#3e4989"
                          ],
                          [
                            0.3333333333333333,
                            "#31688e"
                          ],
                          [
                            0.4444444444444444,
                            "#26828e"
                          ],
                          [
                            0.5555555555555556,
                            "#1f9e89"
                          ],
                          [
                            0.6666666666666666,
                            "#35b779"
                          ],
                          [
                            0.7777777777777778,
                            "#6ece58"
                          ],
                          [
                            0.8888888888888888,
                            "#b5de2b"
                          ],
                          [
                            1,
                            "#fde725"
                          ]
                        ],
                        "type": "histogram2d"
                      }
                    ],
                    "histogram2dcontour": [
                      {
                        "colorbar": {
                          "outlinewidth": 1,
                          "tickcolor": "rgb(36,36,36)",
                          "ticks": "outside"
                        },
                        "colorscale": [
                          [
                            0,
                            "#440154"
                          ],
                          [
                            0.1111111111111111,
                            "#482878"
                          ],
                          [
                            0.2222222222222222,
                            "#3e4989"
                          ],
                          [
                            0.3333333333333333,
                            "#31688e"
                          ],
                          [
                            0.4444444444444444,
                            "#26828e"
                          ],
                          [
                            0.5555555555555556,
                            "#1f9e89"
                          ],
                          [
                            0.6666666666666666,
                            "#35b779"
                          ],
                          [
                            0.7777777777777778,
                            "#6ece58"
                          ],
                          [
                            0.8888888888888888,
                            "#b5de2b"
                          ],
                          [
                            1,
                            "#fde725"
                          ]
                        ],
                        "type": "histogram2dcontour"
                      }
                    ],
                    "mesh3d": [
                      {
                        "colorbar": {
                          "outlinewidth": 1,
                          "tickcolor": "rgb(36,36,36)",
                          "ticks": "outside"
                        },
                        "type": "mesh3d"
                      }
                    ],
                    "parcoords": [
                      {
                        "line": {
                          "colorbar": {
                            "outlinewidth": 1,
                            "tickcolor": "rgb(36,36,36)",
                            "ticks": "outside"
                          }
                        },
                        "type": "parcoords"
                      }
                    ],
                    "pie": [
                      {
                        "automargin": true,
                        "type": "pie"
                      }
                    ],
                    "scatter": [
                      {
                        "fillpattern": {
                          "fillmode": "overlay",
                          "size": 10,
                          "solidity": 0.2
                        },
                        "type": "scatter"
                      }
                    ],
                    "scatter3d": [
                      {
                        "line": {
                          "colorbar": {
                            "outlinewidth": 1,
                            "tickcolor": "rgb(36,36,36)",
                            "ticks": "outside"
                          }
                        },
                        "marker": {
                          "colorbar": {
                            "outlinewidth": 1,
                            "tickcolor": "rgb(36,36,36)",
                            "ticks": "outside"
                          }
                        },
                        "type": "scatter3d"
                      }
                    ],
                    "scattercarpet": [
                      {
                        "marker": {
                          "colorbar": {
                            "outlinewidth": 1,
                            "tickcolor": "rgb(36,36,36)",
                            "ticks": "outside"
                          }
                        },
                        "type": "scattercarpet"
                      }
                    ],
                    "scattergeo": [
                      {
                        "marker": {
                          "colorbar": {
                            "outlinewidth": 1,
                            "tickcolor": "rgb(36,36,36)",
                            "ticks": "outside"
                          }
                        },
                        "type": "scattergeo"
                      }
                    ],
                    "scattergl": [
                      {
                        "marker": {
                          "colorbar": {
                            "outlinewidth": 1,
                            "tickcolor": "rgb(36,36,36)",
                            "ticks": "outside"
                          }
                        },
                        "type": "scattergl"
                      }
                    ],
                    "scattermap": [
                      {
                        "marker": {
                          "colorbar": {
                            "outlinewidth": 1,
                            "tickcolor": "rgb(36,36,36)",
                            "ticks": "outside"
                          }
                        },
                        "type": "scattermap"
                      }
                    ],
                    "scattermapbox": [
                      {
                        "marker": {
                          "colorbar": {
                            "outlinewidth": 1,
                            "tickcolor": "rgb(36,36,36)",
                            "ticks": "outside"
                          }
                        },
                        "type": "scattermapbox"
                      }
                    ],
                    "scatterpolar": [
                      {
                        "marker": {
                          "colorbar": {
                            "outlinewidth": 1,
                            "tickcolor": "rgb(36,36,36)",
                            "ticks": "outside"
                          }
                        },
                        "type": "scatterpolar"
                      }
                    ],
                    "scatterpolargl": [
                      {
                        "marker": {
                          "colorbar": {
                            "outlinewidth": 1,
                            "tickcolor": "rgb(36,36,36)",
                            "ticks": "outside"
                          }
                        },
                        "type": "scatterpolargl"
                      }
                    ],
                    "scatterternary": [
                      {
                        "marker": {
                          "colorbar": {
                            "outlinewidth": 1,
                            "tickcolor": "rgb(36,36,36)",
                            "ticks": "outside"
                          }
                        },
                        "type": "scatterternary"
                      }
                    ],
                    "surface": [
                      {
                        "colorbar": {
                          "outlinewidth": 1,
                          "tickcolor": "rgb(36,36,36)",
                          "ticks": "outside"
                        },
                        "colorscale": [
                          [
                            0,
                            "#440154"
                          ],
                          [
                            0.1111111111111111,
                            "#482878"
                          ],
                          [
                            0.2222222222222222,
                            "#3e4989"
                          ],
                          [
                            0.3333333333333333,
                            "#31688e"
                          ],
                          [
                            0.4444444444444444,
                            "#26828e"
                          ],
                          [
                            0.5555555555555556,
                            "#1f9e89"
                          ],
                          [
                            0.6666666666666666,
                            "#35b779"
                          ],
                          [
                            0.7777777777777778,
                            "#6ece58"
                          ],
                          [
                            0.8888888888888888,
                            "#b5de2b"
                          ],
                          [
                            1,
                            "#fde725"
                          ]
                        ],
                        "type": "surface"
                      }
                    ],
                    "table": [
                      {
                        "cells": {
                          "fill": {
                            "color": "rgb(237,237,237)"
                          },
                          "line": {
                            "color": "white"
                          }
                        },
                        "header": {
                          "fill": {
                            "color": "rgb(217,217,217)"
                          },
                          "line": {
                            "color": "white"
                          }
                        },
                        "type": "table"
                      }
                    ]
                  },
                  "layout": {
                    "annotationdefaults": {
                      "arrowhead": 0,
                      "arrowwidth": 1
                    },
                    "autotypenumbers": "strict",
                    "coloraxis": {
                      "colorbar": {
                        "outlinewidth": 1,
                        "tickcolor": "rgb(36,36,36)",
                        "ticks": "outside"
                      }
                    },
                    "colorscale": {
                      "diverging": [
                        [
                          0,
                          "rgb(103,0,31)"
                        ],
                        [
                          0.1,
                          "rgb(178,24,43)"
                        ],
                        [
                          0.2,
                          "rgb(214,96,77)"
                        ],
                        [
                          0.3,
                          "rgb(244,165,130)"
                        ],
                        [
                          0.4,
                          "rgb(253,219,199)"
                        ],
                        [
                          0.5,
                          "rgb(247,247,247)"
                        ],
                        [
                          0.6,
                          "rgb(209,229,240)"
                        ],
                        [
                          0.7,
                          "rgb(146,197,222)"
                        ],
                        [
                          0.8,
                          "rgb(67,147,195)"
                        ],
                        [
                          0.9,
                          "rgb(33,102,172)"
                        ],
                        [
                          1,
                          "rgb(5,48,97)"
                        ]
                      ],
                      "sequential": [
                        [
                          0,
                          "#440154"
                        ],
                        [
                          0.1111111111111111,
                          "#482878"
                        ],
                        [
                          0.2222222222222222,
                          "#3e4989"
                        ],
                        [
                          0.3333333333333333,
                          "#31688e"
                        ],
                        [
                          0.4444444444444444,
                          "#26828e"
                        ],
                        [
                          0.5555555555555556,
                          "#1f9e89"
                        ],
                        [
                          0.6666666666666666,
                          "#35b779"
                        ],
                        [
                          0.7777777777777778,
                          "#6ece58"
                        ],
                        [
                          0.8888888888888888,
                          "#b5de2b"
                        ],
                        [
                          1,
                          "#fde725"
                        ]
                      ],
                      "sequentialminus": [
                        [
                          0,
                          "#440154"
                        ],
                        [
                          0.1111111111111111,
                          "#482878"
                        ],
                        [
                          0.2222222222222222,
                          "#3e4989"
                        ],
                        [
                          0.3333333333333333,
                          "#31688e"
                        ],
                        [
                          0.4444444444444444,
                          "#26828e"
                        ],
                        [
                          0.5555555555555556,
                          "#1f9e89"
                        ],
                        [
                          0.6666666666666666,
                          "#35b779"
                        ],
                        [
                          0.7777777777777778,
                          "#6ece58"
                        ],
                        [
                          0.8888888888888888,
                          "#b5de2b"
                        ],
                        [
                          1,
                          "#fde725"
                        ]
                      ]
                    },
                    "colorway": [
                      "#1F77B4",
                      "#FF7F0E",
                      "#2CA02C",
                      "#D62728",
                      "#9467BD",
                      "#8C564B",
                      "#E377C2",
                      "#7F7F7F",
                      "#BCBD22",
                      "#17BECF"
                    ],
                    "font": {
                      "color": "rgb(36,36,36)"
                    },
                    "geo": {
                      "bgcolor": "white",
                      "lakecolor": "white",
                      "landcolor": "white",
                      "showlakes": true,
                      "showland": true,
                      "subunitcolor": "white"
                    },
                    "hoverlabel": {
                      "align": "left"
                    },
                    "hovermode": "closest",
                    "mapbox": {
                      "style": "light"
                    },
                    "paper_bgcolor": "white",
                    "plot_bgcolor": "white",
                    "polar": {
                      "angularaxis": {
                        "gridcolor": "rgb(232,232,232)",
                        "linecolor": "rgb(36,36,36)",
                        "showgrid": false,
                        "showline": true,
                        "ticks": "outside"
                      },
                      "bgcolor": "white",
                      "radialaxis": {
                        "gridcolor": "rgb(232,232,232)",
                        "linecolor": "rgb(36,36,36)",
                        "showgrid": false,
                        "showline": true,
                        "ticks": "outside"
                      }
                    },
                    "scene": {
                      "xaxis": {
                        "backgroundcolor": "white",
                        "gridcolor": "rgb(232,232,232)",
                        "gridwidth": 2,
                        "linecolor": "rgb(36,36,36)",
                        "showbackground": true,
                        "showgrid": false,
                        "showline": true,
                        "ticks": "outside",
                        "zeroline": false,
                        "zerolinecolor": "rgb(36,36,36)"
                      },
                      "yaxis": {
                        "backgroundcolor": "white",
                        "gridcolor": "rgb(232,232,232)",
                        "gridwidth": 2,
                        "linecolor": "rgb(36,36,36)",
                        "showbackground": true,
                        "showgrid": false,
                        "showline": true,
                        "ticks": "outside",
                        "zeroline": false,
                        "zerolinecolor": "rgb(36,36,36)"
                      },
                      "zaxis": {
                        "backgroundcolor": "white",
                        "gridcolor": "rgb(232,232,232)",
                        "gridwidth": 2,
                        "linecolor": "rgb(36,36,36)",
                        "showbackground": true,
                        "showgrid": false,
                        "showline": true,
                        "ticks": "outside",
                        "zeroline": false,
                        "zerolinecolor": "rgb(36,36,36)"
                      }
                    },
                    "shapedefaults": {
                      "fillcolor": "black",
                      "line": {
                        "width": 0
                      },
                      "opacity": 0.3
                    },
                    "ternary": {
                      "aaxis": {
                        "gridcolor": "rgb(232,232,232)",
                        "linecolor": "rgb(36,36,36)",
                        "showgrid": false,
                        "showline": true,
                        "ticks": "outside"
                      },
                      "baxis": {
                        "gridcolor": "rgb(232,232,232)",
                        "linecolor": "rgb(36,36,36)",
                        "showgrid": false,
                        "showline": true,
                        "ticks": "outside"
                      },
                      "bgcolor": "white",
                      "caxis": {
                        "gridcolor": "rgb(232,232,232)",
                        "linecolor": "rgb(36,36,36)",
                        "showgrid": false,
                        "showline": true,
                        "ticks": "outside"
                      }
                    },
                    "title": {
                      "x": 0.05
                    },
                    "xaxis": {
                      "automargin": true,
                      "gridcolor": "rgb(232,232,232)",
                      "linecolor": "rgb(36,36,36)",
                      "showgrid": false,
                      "showline": true,
                      "ticks": "outside",
                      "title": {
                        "standoff": 15
                      },
                      "zeroline": false,
                      "zerolinecolor": "rgb(36,36,36)"
                    },
                    "yaxis": {
                      "automargin": true,
                      "gridcolor": "rgb(232,232,232)",
                      "linecolor": "rgb(36,36,36)",
                      "showgrid": false,
                      "showline": true,
                      "ticks": "outside",
                      "title": {
                        "standoff": 15
                      },
                      "zeroline": false,
                      "zerolinecolor": "rgb(36,36,36)"
                    }
                  }
                },
                "title": {
                  "font": {
                    "size": 18
                  },
                  "text": "Age Distribution of Swimming Athletes Over Time"
                },
                "xaxis": {
                  "anchor": "y",
                  "domain": [
                    0,
                    1
                  ],
                  "showgrid": false,
                  "showline": false,
                  "tickmode": "array",
                  "title": {
                    "text": "Year"
                  }
                },
                "yaxis": {
                  "anchor": "x",
                  "categoryarray": [
                    "36+",
                    "31-35",
                    "27-30",
                    "24-26",
                    "21-23",
                    "18-20",
                    "15-17",
                    "10-14"
                  ],
                  "categoryorder": "array",
                  "domain": [
                    0,
                    1
                  ],
                  "gridcolor": "lightgray",
                  "griddash": "dashdot",
                  "gridwidth": 1,
                  "showgrid": true,
                  "showline": false,
                  "title": {
                    "text": "Age Group"
                  }
                }
              }
            }
          },
          "metadata": {},
          "output_type": "display_data"
        }
      ],
      "source": [
        "df = olympics_data[olympics_data['Sport'] == 'Swimming'].copy()\n",
        "\n",
        "bins = [10, 14, 17, 20, 23, 26, 30, 35, 100]\n",
        "labels = [\"10-14\", \"15-17\", \"18-20\", \"21-23\", \"24-26\", \"27-30\", \"31-35\", \"36+\"]\n",
        "df[\"Age Group\"] = pd.cut(df[\"Age\"], bins=bins, labels=labels, right=False)\n",
        "\n",
        "df_grouped = df.groupby([\"Year\", \"Age Group\"]).size().reset_index(name=\"Count\")\n",
        "\n",
        "# Average age\n",
        "df_mean_age = df.groupby(\"Year\")[\"Age\"].mean().reset_index()\n",
        "df_mean_age[\"Age Group\"] = pd.cut(\n",
        "    df_mean_age[\"Age\"],\n",
        "    bins=bins,\n",
        "    labels=labels,\n",
        "    right=False\n",
        ")\n",
        "\n",
        "color_palette = [\"#2E86C1\", \"#1ABC9C\", \"#F39C12\", \"#E74C3C\", \"#8E44AD\", \"#16A085\", \"#D35400\", \"#34495E\"]\n",
        "\n",
        "fig = px.scatter(df_grouped,\n",
        "                 x=\"Year\",\n",
        "                 y=\"Age Group\",\n",
        "                 size=\"Count\",\n",
        "                 color=\"Age Group\",\n",
        "                 color_discrete_sequence=color_palette,\n",
        "                 title=\"Age Distribution of Swimming Athletes Over Time\",\n",
        "                 labels={\"Year\": \"Year\", \"Age Group\": \"Age Group\", \"Count\": \"Number of Athletes\"},\n",
        "                 opacity=0.85,\n",
        "                 size_max=40)\n",
        "\n",
        "fig.add_scatter(\n",
        "    x=df_mean_age[\"Year\"],\n",
        "    y=df_mean_age[\"Age Group\"],\n",
        "    mode=\"markers\",\n",
        "    marker=dict(color=\"#000000\", size=6),\n",
        "    name=\"\"\n",
        ")\n",
        "\n",
        "\n",
        "fig.add_scatter(\n",
        "    x=df_mean_age[\"Year\"],\n",
        "    y=df_mean_age[\"Age Group\"],\n",
        "    mode=\"lines\",\n",
        "    line=dict(color=\"#000000\", width=2),\n",
        "    name=\"Mean Age Trend\"\n",
        ")\n",
        "\n",
        "fig.update_layout(\n",
        "    template=\"simple_white\",\n",
        "    font=dict(size=14),\n",
        "    title_font=dict(size=18),\n",
        "    plot_bgcolor=\"white\",\n",
        "    paper_bgcolor=\"white\",\n",
        "    xaxis=dict(\n",
        "        showline=False,\n",
        "        showgrid=False,\n",
        "        tickmode=\"array\",\n",
        "    ),\n",
        "    yaxis=dict(\n",
        "        showline=False,\n",
        "        showgrid=True,\n",
        "        gridcolor=\"lightgray\",\n",
        "        gridwidth=1,\n",
        "        griddash=\"dashdot\",\n",
        "    ),\n",
        "    legend_title_text=\"Age Groups\",\n",
        ")\n",
        "\n",
        "fig.show()"
      ]
    },
    {
      "cell_type": "markdown",
      "id": "pyisdHtdl65q",
      "metadata": {
        "id": "pyisdHtdl65q"
      },
      "source": [
        "# Age par Categorie"
      ]
    },
    {
      "cell_type": "code",
      "execution_count": 12,
      "id": "k_enJ6WSqMG3",
      "metadata": {
        "colab": {
          "base_uri": "https://localhost:8080/",
          "height": 761
        },
        "id": "k_enJ6WSqMG3",
        "outputId": "ab64b153-d0b9-44df-9342-bbbd8083b164"
      },
      "outputs": [
        {
          "name": "stderr",
          "output_type": "stream",
          "text": [
            "/var/folders/_l/9zwk5vpn34jdm7zv9_m4mgfr0000gn/T/ipykernel_39424/1837794928.py:8: FutureWarning:\n",
            "\n",
            "The default of observed=False is deprecated and will be changed to True in a future version of pandas. Pass observed=False to retain current behavior or observed=True to adopt the future default and silence this warning.\n",
            "\n"
          ]
        },
        {
          "data": {
            "text/html": [
              "\n",
              "        <iframe\n",
              "            width=\"100%\"\n",
              "            height=\"650\"\n",
              "            src=\"http://127.0.0.1:8050/\"\n",
              "            frameborder=\"0\"\n",
              "            allowfullscreen\n",
              "            \n",
              "        ></iframe>\n",
              "        "
            ],
            "text/plain": [
              "<IPython.lib.display.IFrame at 0x7f9ceda2abb0>"
            ]
          },
          "metadata": {},
          "output_type": "display_data"
        }
      ],
      "source": [
        "df = olympics_data[olympics_data[\"Sport\"] == \"Swimming\"].copy()\n",
        "\n",
        "bins = [10, 14, 17, 20, 23, 26, 30, 35, 100]\n",
        "labels = [\"10-14\", \"15-17\", \"18-20\", \"21-23\", \"24-26\", \"27-30\", \"31-35\", \"36+\"]\n",
        "df[\"Age Group\"] = pd.cut(df[\"Age\"], bins=bins, labels=labels, right=False)\n",
        "\n",
        "\n",
        "df_grouped = df.groupby([\"Year\", \"Age Group\", \"Event\"]).size().reset_index(name=\"Count\")\n",
        "\n",
        "color_palette = [\"#2E86C1\", \"#1ABC9C\", \"#F39C12\", \"#E74C3C\", \"#8E44AD\", \"#16A085\", \"#D35400\", \"#34495E\"]\n",
        "\n",
        "app = dash.Dash(__name__)\n",
        "\n",
        "app.layout = html.Div([\n",
        "    html.Label(\"Select Event:\", style={\"font-weight\": \"bold\", \"font-size\": \"16px\"}),\n",
        "    dcc.Dropdown(\n",
        "        id=\"event-dropdown\",\n",
        "        options=[{\"label\": event, \"value\": event} for event in df_grouped[\"Event\"].unique()],\n",
        "        value=df_grouped[\"Event\"].unique()[0],\n",
        "        clearable=False,\n",
        "        style={\"width\": \"50%\", \"margin-bottom\": \"20px\"}\n",
        "    ),\n",
        "\n",
        "    # Bubble Chart\n",
        "    dcc.Graph(id=\"bubble-chart\")\n",
        "])\n",
        "\n",
        "\n",
        "@app.callback(\n",
        "    Output(\"bubble-chart\", \"figure\"),\n",
        "    [Input(\"event-dropdown\", \"value\")]\n",
        ")\n",
        "def update_chart(selected_event):\n",
        "    filtered_df = df_grouped[df_grouped[\"Event\"] == selected_event]\n",
        "    fig = px.scatter(filtered_df,\n",
        "                     x=\"Year\",\n",
        "                     y=\"Age Group\",\n",
        "                     size=\"Count\",\n",
        "                     color=\"Age Group\",\n",
        "                     color_discrete_sequence=color_palette,\n",
        "                     title=f\"Age Distribution of {selected_event} Over Time\",\n",
        "                     labels={\"Year\": \"Year\", \"Age Group\": \"Age Group\", \"Count\": \"Number of Athletes\"},\n",
        "                     opacity=0.85,\n",
        "                     size_max=40)\n",
        "    fig.update_layout(\n",
        "        template=\"simple_white\",\n",
        "        font=dict(size=14),\n",
        "        title_font=dict(size=18),\n",
        "        plot_bgcolor=\"white\",\n",
        "        paper_bgcolor=\"white\",\n",
        "        xaxis=dict(showline=False, showgrid=False, tickmode=\"array\"),\n",
        "        yaxis=dict(showline=False, showgrid=True, gridcolor=\"lightgray\", gridwidth=1, griddash=\"dashdot\"),\n",
        "        legend_title_text=\"Age Groups\"\n",
        "    )\n",
        "\n",
        "    return fig\n",
        "\n",
        "# Run app\n",
        "if __name__ == \"__main__\":\n",
        "    app.run_server(debug=True)"
      ]
    },
    {
      "cell_type": "markdown",
      "id": "5EFRGLzuaY_I",
      "metadata": {
        "id": "5EFRGLzuaY_I"
      },
      "source": [
        "# Age par médaille"
      ]
    },
    {
      "cell_type": "code",
      "execution_count": 13,
      "id": "zKn6fJld-2UL",
      "metadata": {
        "colab": {
          "base_uri": "https://localhost:8080/",
          "height": 631
        },
        "id": "zKn6fJld-2UL",
        "outputId": "e4b22a8f-ac6b-499a-954c-935836d14f58"
      },
      "outputs": [
        {
          "name": "stderr",
          "output_type": "stream",
          "text": [
            "/var/folders/_l/9zwk5vpn34jdm7zv9_m4mgfr0000gn/T/ipykernel_39424/2206267160.py:1: FutureWarning:\n",
            "\n",
            "The default of observed=False is deprecated and will be changed to True in a future version of pandas. Pass observed=False to retain current behavior or observed=True to adopt the future default and silence this warning.\n",
            "\n"
          ]
        },
        {
          "data": {
            "application/vnd.plotly.v1+json": {
              "config": {
                "plotlyServerURL": "https://plot.ly"
              },
              "data": [
                {
                  "hovertemplate": "Medal Type=%{x}<br>Age Group=%{y}<br>Number of Athletes=%{marker.size}<extra></extra>",
                  "legendgroup": "Bronze",
                  "marker": {
                    "color": "#CD7F32",
                    "opacity": 0.85,
                    "size": {
                      "bdata": "AwBPAAcBaAHFAGAAFgACAA==",
                      "dtype": "i2"
                    },
                    "sizemode": "area",
                    "sizeref": 0.2425,
                    "symbol": "circle"
                  },
                  "mode": "markers",
                  "name": "Bronze",
                  "orientation": "v",
                  "showlegend": true,
                  "type": "scatter",
                  "x": [
                    "Bronze",
                    "Bronze",
                    "Bronze",
                    "Bronze",
                    "Bronze",
                    "Bronze",
                    "Bronze",
                    "Bronze"
                  ],
                  "xaxis": "x",
                  "y": [
                    "10-14",
                    "15-17",
                    "18-20",
                    "21-23",
                    "24-26",
                    "27-30",
                    "31-35",
                    "36+"
                  ],
                  "yaxis": "y"
                },
                {
                  "hovertemplate": "Medal Type=%{x}<br>Age Group=%{y}<br>Number of Athletes=%{marker.size}<extra></extra>",
                  "legendgroup": "Gold",
                  "marker": {
                    "color": "#FFD700",
                    "opacity": 0.85,
                    "size": {
                      "bdata": "AQBsAEIBhAHYAG0AEQACAA==",
                      "dtype": "i2"
                    },
                    "sizemode": "area",
                    "sizeref": 0.2425,
                    "symbol": "circle"
                  },
                  "mode": "markers",
                  "name": "Gold",
                  "orientation": "v",
                  "showlegend": true,
                  "type": "scatter",
                  "x": [
                    "Gold",
                    "Gold",
                    "Gold",
                    "Gold",
                    "Gold",
                    "Gold",
                    "Gold",
                    "Gold"
                  ],
                  "xaxis": "x",
                  "y": [
                    "10-14",
                    "15-17",
                    "18-20",
                    "21-23",
                    "24-26",
                    "27-30",
                    "31-35",
                    "36+"
                  ],
                  "yaxis": "y"
                },
                {
                  "hovertemplate": "Medal Type=%{x}<br>Age Group=%{y}<br>Number of Athletes=%{marker.size}<extra></extra>",
                  "legendgroup": "Silver",
                  "marker": {
                    "color": "#C0C0C0",
                    "opacity": 0.85,
                    "size": {
                      "bdata": "BABgABcBVAHOAGUAEQAHAA==",
                      "dtype": "i2"
                    },
                    "sizemode": "area",
                    "sizeref": 0.2425,
                    "symbol": "circle"
                  },
                  "mode": "markers",
                  "name": "Silver",
                  "orientation": "v",
                  "showlegend": true,
                  "type": "scatter",
                  "x": [
                    "Silver",
                    "Silver",
                    "Silver",
                    "Silver",
                    "Silver",
                    "Silver",
                    "Silver",
                    "Silver"
                  ],
                  "xaxis": "x",
                  "y": [
                    "10-14",
                    "15-17",
                    "18-20",
                    "21-23",
                    "24-26",
                    "27-30",
                    "31-35",
                    "36+"
                  ],
                  "yaxis": "y"
                }
              ],
              "layout": {
                "font": {
                  "size": 14
                },
                "legend": {
                  "itemsizing": "constant",
                  "title": {
                    "text": "Medal Type"
                  },
                  "tracegroupgap": 0
                },
                "paper_bgcolor": "white",
                "plot_bgcolor": "white",
                "template": {
                  "data": {
                    "bar": [
                      {
                        "error_x": {
                          "color": "rgb(36,36,36)"
                        },
                        "error_y": {
                          "color": "rgb(36,36,36)"
                        },
                        "marker": {
                          "line": {
                            "color": "white",
                            "width": 0.5
                          },
                          "pattern": {
                            "fillmode": "overlay",
                            "size": 10,
                            "solidity": 0.2
                          }
                        },
                        "type": "bar"
                      }
                    ],
                    "barpolar": [
                      {
                        "marker": {
                          "line": {
                            "color": "white",
                            "width": 0.5
                          },
                          "pattern": {
                            "fillmode": "overlay",
                            "size": 10,
                            "solidity": 0.2
                          }
                        },
                        "type": "barpolar"
                      }
                    ],
                    "carpet": [
                      {
                        "aaxis": {
                          "endlinecolor": "rgb(36,36,36)",
                          "gridcolor": "white",
                          "linecolor": "white",
                          "minorgridcolor": "white",
                          "startlinecolor": "rgb(36,36,36)"
                        },
                        "baxis": {
                          "endlinecolor": "rgb(36,36,36)",
                          "gridcolor": "white",
                          "linecolor": "white",
                          "minorgridcolor": "white",
                          "startlinecolor": "rgb(36,36,36)"
                        },
                        "type": "carpet"
                      }
                    ],
                    "choropleth": [
                      {
                        "colorbar": {
                          "outlinewidth": 1,
                          "tickcolor": "rgb(36,36,36)",
                          "ticks": "outside"
                        },
                        "type": "choropleth"
                      }
                    ],
                    "contour": [
                      {
                        "colorbar": {
                          "outlinewidth": 1,
                          "tickcolor": "rgb(36,36,36)",
                          "ticks": "outside"
                        },
                        "colorscale": [
                          [
                            0,
                            "#440154"
                          ],
                          [
                            0.1111111111111111,
                            "#482878"
                          ],
                          [
                            0.2222222222222222,
                            "#3e4989"
                          ],
                          [
                            0.3333333333333333,
                            "#31688e"
                          ],
                          [
                            0.4444444444444444,
                            "#26828e"
                          ],
                          [
                            0.5555555555555556,
                            "#1f9e89"
                          ],
                          [
                            0.6666666666666666,
                            "#35b779"
                          ],
                          [
                            0.7777777777777778,
                            "#6ece58"
                          ],
                          [
                            0.8888888888888888,
                            "#b5de2b"
                          ],
                          [
                            1,
                            "#fde725"
                          ]
                        ],
                        "type": "contour"
                      }
                    ],
                    "contourcarpet": [
                      {
                        "colorbar": {
                          "outlinewidth": 1,
                          "tickcolor": "rgb(36,36,36)",
                          "ticks": "outside"
                        },
                        "type": "contourcarpet"
                      }
                    ],
                    "heatmap": [
                      {
                        "colorbar": {
                          "outlinewidth": 1,
                          "tickcolor": "rgb(36,36,36)",
                          "ticks": "outside"
                        },
                        "colorscale": [
                          [
                            0,
                            "#440154"
                          ],
                          [
                            0.1111111111111111,
                            "#482878"
                          ],
                          [
                            0.2222222222222222,
                            "#3e4989"
                          ],
                          [
                            0.3333333333333333,
                            "#31688e"
                          ],
                          [
                            0.4444444444444444,
                            "#26828e"
                          ],
                          [
                            0.5555555555555556,
                            "#1f9e89"
                          ],
                          [
                            0.6666666666666666,
                            "#35b779"
                          ],
                          [
                            0.7777777777777778,
                            "#6ece58"
                          ],
                          [
                            0.8888888888888888,
                            "#b5de2b"
                          ],
                          [
                            1,
                            "#fde725"
                          ]
                        ],
                        "type": "heatmap"
                      }
                    ],
                    "histogram": [
                      {
                        "marker": {
                          "line": {
                            "color": "white",
                            "width": 0.6
                          }
                        },
                        "type": "histogram"
                      }
                    ],
                    "histogram2d": [
                      {
                        "colorbar": {
                          "outlinewidth": 1,
                          "tickcolor": "rgb(36,36,36)",
                          "ticks": "outside"
                        },
                        "colorscale": [
                          [
                            0,
                            "#440154"
                          ],
                          [
                            0.1111111111111111,
                            "#482878"
                          ],
                          [
                            0.2222222222222222,
                            "#3e4989"
                          ],
                          [
                            0.3333333333333333,
                            "#31688e"
                          ],
                          [
                            0.4444444444444444,
                            "#26828e"
                          ],
                          [
                            0.5555555555555556,
                            "#1f9e89"
                          ],
                          [
                            0.6666666666666666,
                            "#35b779"
                          ],
                          [
                            0.7777777777777778,
                            "#6ece58"
                          ],
                          [
                            0.8888888888888888,
                            "#b5de2b"
                          ],
                          [
                            1,
                            "#fde725"
                          ]
                        ],
                        "type": "histogram2d"
                      }
                    ],
                    "histogram2dcontour": [
                      {
                        "colorbar": {
                          "outlinewidth": 1,
                          "tickcolor": "rgb(36,36,36)",
                          "ticks": "outside"
                        },
                        "colorscale": [
                          [
                            0,
                            "#440154"
                          ],
                          [
                            0.1111111111111111,
                            "#482878"
                          ],
                          [
                            0.2222222222222222,
                            "#3e4989"
                          ],
                          [
                            0.3333333333333333,
                            "#31688e"
                          ],
                          [
                            0.4444444444444444,
                            "#26828e"
                          ],
                          [
                            0.5555555555555556,
                            "#1f9e89"
                          ],
                          [
                            0.6666666666666666,
                            "#35b779"
                          ],
                          [
                            0.7777777777777778,
                            "#6ece58"
                          ],
                          [
                            0.8888888888888888,
                            "#b5de2b"
                          ],
                          [
                            1,
                            "#fde725"
                          ]
                        ],
                        "type": "histogram2dcontour"
                      }
                    ],
                    "mesh3d": [
                      {
                        "colorbar": {
                          "outlinewidth": 1,
                          "tickcolor": "rgb(36,36,36)",
                          "ticks": "outside"
                        },
                        "type": "mesh3d"
                      }
                    ],
                    "parcoords": [
                      {
                        "line": {
                          "colorbar": {
                            "outlinewidth": 1,
                            "tickcolor": "rgb(36,36,36)",
                            "ticks": "outside"
                          }
                        },
                        "type": "parcoords"
                      }
                    ],
                    "pie": [
                      {
                        "automargin": true,
                        "type": "pie"
                      }
                    ],
                    "scatter": [
                      {
                        "fillpattern": {
                          "fillmode": "overlay",
                          "size": 10,
                          "solidity": 0.2
                        },
                        "type": "scatter"
                      }
                    ],
                    "scatter3d": [
                      {
                        "line": {
                          "colorbar": {
                            "outlinewidth": 1,
                            "tickcolor": "rgb(36,36,36)",
                            "ticks": "outside"
                          }
                        },
                        "marker": {
                          "colorbar": {
                            "outlinewidth": 1,
                            "tickcolor": "rgb(36,36,36)",
                            "ticks": "outside"
                          }
                        },
                        "type": "scatter3d"
                      }
                    ],
                    "scattercarpet": [
                      {
                        "marker": {
                          "colorbar": {
                            "outlinewidth": 1,
                            "tickcolor": "rgb(36,36,36)",
                            "ticks": "outside"
                          }
                        },
                        "type": "scattercarpet"
                      }
                    ],
                    "scattergeo": [
                      {
                        "marker": {
                          "colorbar": {
                            "outlinewidth": 1,
                            "tickcolor": "rgb(36,36,36)",
                            "ticks": "outside"
                          }
                        },
                        "type": "scattergeo"
                      }
                    ],
                    "scattergl": [
                      {
                        "marker": {
                          "colorbar": {
                            "outlinewidth": 1,
                            "tickcolor": "rgb(36,36,36)",
                            "ticks": "outside"
                          }
                        },
                        "type": "scattergl"
                      }
                    ],
                    "scattermap": [
                      {
                        "marker": {
                          "colorbar": {
                            "outlinewidth": 1,
                            "tickcolor": "rgb(36,36,36)",
                            "ticks": "outside"
                          }
                        },
                        "type": "scattermap"
                      }
                    ],
                    "scattermapbox": [
                      {
                        "marker": {
                          "colorbar": {
                            "outlinewidth": 1,
                            "tickcolor": "rgb(36,36,36)",
                            "ticks": "outside"
                          }
                        },
                        "type": "scattermapbox"
                      }
                    ],
                    "scatterpolar": [
                      {
                        "marker": {
                          "colorbar": {
                            "outlinewidth": 1,
                            "tickcolor": "rgb(36,36,36)",
                            "ticks": "outside"
                          }
                        },
                        "type": "scatterpolar"
                      }
                    ],
                    "scatterpolargl": [
                      {
                        "marker": {
                          "colorbar": {
                            "outlinewidth": 1,
                            "tickcolor": "rgb(36,36,36)",
                            "ticks": "outside"
                          }
                        },
                        "type": "scatterpolargl"
                      }
                    ],
                    "scatterternary": [
                      {
                        "marker": {
                          "colorbar": {
                            "outlinewidth": 1,
                            "tickcolor": "rgb(36,36,36)",
                            "ticks": "outside"
                          }
                        },
                        "type": "scatterternary"
                      }
                    ],
                    "surface": [
                      {
                        "colorbar": {
                          "outlinewidth": 1,
                          "tickcolor": "rgb(36,36,36)",
                          "ticks": "outside"
                        },
                        "colorscale": [
                          [
                            0,
                            "#440154"
                          ],
                          [
                            0.1111111111111111,
                            "#482878"
                          ],
                          [
                            0.2222222222222222,
                            "#3e4989"
                          ],
                          [
                            0.3333333333333333,
                            "#31688e"
                          ],
                          [
                            0.4444444444444444,
                            "#26828e"
                          ],
                          [
                            0.5555555555555556,
                            "#1f9e89"
                          ],
                          [
                            0.6666666666666666,
                            "#35b779"
                          ],
                          [
                            0.7777777777777778,
                            "#6ece58"
                          ],
                          [
                            0.8888888888888888,
                            "#b5de2b"
                          ],
                          [
                            1,
                            "#fde725"
                          ]
                        ],
                        "type": "surface"
                      }
                    ],
                    "table": [
                      {
                        "cells": {
                          "fill": {
                            "color": "rgb(237,237,237)"
                          },
                          "line": {
                            "color": "white"
                          }
                        },
                        "header": {
                          "fill": {
                            "color": "rgb(217,217,217)"
                          },
                          "line": {
                            "color": "white"
                          }
                        },
                        "type": "table"
                      }
                    ]
                  },
                  "layout": {
                    "annotationdefaults": {
                      "arrowhead": 0,
                      "arrowwidth": 1
                    },
                    "autotypenumbers": "strict",
                    "coloraxis": {
                      "colorbar": {
                        "outlinewidth": 1,
                        "tickcolor": "rgb(36,36,36)",
                        "ticks": "outside"
                      }
                    },
                    "colorscale": {
                      "diverging": [
                        [
                          0,
                          "rgb(103,0,31)"
                        ],
                        [
                          0.1,
                          "rgb(178,24,43)"
                        ],
                        [
                          0.2,
                          "rgb(214,96,77)"
                        ],
                        [
                          0.3,
                          "rgb(244,165,130)"
                        ],
                        [
                          0.4,
                          "rgb(253,219,199)"
                        ],
                        [
                          0.5,
                          "rgb(247,247,247)"
                        ],
                        [
                          0.6,
                          "rgb(209,229,240)"
                        ],
                        [
                          0.7,
                          "rgb(146,197,222)"
                        ],
                        [
                          0.8,
                          "rgb(67,147,195)"
                        ],
                        [
                          0.9,
                          "rgb(33,102,172)"
                        ],
                        [
                          1,
                          "rgb(5,48,97)"
                        ]
                      ],
                      "sequential": [
                        [
                          0,
                          "#440154"
                        ],
                        [
                          0.1111111111111111,
                          "#482878"
                        ],
                        [
                          0.2222222222222222,
                          "#3e4989"
                        ],
                        [
                          0.3333333333333333,
                          "#31688e"
                        ],
                        [
                          0.4444444444444444,
                          "#26828e"
                        ],
                        [
                          0.5555555555555556,
                          "#1f9e89"
                        ],
                        [
                          0.6666666666666666,
                          "#35b779"
                        ],
                        [
                          0.7777777777777778,
                          "#6ece58"
                        ],
                        [
                          0.8888888888888888,
                          "#b5de2b"
                        ],
                        [
                          1,
                          "#fde725"
                        ]
                      ],
                      "sequentialminus": [
                        [
                          0,
                          "#440154"
                        ],
                        [
                          0.1111111111111111,
                          "#482878"
                        ],
                        [
                          0.2222222222222222,
                          "#3e4989"
                        ],
                        [
                          0.3333333333333333,
                          "#31688e"
                        ],
                        [
                          0.4444444444444444,
                          "#26828e"
                        ],
                        [
                          0.5555555555555556,
                          "#1f9e89"
                        ],
                        [
                          0.6666666666666666,
                          "#35b779"
                        ],
                        [
                          0.7777777777777778,
                          "#6ece58"
                        ],
                        [
                          0.8888888888888888,
                          "#b5de2b"
                        ],
                        [
                          1,
                          "#fde725"
                        ]
                      ]
                    },
                    "colorway": [
                      "#1F77B4",
                      "#FF7F0E",
                      "#2CA02C",
                      "#D62728",
                      "#9467BD",
                      "#8C564B",
                      "#E377C2",
                      "#7F7F7F",
                      "#BCBD22",
                      "#17BECF"
                    ],
                    "font": {
                      "color": "rgb(36,36,36)"
                    },
                    "geo": {
                      "bgcolor": "white",
                      "lakecolor": "white",
                      "landcolor": "white",
                      "showlakes": true,
                      "showland": true,
                      "subunitcolor": "white"
                    },
                    "hoverlabel": {
                      "align": "left"
                    },
                    "hovermode": "closest",
                    "mapbox": {
                      "style": "light"
                    },
                    "paper_bgcolor": "white",
                    "plot_bgcolor": "white",
                    "polar": {
                      "angularaxis": {
                        "gridcolor": "rgb(232,232,232)",
                        "linecolor": "rgb(36,36,36)",
                        "showgrid": false,
                        "showline": true,
                        "ticks": "outside"
                      },
                      "bgcolor": "white",
                      "radialaxis": {
                        "gridcolor": "rgb(232,232,232)",
                        "linecolor": "rgb(36,36,36)",
                        "showgrid": false,
                        "showline": true,
                        "ticks": "outside"
                      }
                    },
                    "scene": {
                      "xaxis": {
                        "backgroundcolor": "white",
                        "gridcolor": "rgb(232,232,232)",
                        "gridwidth": 2,
                        "linecolor": "rgb(36,36,36)",
                        "showbackground": true,
                        "showgrid": false,
                        "showline": true,
                        "ticks": "outside",
                        "zeroline": false,
                        "zerolinecolor": "rgb(36,36,36)"
                      },
                      "yaxis": {
                        "backgroundcolor": "white",
                        "gridcolor": "rgb(232,232,232)",
                        "gridwidth": 2,
                        "linecolor": "rgb(36,36,36)",
                        "showbackground": true,
                        "showgrid": false,
                        "showline": true,
                        "ticks": "outside",
                        "zeroline": false,
                        "zerolinecolor": "rgb(36,36,36)"
                      },
                      "zaxis": {
                        "backgroundcolor": "white",
                        "gridcolor": "rgb(232,232,232)",
                        "gridwidth": 2,
                        "linecolor": "rgb(36,36,36)",
                        "showbackground": true,
                        "showgrid": false,
                        "showline": true,
                        "ticks": "outside",
                        "zeroline": false,
                        "zerolinecolor": "rgb(36,36,36)"
                      }
                    },
                    "shapedefaults": {
                      "fillcolor": "black",
                      "line": {
                        "width": 0
                      },
                      "opacity": 0.3
                    },
                    "ternary": {
                      "aaxis": {
                        "gridcolor": "rgb(232,232,232)",
                        "linecolor": "rgb(36,36,36)",
                        "showgrid": false,
                        "showline": true,
                        "ticks": "outside"
                      },
                      "baxis": {
                        "gridcolor": "rgb(232,232,232)",
                        "linecolor": "rgb(36,36,36)",
                        "showgrid": false,
                        "showline": true,
                        "ticks": "outside"
                      },
                      "bgcolor": "white",
                      "caxis": {
                        "gridcolor": "rgb(232,232,232)",
                        "linecolor": "rgb(36,36,36)",
                        "showgrid": false,
                        "showline": true,
                        "ticks": "outside"
                      }
                    },
                    "title": {
                      "x": 0.05
                    },
                    "xaxis": {
                      "automargin": true,
                      "gridcolor": "rgb(232,232,232)",
                      "linecolor": "rgb(36,36,36)",
                      "showgrid": false,
                      "showline": true,
                      "ticks": "outside",
                      "title": {
                        "standoff": 15
                      },
                      "zeroline": false,
                      "zerolinecolor": "rgb(36,36,36)"
                    },
                    "yaxis": {
                      "automargin": true,
                      "gridcolor": "rgb(232,232,232)",
                      "linecolor": "rgb(36,36,36)",
                      "showgrid": false,
                      "showline": true,
                      "ticks": "outside",
                      "title": {
                        "standoff": 15
                      },
                      "zeroline": false,
                      "zerolinecolor": "rgb(36,36,36)"
                    }
                  }
                },
                "title": {
                  "font": {
                    "size": 18
                  },
                  "text": "Age Distribution of Swimming Athletes by Medal"
                },
                "xaxis": {
                  "anchor": "y",
                  "categoryarray": [
                    "Gold",
                    "Silver",
                    "Bronze"
                  ],
                  "categoryorder": "array",
                  "domain": [
                    0,
                    1
                  ],
                  "showgrid": false,
                  "showline": false,
                  "tickmode": "array",
                  "title": {
                    "text": "Medal Type"
                  }
                },
                "yaxis": {
                  "anchor": "x",
                  "domain": [
                    0,
                    1
                  ],
                  "gridcolor": "lightgray",
                  "griddash": "dashdot",
                  "gridwidth": 1,
                  "showgrid": true,
                  "showline": false,
                  "title": {
                    "text": "Age Group"
                  }
                }
              }
            }
          },
          "metadata": {},
          "output_type": "display_data"
        }
      ],
      "source": [
        "df_grouped = df.groupby([\"Medal\", \"Age Group\"]).size().reset_index(name=\"Count\")\n",
        "\n",
        "medal_colors = {\"Gold\": \"#FFD700\", \"Silver\": \"#C0C0C0\", \"Bronze\": \"#CD7F32\"}\n",
        "\n",
        "fig = px.scatter(df_grouped,\n",
        "                 x=\"Medal\",\n",
        "                 y=\"Age Group\",\n",
        "                 size=\"Count\",\n",
        "                 color=\"Medal\",\n",
        "                 color_discrete_map=medal_colors,\n",
        "                 title=\"Age Distribution of Swimming Athletes by Medal\",\n",
        "                 labels={\"Medal\": \"Medal Type\", \"Age Group\": \"Age Group\", \"Count\": \"Number of Athletes\"},\n",
        "                 opacity=0.85,\n",
        "                 size_max=40)\n",
        "\n",
        "fig.update_layout(\n",
        "    template=\"simple_white\",\n",
        "    font=dict(size=14),\n",
        "    title_font=dict(size=18),\n",
        "    plot_bgcolor=\"white\",\n",
        "    paper_bgcolor=\"white\",\n",
        "    xaxis=dict(\n",
        "        showline=False,\n",
        "        showgrid=False,\n",
        "        tickmode=\"array\",\n",
        "        categoryorder=\"array\",\n",
        "        categoryarray=[\"Gold\", \"Silver\", \"Bronze\"]\n",
        "    ),\n",
        "    yaxis=dict(\n",
        "        showline=False,\n",
        "        showgrid=True,\n",
        "        gridcolor=\"lightgray\",\n",
        "        gridwidth=1,\n",
        "        griddash=\"dashdot\",\n",
        "    ),\n",
        "    legend_title_text=\"Medal Type\",\n",
        ")\n",
        "\n",
        "fig.show()"
      ]
    },
    {
      "cell_type": "markdown",
      "id": "MJFafpHgt0Es",
      "metadata": {
        "id": "MJFafpHgt0Es"
      },
      "source": [
        "# Participations"
      ]
    },
    {
      "cell_type": "code",
      "execution_count": 14,
      "id": "UAlxmZzFKBpF",
      "metadata": {
        "colab": {
          "base_uri": "https://localhost:8080/",
          "height": 417
        },
        "id": "UAlxmZzFKBpF",
        "outputId": "eadd799b-66df-4724-b0d6-6ebc47837b12"
      },
      "outputs": [
        {
          "data": {
            "application/vnd.plotly.v1+json": {
              "config": {
                "plotlyServerURL": "https://plot.ly"
              },
              "data": [
                {
                  "domain": {
                    "x": [
                      0,
                      0.1388888888888889
                    ],
                    "y": [
                      0,
                      1
                    ]
                  },
                  "hole": 0.4,
                  "labels": [
                    "Medal Won",
                    "No Medal"
                  ],
                  "marker": {
                    "colors": [
                      "#F4C542",
                      "#A0A0A0"
                    ]
                  },
                  "showlegend": true,
                  "textinfo": "percent",
                  "type": "pie",
                  "values": [
                    8.86837464993258,
                    91.13162535006742
                  ]
                },
                {
                  "domain": {
                    "x": [
                      0.17222222222222222,
                      0.3111111111111111
                    ],
                    "y": [
                      0,
                      1
                    ]
                  },
                  "hole": 0.4,
                  "labels": [
                    "Medal Won",
                    "No Medal"
                  ],
                  "marker": {
                    "colors": [
                      "#F4C542",
                      "#A0A0A0"
                    ]
                  },
                  "showlegend": false,
                  "textinfo": "percent",
                  "type": "pie",
                  "values": [
                    11.565468814539447,
                    88.43453118546056
                  ]
                },
                {
                  "domain": {
                    "x": [
                      0.34444444444444444,
                      0.48333333333333334
                    ],
                    "y": [
                      0,
                      1
                    ]
                  },
                  "hole": 0.4,
                  "labels": [
                    "Medal Won",
                    "No Medal"
                  ],
                  "marker": {
                    "colors": [
                      "#F4C542",
                      "#A0A0A0"
                    ]
                  },
                  "showlegend": false,
                  "textinfo": "percent",
                  "type": "pie",
                  "values": [
                    11.037891268533773,
                    88.96210873146623
                  ]
                },
                {
                  "domain": {
                    "x": [
                      0.5166666666666667,
                      0.6555555555555557
                    ],
                    "y": [
                      0,
                      1
                    ]
                  },
                  "hole": 0.4,
                  "labels": [
                    "Medal Won",
                    "No Medal"
                  ],
                  "marker": {
                    "colors": [
                      "#F4C542",
                      "#A0A0A0"
                    ]
                  },
                  "showlegend": false,
                  "textinfo": "percent",
                  "type": "pie",
                  "values": [
                    7.43801652892562,
                    92.56198347107438
                  ]
                },
                {
                  "domain": {
                    "x": [
                      0.6888888888888889,
                      0.8277777777777777
                    ],
                    "y": [
                      0,
                      1
                    ]
                  },
                  "hole": 0.4,
                  "labels": [
                    "Medal Won",
                    "No Medal"
                  ],
                  "marker": {
                    "colors": [
                      "#F4C542",
                      "#A0A0A0"
                    ]
                  },
                  "showlegend": false,
                  "textinfo": "percent",
                  "type": "pie",
                  "values": [
                    15.789473684210526,
                    84.21052631578947
                  ]
                },
                {
                  "domain": {
                    "x": [
                      0.861111111111111,
                      1
                    ],
                    "y": [
                      0,
                      1
                    ]
                  },
                  "hole": 0.4,
                  "labels": [
                    "Medal Won",
                    "No Medal"
                  ],
                  "marker": {
                    "colors": [
                      "#F4C542",
                      "#A0A0A0"
                    ]
                  },
                  "showlegend": false,
                  "textinfo": "percent",
                  "type": "pie",
                  "values": [
                    0,
                    100
                  ]
                }
              ],
              "layout": {
                "annotations": [
                  {
                    "font": {
                      "color": "black",
                      "family": "Arial Black",
                      "size": 16
                    },
                    "showarrow": false,
                    "text": "1",
                    "x": 0.08333333333333333,
                    "xref": "paper",
                    "y": 0.5,
                    "yref": "paper"
                  },
                  {
                    "font": {
                      "color": "black",
                      "family": "Arial Black",
                      "size": 16
                    },
                    "showarrow": false,
                    "text": "2",
                    "x": 0.25,
                    "xref": "paper",
                    "y": 0.5,
                    "yref": "paper"
                  },
                  {
                    "font": {
                      "color": "black",
                      "family": "Arial Black",
                      "size": 16
                    },
                    "showarrow": false,
                    "text": "3",
                    "x": 0.4166666666666667,
                    "xref": "paper",
                    "y": 0.5,
                    "yref": "paper"
                  },
                  {
                    "font": {
                      "color": "black",
                      "family": "Arial Black",
                      "size": 16
                    },
                    "showarrow": false,
                    "text": "4",
                    "x": 0.5833333333333334,
                    "xref": "paper",
                    "y": 0.5,
                    "yref": "paper"
                  },
                  {
                    "font": {
                      "color": "black",
                      "family": "Arial Black",
                      "size": 16
                    },
                    "showarrow": false,
                    "text": "5",
                    "x": 0.75,
                    "xref": "paper",
                    "y": 0.5,
                    "yref": "paper"
                  },
                  {
                    "font": {
                      "color": "black",
                      "family": "Arial Black",
                      "size": 16
                    },
                    "showarrow": false,
                    "text": "6",
                    "x": 0.9166666666666666,
                    "xref": "paper",
                    "y": 0.5,
                    "yref": "paper"
                  }
                ],
                "font": {
                  "size": 12
                },
                "height": 400,
                "margin": {
                  "b": 50,
                  "l": 50,
                  "r": 50,
                  "t": 80
                },
                "template": {
                  "data": {
                    "bar": [
                      {
                        "error_x": {
                          "color": "#2a3f5f"
                        },
                        "error_y": {
                          "color": "#2a3f5f"
                        },
                        "marker": {
                          "line": {
                            "color": "#E5ECF6",
                            "width": 0.5
                          },
                          "pattern": {
                            "fillmode": "overlay",
                            "size": 10,
                            "solidity": 0.2
                          }
                        },
                        "type": "bar"
                      }
                    ],
                    "barpolar": [
                      {
                        "marker": {
                          "line": {
                            "color": "#E5ECF6",
                            "width": 0.5
                          },
                          "pattern": {
                            "fillmode": "overlay",
                            "size": 10,
                            "solidity": 0.2
                          }
                        },
                        "type": "barpolar"
                      }
                    ],
                    "carpet": [
                      {
                        "aaxis": {
                          "endlinecolor": "#2a3f5f",
                          "gridcolor": "white",
                          "linecolor": "white",
                          "minorgridcolor": "white",
                          "startlinecolor": "#2a3f5f"
                        },
                        "baxis": {
                          "endlinecolor": "#2a3f5f",
                          "gridcolor": "white",
                          "linecolor": "white",
                          "minorgridcolor": "white",
                          "startlinecolor": "#2a3f5f"
                        },
                        "type": "carpet"
                      }
                    ],
                    "choropleth": [
                      {
                        "colorbar": {
                          "outlinewidth": 0,
                          "ticks": ""
                        },
                        "type": "choropleth"
                      }
                    ],
                    "contour": [
                      {
                        "colorbar": {
                          "outlinewidth": 0,
                          "ticks": ""
                        },
                        "colorscale": [
                          [
                            0,
                            "#0d0887"
                          ],
                          [
                            0.1111111111111111,
                            "#46039f"
                          ],
                          [
                            0.2222222222222222,
                            "#7201a8"
                          ],
                          [
                            0.3333333333333333,
                            "#9c179e"
                          ],
                          [
                            0.4444444444444444,
                            "#bd3786"
                          ],
                          [
                            0.5555555555555556,
                            "#d8576b"
                          ],
                          [
                            0.6666666666666666,
                            "#ed7953"
                          ],
                          [
                            0.7777777777777778,
                            "#fb9f3a"
                          ],
                          [
                            0.8888888888888888,
                            "#fdca26"
                          ],
                          [
                            1,
                            "#f0f921"
                          ]
                        ],
                        "type": "contour"
                      }
                    ],
                    "contourcarpet": [
                      {
                        "colorbar": {
                          "outlinewidth": 0,
                          "ticks": ""
                        },
                        "type": "contourcarpet"
                      }
                    ],
                    "heatmap": [
                      {
                        "colorbar": {
                          "outlinewidth": 0,
                          "ticks": ""
                        },
                        "colorscale": [
                          [
                            0,
                            "#0d0887"
                          ],
                          [
                            0.1111111111111111,
                            "#46039f"
                          ],
                          [
                            0.2222222222222222,
                            "#7201a8"
                          ],
                          [
                            0.3333333333333333,
                            "#9c179e"
                          ],
                          [
                            0.4444444444444444,
                            "#bd3786"
                          ],
                          [
                            0.5555555555555556,
                            "#d8576b"
                          ],
                          [
                            0.6666666666666666,
                            "#ed7953"
                          ],
                          [
                            0.7777777777777778,
                            "#fb9f3a"
                          ],
                          [
                            0.8888888888888888,
                            "#fdca26"
                          ],
                          [
                            1,
                            "#f0f921"
                          ]
                        ],
                        "type": "heatmap"
                      }
                    ],
                    "histogram": [
                      {
                        "marker": {
                          "pattern": {
                            "fillmode": "overlay",
                            "size": 10,
                            "solidity": 0.2
                          }
                        },
                        "type": "histogram"
                      }
                    ],
                    "histogram2d": [
                      {
                        "colorbar": {
                          "outlinewidth": 0,
                          "ticks": ""
                        },
                        "colorscale": [
                          [
                            0,
                            "#0d0887"
                          ],
                          [
                            0.1111111111111111,
                            "#46039f"
                          ],
                          [
                            0.2222222222222222,
                            "#7201a8"
                          ],
                          [
                            0.3333333333333333,
                            "#9c179e"
                          ],
                          [
                            0.4444444444444444,
                            "#bd3786"
                          ],
                          [
                            0.5555555555555556,
                            "#d8576b"
                          ],
                          [
                            0.6666666666666666,
                            "#ed7953"
                          ],
                          [
                            0.7777777777777778,
                            "#fb9f3a"
                          ],
                          [
                            0.8888888888888888,
                            "#fdca26"
                          ],
                          [
                            1,
                            "#f0f921"
                          ]
                        ],
                        "type": "histogram2d"
                      }
                    ],
                    "histogram2dcontour": [
                      {
                        "colorbar": {
                          "outlinewidth": 0,
                          "ticks": ""
                        },
                        "colorscale": [
                          [
                            0,
                            "#0d0887"
                          ],
                          [
                            0.1111111111111111,
                            "#46039f"
                          ],
                          [
                            0.2222222222222222,
                            "#7201a8"
                          ],
                          [
                            0.3333333333333333,
                            "#9c179e"
                          ],
                          [
                            0.4444444444444444,
                            "#bd3786"
                          ],
                          [
                            0.5555555555555556,
                            "#d8576b"
                          ],
                          [
                            0.6666666666666666,
                            "#ed7953"
                          ],
                          [
                            0.7777777777777778,
                            "#fb9f3a"
                          ],
                          [
                            0.8888888888888888,
                            "#fdca26"
                          ],
                          [
                            1,
                            "#f0f921"
                          ]
                        ],
                        "type": "histogram2dcontour"
                      }
                    ],
                    "mesh3d": [
                      {
                        "colorbar": {
                          "outlinewidth": 0,
                          "ticks": ""
                        },
                        "type": "mesh3d"
                      }
                    ],
                    "parcoords": [
                      {
                        "line": {
                          "colorbar": {
                            "outlinewidth": 0,
                            "ticks": ""
                          }
                        },
                        "type": "parcoords"
                      }
                    ],
                    "pie": [
                      {
                        "automargin": true,
                        "type": "pie"
                      }
                    ],
                    "scatter": [
                      {
                        "fillpattern": {
                          "fillmode": "overlay",
                          "size": 10,
                          "solidity": 0.2
                        },
                        "type": "scatter"
                      }
                    ],
                    "scatter3d": [
                      {
                        "line": {
                          "colorbar": {
                            "outlinewidth": 0,
                            "ticks": ""
                          }
                        },
                        "marker": {
                          "colorbar": {
                            "outlinewidth": 0,
                            "ticks": ""
                          }
                        },
                        "type": "scatter3d"
                      }
                    ],
                    "scattercarpet": [
                      {
                        "marker": {
                          "colorbar": {
                            "outlinewidth": 0,
                            "ticks": ""
                          }
                        },
                        "type": "scattercarpet"
                      }
                    ],
                    "scattergeo": [
                      {
                        "marker": {
                          "colorbar": {
                            "outlinewidth": 0,
                            "ticks": ""
                          }
                        },
                        "type": "scattergeo"
                      }
                    ],
                    "scattergl": [
                      {
                        "marker": {
                          "colorbar": {
                            "outlinewidth": 0,
                            "ticks": ""
                          }
                        },
                        "type": "scattergl"
                      }
                    ],
                    "scattermap": [
                      {
                        "marker": {
                          "colorbar": {
                            "outlinewidth": 0,
                            "ticks": ""
                          }
                        },
                        "type": "scattermap"
                      }
                    ],
                    "scattermapbox": [
                      {
                        "marker": {
                          "colorbar": {
                            "outlinewidth": 0,
                            "ticks": ""
                          }
                        },
                        "type": "scattermapbox"
                      }
                    ],
                    "scatterpolar": [
                      {
                        "marker": {
                          "colorbar": {
                            "outlinewidth": 0,
                            "ticks": ""
                          }
                        },
                        "type": "scatterpolar"
                      }
                    ],
                    "scatterpolargl": [
                      {
                        "marker": {
                          "colorbar": {
                            "outlinewidth": 0,
                            "ticks": ""
                          }
                        },
                        "type": "scatterpolargl"
                      }
                    ],
                    "scatterternary": [
                      {
                        "marker": {
                          "colorbar": {
                            "outlinewidth": 0,
                            "ticks": ""
                          }
                        },
                        "type": "scatterternary"
                      }
                    ],
                    "surface": [
                      {
                        "colorbar": {
                          "outlinewidth": 0,
                          "ticks": ""
                        },
                        "colorscale": [
                          [
                            0,
                            "#0d0887"
                          ],
                          [
                            0.1111111111111111,
                            "#46039f"
                          ],
                          [
                            0.2222222222222222,
                            "#7201a8"
                          ],
                          [
                            0.3333333333333333,
                            "#9c179e"
                          ],
                          [
                            0.4444444444444444,
                            "#bd3786"
                          ],
                          [
                            0.5555555555555556,
                            "#d8576b"
                          ],
                          [
                            0.6666666666666666,
                            "#ed7953"
                          ],
                          [
                            0.7777777777777778,
                            "#fb9f3a"
                          ],
                          [
                            0.8888888888888888,
                            "#fdca26"
                          ],
                          [
                            1,
                            "#f0f921"
                          ]
                        ],
                        "type": "surface"
                      }
                    ],
                    "table": [
                      {
                        "cells": {
                          "fill": {
                            "color": "#EBF0F8"
                          },
                          "line": {
                            "color": "white"
                          }
                        },
                        "header": {
                          "fill": {
                            "color": "#C8D4E3"
                          },
                          "line": {
                            "color": "white"
                          }
                        },
                        "type": "table"
                      }
                    ]
                  },
                  "layout": {
                    "annotationdefaults": {
                      "arrowcolor": "#2a3f5f",
                      "arrowhead": 0,
                      "arrowwidth": 1
                    },
                    "autotypenumbers": "strict",
                    "coloraxis": {
                      "colorbar": {
                        "outlinewidth": 0,
                        "ticks": ""
                      }
                    },
                    "colorscale": {
                      "diverging": [
                        [
                          0,
                          "#8e0152"
                        ],
                        [
                          0.1,
                          "#c51b7d"
                        ],
                        [
                          0.2,
                          "#de77ae"
                        ],
                        [
                          0.3,
                          "#f1b6da"
                        ],
                        [
                          0.4,
                          "#fde0ef"
                        ],
                        [
                          0.5,
                          "#f7f7f7"
                        ],
                        [
                          0.6,
                          "#e6f5d0"
                        ],
                        [
                          0.7,
                          "#b8e186"
                        ],
                        [
                          0.8,
                          "#7fbc41"
                        ],
                        [
                          0.9,
                          "#4d9221"
                        ],
                        [
                          1,
                          "#276419"
                        ]
                      ],
                      "sequential": [
                        [
                          0,
                          "#0d0887"
                        ],
                        [
                          0.1111111111111111,
                          "#46039f"
                        ],
                        [
                          0.2222222222222222,
                          "#7201a8"
                        ],
                        [
                          0.3333333333333333,
                          "#9c179e"
                        ],
                        [
                          0.4444444444444444,
                          "#bd3786"
                        ],
                        [
                          0.5555555555555556,
                          "#d8576b"
                        ],
                        [
                          0.6666666666666666,
                          "#ed7953"
                        ],
                        [
                          0.7777777777777778,
                          "#fb9f3a"
                        ],
                        [
                          0.8888888888888888,
                          "#fdca26"
                        ],
                        [
                          1,
                          "#f0f921"
                        ]
                      ],
                      "sequentialminus": [
                        [
                          0,
                          "#0d0887"
                        ],
                        [
                          0.1111111111111111,
                          "#46039f"
                        ],
                        [
                          0.2222222222222222,
                          "#7201a8"
                        ],
                        [
                          0.3333333333333333,
                          "#9c179e"
                        ],
                        [
                          0.4444444444444444,
                          "#bd3786"
                        ],
                        [
                          0.5555555555555556,
                          "#d8576b"
                        ],
                        [
                          0.6666666666666666,
                          "#ed7953"
                        ],
                        [
                          0.7777777777777778,
                          "#fb9f3a"
                        ],
                        [
                          0.8888888888888888,
                          "#fdca26"
                        ],
                        [
                          1,
                          "#f0f921"
                        ]
                      ]
                    },
                    "colorway": [
                      "#636efa",
                      "#EF553B",
                      "#00cc96",
                      "#ab63fa",
                      "#FFA15A",
                      "#19d3f3",
                      "#FF6692",
                      "#B6E880",
                      "#FF97FF",
                      "#FECB52"
                    ],
                    "font": {
                      "color": "#2a3f5f"
                    },
                    "geo": {
                      "bgcolor": "white",
                      "lakecolor": "white",
                      "landcolor": "#E5ECF6",
                      "showlakes": true,
                      "showland": true,
                      "subunitcolor": "white"
                    },
                    "hoverlabel": {
                      "align": "left"
                    },
                    "hovermode": "closest",
                    "mapbox": {
                      "style": "light"
                    },
                    "paper_bgcolor": "white",
                    "plot_bgcolor": "#E5ECF6",
                    "polar": {
                      "angularaxis": {
                        "gridcolor": "white",
                        "linecolor": "white",
                        "ticks": ""
                      },
                      "bgcolor": "#E5ECF6",
                      "radialaxis": {
                        "gridcolor": "white",
                        "linecolor": "white",
                        "ticks": ""
                      }
                    },
                    "scene": {
                      "xaxis": {
                        "backgroundcolor": "#E5ECF6",
                        "gridcolor": "white",
                        "gridwidth": 2,
                        "linecolor": "white",
                        "showbackground": true,
                        "ticks": "",
                        "zerolinecolor": "white"
                      },
                      "yaxis": {
                        "backgroundcolor": "#E5ECF6",
                        "gridcolor": "white",
                        "gridwidth": 2,
                        "linecolor": "white",
                        "showbackground": true,
                        "ticks": "",
                        "zerolinecolor": "white"
                      },
                      "zaxis": {
                        "backgroundcolor": "#E5ECF6",
                        "gridcolor": "white",
                        "gridwidth": 2,
                        "linecolor": "white",
                        "showbackground": true,
                        "ticks": "",
                        "zerolinecolor": "white"
                      }
                    },
                    "shapedefaults": {
                      "line": {
                        "color": "#2a3f5f"
                      }
                    },
                    "ternary": {
                      "aaxis": {
                        "gridcolor": "white",
                        "linecolor": "white",
                        "ticks": ""
                      },
                      "baxis": {
                        "gridcolor": "white",
                        "linecolor": "white",
                        "ticks": ""
                      },
                      "bgcolor": "#E5ECF6",
                      "caxis": {
                        "gridcolor": "white",
                        "linecolor": "white",
                        "ticks": ""
                      }
                    },
                    "title": {
                      "x": 0.05
                    },
                    "xaxis": {
                      "automargin": true,
                      "gridcolor": "white",
                      "linecolor": "white",
                      "ticks": "",
                      "title": {
                        "standoff": 15
                      },
                      "zerolinecolor": "white",
                      "zerolinewidth": 2
                    },
                    "yaxis": {
                      "automargin": true,
                      "gridcolor": "white",
                      "linecolor": "white",
                      "ticks": "",
                      "title": {
                        "standoff": 15
                      },
                      "zerolinecolor": "white",
                      "zerolinewidth": 2
                    }
                  }
                },
                "title": {
                  "text": "Medal Distribution by Olympic Participation"
                },
                "width": 780
              }
            }
          },
          "metadata": {},
          "output_type": "display_data"
        }
      ],
      "source": [
        "# A améliorer\n",
        "\n",
        "df = olympics_data[olympics_data[\"Sport\"] == \"Swimming\"].copy()\n",
        "df = df.drop_duplicates(subset=[\"Name\", \"Year\"])\n",
        "\n",
        "df = df.sort_values([\"Name\", \"Year\"])\n",
        "df[\"Participation_Number\"] = df.groupby(\"Name\").cumcount() + 1\n",
        "\n",
        "df[\"Medal_Status\"] = df[\"Medal\"].apply(lambda x: \"Medal Won\" if pd.notna(x) else \"No Medal\")\n",
        "\n",
        "participation_counts = df.groupby([\"Participation_Number\", \"Medal_Status\"]).size().unstack(fill_value=0)\n",
        "\n",
        "participation_percentages = participation_counts.div(participation_counts.sum(axis=1), axis=0) * 100\n",
        "\n",
        "colors = {\"Medal Won\": \"#F4C542\", \"No Medal\": \"#A0A0A0\"}\n",
        "\n",
        "participation_levels = sorted(participation_percentages.index)\n",
        "num_participations = len(participation_levels)\n",
        "\n",
        "fig = sp.make_subplots(\n",
        "    rows=1, cols=num_participations,\n",
        "    specs=[[{\"type\": \"domain\"}] * num_participations]\n",
        ")\n",
        "\n",
        "for i, p in enumerate(participation_levels):\n",
        "    values = [\n",
        "        participation_percentages.loc[p][\"Medal Won\"],\n",
        "        participation_percentages.loc[p][\"No Medal\"]\n",
        "    ]\n",
        "\n",
        "    fig.add_trace(go.Pie(\n",
        "        labels=[\"Medal Won\", \"No Medal\"],\n",
        "        values=values,\n",
        "        marker=dict(colors=[colors[\"Medal Won\"], colors[\"No Medal\"]]),\n",
        "        hole=0.4,\n",
        "        textinfo='percent',\n",
        "        showlegend=(i == 0)\n",
        "    ), row=1, col=i+1)\n",
        "\n",
        "    num_pies = len(participation_levels)\n",
        "    x_position = (i + 0.5) / num_pies\n",
        "\n",
        "    fig.add_annotation(\n",
        "        x=x_position,\n",
        "        y=0.5,\n",
        "        text=f\"{p}\",\n",
        "        showarrow=False,\n",
        "        font=dict(size=16, color=\"black\", family=\"Arial Black\"),\n",
        "        xref=\"paper\",\n",
        "        yref=\"paper\"\n",
        "    )\n",
        "\n",
        "fig.update_layout(\n",
        "    title_text=\"Medal Distribution by Olympic Participation\",\n",
        "    height=400,\n",
        "    width=130 * num_participations,\n",
        "    margin=dict(t=80, b=50, l=50, r=50),\n",
        "    font=dict(size=12)\n",
        ")\n",
        "\n",
        "fig.show()"
      ]
    },
    {
      "cell_type": "markdown",
      "id": "7qgYb7-e9bFe",
      "metadata": {
        "id": "7qgYb7-e9bFe"
      },
      "source": [
        "# Meilleurs athlètes"
      ]
    },
    {
      "cell_type": "code",
      "execution_count": 15,
      "id": "Iveyx2IUF3pt",
      "metadata": {
        "colab": {
          "base_uri": "https://localhost:8080/",
          "height": 542
        },
        "id": "Iveyx2IUF3pt",
        "outputId": "d7cdbf49-25db-411e-905b-549e1f442ca5"
      },
      "outputs": [
        {
          "data": {
            "application/vnd.plotly.v1+json": {
              "config": {
                "plotlyServerURL": "https://plot.ly"
              },
              "data": [
                {
                  "hovertemplate": "Medal=Gold<br>Total Medals=%{x}<br>Athletes=%{y}<extra></extra>",
                  "legendgroup": "Gold",
                  "marker": {
                    "color": "#FFD700",
                    "pattern": {
                      "shape": ""
                    }
                  },
                  "name": "Gold",
                  "orientation": "h",
                  "showlegend": true,
                  "textposition": "auto",
                  "type": "bar",
                  "x": {
                    "bdata": "BAQFCAkIFwMG",
                    "dtype": "i1"
                  },
                  "xaxis": "x",
                  "y": [
                    "Aleksandr Vladimirovich Popov",
                    "Dara Grace Torres (-Hoffman, -Minas)",
                    "Gary Wayne Hall, Jr.",
                    "Jennifer Elisabeth \"Jenny\" Thompson (-Cumpelik)",
                    "Mark Andrew Spitz",
                    "Matthew Nicholas \"Matt\" Biondi",
                    "Michael Fred Phelps, II",
                    "Natalie Anne Coughlin (-Hall)",
                    "Ryan Steven Lochte"
                  ],
                  "yaxis": "y"
                },
                {
                  "hovertemplate": "Medal=Silver<br>Total Medals=%{x}<br>Athletes=%{y}<extra></extra>",
                  "legendgroup": "Silver",
                  "marker": {
                    "color": "#C0C0C0",
                    "pattern": {
                      "shape": ""
                    }
                  },
                  "name": "Silver",
                  "orientation": "h",
                  "showlegend": true,
                  "textposition": "auto",
                  "type": "bar",
                  "x": {
                    "bdata": "BQQEAwMBAgMEAw==",
                    "dtype": "i1"
                  },
                  "xaxis": "x",
                  "y": [
                    "Aleksandr Vladimirovich Popov",
                    "Dara Grace Torres (-Hoffman, -Minas)",
                    "Franziska van Almsick",
                    "Gary Wayne Hall, Jr.",
                    "Jennifer Elisabeth \"Jenny\" Thompson (-Cumpelik)",
                    "Mark Andrew Spitz",
                    "Matthew Nicholas \"Matt\" Biondi",
                    "Michael Fred Phelps, II",
                    "Natalie Anne Coughlin (-Hall)",
                    "Ryan Steven Lochte"
                  ],
                  "yaxis": "y"
                },
                {
                  "hovertemplate": "Medal=Bronze<br>Total Medals=%{x}<br>Athletes=%{y}<extra></extra>",
                  "legendgroup": "Bronze",
                  "marker": {
                    "color": "#CD7F32",
                    "pattern": {
                      "shape": ""
                    }
                  },
                  "name": "Bronze",
                  "orientation": "h",
                  "showlegend": true,
                  "textposition": "auto",
                  "type": "bar",
                  "x": {
                    "bdata": "BAYCAQEBAgUD",
                    "dtype": "i1"
                  },
                  "xaxis": "x",
                  "y": [
                    "Dara Grace Torres (-Hoffman, -Minas)",
                    "Franziska van Almsick",
                    "Gary Wayne Hall, Jr.",
                    "Jennifer Elisabeth \"Jenny\" Thompson (-Cumpelik)",
                    "Mark Andrew Spitz",
                    "Matthew Nicholas \"Matt\" Biondi",
                    "Michael Fred Phelps, II",
                    "Natalie Anne Coughlin (-Hall)",
                    "Ryan Steven Lochte"
                  ],
                  "yaxis": "y"
                }
              ],
              "layout": {
                "barmode": "relative",
                "legend": {
                  "title": {
                    "text": "Medal"
                  },
                  "tracegroupgap": 0
                },
                "showlegend": true,
                "template": {
                  "data": {
                    "bar": [
                      {
                        "error_x": {
                          "color": "#2a3f5f"
                        },
                        "error_y": {
                          "color": "#2a3f5f"
                        },
                        "marker": {
                          "line": {
                            "color": "white",
                            "width": 0.5
                          },
                          "pattern": {
                            "fillmode": "overlay",
                            "size": 10,
                            "solidity": 0.2
                          }
                        },
                        "type": "bar"
                      }
                    ],
                    "barpolar": [
                      {
                        "marker": {
                          "line": {
                            "color": "white",
                            "width": 0.5
                          },
                          "pattern": {
                            "fillmode": "overlay",
                            "size": 10,
                            "solidity": 0.2
                          }
                        },
                        "type": "barpolar"
                      }
                    ],
                    "carpet": [
                      {
                        "aaxis": {
                          "endlinecolor": "#2a3f5f",
                          "gridcolor": "#C8D4E3",
                          "linecolor": "#C8D4E3",
                          "minorgridcolor": "#C8D4E3",
                          "startlinecolor": "#2a3f5f"
                        },
                        "baxis": {
                          "endlinecolor": "#2a3f5f",
                          "gridcolor": "#C8D4E3",
                          "linecolor": "#C8D4E3",
                          "minorgridcolor": "#C8D4E3",
                          "startlinecolor": "#2a3f5f"
                        },
                        "type": "carpet"
                      }
                    ],
                    "choropleth": [
                      {
                        "colorbar": {
                          "outlinewidth": 0,
                          "ticks": ""
                        },
                        "type": "choropleth"
                      }
                    ],
                    "contour": [
                      {
                        "colorbar": {
                          "outlinewidth": 0,
                          "ticks": ""
                        },
                        "colorscale": [
                          [
                            0,
                            "#0d0887"
                          ],
                          [
                            0.1111111111111111,
                            "#46039f"
                          ],
                          [
                            0.2222222222222222,
                            "#7201a8"
                          ],
                          [
                            0.3333333333333333,
                            "#9c179e"
                          ],
                          [
                            0.4444444444444444,
                            "#bd3786"
                          ],
                          [
                            0.5555555555555556,
                            "#d8576b"
                          ],
                          [
                            0.6666666666666666,
                            "#ed7953"
                          ],
                          [
                            0.7777777777777778,
                            "#fb9f3a"
                          ],
                          [
                            0.8888888888888888,
                            "#fdca26"
                          ],
                          [
                            1,
                            "#f0f921"
                          ]
                        ],
                        "type": "contour"
                      }
                    ],
                    "contourcarpet": [
                      {
                        "colorbar": {
                          "outlinewidth": 0,
                          "ticks": ""
                        },
                        "type": "contourcarpet"
                      }
                    ],
                    "heatmap": [
                      {
                        "colorbar": {
                          "outlinewidth": 0,
                          "ticks": ""
                        },
                        "colorscale": [
                          [
                            0,
                            "#0d0887"
                          ],
                          [
                            0.1111111111111111,
                            "#46039f"
                          ],
                          [
                            0.2222222222222222,
                            "#7201a8"
                          ],
                          [
                            0.3333333333333333,
                            "#9c179e"
                          ],
                          [
                            0.4444444444444444,
                            "#bd3786"
                          ],
                          [
                            0.5555555555555556,
                            "#d8576b"
                          ],
                          [
                            0.6666666666666666,
                            "#ed7953"
                          ],
                          [
                            0.7777777777777778,
                            "#fb9f3a"
                          ],
                          [
                            0.8888888888888888,
                            "#fdca26"
                          ],
                          [
                            1,
                            "#f0f921"
                          ]
                        ],
                        "type": "heatmap"
                      }
                    ],
                    "histogram": [
                      {
                        "marker": {
                          "pattern": {
                            "fillmode": "overlay",
                            "size": 10,
                            "solidity": 0.2
                          }
                        },
                        "type": "histogram"
                      }
                    ],
                    "histogram2d": [
                      {
                        "colorbar": {
                          "outlinewidth": 0,
                          "ticks": ""
                        },
                        "colorscale": [
                          [
                            0,
                            "#0d0887"
                          ],
                          [
                            0.1111111111111111,
                            "#46039f"
                          ],
                          [
                            0.2222222222222222,
                            "#7201a8"
                          ],
                          [
                            0.3333333333333333,
                            "#9c179e"
                          ],
                          [
                            0.4444444444444444,
                            "#bd3786"
                          ],
                          [
                            0.5555555555555556,
                            "#d8576b"
                          ],
                          [
                            0.6666666666666666,
                            "#ed7953"
                          ],
                          [
                            0.7777777777777778,
                            "#fb9f3a"
                          ],
                          [
                            0.8888888888888888,
                            "#fdca26"
                          ],
                          [
                            1,
                            "#f0f921"
                          ]
                        ],
                        "type": "histogram2d"
                      }
                    ],
                    "histogram2dcontour": [
                      {
                        "colorbar": {
                          "outlinewidth": 0,
                          "ticks": ""
                        },
                        "colorscale": [
                          [
                            0,
                            "#0d0887"
                          ],
                          [
                            0.1111111111111111,
                            "#46039f"
                          ],
                          [
                            0.2222222222222222,
                            "#7201a8"
                          ],
                          [
                            0.3333333333333333,
                            "#9c179e"
                          ],
                          [
                            0.4444444444444444,
                            "#bd3786"
                          ],
                          [
                            0.5555555555555556,
                            "#d8576b"
                          ],
                          [
                            0.6666666666666666,
                            "#ed7953"
                          ],
                          [
                            0.7777777777777778,
                            "#fb9f3a"
                          ],
                          [
                            0.8888888888888888,
                            "#fdca26"
                          ],
                          [
                            1,
                            "#f0f921"
                          ]
                        ],
                        "type": "histogram2dcontour"
                      }
                    ],
                    "mesh3d": [
                      {
                        "colorbar": {
                          "outlinewidth": 0,
                          "ticks": ""
                        },
                        "type": "mesh3d"
                      }
                    ],
                    "parcoords": [
                      {
                        "line": {
                          "colorbar": {
                            "outlinewidth": 0,
                            "ticks": ""
                          }
                        },
                        "type": "parcoords"
                      }
                    ],
                    "pie": [
                      {
                        "automargin": true,
                        "type": "pie"
                      }
                    ],
                    "scatter": [
                      {
                        "fillpattern": {
                          "fillmode": "overlay",
                          "size": 10,
                          "solidity": 0.2
                        },
                        "type": "scatter"
                      }
                    ],
                    "scatter3d": [
                      {
                        "line": {
                          "colorbar": {
                            "outlinewidth": 0,
                            "ticks": ""
                          }
                        },
                        "marker": {
                          "colorbar": {
                            "outlinewidth": 0,
                            "ticks": ""
                          }
                        },
                        "type": "scatter3d"
                      }
                    ],
                    "scattercarpet": [
                      {
                        "marker": {
                          "colorbar": {
                            "outlinewidth": 0,
                            "ticks": ""
                          }
                        },
                        "type": "scattercarpet"
                      }
                    ],
                    "scattergeo": [
                      {
                        "marker": {
                          "colorbar": {
                            "outlinewidth": 0,
                            "ticks": ""
                          }
                        },
                        "type": "scattergeo"
                      }
                    ],
                    "scattergl": [
                      {
                        "marker": {
                          "colorbar": {
                            "outlinewidth": 0,
                            "ticks": ""
                          }
                        },
                        "type": "scattergl"
                      }
                    ],
                    "scattermap": [
                      {
                        "marker": {
                          "colorbar": {
                            "outlinewidth": 0,
                            "ticks": ""
                          }
                        },
                        "type": "scattermap"
                      }
                    ],
                    "scattermapbox": [
                      {
                        "marker": {
                          "colorbar": {
                            "outlinewidth": 0,
                            "ticks": ""
                          }
                        },
                        "type": "scattermapbox"
                      }
                    ],
                    "scatterpolar": [
                      {
                        "marker": {
                          "colorbar": {
                            "outlinewidth": 0,
                            "ticks": ""
                          }
                        },
                        "type": "scatterpolar"
                      }
                    ],
                    "scatterpolargl": [
                      {
                        "marker": {
                          "colorbar": {
                            "outlinewidth": 0,
                            "ticks": ""
                          }
                        },
                        "type": "scatterpolargl"
                      }
                    ],
                    "scatterternary": [
                      {
                        "marker": {
                          "colorbar": {
                            "outlinewidth": 0,
                            "ticks": ""
                          }
                        },
                        "type": "scatterternary"
                      }
                    ],
                    "surface": [
                      {
                        "colorbar": {
                          "outlinewidth": 0,
                          "ticks": ""
                        },
                        "colorscale": [
                          [
                            0,
                            "#0d0887"
                          ],
                          [
                            0.1111111111111111,
                            "#46039f"
                          ],
                          [
                            0.2222222222222222,
                            "#7201a8"
                          ],
                          [
                            0.3333333333333333,
                            "#9c179e"
                          ],
                          [
                            0.4444444444444444,
                            "#bd3786"
                          ],
                          [
                            0.5555555555555556,
                            "#d8576b"
                          ],
                          [
                            0.6666666666666666,
                            "#ed7953"
                          ],
                          [
                            0.7777777777777778,
                            "#fb9f3a"
                          ],
                          [
                            0.8888888888888888,
                            "#fdca26"
                          ],
                          [
                            1,
                            "#f0f921"
                          ]
                        ],
                        "type": "surface"
                      }
                    ],
                    "table": [
                      {
                        "cells": {
                          "fill": {
                            "color": "#EBF0F8"
                          },
                          "line": {
                            "color": "white"
                          }
                        },
                        "header": {
                          "fill": {
                            "color": "#C8D4E3"
                          },
                          "line": {
                            "color": "white"
                          }
                        },
                        "type": "table"
                      }
                    ]
                  },
                  "layout": {
                    "annotationdefaults": {
                      "arrowcolor": "#2a3f5f",
                      "arrowhead": 0,
                      "arrowwidth": 1
                    },
                    "autotypenumbers": "strict",
                    "coloraxis": {
                      "colorbar": {
                        "outlinewidth": 0,
                        "ticks": ""
                      }
                    },
                    "colorscale": {
                      "diverging": [
                        [
                          0,
                          "#8e0152"
                        ],
                        [
                          0.1,
                          "#c51b7d"
                        ],
                        [
                          0.2,
                          "#de77ae"
                        ],
                        [
                          0.3,
                          "#f1b6da"
                        ],
                        [
                          0.4,
                          "#fde0ef"
                        ],
                        [
                          0.5,
                          "#f7f7f7"
                        ],
                        [
                          0.6,
                          "#e6f5d0"
                        ],
                        [
                          0.7,
                          "#b8e186"
                        ],
                        [
                          0.8,
                          "#7fbc41"
                        ],
                        [
                          0.9,
                          "#4d9221"
                        ],
                        [
                          1,
                          "#276419"
                        ]
                      ],
                      "sequential": [
                        [
                          0,
                          "#0d0887"
                        ],
                        [
                          0.1111111111111111,
                          "#46039f"
                        ],
                        [
                          0.2222222222222222,
                          "#7201a8"
                        ],
                        [
                          0.3333333333333333,
                          "#9c179e"
                        ],
                        [
                          0.4444444444444444,
                          "#bd3786"
                        ],
                        [
                          0.5555555555555556,
                          "#d8576b"
                        ],
                        [
                          0.6666666666666666,
                          "#ed7953"
                        ],
                        [
                          0.7777777777777778,
                          "#fb9f3a"
                        ],
                        [
                          0.8888888888888888,
                          "#fdca26"
                        ],
                        [
                          1,
                          "#f0f921"
                        ]
                      ],
                      "sequentialminus": [
                        [
                          0,
                          "#0d0887"
                        ],
                        [
                          0.1111111111111111,
                          "#46039f"
                        ],
                        [
                          0.2222222222222222,
                          "#7201a8"
                        ],
                        [
                          0.3333333333333333,
                          "#9c179e"
                        ],
                        [
                          0.4444444444444444,
                          "#bd3786"
                        ],
                        [
                          0.5555555555555556,
                          "#d8576b"
                        ],
                        [
                          0.6666666666666666,
                          "#ed7953"
                        ],
                        [
                          0.7777777777777778,
                          "#fb9f3a"
                        ],
                        [
                          0.8888888888888888,
                          "#fdca26"
                        ],
                        [
                          1,
                          "#f0f921"
                        ]
                      ]
                    },
                    "colorway": [
                      "#636efa",
                      "#EF553B",
                      "#00cc96",
                      "#ab63fa",
                      "#FFA15A",
                      "#19d3f3",
                      "#FF6692",
                      "#B6E880",
                      "#FF97FF",
                      "#FECB52"
                    ],
                    "font": {
                      "color": "#2a3f5f"
                    },
                    "geo": {
                      "bgcolor": "white",
                      "lakecolor": "white",
                      "landcolor": "white",
                      "showlakes": true,
                      "showland": true,
                      "subunitcolor": "#C8D4E3"
                    },
                    "hoverlabel": {
                      "align": "left"
                    },
                    "hovermode": "closest",
                    "mapbox": {
                      "style": "light"
                    },
                    "paper_bgcolor": "white",
                    "plot_bgcolor": "white",
                    "polar": {
                      "angularaxis": {
                        "gridcolor": "#EBF0F8",
                        "linecolor": "#EBF0F8",
                        "ticks": ""
                      },
                      "bgcolor": "white",
                      "radialaxis": {
                        "gridcolor": "#EBF0F8",
                        "linecolor": "#EBF0F8",
                        "ticks": ""
                      }
                    },
                    "scene": {
                      "xaxis": {
                        "backgroundcolor": "white",
                        "gridcolor": "#DFE8F3",
                        "gridwidth": 2,
                        "linecolor": "#EBF0F8",
                        "showbackground": true,
                        "ticks": "",
                        "zerolinecolor": "#EBF0F8"
                      },
                      "yaxis": {
                        "backgroundcolor": "white",
                        "gridcolor": "#DFE8F3",
                        "gridwidth": 2,
                        "linecolor": "#EBF0F8",
                        "showbackground": true,
                        "ticks": "",
                        "zerolinecolor": "#EBF0F8"
                      },
                      "zaxis": {
                        "backgroundcolor": "white",
                        "gridcolor": "#DFE8F3",
                        "gridwidth": 2,
                        "linecolor": "#EBF0F8",
                        "showbackground": true,
                        "ticks": "",
                        "zerolinecolor": "#EBF0F8"
                      }
                    },
                    "shapedefaults": {
                      "line": {
                        "color": "#2a3f5f"
                      }
                    },
                    "ternary": {
                      "aaxis": {
                        "gridcolor": "#DFE8F3",
                        "linecolor": "#A2B1C6",
                        "ticks": ""
                      },
                      "baxis": {
                        "gridcolor": "#DFE8F3",
                        "linecolor": "#A2B1C6",
                        "ticks": ""
                      },
                      "bgcolor": "white",
                      "caxis": {
                        "gridcolor": "#DFE8F3",
                        "linecolor": "#A2B1C6",
                        "ticks": ""
                      }
                    },
                    "title": {
                      "x": 0.05
                    },
                    "xaxis": {
                      "automargin": true,
                      "gridcolor": "#EBF0F8",
                      "linecolor": "#EBF0F8",
                      "ticks": "",
                      "title": {
                        "standoff": 15
                      },
                      "zerolinecolor": "#EBF0F8",
                      "zerolinewidth": 2
                    },
                    "yaxis": {
                      "automargin": true,
                      "gridcolor": "#EBF0F8",
                      "linecolor": "#EBF0F8",
                      "ticks": "",
                      "title": {
                        "standoff": 15
                      },
                      "zerolinecolor": "#EBF0F8",
                      "zerolinewidth": 2
                    }
                  }
                },
                "title": {
                  "text": "Olympic Hall of Fame – Who Dominates the Pool?"
                },
                "xaxis": {
                  "anchor": "y",
                  "domain": [
                    0,
                    1
                  ],
                  "title": {
                    "text": "Total Medals"
                  }
                },
                "yaxis": {
                  "anchor": "x",
                  "categoryarray": [
                    "Michael Fred Phelps, II",
                    "Dara Grace Torres (-Hoffman, -Minas)",
                    "Jennifer Elisabeth \"Jenny\" Thompson (-Cumpelik)",
                    "Natalie Anne Coughlin (-Hall)",
                    "Ryan Steven Lochte",
                    "Mark Andrew Spitz",
                    "Matthew Nicholas \"Matt\" Biondi",
                    "Franziska van Almsick",
                    "Gary Wayne Hall, Jr.",
                    "Aleksandr Vladimirovich Popov"
                  ],
                  "categoryorder": "array",
                  "domain": [
                    0,
                    1
                  ],
                  "title": {
                    "text": ""
                  }
                }
              }
            }
          },
          "metadata": {},
          "output_type": "display_data"
        }
      ],
      "source": [
        "df = olympics_data[olympics_data[\"Sport\"] == \"Swimming\"].copy()\n",
        "df[\"Medal\"] = df[\"Medal\"].fillna(\"No Medal\")\n",
        "\n",
        "medal_counts = df[df[\"Medal\"] != \"No Medal\"].groupby([\"Name\", \"Medal\"]).size().reset_index(name=\"Count\")\n",
        "\n",
        "top_athletes = medal_counts.groupby(\"Name\")[\"Count\"].sum().nlargest(10)\n",
        "medal_counts = medal_counts[medal_counts[\"Name\"].isin(top_athletes.index)]\n",
        "medal_colors = {\"Gold\": \"#FFD700\", \"Silver\": \"#C0C0C0\", \"Bronze\": \"#CD7F32\"}\n",
        "\n",
        "ordered_athletes = top_athletes.index[::-1]\n",
        "\n",
        "# Stacked bar chart\n",
        "fig = px.bar(\n",
        "    medal_counts,\n",
        "    x=\"Count\",\n",
        "    y=\"Name\",\n",
        "    color=\"Medal\",\n",
        "    orientation=\"h\",\n",
        "    title=\"Olympic Hall of Fame – Who Dominates the Pool?\",\n",
        "    labels={\"Count\": \"Total Medals\", \"Name\": \"Athletes\"},\n",
        "    color_discrete_map=medal_colors,\n",
        "    category_orders={\"Name\": ordered_athletes}\n",
        ")\n",
        "\n",
        "fig.update_layout(\n",
        "    template=\"plotly_white\",\n",
        "    xaxis_title=\"Total Medals\",\n",
        "    yaxis_title=\"\",\n",
        "    showlegend=True\n",
        ")\n",
        "\n",
        "fig.show()"
      ]
    },
    {
      "cell_type": "markdown",
      "id": "uVxAyviZi7Xz",
      "metadata": {
        "id": "uVxAyviZi7Xz"
      },
      "source": [
        "# Pays"
      ]
    },
    {
      "cell_type": "code",
      "execution_count": 16,
      "id": "mzsm_84M08u6",
      "metadata": {
        "colab": {
          "base_uri": "https://localhost:8080/",
          "height": 417
        },
        "id": "mzsm_84M08u6",
        "outputId": "2cc0c018-e285-4143-88a2-538351e475bf"
      },
      "outputs": [
        {
          "data": {
            "application/vnd.plotly.v1+json": {
              "config": {
                "plotlyServerURL": "https://plot.ly"
              },
              "data": [
                {
                  "colorscale": [
                    [
                      0,
                      "#00ECC2"
                    ],
                    [
                      0.25,
                      "#0078FF"
                    ],
                    [
                      0.5,
                      "#cbe58e"
                    ],
                    [
                      0.75,
                      "#FF4359"
                    ],
                    [
                      1,
                      "rgba(170, 170, 170, 0.3)"
                    ]
                  ],
                  "customdata": [
                    [
                      "USA",
                      "USA",
                      "USA",
                      "USA",
                      "AUS",
                      "GER",
                      "Other",
                      "Other",
                      "Other",
                      "Other"
                    ],
                    [
                      "USA",
                      "USA",
                      "USA",
                      "USA",
                      "AUS",
                      "GER",
                      "Other",
                      "Other",
                      "Other",
                      "Other"
                    ],
                    [
                      "USA",
                      "USA",
                      "USA",
                      "USA",
                      "AUS",
                      "GER",
                      "Other",
                      "Other",
                      "Other",
                      "Other"
                    ],
                    [
                      "USA",
                      "USA",
                      "USA",
                      "USA",
                      "AUS",
                      "GER",
                      "Other",
                      "Other",
                      "Other",
                      "Other"
                    ],
                    [
                      "USA",
                      "USA",
                      "USA",
                      "USA",
                      "AUS",
                      "CAN",
                      "Other",
                      "Other",
                      "Other",
                      "Other"
                    ],
                    [
                      "USA",
                      "USA",
                      "USA",
                      "AUS",
                      "AUS",
                      "CAN",
                      "Other",
                      "Other",
                      "Other",
                      "Other"
                    ],
                    [
                      "USA",
                      "USA",
                      "USA",
                      "AUS",
                      "AUS",
                      "CAN",
                      "Other",
                      "Other",
                      "Other",
                      "Other"
                    ],
                    [
                      "USA",
                      "USA",
                      "USA",
                      "AUS",
                      "AUS",
                      "Other",
                      "Other",
                      "Other",
                      "Other",
                      "Other"
                    ],
                    [
                      "USA",
                      "USA",
                      "USA",
                      "AUS",
                      "AUS",
                      "Other",
                      "Other",
                      "Other",
                      "Other",
                      "Other"
                    ],
                    [
                      "USA",
                      "USA",
                      "USA",
                      "AUS",
                      "GER",
                      "Other",
                      "Other",
                      "Other",
                      "Other",
                      "Other"
                    ]
                  ],
                  "hovertemplate": "%{customdata}<extra></extra>",
                  "showscale": false,
                  "type": "heatmap",
                  "x": {
                    "bdata": "AAECAwQFBgcICQ==",
                    "dtype": "i1"
                  },
                  "xgap": 3,
                  "y": {
                    "bdata": "AAECAwQFBgcICQ==",
                    "dtype": "i1"
                  },
                  "ygap": 3,
                  "z": {
                    "bdata": "AQEBAQIDBQUFBQEBAQECAwUFBQUBAQEBAgMFBQUFAQEBAQIDBQUFBQEBAQECBAUFBQUBAQECAgQFBQUFAQEBAgIEBQUFBQEBAQICBQUFBQUBAQECAgUFBQUFAQEBAgMFBQUFBQ==",
                    "dtype": "i1",
                    "shape": "10, 10"
                  }
                },
                {
                  "marker": {
                    "color": "#00ECC2",
                    "size": 10,
                    "symbol": "circle"
                  },
                  "mode": "markers",
                  "name": "USA",
                  "type": "scatter",
                  "x": [
                    null
                  ],
                  "y": [
                    null
                  ]
                },
                {
                  "marker": {
                    "color": "#0078FF",
                    "size": 10,
                    "symbol": "circle"
                  },
                  "mode": "markers",
                  "name": "AUS",
                  "type": "scatter",
                  "x": [
                    null
                  ],
                  "y": [
                    null
                  ]
                },
                {
                  "marker": {
                    "color": "#cbe58e",
                    "size": 10,
                    "symbol": "circle"
                  },
                  "mode": "markers",
                  "name": "GER",
                  "type": "scatter",
                  "x": [
                    null
                  ],
                  "y": [
                    null
                  ]
                },
                {
                  "marker": {
                    "color": "#FF4359",
                    "size": 10,
                    "symbol": "circle"
                  },
                  "mode": "markers",
                  "name": "CAN",
                  "type": "scatter",
                  "x": [
                    null
                  ],
                  "y": [
                    null
                  ]
                },
                {
                  "marker": {
                    "color": "rgba(170, 170, 170, 0.3)",
                    "size": 10,
                    "symbol": "circle"
                  },
                  "mode": "markers",
                  "name": "Other",
                  "type": "scatter",
                  "x": [
                    null
                  ],
                  "y": [
                    null
                  ]
                }
              ],
              "layout": {
                "height": 400,
                "paper_bgcolor": "rgba(0,0,0,0)",
                "plot_bgcolor": "rgba(0,0,0,0)",
                "template": {
                  "data": {
                    "bar": [
                      {
                        "error_x": {
                          "color": "#2a3f5f"
                        },
                        "error_y": {
                          "color": "#2a3f5f"
                        },
                        "marker": {
                          "line": {
                            "color": "#E5ECF6",
                            "width": 0.5
                          },
                          "pattern": {
                            "fillmode": "overlay",
                            "size": 10,
                            "solidity": 0.2
                          }
                        },
                        "type": "bar"
                      }
                    ],
                    "barpolar": [
                      {
                        "marker": {
                          "line": {
                            "color": "#E5ECF6",
                            "width": 0.5
                          },
                          "pattern": {
                            "fillmode": "overlay",
                            "size": 10,
                            "solidity": 0.2
                          }
                        },
                        "type": "barpolar"
                      }
                    ],
                    "carpet": [
                      {
                        "aaxis": {
                          "endlinecolor": "#2a3f5f",
                          "gridcolor": "white",
                          "linecolor": "white",
                          "minorgridcolor": "white",
                          "startlinecolor": "#2a3f5f"
                        },
                        "baxis": {
                          "endlinecolor": "#2a3f5f",
                          "gridcolor": "white",
                          "linecolor": "white",
                          "minorgridcolor": "white",
                          "startlinecolor": "#2a3f5f"
                        },
                        "type": "carpet"
                      }
                    ],
                    "choropleth": [
                      {
                        "colorbar": {
                          "outlinewidth": 0,
                          "ticks": ""
                        },
                        "type": "choropleth"
                      }
                    ],
                    "contour": [
                      {
                        "colorbar": {
                          "outlinewidth": 0,
                          "ticks": ""
                        },
                        "colorscale": [
                          [
                            0,
                            "#0d0887"
                          ],
                          [
                            0.1111111111111111,
                            "#46039f"
                          ],
                          [
                            0.2222222222222222,
                            "#7201a8"
                          ],
                          [
                            0.3333333333333333,
                            "#9c179e"
                          ],
                          [
                            0.4444444444444444,
                            "#bd3786"
                          ],
                          [
                            0.5555555555555556,
                            "#d8576b"
                          ],
                          [
                            0.6666666666666666,
                            "#ed7953"
                          ],
                          [
                            0.7777777777777778,
                            "#fb9f3a"
                          ],
                          [
                            0.8888888888888888,
                            "#fdca26"
                          ],
                          [
                            1,
                            "#f0f921"
                          ]
                        ],
                        "type": "contour"
                      }
                    ],
                    "contourcarpet": [
                      {
                        "colorbar": {
                          "outlinewidth": 0,
                          "ticks": ""
                        },
                        "type": "contourcarpet"
                      }
                    ],
                    "heatmap": [
                      {
                        "colorbar": {
                          "outlinewidth": 0,
                          "ticks": ""
                        },
                        "colorscale": [
                          [
                            0,
                            "#0d0887"
                          ],
                          [
                            0.1111111111111111,
                            "#46039f"
                          ],
                          [
                            0.2222222222222222,
                            "#7201a8"
                          ],
                          [
                            0.3333333333333333,
                            "#9c179e"
                          ],
                          [
                            0.4444444444444444,
                            "#bd3786"
                          ],
                          [
                            0.5555555555555556,
                            "#d8576b"
                          ],
                          [
                            0.6666666666666666,
                            "#ed7953"
                          ],
                          [
                            0.7777777777777778,
                            "#fb9f3a"
                          ],
                          [
                            0.8888888888888888,
                            "#fdca26"
                          ],
                          [
                            1,
                            "#f0f921"
                          ]
                        ],
                        "type": "heatmap"
                      }
                    ],
                    "histogram": [
                      {
                        "marker": {
                          "pattern": {
                            "fillmode": "overlay",
                            "size": 10,
                            "solidity": 0.2
                          }
                        },
                        "type": "histogram"
                      }
                    ],
                    "histogram2d": [
                      {
                        "colorbar": {
                          "outlinewidth": 0,
                          "ticks": ""
                        },
                        "colorscale": [
                          [
                            0,
                            "#0d0887"
                          ],
                          [
                            0.1111111111111111,
                            "#46039f"
                          ],
                          [
                            0.2222222222222222,
                            "#7201a8"
                          ],
                          [
                            0.3333333333333333,
                            "#9c179e"
                          ],
                          [
                            0.4444444444444444,
                            "#bd3786"
                          ],
                          [
                            0.5555555555555556,
                            "#d8576b"
                          ],
                          [
                            0.6666666666666666,
                            "#ed7953"
                          ],
                          [
                            0.7777777777777778,
                            "#fb9f3a"
                          ],
                          [
                            0.8888888888888888,
                            "#fdca26"
                          ],
                          [
                            1,
                            "#f0f921"
                          ]
                        ],
                        "type": "histogram2d"
                      }
                    ],
                    "histogram2dcontour": [
                      {
                        "colorbar": {
                          "outlinewidth": 0,
                          "ticks": ""
                        },
                        "colorscale": [
                          [
                            0,
                            "#0d0887"
                          ],
                          [
                            0.1111111111111111,
                            "#46039f"
                          ],
                          [
                            0.2222222222222222,
                            "#7201a8"
                          ],
                          [
                            0.3333333333333333,
                            "#9c179e"
                          ],
                          [
                            0.4444444444444444,
                            "#bd3786"
                          ],
                          [
                            0.5555555555555556,
                            "#d8576b"
                          ],
                          [
                            0.6666666666666666,
                            "#ed7953"
                          ],
                          [
                            0.7777777777777778,
                            "#fb9f3a"
                          ],
                          [
                            0.8888888888888888,
                            "#fdca26"
                          ],
                          [
                            1,
                            "#f0f921"
                          ]
                        ],
                        "type": "histogram2dcontour"
                      }
                    ],
                    "mesh3d": [
                      {
                        "colorbar": {
                          "outlinewidth": 0,
                          "ticks": ""
                        },
                        "type": "mesh3d"
                      }
                    ],
                    "parcoords": [
                      {
                        "line": {
                          "colorbar": {
                            "outlinewidth": 0,
                            "ticks": ""
                          }
                        },
                        "type": "parcoords"
                      }
                    ],
                    "pie": [
                      {
                        "automargin": true,
                        "type": "pie"
                      }
                    ],
                    "scatter": [
                      {
                        "fillpattern": {
                          "fillmode": "overlay",
                          "size": 10,
                          "solidity": 0.2
                        },
                        "type": "scatter"
                      }
                    ],
                    "scatter3d": [
                      {
                        "line": {
                          "colorbar": {
                            "outlinewidth": 0,
                            "ticks": ""
                          }
                        },
                        "marker": {
                          "colorbar": {
                            "outlinewidth": 0,
                            "ticks": ""
                          }
                        },
                        "type": "scatter3d"
                      }
                    ],
                    "scattercarpet": [
                      {
                        "marker": {
                          "colorbar": {
                            "outlinewidth": 0,
                            "ticks": ""
                          }
                        },
                        "type": "scattercarpet"
                      }
                    ],
                    "scattergeo": [
                      {
                        "marker": {
                          "colorbar": {
                            "outlinewidth": 0,
                            "ticks": ""
                          }
                        },
                        "type": "scattergeo"
                      }
                    ],
                    "scattergl": [
                      {
                        "marker": {
                          "colorbar": {
                            "outlinewidth": 0,
                            "ticks": ""
                          }
                        },
                        "type": "scattergl"
                      }
                    ],
                    "scattermap": [
                      {
                        "marker": {
                          "colorbar": {
                            "outlinewidth": 0,
                            "ticks": ""
                          }
                        },
                        "type": "scattermap"
                      }
                    ],
                    "scattermapbox": [
                      {
                        "marker": {
                          "colorbar": {
                            "outlinewidth": 0,
                            "ticks": ""
                          }
                        },
                        "type": "scattermapbox"
                      }
                    ],
                    "scatterpolar": [
                      {
                        "marker": {
                          "colorbar": {
                            "outlinewidth": 0,
                            "ticks": ""
                          }
                        },
                        "type": "scatterpolar"
                      }
                    ],
                    "scatterpolargl": [
                      {
                        "marker": {
                          "colorbar": {
                            "outlinewidth": 0,
                            "ticks": ""
                          }
                        },
                        "type": "scatterpolargl"
                      }
                    ],
                    "scatterternary": [
                      {
                        "marker": {
                          "colorbar": {
                            "outlinewidth": 0,
                            "ticks": ""
                          }
                        },
                        "type": "scatterternary"
                      }
                    ],
                    "surface": [
                      {
                        "colorbar": {
                          "outlinewidth": 0,
                          "ticks": ""
                        },
                        "colorscale": [
                          [
                            0,
                            "#0d0887"
                          ],
                          [
                            0.1111111111111111,
                            "#46039f"
                          ],
                          [
                            0.2222222222222222,
                            "#7201a8"
                          ],
                          [
                            0.3333333333333333,
                            "#9c179e"
                          ],
                          [
                            0.4444444444444444,
                            "#bd3786"
                          ],
                          [
                            0.5555555555555556,
                            "#d8576b"
                          ],
                          [
                            0.6666666666666666,
                            "#ed7953"
                          ],
                          [
                            0.7777777777777778,
                            "#fb9f3a"
                          ],
                          [
                            0.8888888888888888,
                            "#fdca26"
                          ],
                          [
                            1,
                            "#f0f921"
                          ]
                        ],
                        "type": "surface"
                      }
                    ],
                    "table": [
                      {
                        "cells": {
                          "fill": {
                            "color": "#EBF0F8"
                          },
                          "line": {
                            "color": "white"
                          }
                        },
                        "header": {
                          "fill": {
                            "color": "#C8D4E3"
                          },
                          "line": {
                            "color": "white"
                          }
                        },
                        "type": "table"
                      }
                    ]
                  },
                  "layout": {
                    "annotationdefaults": {
                      "arrowcolor": "#2a3f5f",
                      "arrowhead": 0,
                      "arrowwidth": 1
                    },
                    "autotypenumbers": "strict",
                    "coloraxis": {
                      "colorbar": {
                        "outlinewidth": 0,
                        "ticks": ""
                      }
                    },
                    "colorscale": {
                      "diverging": [
                        [
                          0,
                          "#8e0152"
                        ],
                        [
                          0.1,
                          "#c51b7d"
                        ],
                        [
                          0.2,
                          "#de77ae"
                        ],
                        [
                          0.3,
                          "#f1b6da"
                        ],
                        [
                          0.4,
                          "#fde0ef"
                        ],
                        [
                          0.5,
                          "#f7f7f7"
                        ],
                        [
                          0.6,
                          "#e6f5d0"
                        ],
                        [
                          0.7,
                          "#b8e186"
                        ],
                        [
                          0.8,
                          "#7fbc41"
                        ],
                        [
                          0.9,
                          "#4d9221"
                        ],
                        [
                          1,
                          "#276419"
                        ]
                      ],
                      "sequential": [
                        [
                          0,
                          "#0d0887"
                        ],
                        [
                          0.1111111111111111,
                          "#46039f"
                        ],
                        [
                          0.2222222222222222,
                          "#7201a8"
                        ],
                        [
                          0.3333333333333333,
                          "#9c179e"
                        ],
                        [
                          0.4444444444444444,
                          "#bd3786"
                        ],
                        [
                          0.5555555555555556,
                          "#d8576b"
                        ],
                        [
                          0.6666666666666666,
                          "#ed7953"
                        ],
                        [
                          0.7777777777777778,
                          "#fb9f3a"
                        ],
                        [
                          0.8888888888888888,
                          "#fdca26"
                        ],
                        [
                          1,
                          "#f0f921"
                        ]
                      ],
                      "sequentialminus": [
                        [
                          0,
                          "#0d0887"
                        ],
                        [
                          0.1111111111111111,
                          "#46039f"
                        ],
                        [
                          0.2222222222222222,
                          "#7201a8"
                        ],
                        [
                          0.3333333333333333,
                          "#9c179e"
                        ],
                        [
                          0.4444444444444444,
                          "#bd3786"
                        ],
                        [
                          0.5555555555555556,
                          "#d8576b"
                        ],
                        [
                          0.6666666666666666,
                          "#ed7953"
                        ],
                        [
                          0.7777777777777778,
                          "#fb9f3a"
                        ],
                        [
                          0.8888888888888888,
                          "#fdca26"
                        ],
                        [
                          1,
                          "#f0f921"
                        ]
                      ]
                    },
                    "colorway": [
                      "#636efa",
                      "#EF553B",
                      "#00cc96",
                      "#ab63fa",
                      "#FFA15A",
                      "#19d3f3",
                      "#FF6692",
                      "#B6E880",
                      "#FF97FF",
                      "#FECB52"
                    ],
                    "font": {
                      "color": "#2a3f5f"
                    },
                    "geo": {
                      "bgcolor": "white",
                      "lakecolor": "white",
                      "landcolor": "#E5ECF6",
                      "showlakes": true,
                      "showland": true,
                      "subunitcolor": "white"
                    },
                    "hoverlabel": {
                      "align": "left"
                    },
                    "hovermode": "closest",
                    "mapbox": {
                      "style": "light"
                    },
                    "paper_bgcolor": "white",
                    "plot_bgcolor": "#E5ECF6",
                    "polar": {
                      "angularaxis": {
                        "gridcolor": "white",
                        "linecolor": "white",
                        "ticks": ""
                      },
                      "bgcolor": "#E5ECF6",
                      "radialaxis": {
                        "gridcolor": "white",
                        "linecolor": "white",
                        "ticks": ""
                      }
                    },
                    "scene": {
                      "xaxis": {
                        "backgroundcolor": "#E5ECF6",
                        "gridcolor": "white",
                        "gridwidth": 2,
                        "linecolor": "white",
                        "showbackground": true,
                        "ticks": "",
                        "zerolinecolor": "white"
                      },
                      "yaxis": {
                        "backgroundcolor": "#E5ECF6",
                        "gridcolor": "white",
                        "gridwidth": 2,
                        "linecolor": "white",
                        "showbackground": true,
                        "ticks": "",
                        "zerolinecolor": "white"
                      },
                      "zaxis": {
                        "backgroundcolor": "#E5ECF6",
                        "gridcolor": "white",
                        "gridwidth": 2,
                        "linecolor": "white",
                        "showbackground": true,
                        "ticks": "",
                        "zerolinecolor": "white"
                      }
                    },
                    "shapedefaults": {
                      "line": {
                        "color": "#2a3f5f"
                      }
                    },
                    "ternary": {
                      "aaxis": {
                        "gridcolor": "white",
                        "linecolor": "white",
                        "ticks": ""
                      },
                      "baxis": {
                        "gridcolor": "white",
                        "linecolor": "white",
                        "ticks": ""
                      },
                      "bgcolor": "#E5ECF6",
                      "caxis": {
                        "gridcolor": "white",
                        "linecolor": "white",
                        "ticks": ""
                      }
                    },
                    "title": {
                      "x": 0.05
                    },
                    "xaxis": {
                      "automargin": true,
                      "gridcolor": "white",
                      "linecolor": "white",
                      "ticks": "",
                      "title": {
                        "standoff": 15
                      },
                      "zerolinecolor": "white",
                      "zerolinewidth": 2
                    },
                    "yaxis": {
                      "automargin": true,
                      "gridcolor": "white",
                      "linecolor": "white",
                      "ticks": "",
                      "title": {
                        "standoff": 15
                      },
                      "zerolinecolor": "white",
                      "zerolinewidth": 2
                    }
                  }
                },
                "title": {
                  "text": "Swimming Medals – All Editions"
                },
                "width": 400,
                "xaxis": {
                  "showgrid": false,
                  "showticklabels": false,
                  "zeroline": false
                },
                "yaxis": {
                  "showgrid": false,
                  "showticklabels": false,
                  "zeroline": false
                }
              }
            }
          },
          "metadata": {},
          "output_type": "display_data"
        }
      ],
      "source": [
        "df_medals = olympics_data[olympics_data[\"Sport\"] == \"Swimming\"]\n",
        "df_medals = df_medals[df_medals[\"Medal\"].notna()]\n",
        "total_medal_counts = df_medals[\"NOC\"].value_counts()\n",
        "\n",
        "# Select Top 3 countries + Canada (athlete's country) + \"Other\"\n",
        "top_countries = total_medal_counts.head(3).index.tolist() + ['CAN']\n",
        "\n",
        "df_grouped = df_medals[\"NOC\"].value_counts().reset_index()\n",
        "df_grouped.columns = [\"Country\", \"Medals\"]\n",
        "df_grouped[\"Country\"] = df_grouped[\"Country\"].apply(lambda x: x if x in top_countries else \"Other\")\n",
        "\n",
        "df_grouped = df_grouped.groupby(\"Country\")[\"Medals\"].sum().reset_index()\n",
        "\n",
        "df_grouped = df_grouped.sort_values(by=\"Medals\", ascending=False)\n",
        "if \"Other\" in df_grouped[\"Country\"].values:\n",
        "    df_grouped = pd.concat([\n",
        "        df_grouped[df_grouped[\"Country\"] != \"Other\"],\n",
        "        df_grouped[df_grouped[\"Country\"] == \"Other\"]\n",
        "    ])\n",
        "\n",
        "df_grouped[\"Normalized\"] = (df_grouped[\"Medals\"] / df_grouped[\"Medals\"].sum() * 100).round().astype(int)\n",
        "\n",
        "while df_grouped[\"Normalized\"].sum() > 100:\n",
        "    df_grouped.loc[df_grouped[\"Normalized\"].idxmax(), \"Normalized\"] -= 1\n",
        "while df_grouped[\"Normalized\"].sum() < 100:\n",
        "    df_grouped.loc[df_grouped[\"Normalized\"].idxmax(), \"Normalized\"] += 1\n",
        "\n",
        "country_mapping = {country: i + 1 for i, country in enumerate(df_grouped[\"Country\"])}\n",
        "\n",
        "flat_list = []\n",
        "for country, count in zip(df_grouped[\"Country\"], df_grouped[\"Normalized\"]):\n",
        "    flat_list.extend([country_mapping[country]] * count)\n",
        "\n",
        "waffle_array = np.array(flat_list).reshape(10, 10, order=\"F\")\n",
        "\n",
        "label_map = {v: k for k, v in country_mapping.items()}\n",
        "labels = np.vectorize(label_map.get)(waffle_array)\n",
        "\n",
        "color_palette = [\"#00ECC2\", \"#0078FF\", \"#cbe58e\", \"#FF4359\"]\n",
        "country_colors = {country: color_palette[i] for i, country in enumerate(top_countries)}\n",
        "country_colors[\"Other\"] = \"rgba(170, 170, 170, 0.3)\"  # gray for others\n",
        "\n",
        "# Waffle chart\n",
        "fig = go.Figure()\n",
        "\n",
        "fig.add_trace(\n",
        "    go.Heatmap(\n",
        "        x=np.arange(10), y=np.arange(10),\n",
        "        z=waffle_array, customdata=labels,\n",
        "        xgap=3, ygap=3,\n",
        "        colorscale=[(i / 4, color_palette[i]) for i in range(4)] + [(1.0, \"rgba(170, 170, 170, 0.3)\")],\n",
        "        showscale=False,\n",
        "        hovertemplate=\"%{customdata}<extra></extra>\"\n",
        "    )\n",
        ")\n",
        "\n",
        "for country, color in country_colors.items():\n",
        "    fig.add_trace(\n",
        "        go.Scatter(\n",
        "            x=[None], y=[None], mode='markers',\n",
        "            marker=dict(color=color, symbol='circle', size=10),\n",
        "            name=country\n",
        "        )\n",
        "    )\n",
        "\n",
        "fig.update_layout(\n",
        "    title=\"Swimming Medals – All Editions\",\n",
        "    width=400, height=400,\n",
        "    plot_bgcolor='rgba(0,0,0,0)',\n",
        "    paper_bgcolor='rgba(0,0,0,0)',\n",
        ")\n",
        "\n",
        "fig.update_xaxes(showgrid=False, zeroline=False, showticklabels=False)\n",
        "fig.update_yaxes(showgrid=False, zeroline=False, showticklabels=False)\n",
        "\n",
        "fig.show()"
      ]
    },
    {
      "cell_type": "code",
      "execution_count": 17,
      "id": "OqLiIbaytEoC",
      "metadata": {
        "colab": {
          "base_uri": "https://localhost:8080/",
          "height": 472
        },
        "id": "OqLiIbaytEoC",
        "outputId": "1ca19b21-fd48-4ce3-8dd6-1f5eafdcf3c6"
      },
      "outputs": [
        {
          "name": "stdout",
          "output_type": "stream",
          "text": [
            "['USA', 'AUS', 'GER', 'CAN']\n",
            "{'USA': '#00ECC2', 'AUS': '#0078FF', 'GER': '#cbe58e', 'CAN': '#FF4359'}\n"
          ]
        },
        {
          "data": {
            "application/vnd.plotly.v1+json": {
              "config": {
                "plotlyServerURL": "https://plot.ly"
              },
              "data": [
                {
                  "colorscale": [
                    [
                      0,
                      "#00ECC2"
                    ],
                    [
                      0.25,
                      "#0078FF"
                    ],
                    [
                      0.5,
                      "#cbe58e"
                    ],
                    [
                      0.75,
                      "#FF4359"
                    ],
                    [
                      1,
                      "rgba(170, 170, 170, 0.3)"
                    ]
                  ],
                  "customdata": [
                    [
                      "USA",
                      "USA",
                      "USA",
                      "GER",
                      "AUS",
                      "Other",
                      "Other",
                      "Other",
                      "Other",
                      "Other"
                    ],
                    [
                      "USA",
                      "USA",
                      "USA",
                      "GER",
                      "AUS",
                      "Other",
                      "Other",
                      "Other",
                      "Other",
                      "Other"
                    ],
                    [
                      "USA",
                      "USA",
                      "USA",
                      "GER",
                      "AUS",
                      "Other",
                      "Other",
                      "Other",
                      "Other",
                      "Other"
                    ],
                    [
                      "USA",
                      "USA",
                      "USA",
                      "GER",
                      "AUS",
                      "Other",
                      "Other",
                      "Other",
                      "Other",
                      "Other"
                    ],
                    [
                      "USA",
                      "USA",
                      "USA",
                      "GER",
                      "AUS",
                      "Other",
                      "Other",
                      "Other",
                      "Other",
                      "Other"
                    ],
                    [
                      "USA",
                      "USA",
                      "USA",
                      "GER",
                      "CAN",
                      "Other",
                      "Other",
                      "Other",
                      "Other",
                      "Other"
                    ],
                    [
                      "USA",
                      "USA",
                      "GER",
                      "GER",
                      "CAN",
                      "Other",
                      "Other",
                      "Other",
                      "Other",
                      "Other"
                    ],
                    [
                      "USA",
                      "USA",
                      "GER",
                      "GER",
                      "Other",
                      "Other",
                      "Other",
                      "Other",
                      "Other",
                      "Other"
                    ],
                    [
                      "USA",
                      "USA",
                      "GER",
                      "GER",
                      "Other",
                      "Other",
                      "Other",
                      "Other",
                      "Other",
                      "Other"
                    ],
                    [
                      "USA",
                      "USA",
                      "GER",
                      "AUS",
                      "Other",
                      "Other",
                      "Other",
                      "Other",
                      "Other",
                      "Other"
                    ]
                  ],
                  "hovertemplate": "%{customdata}<extra></extra>",
                  "showscale": false,
                  "type": "heatmap",
                  "x": {
                    "bdata": "AAECAwQFBgcICQ==",
                    "dtype": "i1"
                  },
                  "xaxis": "x",
                  "xgap": 3,
                  "y": {
                    "bdata": "AAECAwQFBgcICQ==",
                    "dtype": "i1"
                  },
                  "yaxis": "y",
                  "ygap": 3,
                  "z": {
                    "bdata": "AQEBAgMFBQUFBQEBAQIDBQUFBQUBAQECAwUFBQUFAQEBAgMFBQUFBQEBAQIDBQUFBQUBAQECBAUFBQUFAQECAgQFBQUFBQEBAgIFBQUFBQUBAQICBQUFBQUFAQECAwUFBQUFBQ==",
                    "dtype": "i1",
                    "shape": "10, 10"
                  }
                },
                {
                  "colorscale": [
                    [
                      0,
                      "#00ECC2"
                    ],
                    [
                      0.25,
                      "#0078FF"
                    ],
                    [
                      0.5,
                      "#cbe58e"
                    ],
                    [
                      0.75,
                      "#FF4359"
                    ],
                    [
                      1,
                      "rgba(170, 170, 170, 0.3)"
                    ]
                  ],
                  "customdata": [
                    [
                      "USA",
                      "USA",
                      "USA",
                      "USA",
                      "AUS",
                      "Other",
                      "Other",
                      "Other",
                      "Other",
                      "Other"
                    ],
                    [
                      "USA",
                      "USA",
                      "USA",
                      "USA",
                      "AUS",
                      "Other",
                      "Other",
                      "Other",
                      "Other",
                      "Other"
                    ],
                    [
                      "USA",
                      "USA",
                      "USA",
                      "USA",
                      "AUS",
                      "Other",
                      "Other",
                      "Other",
                      "Other",
                      "Other"
                    ],
                    [
                      "USA",
                      "USA",
                      "USA",
                      "USA",
                      "GER",
                      "Other",
                      "Other",
                      "Other",
                      "Other",
                      "Other"
                    ],
                    [
                      "USA",
                      "USA",
                      "USA",
                      "USA",
                      "GER",
                      "Other",
                      "Other",
                      "Other",
                      "Other",
                      "Other"
                    ],
                    [
                      "USA",
                      "USA",
                      "USA",
                      "USA",
                      "GER",
                      "Other",
                      "Other",
                      "Other",
                      "Other",
                      "Other"
                    ],
                    [
                      "USA",
                      "USA",
                      "USA",
                      "USA",
                      "GER",
                      "Other",
                      "Other",
                      "Other",
                      "Other",
                      "Other"
                    ],
                    [
                      "USA",
                      "USA",
                      "USA",
                      "USA",
                      "CAN",
                      "Other",
                      "Other",
                      "Other",
                      "Other",
                      "Other"
                    ],
                    [
                      "USA",
                      "USA",
                      "USA",
                      "AUS",
                      "Other",
                      "Other",
                      "Other",
                      "Other",
                      "Other",
                      "Other"
                    ],
                    [
                      "USA",
                      "USA",
                      "USA",
                      "AUS",
                      "Other",
                      "Other",
                      "Other",
                      "Other",
                      "Other",
                      "Other"
                    ]
                  ],
                  "hovertemplate": "%{customdata}<extra></extra>",
                  "showscale": false,
                  "type": "heatmap",
                  "x": {
                    "bdata": "AAECAwQFBgcICQ==",
                    "dtype": "i1"
                  },
                  "xaxis": "x2",
                  "xgap": 3,
                  "y": {
                    "bdata": "AAECAwQFBgcICQ==",
                    "dtype": "i1"
                  },
                  "yaxis": "y2",
                  "ygap": 3,
                  "z": {
                    "bdata": "AQEBAQIFBQUFBQEBAQECBQUFBQUBAQEBAgUFBQUFAQEBAQMFBQUFBQEBAQEDBQUFBQUBAQEBAwUFBQUFAQEBAQMFBQUFBQEBAQEEBQUFBQUBAQECBQUFBQUFAQEBAgUFBQUFBQ==",
                    "dtype": "i1",
                    "shape": "10, 10"
                  }
                },
                {
                  "colorscale": [
                    [
                      0,
                      "#00ECC2"
                    ],
                    [
                      0.25,
                      "#0078FF"
                    ],
                    [
                      0.5,
                      "#cbe58e"
                    ],
                    [
                      0.75,
                      "#FF4359"
                    ],
                    [
                      1,
                      "rgba(170, 170, 170, 0.3)"
                    ]
                  ],
                  "customdata": [
                    [
                      "USA",
                      "USA",
                      "USA",
                      "USA",
                      "AUS",
                      "AUS",
                      "GER",
                      "Other",
                      "Other",
                      "Other"
                    ],
                    [
                      "USA",
                      "USA",
                      "USA",
                      "USA",
                      "AUS",
                      "AUS",
                      "Other",
                      "Other",
                      "Other",
                      "Other"
                    ],
                    [
                      "USA",
                      "USA",
                      "USA",
                      "USA",
                      "AUS",
                      "AUS",
                      "Other",
                      "Other",
                      "Other",
                      "Other"
                    ],
                    [
                      "USA",
                      "USA",
                      "USA",
                      "USA",
                      "AUS",
                      "CAN",
                      "Other",
                      "Other",
                      "Other",
                      "Other"
                    ],
                    [
                      "USA",
                      "USA",
                      "USA",
                      "USA",
                      "AUS",
                      "CAN",
                      "Other",
                      "Other",
                      "Other",
                      "Other"
                    ],
                    [
                      "USA",
                      "USA",
                      "USA",
                      "USA",
                      "AUS",
                      "CAN",
                      "Other",
                      "Other",
                      "Other",
                      "Other"
                    ],
                    [
                      "USA",
                      "USA",
                      "USA",
                      "USA",
                      "AUS",
                      "CAN",
                      "Other",
                      "Other",
                      "Other",
                      "Other"
                    ],
                    [
                      "USA",
                      "USA",
                      "USA",
                      "USA",
                      "AUS",
                      "CAN",
                      "Other",
                      "Other",
                      "Other",
                      "Other"
                    ],
                    [
                      "USA",
                      "USA",
                      "USA",
                      "USA",
                      "AUS",
                      "GER",
                      "Other",
                      "Other",
                      "Other",
                      "Other"
                    ],
                    [
                      "USA",
                      "USA",
                      "USA",
                      "AUS",
                      "AUS",
                      "GER",
                      "Other",
                      "Other",
                      "Other",
                      "Other"
                    ]
                  ],
                  "hovertemplate": "%{customdata}<extra></extra>",
                  "showscale": false,
                  "type": "heatmap",
                  "x": {
                    "bdata": "AAECAwQFBgcICQ==",
                    "dtype": "i1"
                  },
                  "xaxis": "x3",
                  "xgap": 3,
                  "y": {
                    "bdata": "AAECAwQFBgcICQ==",
                    "dtype": "i1"
                  },
                  "yaxis": "y3",
                  "ygap": 3,
                  "z": {
                    "bdata": "AQEBAQICBAUFBQEBAQECAgUFBQUBAQEBAgIFBQUFAQEBAQIDBQUFBQEBAQECAwUFBQUBAQEBAgMFBQUFAQEBAQIDBQUFBQEBAQECAwUFBQUBAQEBAgQFBQUFAQEBAgIEBQUFBQ==",
                    "dtype": "i1",
                    "shape": "10, 10"
                  }
                },
                {
                  "colorscale": [
                    [
                      0,
                      "#00ECC2"
                    ],
                    [
                      0.25,
                      "#0078FF"
                    ],
                    [
                      0.5,
                      "#cbe58e"
                    ],
                    [
                      0.75,
                      "#FF4359"
                    ],
                    [
                      1,
                      "rgba(170, 170, 170, 0.3)"
                    ]
                  ],
                  "customdata": [
                    [
                      "USA",
                      "USA",
                      "USA",
                      "USA",
                      "AUS",
                      "GER",
                      "Other",
                      "Other",
                      "Other",
                      "Other"
                    ],
                    [
                      "USA",
                      "USA",
                      "USA",
                      "USA",
                      "AUS",
                      "GER",
                      "Other",
                      "Other",
                      "Other",
                      "Other"
                    ],
                    [
                      "USA",
                      "USA",
                      "USA",
                      "USA",
                      "AUS",
                      "GER",
                      "Other",
                      "Other",
                      "Other",
                      "Other"
                    ],
                    [
                      "USA",
                      "USA",
                      "USA",
                      "AUS",
                      "AUS",
                      "GER",
                      "Other",
                      "Other",
                      "Other",
                      "Other"
                    ],
                    [
                      "USA",
                      "USA",
                      "USA",
                      "AUS",
                      "AUS",
                      "GER",
                      "Other",
                      "Other",
                      "Other",
                      "Other"
                    ],
                    [
                      "USA",
                      "USA",
                      "USA",
                      "AUS",
                      "AUS",
                      "GER",
                      "Other",
                      "Other",
                      "Other",
                      "Other"
                    ],
                    [
                      "USA",
                      "USA",
                      "USA",
                      "AUS",
                      "AUS",
                      "CAN",
                      "Other",
                      "Other",
                      "Other",
                      "Other"
                    ],
                    [
                      "USA",
                      "USA",
                      "USA",
                      "AUS",
                      "AUS",
                      "CAN",
                      "Other",
                      "Other",
                      "Other",
                      "Other"
                    ],
                    [
                      "USA",
                      "USA",
                      "USA",
                      "AUS",
                      "GER",
                      "Other",
                      "Other",
                      "Other",
                      "Other",
                      "Other"
                    ],
                    [
                      "USA",
                      "USA",
                      "USA",
                      "AUS",
                      "GER",
                      "Other",
                      "Other",
                      "Other",
                      "Other",
                      "Other"
                    ]
                  ],
                  "hovertemplate": "%{customdata}<extra></extra>",
                  "showscale": false,
                  "type": "heatmap",
                  "x": {
                    "bdata": "AAECAwQFBgcICQ==",
                    "dtype": "i1"
                  },
                  "xaxis": "x4",
                  "xgap": 3,
                  "y": {
                    "bdata": "AAECAwQFBgcICQ==",
                    "dtype": "i1"
                  },
                  "yaxis": "y4",
                  "ygap": 3,
                  "z": {
                    "bdata": "AQEBAQIDBQUFBQEBAQECAwUFBQUBAQEBAgMFBQUFAQEBAgIDBQUFBQEBAQICAwUFBQUBAQECAgMFBQUFAQEBAgIEBQUFBQEBAQICBAUFBQUBAQECAwUFBQUFAQEBAgMFBQUFBQ==",
                    "dtype": "i1",
                    "shape": "10, 10"
                  }
                },
                {
                  "colorscale": [
                    [
                      0,
                      "#00ECC2"
                    ],
                    [
                      0.25,
                      "#0078FF"
                    ],
                    [
                      0.5,
                      "#cbe58e"
                    ],
                    [
                      0.75,
                      "#FF4359"
                    ],
                    [
                      1,
                      "rgba(170, 170, 170, 0.3)"
                    ]
                  ],
                  "customdata": [
                    [
                      "USA",
                      "USA",
                      "USA",
                      "USA",
                      "AUS",
                      "AUS",
                      "Other",
                      "Other",
                      "Other",
                      "Other"
                    ],
                    [
                      "USA",
                      "USA",
                      "USA",
                      "USA",
                      "AUS",
                      "AUS",
                      "Other",
                      "Other",
                      "Other",
                      "Other"
                    ],
                    [
                      "USA",
                      "USA",
                      "USA",
                      "USA",
                      "AUS",
                      "AUS",
                      "Other",
                      "Other",
                      "Other",
                      "Other"
                    ],
                    [
                      "USA",
                      "USA",
                      "USA",
                      "AUS",
                      "AUS",
                      "CAN",
                      "Other",
                      "Other",
                      "Other",
                      "Other"
                    ],
                    [
                      "USA",
                      "USA",
                      "USA",
                      "AUS",
                      "AUS",
                      "CAN",
                      "Other",
                      "Other",
                      "Other",
                      "Other"
                    ],
                    [
                      "USA",
                      "USA",
                      "USA",
                      "AUS",
                      "AUS",
                      "CAN",
                      "Other",
                      "Other",
                      "Other",
                      "Other"
                    ],
                    [
                      "USA",
                      "USA",
                      "USA",
                      "AUS",
                      "AUS",
                      "CAN",
                      "Other",
                      "Other",
                      "Other",
                      "Other"
                    ],
                    [
                      "USA",
                      "USA",
                      "USA",
                      "AUS",
                      "AUS",
                      "CAN",
                      "Other",
                      "Other",
                      "Other",
                      "Other"
                    ],
                    [
                      "USA",
                      "USA",
                      "USA",
                      "AUS",
                      "AUS",
                      "CAN",
                      "Other",
                      "Other",
                      "Other",
                      "Other"
                    ],
                    [
                      "USA",
                      "USA",
                      "USA",
                      "AUS",
                      "AUS",
                      "GER",
                      "Other",
                      "Other",
                      "Other",
                      "Other"
                    ]
                  ],
                  "hovertemplate": "%{customdata}<extra></extra>",
                  "showscale": false,
                  "type": "heatmap",
                  "x": {
                    "bdata": "AAECAwQFBgcICQ==",
                    "dtype": "i1"
                  },
                  "xaxis": "x5",
                  "xgap": 3,
                  "y": {
                    "bdata": "AAECAwQFBgcICQ==",
                    "dtype": "i1"
                  },
                  "yaxis": "y5",
                  "ygap": 3,
                  "z": {
                    "bdata": "AQEBAQICBQUFBQEBAQECAgUFBQUBAQEBAgIFBQUFAQEBAgIDBQUFBQEBAQICAwUFBQUBAQECAgMFBQUFAQEBAgIDBQUFBQEBAQICAwUFBQUBAQECAgMFBQUFAQEBAgIEBQUFBQ==",
                    "dtype": "i1",
                    "shape": "10, 10"
                  }
                },
                {
                  "marker": {
                    "color": "#00ECC2",
                    "size": 10,
                    "symbol": "circle"
                  },
                  "mode": "markers",
                  "name": "USA",
                  "type": "scatter",
                  "x": [
                    null
                  ],
                  "y": [
                    null
                  ]
                },
                {
                  "marker": {
                    "color": "#0078FF",
                    "size": 10,
                    "symbol": "circle"
                  },
                  "mode": "markers",
                  "name": "AUS",
                  "type": "scatter",
                  "x": [
                    null
                  ],
                  "y": [
                    null
                  ]
                },
                {
                  "marker": {
                    "color": "#cbe58e",
                    "size": 10,
                    "symbol": "circle"
                  },
                  "mode": "markers",
                  "name": "GER",
                  "type": "scatter",
                  "x": [
                    null
                  ],
                  "y": [
                    null
                  ]
                },
                {
                  "marker": {
                    "color": "#FF4359",
                    "size": 10,
                    "symbol": "circle"
                  },
                  "mode": "markers",
                  "name": "CAN",
                  "type": "scatter",
                  "x": [
                    null
                  ],
                  "y": [
                    null
                  ]
                },
                {
                  "marker": {
                    "color": "rgba(170, 170, 170, 0.3)",
                    "size": 10,
                    "symbol": "circle"
                  },
                  "mode": "markers",
                  "name": "Other",
                  "type": "scatter",
                  "x": [
                    null
                  ],
                  "y": [
                    null
                  ]
                }
              ],
              "layout": {
                "annotations": [
                  {
                    "font": {
                      "size": 16
                    },
                    "showarrow": false,
                    "text": "1896-1920",
                    "x": 0.08399999999999999,
                    "xanchor": "center",
                    "xref": "paper",
                    "y": 1,
                    "yanchor": "bottom",
                    "yref": "paper"
                  },
                  {
                    "font": {
                      "size": 16
                    },
                    "showarrow": false,
                    "text": "1924-1952",
                    "x": 0.292,
                    "xanchor": "center",
                    "xref": "paper",
                    "y": 1,
                    "yanchor": "bottom",
                    "yref": "paper"
                  },
                  {
                    "font": {
                      "size": 16
                    },
                    "showarrow": false,
                    "text": "1956-1984",
                    "x": 0.5,
                    "xanchor": "center",
                    "xref": "paper",
                    "y": 1,
                    "yanchor": "bottom",
                    "yref": "paper"
                  },
                  {
                    "font": {
                      "size": 16
                    },
                    "showarrow": false,
                    "text": "1988-2008",
                    "x": 0.708,
                    "xanchor": "center",
                    "xref": "paper",
                    "y": 1,
                    "yanchor": "bottom",
                    "yref": "paper"
                  },
                  {
                    "font": {
                      "size": 16
                    },
                    "showarrow": false,
                    "text": "2012-2020",
                    "x": 0.9159999999999999,
                    "xanchor": "center",
                    "xref": "paper",
                    "y": 1,
                    "yanchor": "bottom",
                    "yref": "paper"
                  }
                ],
                "height": 400,
                "paper_bgcolor": "rgba(0,0,0,0)",
                "plot_bgcolor": "rgba(0,0,0,0)",
                "template": {
                  "data": {
                    "bar": [
                      {
                        "error_x": {
                          "color": "#2a3f5f"
                        },
                        "error_y": {
                          "color": "#2a3f5f"
                        },
                        "marker": {
                          "line": {
                            "color": "#E5ECF6",
                            "width": 0.5
                          },
                          "pattern": {
                            "fillmode": "overlay",
                            "size": 10,
                            "solidity": 0.2
                          }
                        },
                        "type": "bar"
                      }
                    ],
                    "barpolar": [
                      {
                        "marker": {
                          "line": {
                            "color": "#E5ECF6",
                            "width": 0.5
                          },
                          "pattern": {
                            "fillmode": "overlay",
                            "size": 10,
                            "solidity": 0.2
                          }
                        },
                        "type": "barpolar"
                      }
                    ],
                    "carpet": [
                      {
                        "aaxis": {
                          "endlinecolor": "#2a3f5f",
                          "gridcolor": "white",
                          "linecolor": "white",
                          "minorgridcolor": "white",
                          "startlinecolor": "#2a3f5f"
                        },
                        "baxis": {
                          "endlinecolor": "#2a3f5f",
                          "gridcolor": "white",
                          "linecolor": "white",
                          "minorgridcolor": "white",
                          "startlinecolor": "#2a3f5f"
                        },
                        "type": "carpet"
                      }
                    ],
                    "choropleth": [
                      {
                        "colorbar": {
                          "outlinewidth": 0,
                          "ticks": ""
                        },
                        "type": "choropleth"
                      }
                    ],
                    "contour": [
                      {
                        "colorbar": {
                          "outlinewidth": 0,
                          "ticks": ""
                        },
                        "colorscale": [
                          [
                            0,
                            "#0d0887"
                          ],
                          [
                            0.1111111111111111,
                            "#46039f"
                          ],
                          [
                            0.2222222222222222,
                            "#7201a8"
                          ],
                          [
                            0.3333333333333333,
                            "#9c179e"
                          ],
                          [
                            0.4444444444444444,
                            "#bd3786"
                          ],
                          [
                            0.5555555555555556,
                            "#d8576b"
                          ],
                          [
                            0.6666666666666666,
                            "#ed7953"
                          ],
                          [
                            0.7777777777777778,
                            "#fb9f3a"
                          ],
                          [
                            0.8888888888888888,
                            "#fdca26"
                          ],
                          [
                            1,
                            "#f0f921"
                          ]
                        ],
                        "type": "contour"
                      }
                    ],
                    "contourcarpet": [
                      {
                        "colorbar": {
                          "outlinewidth": 0,
                          "ticks": ""
                        },
                        "type": "contourcarpet"
                      }
                    ],
                    "heatmap": [
                      {
                        "colorbar": {
                          "outlinewidth": 0,
                          "ticks": ""
                        },
                        "colorscale": [
                          [
                            0,
                            "#0d0887"
                          ],
                          [
                            0.1111111111111111,
                            "#46039f"
                          ],
                          [
                            0.2222222222222222,
                            "#7201a8"
                          ],
                          [
                            0.3333333333333333,
                            "#9c179e"
                          ],
                          [
                            0.4444444444444444,
                            "#bd3786"
                          ],
                          [
                            0.5555555555555556,
                            "#d8576b"
                          ],
                          [
                            0.6666666666666666,
                            "#ed7953"
                          ],
                          [
                            0.7777777777777778,
                            "#fb9f3a"
                          ],
                          [
                            0.8888888888888888,
                            "#fdca26"
                          ],
                          [
                            1,
                            "#f0f921"
                          ]
                        ],
                        "type": "heatmap"
                      }
                    ],
                    "histogram": [
                      {
                        "marker": {
                          "pattern": {
                            "fillmode": "overlay",
                            "size": 10,
                            "solidity": 0.2
                          }
                        },
                        "type": "histogram"
                      }
                    ],
                    "histogram2d": [
                      {
                        "colorbar": {
                          "outlinewidth": 0,
                          "ticks": ""
                        },
                        "colorscale": [
                          [
                            0,
                            "#0d0887"
                          ],
                          [
                            0.1111111111111111,
                            "#46039f"
                          ],
                          [
                            0.2222222222222222,
                            "#7201a8"
                          ],
                          [
                            0.3333333333333333,
                            "#9c179e"
                          ],
                          [
                            0.4444444444444444,
                            "#bd3786"
                          ],
                          [
                            0.5555555555555556,
                            "#d8576b"
                          ],
                          [
                            0.6666666666666666,
                            "#ed7953"
                          ],
                          [
                            0.7777777777777778,
                            "#fb9f3a"
                          ],
                          [
                            0.8888888888888888,
                            "#fdca26"
                          ],
                          [
                            1,
                            "#f0f921"
                          ]
                        ],
                        "type": "histogram2d"
                      }
                    ],
                    "histogram2dcontour": [
                      {
                        "colorbar": {
                          "outlinewidth": 0,
                          "ticks": ""
                        },
                        "colorscale": [
                          [
                            0,
                            "#0d0887"
                          ],
                          [
                            0.1111111111111111,
                            "#46039f"
                          ],
                          [
                            0.2222222222222222,
                            "#7201a8"
                          ],
                          [
                            0.3333333333333333,
                            "#9c179e"
                          ],
                          [
                            0.4444444444444444,
                            "#bd3786"
                          ],
                          [
                            0.5555555555555556,
                            "#d8576b"
                          ],
                          [
                            0.6666666666666666,
                            "#ed7953"
                          ],
                          [
                            0.7777777777777778,
                            "#fb9f3a"
                          ],
                          [
                            0.8888888888888888,
                            "#fdca26"
                          ],
                          [
                            1,
                            "#f0f921"
                          ]
                        ],
                        "type": "histogram2dcontour"
                      }
                    ],
                    "mesh3d": [
                      {
                        "colorbar": {
                          "outlinewidth": 0,
                          "ticks": ""
                        },
                        "type": "mesh3d"
                      }
                    ],
                    "parcoords": [
                      {
                        "line": {
                          "colorbar": {
                            "outlinewidth": 0,
                            "ticks": ""
                          }
                        },
                        "type": "parcoords"
                      }
                    ],
                    "pie": [
                      {
                        "automargin": true,
                        "type": "pie"
                      }
                    ],
                    "scatter": [
                      {
                        "fillpattern": {
                          "fillmode": "overlay",
                          "size": 10,
                          "solidity": 0.2
                        },
                        "type": "scatter"
                      }
                    ],
                    "scatter3d": [
                      {
                        "line": {
                          "colorbar": {
                            "outlinewidth": 0,
                            "ticks": ""
                          }
                        },
                        "marker": {
                          "colorbar": {
                            "outlinewidth": 0,
                            "ticks": ""
                          }
                        },
                        "type": "scatter3d"
                      }
                    ],
                    "scattercarpet": [
                      {
                        "marker": {
                          "colorbar": {
                            "outlinewidth": 0,
                            "ticks": ""
                          }
                        },
                        "type": "scattercarpet"
                      }
                    ],
                    "scattergeo": [
                      {
                        "marker": {
                          "colorbar": {
                            "outlinewidth": 0,
                            "ticks": ""
                          }
                        },
                        "type": "scattergeo"
                      }
                    ],
                    "scattergl": [
                      {
                        "marker": {
                          "colorbar": {
                            "outlinewidth": 0,
                            "ticks": ""
                          }
                        },
                        "type": "scattergl"
                      }
                    ],
                    "scattermap": [
                      {
                        "marker": {
                          "colorbar": {
                            "outlinewidth": 0,
                            "ticks": ""
                          }
                        },
                        "type": "scattermap"
                      }
                    ],
                    "scattermapbox": [
                      {
                        "marker": {
                          "colorbar": {
                            "outlinewidth": 0,
                            "ticks": ""
                          }
                        },
                        "type": "scattermapbox"
                      }
                    ],
                    "scatterpolar": [
                      {
                        "marker": {
                          "colorbar": {
                            "outlinewidth": 0,
                            "ticks": ""
                          }
                        },
                        "type": "scatterpolar"
                      }
                    ],
                    "scatterpolargl": [
                      {
                        "marker": {
                          "colorbar": {
                            "outlinewidth": 0,
                            "ticks": ""
                          }
                        },
                        "type": "scatterpolargl"
                      }
                    ],
                    "scatterternary": [
                      {
                        "marker": {
                          "colorbar": {
                            "outlinewidth": 0,
                            "ticks": ""
                          }
                        },
                        "type": "scatterternary"
                      }
                    ],
                    "surface": [
                      {
                        "colorbar": {
                          "outlinewidth": 0,
                          "ticks": ""
                        },
                        "colorscale": [
                          [
                            0,
                            "#0d0887"
                          ],
                          [
                            0.1111111111111111,
                            "#46039f"
                          ],
                          [
                            0.2222222222222222,
                            "#7201a8"
                          ],
                          [
                            0.3333333333333333,
                            "#9c179e"
                          ],
                          [
                            0.4444444444444444,
                            "#bd3786"
                          ],
                          [
                            0.5555555555555556,
                            "#d8576b"
                          ],
                          [
                            0.6666666666666666,
                            "#ed7953"
                          ],
                          [
                            0.7777777777777778,
                            "#fb9f3a"
                          ],
                          [
                            0.8888888888888888,
                            "#fdca26"
                          ],
                          [
                            1,
                            "#f0f921"
                          ]
                        ],
                        "type": "surface"
                      }
                    ],
                    "table": [
                      {
                        "cells": {
                          "fill": {
                            "color": "#EBF0F8"
                          },
                          "line": {
                            "color": "white"
                          }
                        },
                        "header": {
                          "fill": {
                            "color": "#C8D4E3"
                          },
                          "line": {
                            "color": "white"
                          }
                        },
                        "type": "table"
                      }
                    ]
                  },
                  "layout": {
                    "annotationdefaults": {
                      "arrowcolor": "#2a3f5f",
                      "arrowhead": 0,
                      "arrowwidth": 1
                    },
                    "autotypenumbers": "strict",
                    "coloraxis": {
                      "colorbar": {
                        "outlinewidth": 0,
                        "ticks": ""
                      }
                    },
                    "colorscale": {
                      "diverging": [
                        [
                          0,
                          "#8e0152"
                        ],
                        [
                          0.1,
                          "#c51b7d"
                        ],
                        [
                          0.2,
                          "#de77ae"
                        ],
                        [
                          0.3,
                          "#f1b6da"
                        ],
                        [
                          0.4,
                          "#fde0ef"
                        ],
                        [
                          0.5,
                          "#f7f7f7"
                        ],
                        [
                          0.6,
                          "#e6f5d0"
                        ],
                        [
                          0.7,
                          "#b8e186"
                        ],
                        [
                          0.8,
                          "#7fbc41"
                        ],
                        [
                          0.9,
                          "#4d9221"
                        ],
                        [
                          1,
                          "#276419"
                        ]
                      ],
                      "sequential": [
                        [
                          0,
                          "#0d0887"
                        ],
                        [
                          0.1111111111111111,
                          "#46039f"
                        ],
                        [
                          0.2222222222222222,
                          "#7201a8"
                        ],
                        [
                          0.3333333333333333,
                          "#9c179e"
                        ],
                        [
                          0.4444444444444444,
                          "#bd3786"
                        ],
                        [
                          0.5555555555555556,
                          "#d8576b"
                        ],
                        [
                          0.6666666666666666,
                          "#ed7953"
                        ],
                        [
                          0.7777777777777778,
                          "#fb9f3a"
                        ],
                        [
                          0.8888888888888888,
                          "#fdca26"
                        ],
                        [
                          1,
                          "#f0f921"
                        ]
                      ],
                      "sequentialminus": [
                        [
                          0,
                          "#0d0887"
                        ],
                        [
                          0.1111111111111111,
                          "#46039f"
                        ],
                        [
                          0.2222222222222222,
                          "#7201a8"
                        ],
                        [
                          0.3333333333333333,
                          "#9c179e"
                        ],
                        [
                          0.4444444444444444,
                          "#bd3786"
                        ],
                        [
                          0.5555555555555556,
                          "#d8576b"
                        ],
                        [
                          0.6666666666666666,
                          "#ed7953"
                        ],
                        [
                          0.7777777777777778,
                          "#fb9f3a"
                        ],
                        [
                          0.8888888888888888,
                          "#fdca26"
                        ],
                        [
                          1,
                          "#f0f921"
                        ]
                      ]
                    },
                    "colorway": [
                      "#636efa",
                      "#EF553B",
                      "#00cc96",
                      "#ab63fa",
                      "#FFA15A",
                      "#19d3f3",
                      "#FF6692",
                      "#B6E880",
                      "#FF97FF",
                      "#FECB52"
                    ],
                    "font": {
                      "color": "#2a3f5f"
                    },
                    "geo": {
                      "bgcolor": "white",
                      "lakecolor": "white",
                      "landcolor": "#E5ECF6",
                      "showlakes": true,
                      "showland": true,
                      "subunitcolor": "white"
                    },
                    "hoverlabel": {
                      "align": "left"
                    },
                    "hovermode": "closest",
                    "mapbox": {
                      "style": "light"
                    },
                    "paper_bgcolor": "white",
                    "plot_bgcolor": "#E5ECF6",
                    "polar": {
                      "angularaxis": {
                        "gridcolor": "white",
                        "linecolor": "white",
                        "ticks": ""
                      },
                      "bgcolor": "#E5ECF6",
                      "radialaxis": {
                        "gridcolor": "white",
                        "linecolor": "white",
                        "ticks": ""
                      }
                    },
                    "scene": {
                      "xaxis": {
                        "backgroundcolor": "#E5ECF6",
                        "gridcolor": "white",
                        "gridwidth": 2,
                        "linecolor": "white",
                        "showbackground": true,
                        "ticks": "",
                        "zerolinecolor": "white"
                      },
                      "yaxis": {
                        "backgroundcolor": "#E5ECF6",
                        "gridcolor": "white",
                        "gridwidth": 2,
                        "linecolor": "white",
                        "showbackground": true,
                        "ticks": "",
                        "zerolinecolor": "white"
                      },
                      "zaxis": {
                        "backgroundcolor": "#E5ECF6",
                        "gridcolor": "white",
                        "gridwidth": 2,
                        "linecolor": "white",
                        "showbackground": true,
                        "ticks": "",
                        "zerolinecolor": "white"
                      }
                    },
                    "shapedefaults": {
                      "line": {
                        "color": "#2a3f5f"
                      }
                    },
                    "ternary": {
                      "aaxis": {
                        "gridcolor": "white",
                        "linecolor": "white",
                        "ticks": ""
                      },
                      "baxis": {
                        "gridcolor": "white",
                        "linecolor": "white",
                        "ticks": ""
                      },
                      "bgcolor": "#E5ECF6",
                      "caxis": {
                        "gridcolor": "white",
                        "linecolor": "white",
                        "ticks": ""
                      }
                    },
                    "title": {
                      "x": 0.05
                    },
                    "xaxis": {
                      "automargin": true,
                      "gridcolor": "white",
                      "linecolor": "white",
                      "ticks": "",
                      "title": {
                        "standoff": 15
                      },
                      "zerolinecolor": "white",
                      "zerolinewidth": 2
                    },
                    "yaxis": {
                      "automargin": true,
                      "gridcolor": "white",
                      "linecolor": "white",
                      "ticks": "",
                      "title": {
                        "standoff": 15
                      },
                      "zerolinecolor": "white",
                      "zerolinewidth": 2
                    }
                  }
                },
                "title": {
                  "text": "Swimming Medals by Period (Each Square Represents 1% of Medals Won)"
                },
                "width": 1500,
                "xaxis": {
                  "anchor": "y",
                  "domain": [
                    0,
                    0.16799999999999998
                  ],
                  "showgrid": false,
                  "showticklabels": false,
                  "zeroline": false
                },
                "xaxis2": {
                  "anchor": "y2",
                  "domain": [
                    0.208,
                    0.376
                  ],
                  "showgrid": false,
                  "showticklabels": false,
                  "zeroline": false
                },
                "xaxis3": {
                  "anchor": "y3",
                  "domain": [
                    0.416,
                    0.584
                  ],
                  "showgrid": false,
                  "showticklabels": false,
                  "zeroline": false
                },
                "xaxis4": {
                  "anchor": "y4",
                  "domain": [
                    0.624,
                    0.792
                  ],
                  "showgrid": false,
                  "showticklabels": false,
                  "zeroline": false
                },
                "xaxis5": {
                  "anchor": "y5",
                  "domain": [
                    0.832,
                    1
                  ],
                  "showgrid": false,
                  "showticklabels": false,
                  "zeroline": false
                },
                "yaxis": {
                  "anchor": "x",
                  "domain": [
                    0,
                    1
                  ],
                  "showgrid": false,
                  "showticklabels": false,
                  "zeroline": false
                },
                "yaxis2": {
                  "anchor": "x2",
                  "domain": [
                    0,
                    1
                  ],
                  "showgrid": false,
                  "showticklabels": false,
                  "zeroline": false
                },
                "yaxis3": {
                  "anchor": "x3",
                  "domain": [
                    0,
                    1
                  ],
                  "showgrid": false,
                  "showticklabels": false,
                  "zeroline": false
                },
                "yaxis4": {
                  "anchor": "x4",
                  "domain": [
                    0,
                    1
                  ],
                  "showgrid": false,
                  "showticklabels": false,
                  "zeroline": false
                },
                "yaxis5": {
                  "anchor": "x5",
                  "domain": [
                    0,
                    1
                  ],
                  "showgrid": false,
                  "showticklabels": false,
                  "zeroline": false
                }
              }
            }
          },
          "metadata": {},
          "output_type": "display_data"
        }
      ],
      "source": [
        "year_groups = [\n",
        "    (1896, 1920),\n",
        "    (1924, 1952),\n",
        "    (1956, 1984),\n",
        "    (1988, 2008),\n",
        "    (2012, 2020)\n",
        "]\n",
        "\n",
        "df_swimming = olympics_data[olympics_data[\"Sport\"] == \"Swimming\"]\n",
        "df_medals = df_swimming[df_swimming[\"Medal\"].notna()]\n",
        "\n",
        "total_medal_counts = df_medals[\"NOC\"].value_counts()\n",
        "\n",
        "top_countries = total_medal_counts.head(3).index.tolist() + ['CAN']\n",
        "print(top_countries)\n",
        "\n",
        "color_palette = [\"#00ECC2\", \"#0078FF\", \"#cbe58e\", \"#FF4359\"]\n",
        "country_colors = {country: color_palette[i] for i, country in enumerate(top_countries)}\n",
        "print(country_colors)\n",
        "country_colors[\"Other\"] = \"rgba(170, 170, 170, 0.3)\"\n",
        "\n",
        "fig = make_subplots(rows=1, cols=5, subplot_titles=[f\"{start}-{end}\" for start, end in year_groups])\n",
        "\n",
        "for idx, (start, end) in enumerate(year_groups):\n",
        "\n",
        "    df_period = df_medals[(df_medals[\"Year\"] >= start) & (df_medals[\"Year\"] <= end)]\n",
        "    df_grouped = df_period[\"NOC\"].value_counts().reset_index()\n",
        "    df_grouped.columns = [\"Country\", \"Medals\"]\n",
        "\n",
        "    df_grouped[\"Country\"] = df_grouped[\"Country\"].apply(lambda x: x if x in top_countries else \"Other\")\n",
        "    df_grouped = df_grouped.groupby(\"Country\")[\"Medals\"].sum().reset_index()\n",
        "\n",
        "    df_grouped = df_grouped.sort_values(by=\"Medals\", ascending=False)\n",
        "    if \"Other\" in df_grouped[\"Country\"].values:\n",
        "        df_grouped = pd.concat([\n",
        "            df_grouped[df_grouped[\"Country\"] != \"Other\"],\n",
        "            df_grouped[df_grouped[\"Country\"] == \"Other\"]\n",
        "        ])\n",
        "\n",
        "    df_grouped[\"Normalized\"] = (df_grouped[\"Medals\"] / df_grouped[\"Medals\"].sum() * 100).round().astype(int)\n",
        "\n",
        "    while df_grouped[\"Normalized\"].sum() > 100:\n",
        "        df_grouped.loc[df_grouped[\"Normalized\"].idxmax(), \"Normalized\"] -= 1\n",
        "    while df_grouped[\"Normalized\"].sum() < 100:\n",
        "        df_grouped.loc[df_grouped[\"Normalized\"].idxmax(), \"Normalized\"] += 1\n",
        "\n",
        "    country_mapping = {country: i + 1 for i, country in enumerate(df_grouped[\"Country\"])}\n",
        "\n",
        "    flat_list = []\n",
        "    for country, count in zip(df_grouped[\"Country\"], df_grouped[\"Normalized\"]):\n",
        "        flat_list.extend([country_mapping[country]] * count)\n",
        "\n",
        "    waffle_array = np.array(flat_list).reshape(10, 10, order=\"F\")  # Fill column-wise\n",
        "\n",
        "    label_map = {v: k for k, v in country_mapping.items()}\n",
        "    labels = np.vectorize(label_map.get)(waffle_array)\n",
        "\n",
        "    fig.add_trace(\n",
        "        go.Heatmap(\n",
        "            x=np.arange(10), y=np.arange(10),\n",
        "            z=waffle_array, customdata=labels,\n",
        "            xgap=3, ygap=3,\n",
        "            colorscale=[(i / 4, color_palette[i]) for i in range(4)] + [(1.0, \"rgba(170, 170, 170, 0.3)\")],\n",
        "            showscale=False,\n",
        "            hovertemplate=\"%{customdata}<extra></extra>\"\n",
        "        ),\n",
        "        row=1, col=idx + 1\n",
        "    )\n",
        "\n",
        "legend_entries = []\n",
        "for country, color in country_colors.items():\n",
        "    legend_entries.append(\n",
        "        go.Scatter(\n",
        "            x=[None], y=[None], mode='markers',\n",
        "            marker=dict(color=color, symbol='circle', size=10),\n",
        "            name=country\n",
        "        )\n",
        "    )\n",
        "\n",
        "# Add the legend entries to the figure\n",
        "fig.add_traces(legend_entries)\n",
        "\n",
        "fig.update_layout(\n",
        "    title=\"Swimming Medals by Period (Each Square Represents 1% of Medals Won)\",\n",
        "    width=1500, height=400,\n",
        "    plot_bgcolor='rgba(0,0,0,0)',\n",
        "    paper_bgcolor='rgba(0,0,0,0)',\n",
        ")\n",
        "\n",
        "for i in range(1, 6):\n",
        "    fig.update_xaxes(showgrid=False, zeroline=False, showticklabels=False, row=1, col=i)\n",
        "    fig.update_yaxes(showgrid=False, zeroline=False, showticklabels=False, row=1, col=i)\n",
        "\n",
        "fig.show()\n"
      ]
    },
    {
      "cell_type": "markdown",
      "id": "bfrhv_z7ctBf",
      "metadata": {
        "id": "bfrhv_z7ctBf"
      },
      "source": [
        "# Pays/Participations"
      ]
    },
    {
      "cell_type": "code",
      "execution_count": 18,
      "id": "SxTfJUCq1mZy",
      "metadata": {
        "colab": {
          "base_uri": "https://localhost:8080/",
          "height": 417
        },
        "id": "SxTfJUCq1mZy",
        "outputId": "e0a2c38b-b734-4070-b6bc-9a624b1b417e"
      },
      "outputs": [
        {
          "data": {
            "application/vnd.plotly.v1+json": {
              "config": {
                "plotlyServerURL": "https://plot.ly"
              },
              "data": [
                {
                  "colorscale": [
                    [
                      0,
                      "#00ECC2"
                    ],
                    [
                      0.25,
                      "#0078FF"
                    ],
                    [
                      0.5,
                      "#cbe58e"
                    ],
                    [
                      0.75,
                      "#FF4359"
                    ],
                    [
                      1,
                      "rgba(170, 170, 170, 0.3)"
                    ]
                  ],
                  "customdata": [
                    [
                      "USA",
                      "GBR",
                      "CAN",
                      "Other",
                      "Other",
                      "Other",
                      "Other",
                      "Other",
                      "Other",
                      "Other"
                    ],
                    [
                      "USA",
                      "GBR",
                      "Other",
                      "Other",
                      "Other",
                      "Other",
                      "Other",
                      "Other",
                      "Other",
                      "Other"
                    ],
                    [
                      "USA",
                      "AUS",
                      "Other",
                      "Other",
                      "Other",
                      "Other",
                      "Other",
                      "Other",
                      "Other",
                      "Other"
                    ],
                    [
                      "USA",
                      "AUS",
                      "Other",
                      "Other",
                      "Other",
                      "Other",
                      "Other",
                      "Other",
                      "Other",
                      "Other"
                    ],
                    [
                      "USA",
                      "AUS",
                      "Other",
                      "Other",
                      "Other",
                      "Other",
                      "Other",
                      "Other",
                      "Other",
                      "Other"
                    ],
                    [
                      "USA",
                      "AUS",
                      "Other",
                      "Other",
                      "Other",
                      "Other",
                      "Other",
                      "Other",
                      "Other",
                      "Other"
                    ],
                    [
                      "USA",
                      "AUS",
                      "Other",
                      "Other",
                      "Other",
                      "Other",
                      "Other",
                      "Other",
                      "Other",
                      "Other"
                    ],
                    [
                      "GBR",
                      "CAN",
                      "Other",
                      "Other",
                      "Other",
                      "Other",
                      "Other",
                      "Other",
                      "Other",
                      "Other"
                    ],
                    [
                      "GBR",
                      "CAN",
                      "Other",
                      "Other",
                      "Other",
                      "Other",
                      "Other",
                      "Other",
                      "Other",
                      "Other"
                    ],
                    [
                      "GBR",
                      "CAN",
                      "Other",
                      "Other",
                      "Other",
                      "Other",
                      "Other",
                      "Other",
                      "Other",
                      "Other"
                    ]
                  ],
                  "hovertemplate": "%{customdata}<extra></extra>",
                  "showscale": false,
                  "type": "heatmap",
                  "x": {
                    "bdata": "AAECAwQFBgcICQ==",
                    "dtype": "i1"
                  },
                  "xgap": 3,
                  "y": {
                    "bdata": "AAECAwQFBgcICQ==",
                    "dtype": "i1"
                  },
                  "ygap": 3,
                  "z": {
                    "bdata": "AQIEBQUFBQUFBQECBQUFBQUFBQUBAwUFBQUFBQUFAQMFBQUFBQUFBQEDBQUFBQUFBQUBAwUFBQUFBQUFAQMFBQUFBQUFBQIEBQUFBQUFBQUCBAUFBQUFBQUFAgQFBQUFBQUFBQ==",
                    "dtype": "i1",
                    "shape": "10, 10"
                  }
                },
                {
                  "marker": {
                    "color": "#00ECC2",
                    "size": 10,
                    "symbol": "circle"
                  },
                  "mode": "markers",
                  "name": "USA",
                  "type": "scatter",
                  "x": [
                    null
                  ],
                  "y": [
                    null
                  ]
                },
                {
                  "marker": {
                    "color": "#0078FF",
                    "size": 10,
                    "symbol": "circle"
                  },
                  "mode": "markers",
                  "name": "GBR",
                  "type": "scatter",
                  "x": [
                    null
                  ],
                  "y": [
                    null
                  ]
                },
                {
                  "marker": {
                    "color": "#cbe58e",
                    "size": 10,
                    "symbol": "circle"
                  },
                  "mode": "markers",
                  "name": "AUS",
                  "type": "scatter",
                  "x": [
                    null
                  ],
                  "y": [
                    null
                  ]
                },
                {
                  "marker": {
                    "color": "#FF4359",
                    "size": 10,
                    "symbol": "circle"
                  },
                  "mode": "markers",
                  "name": "CAN",
                  "type": "scatter",
                  "x": [
                    null
                  ],
                  "y": [
                    null
                  ]
                },
                {
                  "marker": {
                    "color": "rgba(170, 170, 170, 0.3)",
                    "size": 10,
                    "symbol": "circle"
                  },
                  "mode": "markers",
                  "name": "Other",
                  "type": "scatter",
                  "x": [
                    null
                  ],
                  "y": [
                    null
                  ]
                }
              ],
              "layout": {
                "height": 400,
                "paper_bgcolor": "rgba(0,0,0,0)",
                "plot_bgcolor": "rgba(0,0,0,0)",
                "template": {
                  "data": {
                    "bar": [
                      {
                        "error_x": {
                          "color": "#2a3f5f"
                        },
                        "error_y": {
                          "color": "#2a3f5f"
                        },
                        "marker": {
                          "line": {
                            "color": "#E5ECF6",
                            "width": 0.5
                          },
                          "pattern": {
                            "fillmode": "overlay",
                            "size": 10,
                            "solidity": 0.2
                          }
                        },
                        "type": "bar"
                      }
                    ],
                    "barpolar": [
                      {
                        "marker": {
                          "line": {
                            "color": "#E5ECF6",
                            "width": 0.5
                          },
                          "pattern": {
                            "fillmode": "overlay",
                            "size": 10,
                            "solidity": 0.2
                          }
                        },
                        "type": "barpolar"
                      }
                    ],
                    "carpet": [
                      {
                        "aaxis": {
                          "endlinecolor": "#2a3f5f",
                          "gridcolor": "white",
                          "linecolor": "white",
                          "minorgridcolor": "white",
                          "startlinecolor": "#2a3f5f"
                        },
                        "baxis": {
                          "endlinecolor": "#2a3f5f",
                          "gridcolor": "white",
                          "linecolor": "white",
                          "minorgridcolor": "white",
                          "startlinecolor": "#2a3f5f"
                        },
                        "type": "carpet"
                      }
                    ],
                    "choropleth": [
                      {
                        "colorbar": {
                          "outlinewidth": 0,
                          "ticks": ""
                        },
                        "type": "choropleth"
                      }
                    ],
                    "contour": [
                      {
                        "colorbar": {
                          "outlinewidth": 0,
                          "ticks": ""
                        },
                        "colorscale": [
                          [
                            0,
                            "#0d0887"
                          ],
                          [
                            0.1111111111111111,
                            "#46039f"
                          ],
                          [
                            0.2222222222222222,
                            "#7201a8"
                          ],
                          [
                            0.3333333333333333,
                            "#9c179e"
                          ],
                          [
                            0.4444444444444444,
                            "#bd3786"
                          ],
                          [
                            0.5555555555555556,
                            "#d8576b"
                          ],
                          [
                            0.6666666666666666,
                            "#ed7953"
                          ],
                          [
                            0.7777777777777778,
                            "#fb9f3a"
                          ],
                          [
                            0.8888888888888888,
                            "#fdca26"
                          ],
                          [
                            1,
                            "#f0f921"
                          ]
                        ],
                        "type": "contour"
                      }
                    ],
                    "contourcarpet": [
                      {
                        "colorbar": {
                          "outlinewidth": 0,
                          "ticks": ""
                        },
                        "type": "contourcarpet"
                      }
                    ],
                    "heatmap": [
                      {
                        "colorbar": {
                          "outlinewidth": 0,
                          "ticks": ""
                        },
                        "colorscale": [
                          [
                            0,
                            "#0d0887"
                          ],
                          [
                            0.1111111111111111,
                            "#46039f"
                          ],
                          [
                            0.2222222222222222,
                            "#7201a8"
                          ],
                          [
                            0.3333333333333333,
                            "#9c179e"
                          ],
                          [
                            0.4444444444444444,
                            "#bd3786"
                          ],
                          [
                            0.5555555555555556,
                            "#d8576b"
                          ],
                          [
                            0.6666666666666666,
                            "#ed7953"
                          ],
                          [
                            0.7777777777777778,
                            "#fb9f3a"
                          ],
                          [
                            0.8888888888888888,
                            "#fdca26"
                          ],
                          [
                            1,
                            "#f0f921"
                          ]
                        ],
                        "type": "heatmap"
                      }
                    ],
                    "histogram": [
                      {
                        "marker": {
                          "pattern": {
                            "fillmode": "overlay",
                            "size": 10,
                            "solidity": 0.2
                          }
                        },
                        "type": "histogram"
                      }
                    ],
                    "histogram2d": [
                      {
                        "colorbar": {
                          "outlinewidth": 0,
                          "ticks": ""
                        },
                        "colorscale": [
                          [
                            0,
                            "#0d0887"
                          ],
                          [
                            0.1111111111111111,
                            "#46039f"
                          ],
                          [
                            0.2222222222222222,
                            "#7201a8"
                          ],
                          [
                            0.3333333333333333,
                            "#9c179e"
                          ],
                          [
                            0.4444444444444444,
                            "#bd3786"
                          ],
                          [
                            0.5555555555555556,
                            "#d8576b"
                          ],
                          [
                            0.6666666666666666,
                            "#ed7953"
                          ],
                          [
                            0.7777777777777778,
                            "#fb9f3a"
                          ],
                          [
                            0.8888888888888888,
                            "#fdca26"
                          ],
                          [
                            1,
                            "#f0f921"
                          ]
                        ],
                        "type": "histogram2d"
                      }
                    ],
                    "histogram2dcontour": [
                      {
                        "colorbar": {
                          "outlinewidth": 0,
                          "ticks": ""
                        },
                        "colorscale": [
                          [
                            0,
                            "#0d0887"
                          ],
                          [
                            0.1111111111111111,
                            "#46039f"
                          ],
                          [
                            0.2222222222222222,
                            "#7201a8"
                          ],
                          [
                            0.3333333333333333,
                            "#9c179e"
                          ],
                          [
                            0.4444444444444444,
                            "#bd3786"
                          ],
                          [
                            0.5555555555555556,
                            "#d8576b"
                          ],
                          [
                            0.6666666666666666,
                            "#ed7953"
                          ],
                          [
                            0.7777777777777778,
                            "#fb9f3a"
                          ],
                          [
                            0.8888888888888888,
                            "#fdca26"
                          ],
                          [
                            1,
                            "#f0f921"
                          ]
                        ],
                        "type": "histogram2dcontour"
                      }
                    ],
                    "mesh3d": [
                      {
                        "colorbar": {
                          "outlinewidth": 0,
                          "ticks": ""
                        },
                        "type": "mesh3d"
                      }
                    ],
                    "parcoords": [
                      {
                        "line": {
                          "colorbar": {
                            "outlinewidth": 0,
                            "ticks": ""
                          }
                        },
                        "type": "parcoords"
                      }
                    ],
                    "pie": [
                      {
                        "automargin": true,
                        "type": "pie"
                      }
                    ],
                    "scatter": [
                      {
                        "fillpattern": {
                          "fillmode": "overlay",
                          "size": 10,
                          "solidity": 0.2
                        },
                        "type": "scatter"
                      }
                    ],
                    "scatter3d": [
                      {
                        "line": {
                          "colorbar": {
                            "outlinewidth": 0,
                            "ticks": ""
                          }
                        },
                        "marker": {
                          "colorbar": {
                            "outlinewidth": 0,
                            "ticks": ""
                          }
                        },
                        "type": "scatter3d"
                      }
                    ],
                    "scattercarpet": [
                      {
                        "marker": {
                          "colorbar": {
                            "outlinewidth": 0,
                            "ticks": ""
                          }
                        },
                        "type": "scattercarpet"
                      }
                    ],
                    "scattergeo": [
                      {
                        "marker": {
                          "colorbar": {
                            "outlinewidth": 0,
                            "ticks": ""
                          }
                        },
                        "type": "scattergeo"
                      }
                    ],
                    "scattergl": [
                      {
                        "marker": {
                          "colorbar": {
                            "outlinewidth": 0,
                            "ticks": ""
                          }
                        },
                        "type": "scattergl"
                      }
                    ],
                    "scattermap": [
                      {
                        "marker": {
                          "colorbar": {
                            "outlinewidth": 0,
                            "ticks": ""
                          }
                        },
                        "type": "scattermap"
                      }
                    ],
                    "scattermapbox": [
                      {
                        "marker": {
                          "colorbar": {
                            "outlinewidth": 0,
                            "ticks": ""
                          }
                        },
                        "type": "scattermapbox"
                      }
                    ],
                    "scatterpolar": [
                      {
                        "marker": {
                          "colorbar": {
                            "outlinewidth": 0,
                            "ticks": ""
                          }
                        },
                        "type": "scatterpolar"
                      }
                    ],
                    "scatterpolargl": [
                      {
                        "marker": {
                          "colorbar": {
                            "outlinewidth": 0,
                            "ticks": ""
                          }
                        },
                        "type": "scatterpolargl"
                      }
                    ],
                    "scatterternary": [
                      {
                        "marker": {
                          "colorbar": {
                            "outlinewidth": 0,
                            "ticks": ""
                          }
                        },
                        "type": "scatterternary"
                      }
                    ],
                    "surface": [
                      {
                        "colorbar": {
                          "outlinewidth": 0,
                          "ticks": ""
                        },
                        "colorscale": [
                          [
                            0,
                            "#0d0887"
                          ],
                          [
                            0.1111111111111111,
                            "#46039f"
                          ],
                          [
                            0.2222222222222222,
                            "#7201a8"
                          ],
                          [
                            0.3333333333333333,
                            "#9c179e"
                          ],
                          [
                            0.4444444444444444,
                            "#bd3786"
                          ],
                          [
                            0.5555555555555556,
                            "#d8576b"
                          ],
                          [
                            0.6666666666666666,
                            "#ed7953"
                          ],
                          [
                            0.7777777777777778,
                            "#fb9f3a"
                          ],
                          [
                            0.8888888888888888,
                            "#fdca26"
                          ],
                          [
                            1,
                            "#f0f921"
                          ]
                        ],
                        "type": "surface"
                      }
                    ],
                    "table": [
                      {
                        "cells": {
                          "fill": {
                            "color": "#EBF0F8"
                          },
                          "line": {
                            "color": "white"
                          }
                        },
                        "header": {
                          "fill": {
                            "color": "#C8D4E3"
                          },
                          "line": {
                            "color": "white"
                          }
                        },
                        "type": "table"
                      }
                    ]
                  },
                  "layout": {
                    "annotationdefaults": {
                      "arrowcolor": "#2a3f5f",
                      "arrowhead": 0,
                      "arrowwidth": 1
                    },
                    "autotypenumbers": "strict",
                    "coloraxis": {
                      "colorbar": {
                        "outlinewidth": 0,
                        "ticks": ""
                      }
                    },
                    "colorscale": {
                      "diverging": [
                        [
                          0,
                          "#8e0152"
                        ],
                        [
                          0.1,
                          "#c51b7d"
                        ],
                        [
                          0.2,
                          "#de77ae"
                        ],
                        [
                          0.3,
                          "#f1b6da"
                        ],
                        [
                          0.4,
                          "#fde0ef"
                        ],
                        [
                          0.5,
                          "#f7f7f7"
                        ],
                        [
                          0.6,
                          "#e6f5d0"
                        ],
                        [
                          0.7,
                          "#b8e186"
                        ],
                        [
                          0.8,
                          "#7fbc41"
                        ],
                        [
                          0.9,
                          "#4d9221"
                        ],
                        [
                          1,
                          "#276419"
                        ]
                      ],
                      "sequential": [
                        [
                          0,
                          "#0d0887"
                        ],
                        [
                          0.1111111111111111,
                          "#46039f"
                        ],
                        [
                          0.2222222222222222,
                          "#7201a8"
                        ],
                        [
                          0.3333333333333333,
                          "#9c179e"
                        ],
                        [
                          0.4444444444444444,
                          "#bd3786"
                        ],
                        [
                          0.5555555555555556,
                          "#d8576b"
                        ],
                        [
                          0.6666666666666666,
                          "#ed7953"
                        ],
                        [
                          0.7777777777777778,
                          "#fb9f3a"
                        ],
                        [
                          0.8888888888888888,
                          "#fdca26"
                        ],
                        [
                          1,
                          "#f0f921"
                        ]
                      ],
                      "sequentialminus": [
                        [
                          0,
                          "#0d0887"
                        ],
                        [
                          0.1111111111111111,
                          "#46039f"
                        ],
                        [
                          0.2222222222222222,
                          "#7201a8"
                        ],
                        [
                          0.3333333333333333,
                          "#9c179e"
                        ],
                        [
                          0.4444444444444444,
                          "#bd3786"
                        ],
                        [
                          0.5555555555555556,
                          "#d8576b"
                        ],
                        [
                          0.6666666666666666,
                          "#ed7953"
                        ],
                        [
                          0.7777777777777778,
                          "#fb9f3a"
                        ],
                        [
                          0.8888888888888888,
                          "#fdca26"
                        ],
                        [
                          1,
                          "#f0f921"
                        ]
                      ]
                    },
                    "colorway": [
                      "#636efa",
                      "#EF553B",
                      "#00cc96",
                      "#ab63fa",
                      "#FFA15A",
                      "#19d3f3",
                      "#FF6692",
                      "#B6E880",
                      "#FF97FF",
                      "#FECB52"
                    ],
                    "font": {
                      "color": "#2a3f5f"
                    },
                    "geo": {
                      "bgcolor": "white",
                      "lakecolor": "white",
                      "landcolor": "#E5ECF6",
                      "showlakes": true,
                      "showland": true,
                      "subunitcolor": "white"
                    },
                    "hoverlabel": {
                      "align": "left"
                    },
                    "hovermode": "closest",
                    "mapbox": {
                      "style": "light"
                    },
                    "paper_bgcolor": "white",
                    "plot_bgcolor": "#E5ECF6",
                    "polar": {
                      "angularaxis": {
                        "gridcolor": "white",
                        "linecolor": "white",
                        "ticks": ""
                      },
                      "bgcolor": "#E5ECF6",
                      "radialaxis": {
                        "gridcolor": "white",
                        "linecolor": "white",
                        "ticks": ""
                      }
                    },
                    "scene": {
                      "xaxis": {
                        "backgroundcolor": "#E5ECF6",
                        "gridcolor": "white",
                        "gridwidth": 2,
                        "linecolor": "white",
                        "showbackground": true,
                        "ticks": "",
                        "zerolinecolor": "white"
                      },
                      "yaxis": {
                        "backgroundcolor": "#E5ECF6",
                        "gridcolor": "white",
                        "gridwidth": 2,
                        "linecolor": "white",
                        "showbackground": true,
                        "ticks": "",
                        "zerolinecolor": "white"
                      },
                      "zaxis": {
                        "backgroundcolor": "#E5ECF6",
                        "gridcolor": "white",
                        "gridwidth": 2,
                        "linecolor": "white",
                        "showbackground": true,
                        "ticks": "",
                        "zerolinecolor": "white"
                      }
                    },
                    "shapedefaults": {
                      "line": {
                        "color": "#2a3f5f"
                      }
                    },
                    "ternary": {
                      "aaxis": {
                        "gridcolor": "white",
                        "linecolor": "white",
                        "ticks": ""
                      },
                      "baxis": {
                        "gridcolor": "white",
                        "linecolor": "white",
                        "ticks": ""
                      },
                      "bgcolor": "#E5ECF6",
                      "caxis": {
                        "gridcolor": "white",
                        "linecolor": "white",
                        "ticks": ""
                      }
                    },
                    "title": {
                      "x": 0.05
                    },
                    "xaxis": {
                      "automargin": true,
                      "gridcolor": "white",
                      "linecolor": "white",
                      "ticks": "",
                      "title": {
                        "standoff": 15
                      },
                      "zerolinecolor": "white",
                      "zerolinewidth": 2
                    },
                    "yaxis": {
                      "automargin": true,
                      "gridcolor": "white",
                      "linecolor": "white",
                      "ticks": "",
                      "title": {
                        "standoff": 15
                      },
                      "zerolinecolor": "white",
                      "zerolinewidth": 2
                    }
                  }
                },
                "title": {
                  "text": "Swimming Participations – All Editions"
                },
                "width": 400,
                "xaxis": {
                  "showgrid": false,
                  "showticklabels": false,
                  "zeroline": false
                },
                "yaxis": {
                  "showgrid": false,
                  "showticklabels": false,
                  "zeroline": false
                }
              }
            }
          },
          "metadata": {},
          "output_type": "display_data"
        }
      ],
      "source": [
        "df_medals = olympics_data[(olympics_data[\"Sport\"] == \"Swimming\")]\n",
        "\n",
        "total_medal_counts = df_medals[\"NOC\"].value_counts()\n",
        "\n",
        "top_countries = total_medal_counts.head(3).index.tolist() + ['CAN']\n",
        "\n",
        "df_grouped = df_medals[\"NOC\"].value_counts().reset_index()\n",
        "df_grouped.columns = [\"Country\", \"Participations\"]\n",
        "df_grouped[\"Country\"] = df_grouped[\"Country\"].apply(lambda x: x if x in top_countries else \"Other\")\n",
        "\n",
        "df_grouped = df_grouped.groupby(\"Country\")[\"Participations\"].sum().reset_index()\n",
        "\n",
        "df_grouped = df_grouped.sort_values(by=\"Participations\", ascending=False)\n",
        "if \"Other\" in df_grouped[\"Country\"].values:\n",
        "    df_grouped = pd.concat([\n",
        "        df_grouped[df_grouped[\"Country\"] != \"Other\"],\n",
        "        df_grouped[df_grouped[\"Country\"] == \"Other\"]\n",
        "    ])\n",
        "\n",
        "df_grouped[\"Normalized\"] = (df_grouped[\"Participations\"] / df_grouped[\"Participations\"].sum() * 100).round().astype(int)\n",
        "\n",
        "while df_grouped[\"Normalized\"].sum() > 100:\n",
        "    df_grouped.loc[df_grouped[\"Normalized\"].idxmax(), \"Normalized\"] -= 1\n",
        "while df_grouped[\"Normalized\"].sum() < 100:\n",
        "    df_grouped.loc[df_grouped[\"Normalized\"].idxmax(), \"Normalized\"] += 1\n",
        "\n",
        "country_mapping = {country: i + 1 for i, country in enumerate(df_grouped[\"Country\"])}\n",
        "\n",
        "flat_list = []\n",
        "for country, count in zip(df_grouped[\"Country\"], df_grouped[\"Normalized\"]):\n",
        "    flat_list.extend([country_mapping[country]] * count)\n",
        "\n",
        "waffle_array = np.array(flat_list).reshape(10, 10, order=\"F\")\n",
        "\n",
        "label_map = {v: k for k, v in country_mapping.items()}\n",
        "labels = np.vectorize(label_map.get)(waffle_array)\n",
        "\n",
        "color_palette = [\"#00ECC2\", \"#0078FF\", \"#cbe58e\", \"#FF4359\"]\n",
        "country_colors = {country: color_palette[i] for i, country in enumerate(top_countries)}\n",
        "country_colors[\"Other\"] = \"rgba(170, 170, 170, 0.3)\"  # Light gray for others\n",
        "\n",
        "fig = go.Figure()\n",
        "\n",
        "fig.add_trace(\n",
        "    go.Heatmap(\n",
        "        x=np.arange(10), y=np.arange(10),\n",
        "        z=waffle_array, customdata=labels,\n",
        "        xgap=3, ygap=3,\n",
        "        colorscale=[(i / 4, color_palette[i]) for i in range(4)] + [(1.0, \"rgba(170, 170, 170, 0.3)\")],\n",
        "        showscale=False,\n",
        "        hovertemplate=\"%{customdata}<extra></extra>\"\n",
        "    )\n",
        ")\n",
        "\n",
        "for country, color in country_colors.items():\n",
        "    fig.add_trace(\n",
        "        go.Scatter(\n",
        "            x=[None], y=[None], mode='markers',\n",
        "            marker=dict(color=color, symbol='circle', size=10),\n",
        "            name=country\n",
        "        )\n",
        "    )\n",
        "\n",
        "\n",
        "fig.update_layout(\n",
        "    title=\"Swimming Participations – All Editions\",\n",
        "    width=400, height=400,\n",
        "    plot_bgcolor='rgba(0,0,0,0)',\n",
        "    paper_bgcolor='rgba(0,0,0,0)',\n",
        ")\n",
        "\n",
        "fig.update_xaxes(showgrid=False, zeroline=False, showticklabels=False)\n",
        "fig.update_yaxes(showgrid=False, zeroline=False, showticklabels=False)\n",
        "\n",
        "fig.show()"
      ]
    },
    {
      "cell_type": "code",
      "execution_count": 19,
      "id": "wWVlG-LdwIGT",
      "metadata": {
        "colab": {
          "base_uri": "https://localhost:8080/",
          "height": 437
        },
        "id": "wWVlG-LdwIGT",
        "outputId": "c782ade9-1187-42f7-d77a-361094d12804"
      },
      "outputs": [
        {
          "data": {
            "application/vnd.plotly.v1+json": {
              "config": {
                "plotlyServerURL": "https://plot.ly"
              },
              "data": [
                {
                  "colorscale": [
                    [
                      0,
                      "#00ECC2"
                    ],
                    [
                      0.25,
                      "#0078FF"
                    ],
                    [
                      0.5,
                      "#cbe58e"
                    ],
                    [
                      0.75,
                      "#FF4359"
                    ],
                    [
                      1,
                      "rgba(170, 170, 170, 0.3)"
                    ]
                  ],
                  "customdata": [
                    [
                      "GBR",
                      "GBR",
                      "USA",
                      "USA",
                      "Other",
                      "Other",
                      "Other",
                      "Other",
                      "Other",
                      "Other"
                    ],
                    [
                      "GBR",
                      "GBR",
                      "USA",
                      "AUS",
                      "Other",
                      "Other",
                      "Other",
                      "Other",
                      "Other",
                      "Other"
                    ],
                    [
                      "GBR",
                      "GBR",
                      "USA",
                      "AUS",
                      "Other",
                      "Other",
                      "Other",
                      "Other",
                      "Other",
                      "Other"
                    ],
                    [
                      "GBR",
                      "GBR",
                      "USA",
                      "AUS",
                      "Other",
                      "Other",
                      "Other",
                      "Other",
                      "Other",
                      "Other"
                    ],
                    [
                      "GBR",
                      "GBR",
                      "USA",
                      "CAN",
                      "Other",
                      "Other",
                      "Other",
                      "Other",
                      "Other",
                      "Other"
                    ],
                    [
                      "GBR",
                      "GBR",
                      "USA",
                      "Other",
                      "Other",
                      "Other",
                      "Other",
                      "Other",
                      "Other",
                      "Other"
                    ],
                    [
                      "GBR",
                      "USA",
                      "USA",
                      "Other",
                      "Other",
                      "Other",
                      "Other",
                      "Other",
                      "Other",
                      "Other"
                    ],
                    [
                      "GBR",
                      "USA",
                      "USA",
                      "Other",
                      "Other",
                      "Other",
                      "Other",
                      "Other",
                      "Other",
                      "Other"
                    ],
                    [
                      "GBR",
                      "USA",
                      "USA",
                      "Other",
                      "Other",
                      "Other",
                      "Other",
                      "Other",
                      "Other",
                      "Other"
                    ],
                    [
                      "GBR",
                      "USA",
                      "USA",
                      "Other",
                      "Other",
                      "Other",
                      "Other",
                      "Other",
                      "Other",
                      "Other"
                    ]
                  ],
                  "hovertemplate": "%{customdata}<extra></extra>",
                  "showscale": false,
                  "type": "heatmap",
                  "x": {
                    "bdata": "AAECAwQFBgcICQ==",
                    "dtype": "i1"
                  },
                  "xaxis": "x",
                  "xgap": 3,
                  "y": {
                    "bdata": "AAECAwQFBgcICQ==",
                    "dtype": "i1"
                  },
                  "yaxis": "y",
                  "ygap": 3,
                  "z": {
                    "bdata": "AQECAgUFBQUFBQEBAgMFBQUFBQUBAQIDBQUFBQUFAQECAwUFBQUFBQEBAgQFBQUFBQUBAQIFBQUFBQUFAQICBQUFBQUFBQECAgUFBQUFBQUBAgIFBQUFBQUFAQICBQUFBQUFBQ==",
                    "dtype": "i1",
                    "shape": "10, 10"
                  }
                },
                {
                  "colorscale": [
                    [
                      0,
                      "#00ECC2"
                    ],
                    [
                      0.25,
                      "#0078FF"
                    ],
                    [
                      0.5,
                      "#cbe58e"
                    ],
                    [
                      0.75,
                      "#FF4359"
                    ],
                    [
                      1,
                      "rgba(170, 170, 170, 0.3)"
                    ]
                  ],
                  "customdata": [
                    [
                      "USA",
                      "USA",
                      "CAN",
                      "Other",
                      "Other",
                      "Other",
                      "Other",
                      "Other",
                      "Other",
                      "Other"
                    ],
                    [
                      "USA",
                      "GBR",
                      "CAN",
                      "Other",
                      "Other",
                      "Other",
                      "Other",
                      "Other",
                      "Other",
                      "Other"
                    ],
                    [
                      "USA",
                      "GBR",
                      "CAN",
                      "Other",
                      "Other",
                      "Other",
                      "Other",
                      "Other",
                      "Other",
                      "Other"
                    ],
                    [
                      "USA",
                      "GBR",
                      "CAN",
                      "Other",
                      "Other",
                      "Other",
                      "Other",
                      "Other",
                      "Other",
                      "Other"
                    ],
                    [
                      "USA",
                      "GBR",
                      "CAN",
                      "Other",
                      "Other",
                      "Other",
                      "Other",
                      "Other",
                      "Other",
                      "Other"
                    ],
                    [
                      "USA",
                      "GBR",
                      "CAN",
                      "Other",
                      "Other",
                      "Other",
                      "Other",
                      "Other",
                      "Other",
                      "Other"
                    ],
                    [
                      "USA",
                      "GBR",
                      "AUS",
                      "Other",
                      "Other",
                      "Other",
                      "Other",
                      "Other",
                      "Other",
                      "Other"
                    ],
                    [
                      "USA",
                      "GBR",
                      "AUS",
                      "Other",
                      "Other",
                      "Other",
                      "Other",
                      "Other",
                      "Other",
                      "Other"
                    ],
                    [
                      "USA",
                      "GBR",
                      "AUS",
                      "Other",
                      "Other",
                      "Other",
                      "Other",
                      "Other",
                      "Other",
                      "Other"
                    ],
                    [
                      "USA",
                      "GBR",
                      "AUS",
                      "Other",
                      "Other",
                      "Other",
                      "Other",
                      "Other",
                      "Other",
                      "Other"
                    ]
                  ],
                  "hovertemplate": "%{customdata}<extra></extra>",
                  "showscale": false,
                  "type": "heatmap",
                  "x": {
                    "bdata": "AAECAwQFBgcICQ==",
                    "dtype": "i1"
                  },
                  "xaxis": "x2",
                  "xgap": 3,
                  "y": {
                    "bdata": "AAECAwQFBgcICQ==",
                    "dtype": "i1"
                  },
                  "yaxis": "y2",
                  "ygap": 3,
                  "z": {
                    "bdata": "AQEDBQUFBQUFBQECAwUFBQUFBQUBAgMFBQUFBQUFAQIDBQUFBQUFBQECAwUFBQUFBQUBAgMFBQUFBQUFAQIEBQUFBQUFBQECBAUFBQUFBQUBAgQFBQUFBQUFAQIEBQUFBQUFBQ==",
                    "dtype": "i1",
                    "shape": "10, 10"
                  }
                },
                {
                  "colorscale": [
                    [
                      0,
                      "#00ECC2"
                    ],
                    [
                      0.25,
                      "#0078FF"
                    ],
                    [
                      0.5,
                      "#cbe58e"
                    ],
                    [
                      0.75,
                      "#FF4359"
                    ],
                    [
                      1,
                      "rgba(170, 170, 170, 0.3)"
                    ]
                  ],
                  "customdata": [
                    [
                      "USA",
                      "AUS",
                      "GBR",
                      "Other",
                      "Other",
                      "Other",
                      "Other",
                      "Other",
                      "Other",
                      "Other"
                    ],
                    [
                      "USA",
                      "AUS",
                      "CAN",
                      "Other",
                      "Other",
                      "Other",
                      "Other",
                      "Other",
                      "Other",
                      "Other"
                    ],
                    [
                      "USA",
                      "AUS",
                      "CAN",
                      "Other",
                      "Other",
                      "Other",
                      "Other",
                      "Other",
                      "Other",
                      "Other"
                    ],
                    [
                      "USA",
                      "AUS",
                      "CAN",
                      "Other",
                      "Other",
                      "Other",
                      "Other",
                      "Other",
                      "Other",
                      "Other"
                    ],
                    [
                      "USA",
                      "AUS",
                      "CAN",
                      "Other",
                      "Other",
                      "Other",
                      "Other",
                      "Other",
                      "Other",
                      "Other"
                    ],
                    [
                      "USA",
                      "GBR",
                      "CAN",
                      "Other",
                      "Other",
                      "Other",
                      "Other",
                      "Other",
                      "Other",
                      "Other"
                    ],
                    [
                      "USA",
                      "GBR",
                      "Other",
                      "Other",
                      "Other",
                      "Other",
                      "Other",
                      "Other",
                      "Other",
                      "Other"
                    ],
                    [
                      "USA",
                      "GBR",
                      "Other",
                      "Other",
                      "Other",
                      "Other",
                      "Other",
                      "Other",
                      "Other",
                      "Other"
                    ],
                    [
                      "AUS",
                      "GBR",
                      "Other",
                      "Other",
                      "Other",
                      "Other",
                      "Other",
                      "Other",
                      "Other",
                      "Other"
                    ],
                    [
                      "AUS",
                      "GBR",
                      "Other",
                      "Other",
                      "Other",
                      "Other",
                      "Other",
                      "Other",
                      "Other",
                      "Other"
                    ]
                  ],
                  "hovertemplate": "%{customdata}<extra></extra>",
                  "showscale": false,
                  "type": "heatmap",
                  "x": {
                    "bdata": "AAECAwQFBgcICQ==",
                    "dtype": "i1"
                  },
                  "xaxis": "x3",
                  "xgap": 3,
                  "y": {
                    "bdata": "AAECAwQFBgcICQ==",
                    "dtype": "i1"
                  },
                  "yaxis": "y3",
                  "ygap": 3,
                  "z": {
                    "bdata": "AQIDBQUFBQUFBQECBAUFBQUFBQUBAgQFBQUFBQUFAQIEBQUFBQUFBQECBAUFBQUFBQUBAwQFBQUFBQUFAQMFBQUFBQUFBQEDBQUFBQUFBQUCAwUFBQUFBQUFAgMFBQUFBQUFBQ==",
                    "dtype": "i1",
                    "shape": "10, 10"
                  }
                },
                {
                  "colorscale": [
                    [
                      0,
                      "#00ECC2"
                    ],
                    [
                      0.25,
                      "#0078FF"
                    ],
                    [
                      0.5,
                      "#cbe58e"
                    ],
                    [
                      0.75,
                      "#FF4359"
                    ],
                    [
                      1,
                      "rgba(170, 170, 170, 0.3)"
                    ]
                  ],
                  "customdata": [
                    [
                      "USA",
                      "GBR",
                      "Other",
                      "Other",
                      "Other",
                      "Other",
                      "Other",
                      "Other",
                      "Other",
                      "Other"
                    ],
                    [
                      "USA",
                      "GBR",
                      "Other",
                      "Other",
                      "Other",
                      "Other",
                      "Other",
                      "Other",
                      "Other",
                      "Other"
                    ],
                    [
                      "USA",
                      "GBR",
                      "Other",
                      "Other",
                      "Other",
                      "Other",
                      "Other",
                      "Other",
                      "Other",
                      "Other"
                    ],
                    [
                      "USA",
                      "GBR",
                      "Other",
                      "Other",
                      "Other",
                      "Other",
                      "Other",
                      "Other",
                      "Other",
                      "Other"
                    ],
                    [
                      "USA",
                      "CAN",
                      "Other",
                      "Other",
                      "Other",
                      "Other",
                      "Other",
                      "Other",
                      "Other",
                      "Other"
                    ],
                    [
                      "AUS",
                      "CAN",
                      "Other",
                      "Other",
                      "Other",
                      "Other",
                      "Other",
                      "Other",
                      "Other",
                      "Other"
                    ],
                    [
                      "AUS",
                      "CAN",
                      "Other",
                      "Other",
                      "Other",
                      "Other",
                      "Other",
                      "Other",
                      "Other",
                      "Other"
                    ],
                    [
                      "AUS",
                      "CAN",
                      "Other",
                      "Other",
                      "Other",
                      "Other",
                      "Other",
                      "Other",
                      "Other",
                      "Other"
                    ],
                    [
                      "AUS",
                      "Other",
                      "Other",
                      "Other",
                      "Other",
                      "Other",
                      "Other",
                      "Other",
                      "Other",
                      "Other"
                    ],
                    [
                      "AUS",
                      "Other",
                      "Other",
                      "Other",
                      "Other",
                      "Other",
                      "Other",
                      "Other",
                      "Other",
                      "Other"
                    ]
                  ],
                  "hovertemplate": "%{customdata}<extra></extra>",
                  "showscale": false,
                  "type": "heatmap",
                  "x": {
                    "bdata": "AAECAwQFBgcICQ==",
                    "dtype": "i1"
                  },
                  "xaxis": "x4",
                  "xgap": 3,
                  "y": {
                    "bdata": "AAECAwQFBgcICQ==",
                    "dtype": "i1"
                  },
                  "yaxis": "y4",
                  "ygap": 3,
                  "z": {
                    "bdata": "AQMFBQUFBQUFBQEDBQUFBQUFBQUBAwUFBQUFBQUFAQMFBQUFBQUFBQEEBQUFBQUFBQUCBAUFBQUFBQUFAgQFBQUFBQUFBQIEBQUFBQUFBQUCBQUFBQUFBQUFAgUFBQUFBQUFBQ==",
                    "dtype": "i1",
                    "shape": "10, 10"
                  }
                },
                {
                  "colorscale": [
                    [
                      0,
                      "#00ECC2"
                    ],
                    [
                      0.25,
                      "#0078FF"
                    ],
                    [
                      0.5,
                      "#cbe58e"
                    ],
                    [
                      0.75,
                      "#FF4359"
                    ],
                    [
                      1,
                      "rgba(170, 170, 170, 0.3)"
                    ]
                  ],
                  "customdata": [
                    [
                      "USA",
                      "AUS",
                      "Other",
                      "Other",
                      "Other",
                      "Other",
                      "Other",
                      "Other",
                      "Other",
                      "Other"
                    ],
                    [
                      "USA",
                      "AUS",
                      "Other",
                      "Other",
                      "Other",
                      "Other",
                      "Other",
                      "Other",
                      "Other",
                      "Other"
                    ],
                    [
                      "USA",
                      "GBR",
                      "Other",
                      "Other",
                      "Other",
                      "Other",
                      "Other",
                      "Other",
                      "Other",
                      "Other"
                    ],
                    [
                      "USA",
                      "GBR",
                      "Other",
                      "Other",
                      "Other",
                      "Other",
                      "Other",
                      "Other",
                      "Other",
                      "Other"
                    ],
                    [
                      "USA",
                      "GBR",
                      "Other",
                      "Other",
                      "Other",
                      "Other",
                      "Other",
                      "Other",
                      "Other",
                      "Other"
                    ],
                    [
                      "USA",
                      "GBR",
                      "Other",
                      "Other",
                      "Other",
                      "Other",
                      "Other",
                      "Other",
                      "Other",
                      "Other"
                    ],
                    [
                      "AUS",
                      "CAN",
                      "Other",
                      "Other",
                      "Other",
                      "Other",
                      "Other",
                      "Other",
                      "Other",
                      "Other"
                    ],
                    [
                      "AUS",
                      "CAN",
                      "Other",
                      "Other",
                      "Other",
                      "Other",
                      "Other",
                      "Other",
                      "Other",
                      "Other"
                    ],
                    [
                      "AUS",
                      "CAN",
                      "Other",
                      "Other",
                      "Other",
                      "Other",
                      "Other",
                      "Other",
                      "Other",
                      "Other"
                    ],
                    [
                      "AUS",
                      "CAN",
                      "Other",
                      "Other",
                      "Other",
                      "Other",
                      "Other",
                      "Other",
                      "Other",
                      "Other"
                    ]
                  ],
                  "hovertemplate": "%{customdata}<extra></extra>",
                  "showscale": false,
                  "type": "heatmap",
                  "x": {
                    "bdata": "AAECAwQFBgcICQ==",
                    "dtype": "i1"
                  },
                  "xaxis": "x5",
                  "xgap": 3,
                  "y": {
                    "bdata": "AAECAwQFBgcICQ==",
                    "dtype": "i1"
                  },
                  "yaxis": "y5",
                  "ygap": 3,
                  "z": {
                    "bdata": "AQIFBQUFBQUFBQECBQUFBQUFBQUBAwUFBQUFBQUFAQMFBQUFBQUFBQEDBQUFBQUFBQUBAwUFBQUFBQUFAgQFBQUFBQUFBQIEBQUFBQUFBQUCBAUFBQUFBQUFAgQFBQUFBQUFBQ==",
                    "dtype": "i1",
                    "shape": "10, 10"
                  }
                },
                {
                  "marker": {
                    "color": "#00ECC2",
                    "size": 10,
                    "symbol": "circle"
                  },
                  "mode": "markers",
                  "name": "USA",
                  "type": "scatter",
                  "x": [
                    null
                  ],
                  "y": [
                    null
                  ]
                },
                {
                  "marker": {
                    "color": "#0078FF",
                    "size": 10,
                    "symbol": "circle"
                  },
                  "mode": "markers",
                  "name": "GBR",
                  "type": "scatter",
                  "x": [
                    null
                  ],
                  "y": [
                    null
                  ]
                },
                {
                  "marker": {
                    "color": "#cbe58e",
                    "size": 10,
                    "symbol": "circle"
                  },
                  "mode": "markers",
                  "name": "AUS",
                  "type": "scatter",
                  "x": [
                    null
                  ],
                  "y": [
                    null
                  ]
                },
                {
                  "marker": {
                    "color": "#FF4359",
                    "size": 10,
                    "symbol": "circle"
                  },
                  "mode": "markers",
                  "name": "CAN",
                  "type": "scatter",
                  "x": [
                    null
                  ],
                  "y": [
                    null
                  ]
                },
                {
                  "marker": {
                    "color": "rgba(170, 170, 170, 0.3)",
                    "size": 10,
                    "symbol": "circle"
                  },
                  "mode": "markers",
                  "name": "Other",
                  "type": "scatter",
                  "x": [
                    null
                  ],
                  "y": [
                    null
                  ]
                }
              ],
              "layout": {
                "annotations": [
                  {
                    "font": {
                      "size": 16
                    },
                    "showarrow": false,
                    "text": "1896-1920",
                    "x": 0.08399999999999999,
                    "xanchor": "center",
                    "xref": "paper",
                    "y": 1,
                    "yanchor": "bottom",
                    "yref": "paper"
                  },
                  {
                    "font": {
                      "size": 16
                    },
                    "showarrow": false,
                    "text": "1924-1952",
                    "x": 0.292,
                    "xanchor": "center",
                    "xref": "paper",
                    "y": 1,
                    "yanchor": "bottom",
                    "yref": "paper"
                  },
                  {
                    "font": {
                      "size": 16
                    },
                    "showarrow": false,
                    "text": "1956-1984",
                    "x": 0.5,
                    "xanchor": "center",
                    "xref": "paper",
                    "y": 1,
                    "yanchor": "bottom",
                    "yref": "paper"
                  },
                  {
                    "font": {
                      "size": 16
                    },
                    "showarrow": false,
                    "text": "1988-2008",
                    "x": 0.708,
                    "xanchor": "center",
                    "xref": "paper",
                    "y": 1,
                    "yanchor": "bottom",
                    "yref": "paper"
                  },
                  {
                    "font": {
                      "size": 16
                    },
                    "showarrow": false,
                    "text": "2012-2020",
                    "x": 0.9159999999999999,
                    "xanchor": "center",
                    "xref": "paper",
                    "y": 1,
                    "yanchor": "bottom",
                    "yref": "paper"
                  }
                ],
                "height": 400,
                "paper_bgcolor": "rgba(0,0,0,0)",
                "plot_bgcolor": "rgba(0,0,0,0)",
                "template": {
                  "data": {
                    "bar": [
                      {
                        "error_x": {
                          "color": "#2a3f5f"
                        },
                        "error_y": {
                          "color": "#2a3f5f"
                        },
                        "marker": {
                          "line": {
                            "color": "#E5ECF6",
                            "width": 0.5
                          },
                          "pattern": {
                            "fillmode": "overlay",
                            "size": 10,
                            "solidity": 0.2
                          }
                        },
                        "type": "bar"
                      }
                    ],
                    "barpolar": [
                      {
                        "marker": {
                          "line": {
                            "color": "#E5ECF6",
                            "width": 0.5
                          },
                          "pattern": {
                            "fillmode": "overlay",
                            "size": 10,
                            "solidity": 0.2
                          }
                        },
                        "type": "barpolar"
                      }
                    ],
                    "carpet": [
                      {
                        "aaxis": {
                          "endlinecolor": "#2a3f5f",
                          "gridcolor": "white",
                          "linecolor": "white",
                          "minorgridcolor": "white",
                          "startlinecolor": "#2a3f5f"
                        },
                        "baxis": {
                          "endlinecolor": "#2a3f5f",
                          "gridcolor": "white",
                          "linecolor": "white",
                          "minorgridcolor": "white",
                          "startlinecolor": "#2a3f5f"
                        },
                        "type": "carpet"
                      }
                    ],
                    "choropleth": [
                      {
                        "colorbar": {
                          "outlinewidth": 0,
                          "ticks": ""
                        },
                        "type": "choropleth"
                      }
                    ],
                    "contour": [
                      {
                        "colorbar": {
                          "outlinewidth": 0,
                          "ticks": ""
                        },
                        "colorscale": [
                          [
                            0,
                            "#0d0887"
                          ],
                          [
                            0.1111111111111111,
                            "#46039f"
                          ],
                          [
                            0.2222222222222222,
                            "#7201a8"
                          ],
                          [
                            0.3333333333333333,
                            "#9c179e"
                          ],
                          [
                            0.4444444444444444,
                            "#bd3786"
                          ],
                          [
                            0.5555555555555556,
                            "#d8576b"
                          ],
                          [
                            0.6666666666666666,
                            "#ed7953"
                          ],
                          [
                            0.7777777777777778,
                            "#fb9f3a"
                          ],
                          [
                            0.8888888888888888,
                            "#fdca26"
                          ],
                          [
                            1,
                            "#f0f921"
                          ]
                        ],
                        "type": "contour"
                      }
                    ],
                    "contourcarpet": [
                      {
                        "colorbar": {
                          "outlinewidth": 0,
                          "ticks": ""
                        },
                        "type": "contourcarpet"
                      }
                    ],
                    "heatmap": [
                      {
                        "colorbar": {
                          "outlinewidth": 0,
                          "ticks": ""
                        },
                        "colorscale": [
                          [
                            0,
                            "#0d0887"
                          ],
                          [
                            0.1111111111111111,
                            "#46039f"
                          ],
                          [
                            0.2222222222222222,
                            "#7201a8"
                          ],
                          [
                            0.3333333333333333,
                            "#9c179e"
                          ],
                          [
                            0.4444444444444444,
                            "#bd3786"
                          ],
                          [
                            0.5555555555555556,
                            "#d8576b"
                          ],
                          [
                            0.6666666666666666,
                            "#ed7953"
                          ],
                          [
                            0.7777777777777778,
                            "#fb9f3a"
                          ],
                          [
                            0.8888888888888888,
                            "#fdca26"
                          ],
                          [
                            1,
                            "#f0f921"
                          ]
                        ],
                        "type": "heatmap"
                      }
                    ],
                    "histogram": [
                      {
                        "marker": {
                          "pattern": {
                            "fillmode": "overlay",
                            "size": 10,
                            "solidity": 0.2
                          }
                        },
                        "type": "histogram"
                      }
                    ],
                    "histogram2d": [
                      {
                        "colorbar": {
                          "outlinewidth": 0,
                          "ticks": ""
                        },
                        "colorscale": [
                          [
                            0,
                            "#0d0887"
                          ],
                          [
                            0.1111111111111111,
                            "#46039f"
                          ],
                          [
                            0.2222222222222222,
                            "#7201a8"
                          ],
                          [
                            0.3333333333333333,
                            "#9c179e"
                          ],
                          [
                            0.4444444444444444,
                            "#bd3786"
                          ],
                          [
                            0.5555555555555556,
                            "#d8576b"
                          ],
                          [
                            0.6666666666666666,
                            "#ed7953"
                          ],
                          [
                            0.7777777777777778,
                            "#fb9f3a"
                          ],
                          [
                            0.8888888888888888,
                            "#fdca26"
                          ],
                          [
                            1,
                            "#f0f921"
                          ]
                        ],
                        "type": "histogram2d"
                      }
                    ],
                    "histogram2dcontour": [
                      {
                        "colorbar": {
                          "outlinewidth": 0,
                          "ticks": ""
                        },
                        "colorscale": [
                          [
                            0,
                            "#0d0887"
                          ],
                          [
                            0.1111111111111111,
                            "#46039f"
                          ],
                          [
                            0.2222222222222222,
                            "#7201a8"
                          ],
                          [
                            0.3333333333333333,
                            "#9c179e"
                          ],
                          [
                            0.4444444444444444,
                            "#bd3786"
                          ],
                          [
                            0.5555555555555556,
                            "#d8576b"
                          ],
                          [
                            0.6666666666666666,
                            "#ed7953"
                          ],
                          [
                            0.7777777777777778,
                            "#fb9f3a"
                          ],
                          [
                            0.8888888888888888,
                            "#fdca26"
                          ],
                          [
                            1,
                            "#f0f921"
                          ]
                        ],
                        "type": "histogram2dcontour"
                      }
                    ],
                    "mesh3d": [
                      {
                        "colorbar": {
                          "outlinewidth": 0,
                          "ticks": ""
                        },
                        "type": "mesh3d"
                      }
                    ],
                    "parcoords": [
                      {
                        "line": {
                          "colorbar": {
                            "outlinewidth": 0,
                            "ticks": ""
                          }
                        },
                        "type": "parcoords"
                      }
                    ],
                    "pie": [
                      {
                        "automargin": true,
                        "type": "pie"
                      }
                    ],
                    "scatter": [
                      {
                        "fillpattern": {
                          "fillmode": "overlay",
                          "size": 10,
                          "solidity": 0.2
                        },
                        "type": "scatter"
                      }
                    ],
                    "scatter3d": [
                      {
                        "line": {
                          "colorbar": {
                            "outlinewidth": 0,
                            "ticks": ""
                          }
                        },
                        "marker": {
                          "colorbar": {
                            "outlinewidth": 0,
                            "ticks": ""
                          }
                        },
                        "type": "scatter3d"
                      }
                    ],
                    "scattercarpet": [
                      {
                        "marker": {
                          "colorbar": {
                            "outlinewidth": 0,
                            "ticks": ""
                          }
                        },
                        "type": "scattercarpet"
                      }
                    ],
                    "scattergeo": [
                      {
                        "marker": {
                          "colorbar": {
                            "outlinewidth": 0,
                            "ticks": ""
                          }
                        },
                        "type": "scattergeo"
                      }
                    ],
                    "scattergl": [
                      {
                        "marker": {
                          "colorbar": {
                            "outlinewidth": 0,
                            "ticks": ""
                          }
                        },
                        "type": "scattergl"
                      }
                    ],
                    "scattermap": [
                      {
                        "marker": {
                          "colorbar": {
                            "outlinewidth": 0,
                            "ticks": ""
                          }
                        },
                        "type": "scattermap"
                      }
                    ],
                    "scattermapbox": [
                      {
                        "marker": {
                          "colorbar": {
                            "outlinewidth": 0,
                            "ticks": ""
                          }
                        },
                        "type": "scattermapbox"
                      }
                    ],
                    "scatterpolar": [
                      {
                        "marker": {
                          "colorbar": {
                            "outlinewidth": 0,
                            "ticks": ""
                          }
                        },
                        "type": "scatterpolar"
                      }
                    ],
                    "scatterpolargl": [
                      {
                        "marker": {
                          "colorbar": {
                            "outlinewidth": 0,
                            "ticks": ""
                          }
                        },
                        "type": "scatterpolargl"
                      }
                    ],
                    "scatterternary": [
                      {
                        "marker": {
                          "colorbar": {
                            "outlinewidth": 0,
                            "ticks": ""
                          }
                        },
                        "type": "scatterternary"
                      }
                    ],
                    "surface": [
                      {
                        "colorbar": {
                          "outlinewidth": 0,
                          "ticks": ""
                        },
                        "colorscale": [
                          [
                            0,
                            "#0d0887"
                          ],
                          [
                            0.1111111111111111,
                            "#46039f"
                          ],
                          [
                            0.2222222222222222,
                            "#7201a8"
                          ],
                          [
                            0.3333333333333333,
                            "#9c179e"
                          ],
                          [
                            0.4444444444444444,
                            "#bd3786"
                          ],
                          [
                            0.5555555555555556,
                            "#d8576b"
                          ],
                          [
                            0.6666666666666666,
                            "#ed7953"
                          ],
                          [
                            0.7777777777777778,
                            "#fb9f3a"
                          ],
                          [
                            0.8888888888888888,
                            "#fdca26"
                          ],
                          [
                            1,
                            "#f0f921"
                          ]
                        ],
                        "type": "surface"
                      }
                    ],
                    "table": [
                      {
                        "cells": {
                          "fill": {
                            "color": "#EBF0F8"
                          },
                          "line": {
                            "color": "white"
                          }
                        },
                        "header": {
                          "fill": {
                            "color": "#C8D4E3"
                          },
                          "line": {
                            "color": "white"
                          }
                        },
                        "type": "table"
                      }
                    ]
                  },
                  "layout": {
                    "annotationdefaults": {
                      "arrowcolor": "#2a3f5f",
                      "arrowhead": 0,
                      "arrowwidth": 1
                    },
                    "autotypenumbers": "strict",
                    "coloraxis": {
                      "colorbar": {
                        "outlinewidth": 0,
                        "ticks": ""
                      }
                    },
                    "colorscale": {
                      "diverging": [
                        [
                          0,
                          "#8e0152"
                        ],
                        [
                          0.1,
                          "#c51b7d"
                        ],
                        [
                          0.2,
                          "#de77ae"
                        ],
                        [
                          0.3,
                          "#f1b6da"
                        ],
                        [
                          0.4,
                          "#fde0ef"
                        ],
                        [
                          0.5,
                          "#f7f7f7"
                        ],
                        [
                          0.6,
                          "#e6f5d0"
                        ],
                        [
                          0.7,
                          "#b8e186"
                        ],
                        [
                          0.8,
                          "#7fbc41"
                        ],
                        [
                          0.9,
                          "#4d9221"
                        ],
                        [
                          1,
                          "#276419"
                        ]
                      ],
                      "sequential": [
                        [
                          0,
                          "#0d0887"
                        ],
                        [
                          0.1111111111111111,
                          "#46039f"
                        ],
                        [
                          0.2222222222222222,
                          "#7201a8"
                        ],
                        [
                          0.3333333333333333,
                          "#9c179e"
                        ],
                        [
                          0.4444444444444444,
                          "#bd3786"
                        ],
                        [
                          0.5555555555555556,
                          "#d8576b"
                        ],
                        [
                          0.6666666666666666,
                          "#ed7953"
                        ],
                        [
                          0.7777777777777778,
                          "#fb9f3a"
                        ],
                        [
                          0.8888888888888888,
                          "#fdca26"
                        ],
                        [
                          1,
                          "#f0f921"
                        ]
                      ],
                      "sequentialminus": [
                        [
                          0,
                          "#0d0887"
                        ],
                        [
                          0.1111111111111111,
                          "#46039f"
                        ],
                        [
                          0.2222222222222222,
                          "#7201a8"
                        ],
                        [
                          0.3333333333333333,
                          "#9c179e"
                        ],
                        [
                          0.4444444444444444,
                          "#bd3786"
                        ],
                        [
                          0.5555555555555556,
                          "#d8576b"
                        ],
                        [
                          0.6666666666666666,
                          "#ed7953"
                        ],
                        [
                          0.7777777777777778,
                          "#fb9f3a"
                        ],
                        [
                          0.8888888888888888,
                          "#fdca26"
                        ],
                        [
                          1,
                          "#f0f921"
                        ]
                      ]
                    },
                    "colorway": [
                      "#636efa",
                      "#EF553B",
                      "#00cc96",
                      "#ab63fa",
                      "#FFA15A",
                      "#19d3f3",
                      "#FF6692",
                      "#B6E880",
                      "#FF97FF",
                      "#FECB52"
                    ],
                    "font": {
                      "color": "#2a3f5f"
                    },
                    "geo": {
                      "bgcolor": "white",
                      "lakecolor": "white",
                      "landcolor": "#E5ECF6",
                      "showlakes": true,
                      "showland": true,
                      "subunitcolor": "white"
                    },
                    "hoverlabel": {
                      "align": "left"
                    },
                    "hovermode": "closest",
                    "mapbox": {
                      "style": "light"
                    },
                    "paper_bgcolor": "white",
                    "plot_bgcolor": "#E5ECF6",
                    "polar": {
                      "angularaxis": {
                        "gridcolor": "white",
                        "linecolor": "white",
                        "ticks": ""
                      },
                      "bgcolor": "#E5ECF6",
                      "radialaxis": {
                        "gridcolor": "white",
                        "linecolor": "white",
                        "ticks": ""
                      }
                    },
                    "scene": {
                      "xaxis": {
                        "backgroundcolor": "#E5ECF6",
                        "gridcolor": "white",
                        "gridwidth": 2,
                        "linecolor": "white",
                        "showbackground": true,
                        "ticks": "",
                        "zerolinecolor": "white"
                      },
                      "yaxis": {
                        "backgroundcolor": "#E5ECF6",
                        "gridcolor": "white",
                        "gridwidth": 2,
                        "linecolor": "white",
                        "showbackground": true,
                        "ticks": "",
                        "zerolinecolor": "white"
                      },
                      "zaxis": {
                        "backgroundcolor": "#E5ECF6",
                        "gridcolor": "white",
                        "gridwidth": 2,
                        "linecolor": "white",
                        "showbackground": true,
                        "ticks": "",
                        "zerolinecolor": "white"
                      }
                    },
                    "shapedefaults": {
                      "line": {
                        "color": "#2a3f5f"
                      }
                    },
                    "ternary": {
                      "aaxis": {
                        "gridcolor": "white",
                        "linecolor": "white",
                        "ticks": ""
                      },
                      "baxis": {
                        "gridcolor": "white",
                        "linecolor": "white",
                        "ticks": ""
                      },
                      "bgcolor": "#E5ECF6",
                      "caxis": {
                        "gridcolor": "white",
                        "linecolor": "white",
                        "ticks": ""
                      }
                    },
                    "title": {
                      "x": 0.05
                    },
                    "xaxis": {
                      "automargin": true,
                      "gridcolor": "white",
                      "linecolor": "white",
                      "ticks": "",
                      "title": {
                        "standoff": 15
                      },
                      "zerolinecolor": "white",
                      "zerolinewidth": 2
                    },
                    "yaxis": {
                      "automargin": true,
                      "gridcolor": "white",
                      "linecolor": "white",
                      "ticks": "",
                      "title": {
                        "standoff": 15
                      },
                      "zerolinecolor": "white",
                      "zerolinewidth": 2
                    }
                  }
                },
                "title": {
                  "text": "Swimming Participations by Period (Each Square Represents 1% of Participations)"
                },
                "width": 1500,
                "xaxis": {
                  "anchor": "y",
                  "domain": [
                    0,
                    0.16799999999999998
                  ],
                  "showgrid": false,
                  "showticklabels": false,
                  "zeroline": false
                },
                "xaxis2": {
                  "anchor": "y2",
                  "domain": [
                    0.208,
                    0.376
                  ],
                  "showgrid": false,
                  "showticklabels": false,
                  "zeroline": false
                },
                "xaxis3": {
                  "anchor": "y3",
                  "domain": [
                    0.416,
                    0.584
                  ],
                  "showgrid": false,
                  "showticklabels": false,
                  "zeroline": false
                },
                "xaxis4": {
                  "anchor": "y4",
                  "domain": [
                    0.624,
                    0.792
                  ],
                  "showgrid": false,
                  "showticklabels": false,
                  "zeroline": false
                },
                "xaxis5": {
                  "anchor": "y5",
                  "domain": [
                    0.832,
                    1
                  ],
                  "showgrid": false,
                  "showticklabels": false,
                  "zeroline": false
                },
                "yaxis": {
                  "anchor": "x",
                  "domain": [
                    0,
                    1
                  ],
                  "showgrid": false,
                  "showticklabels": false,
                  "zeroline": false
                },
                "yaxis2": {
                  "anchor": "x2",
                  "domain": [
                    0,
                    1
                  ],
                  "showgrid": false,
                  "showticklabels": false,
                  "zeroline": false
                },
                "yaxis3": {
                  "anchor": "x3",
                  "domain": [
                    0,
                    1
                  ],
                  "showgrid": false,
                  "showticklabels": false,
                  "zeroline": false
                },
                "yaxis4": {
                  "anchor": "x4",
                  "domain": [
                    0,
                    1
                  ],
                  "showgrid": false,
                  "showticklabels": false,
                  "zeroline": false
                },
                "yaxis5": {
                  "anchor": "x5",
                  "domain": [
                    0,
                    1
                  ],
                  "showgrid": false,
                  "showticklabels": false,
                  "zeroline": false
                }
              }
            }
          },
          "metadata": {},
          "output_type": "display_data"
        }
      ],
      "source": [
        "year_groups = [\n",
        "    (1896, 1920),\n",
        "    (1924, 1952),\n",
        "    (1956, 1984),\n",
        "    (1988, 2008),\n",
        "    (2012, 2020)\n",
        "]\n",
        "\n",
        "df_swimming = olympics_data[olympics_data[\"Sport\"] == \"Swimming\"]\n",
        "total_participation_counts = df_swimming[\"NOC\"].value_counts()\n",
        "\n",
        "top_countries = total_participation_counts.head(3).index.tolist() + ['CAN']\n",
        "\n",
        "color_palette = [\"#00ECC2\", \"#0078FF\", \"#cbe58e\", \"#FF4359\"]\n",
        "country_colors = {country: color_palette[i] for i, country in enumerate(top_countries)}\n",
        "country_colors[\"Other\"] = \"rgba(170, 170, 170, 0.3)\"\n",
        "\n",
        "fig = make_subplots(rows=1, cols=5, subplot_titles=[f\"{start}-{end}\" for start, end in year_groups])\n",
        "\n",
        "for idx, (start, end) in enumerate(year_groups):\n",
        "    df_period = df_swimming[(df_swimming[\"Year\"] >= start) & (df_swimming[\"Year\"] <= end)]\n",
        "    df_grouped = df_period[\"NOC\"].value_counts().reset_index()\n",
        "    df_grouped.columns = [\"Country\", \"Participations\"]\n",
        "    df_grouped[\"Country\"] = df_grouped[\"Country\"].apply(lambda x: x if x in top_countries else \"Other\")\n",
        "\n",
        "    df_grouped = df_grouped.groupby(\"Country\")[\"Participations\"].sum().reset_index()\n",
        "\n",
        "    df_grouped = df_grouped.sort_values(by=\"Participations\", ascending=False)\n",
        "    if \"Other\" in df_grouped[\"Country\"].values:\n",
        "        df_grouped = pd.concat([\n",
        "            df_grouped[df_grouped[\"Country\"] != \"Other\"],\n",
        "            df_grouped[df_grouped[\"Country\"] == \"Other\"]\n",
        "        ])\n",
        "\n",
        "    df_grouped[\"Normalized\"] = (df_grouped[\"Participations\"] / df_grouped[\"Participations\"].sum() * 100).round().astype(int)\n",
        "\n",
        "    while df_grouped[\"Normalized\"].sum() > 100:\n",
        "        df_grouped.loc[df_grouped[\"Normalized\"].idxmax(), \"Normalized\"] -= 1\n",
        "    while df_grouped[\"Normalized\"].sum() < 100:\n",
        "        df_grouped.loc[df_grouped[\"Normalized\"].idxmax(), \"Normalized\"] += 1\n",
        "\n",
        "    country_mapping = {country: i + 1 for i, country in enumerate(df_grouped[\"Country\"])}\n",
        "\n",
        "    flat_list = []\n",
        "    for country, count in zip(df_grouped[\"Country\"], df_grouped[\"Normalized\"]):\n",
        "        flat_list.extend([country_mapping[country]] * count)\n",
        "\n",
        "    waffle_array = np.array(flat_list).reshape(10, 10, order=\"F\")\n",
        "\n",
        "    label_map = {v: k for k, v in country_mapping.items()}\n",
        "    labels = np.vectorize(label_map.get)(waffle_array)\n",
        "\n",
        "    fig.add_trace(\n",
        "        go.Heatmap(\n",
        "            x=np.arange(10), y=np.arange(10),\n",
        "            z=waffle_array, customdata=labels,\n",
        "            xgap=3, ygap=3,\n",
        "            colorscale=[(i / 4, color_palette[i]) for i in range(4)] + [(1.0, \"rgba(170, 170, 170, 0.3)\")],\n",
        "            showscale=False,\n",
        "            hovertemplate=\"%{customdata}<extra></extra>\"\n",
        "        ),\n",
        "        row=1, col=idx + 1\n",
        "    )\n",
        "\n",
        "legend_entries = []\n",
        "for country, color in country_colors.items():\n",
        "    legend_entries.append(\n",
        "        go.Scatter(\n",
        "            x=[None], y=[None], mode='markers',\n",
        "            marker=dict(color=color, symbol='circle', size=10),\n",
        "            name=country\n",
        "        )\n",
        "    )\n",
        "\n",
        "fig.add_traces(legend_entries)\n",
        "\n",
        "fig.update_layout(\n",
        "    title=\"Swimming Participations by Period (Each Square Represents 1% of Participations)\",\n",
        "    width=1500, height=400,\n",
        "    plot_bgcolor='rgba(0,0,0,0)',\n",
        "    paper_bgcolor='rgba(0,0,0,0)',\n",
        ")\n",
        "\n",
        "for i in range(1, 6):\n",
        "    fig.update_xaxes(showgrid=False, zeroline=False, showticklabels=False, row=1, col=i)\n",
        "    fig.update_yaxes(showgrid=False, zeroline=False, showticklabels=False, row=1, col=i)\n",
        "\n",
        "fig.show()"
      ]
    },
    {
      "cell_type": "markdown",
      "id": "K6wyhuE_bGrZ",
      "metadata": {
        "id": "K6wyhuE_bGrZ"
      },
      "source": [
        "# Genre"
      ]
    },
    {
      "cell_type": "code",
      "execution_count": 20,
      "id": "kt1UTBn4hyic",
      "metadata": {
        "colab": {
          "base_uri": "https://localhost:8080/",
          "height": 737
        },
        "id": "kt1UTBn4hyic",
        "outputId": "5e6a6add-5d57-4fac-b589-ec37aadf03f0"
      },
      "outputs": [
        {
          "data": {
            "application/vnd.plotly.v1+json": {
              "config": {
                "plotlyServerURL": "https://plot.ly"
              },
              "data": [
                {
                  "hovertemplate": "Gender=Men's<br>Number of Events=%{x}<br>Event=%{y}<extra></extra>",
                  "legendgroup": "Men's",
                  "marker": {
                    "color": "blue",
                    "symbol": "circle"
                  },
                  "mode": "markers",
                  "name": "Men's",
                  "orientation": "h",
                  "showlegend": true,
                  "type": "scatter",
                  "x": {
                    "bdata": "igRwAGsD4AcxAK4CCQY5ANYCLAB2BwMAWQDVBgcAWwA1A7gFJADWAygAWAViA6sCggPaAtoDlwhLALkCzAJvAw==",
                    "dtype": "i2"
                  },
                  "xaxis": "x",
                  "y": [
                    "1,500m",
                    "10 kilometres Walk",
                    "10,000m",
                    "100m",
                    "1500m",
                    "20 kilometres Walk",
                    "200m",
                    "20km Race Walk",
                    "3,000 metres Steeplechase",
                    "3000m Steeplechase",
                    "4 x 100 metres Relay",
                    "4 x 100m Relay",
                    "4 x 100m Relay Team",
                    "4 x 400 metres Relay",
                    "4 x 400m Relay",
                    "4 x 400m Relay Team",
                    "400 metres Hurdles",
                    "400m",
                    "400m Hurdles",
                    "5,000m",
                    "5000m",
                    "800m",
                    "Discus Throw",
                    "Hammer Throw",
                    "High Jump",
                    "Javelin Throw",
                    "Long Jump",
                    "Marathon",
                    "Pentathlon",
                    "Pole Vault",
                    "Shot Put",
                    "Triple Jump"
                  ],
                  "yaxis": "y"
                },
                {
                  "hovertemplate": "Gender=Women's<br>Number of Events=%{x}<br>Event=%{y}<extra></extra>",
                  "legendgroup": "Women's",
                  "marker": {
                    "color": "pink",
                    "symbol": "diamond"
                  },
                  "mode": "markers",
                  "name": "Women's",
                  "orientation": "h",
                  "showlegend": true,
                  "type": "scatter",
                  "x": {
                    "bdata": "qwFYADUBcAQtACkBKgM6AJQAKQCWBAUAWQDtAgIAYQAuAYACKADrACYAWgIcAuIAWAISAlsCQQN6AM8ArQHqAA==",
                    "dtype": "i2"
                  },
                  "xaxis": "x",
                  "y": [
                    "1,500m",
                    "10 kilometres Walk",
                    "10,000m",
                    "100m",
                    "1500m",
                    "20 kilometres Walk",
                    "200m",
                    "20km Race Walk",
                    "3,000 metres Steeplechase",
                    "3000m Steeplechase",
                    "4 x 100 metres Relay",
                    "4 x 100m Relay",
                    "4 x 100m Relay Team",
                    "4 x 400 metres Relay",
                    "4 x 400m Relay",
                    "4 x 400m Relay Team",
                    "400 metres Hurdles",
                    "400m",
                    "400m Hurdles",
                    "5,000m",
                    "5000m",
                    "800m",
                    "Discus Throw",
                    "Hammer Throw",
                    "High Jump",
                    "Javelin Throw",
                    "Long Jump",
                    "Marathon",
                    "Pentathlon",
                    "Pole Vault",
                    "Shot Put",
                    "Triple Jump"
                  ],
                  "yaxis": "y"
                },
                {
                  "line": {
                    "color": "gray",
                    "dash": "dot",
                    "width": 2
                  },
                  "mode": "lines",
                  "showlegend": false,
                  "type": "scatter",
                  "x": [
                    1162,
                    427
                  ],
                  "y": [
                    "1,500m",
                    "1,500m"
                  ]
                },
                {
                  "line": {
                    "color": "gray",
                    "dash": "dot",
                    "width": 2
                  },
                  "mode": "lines",
                  "showlegend": false,
                  "type": "scatter",
                  "x": [
                    112,
                    88
                  ],
                  "y": [
                    "10 kilometres Walk",
                    "10 kilometres Walk"
                  ]
                },
                {
                  "line": {
                    "color": "gray",
                    "dash": "dot",
                    "width": 2
                  },
                  "mode": "lines",
                  "showlegend": false,
                  "type": "scatter",
                  "x": [
                    875,
                    309
                  ],
                  "y": [
                    "10,000m",
                    "10,000m"
                  ]
                },
                {
                  "line": {
                    "color": "gray",
                    "dash": "dot",
                    "width": 2
                  },
                  "mode": "lines",
                  "showlegend": false,
                  "type": "scatter",
                  "x": [
                    2016,
                    1136
                  ],
                  "y": [
                    "100m",
                    "100m"
                  ]
                },
                {
                  "line": {
                    "color": "gray",
                    "dash": "dot",
                    "width": 2
                  },
                  "mode": "lines",
                  "showlegend": false,
                  "type": "scatter",
                  "x": [
                    49,
                    45
                  ],
                  "y": [
                    "1500m",
                    "1500m"
                  ]
                },
                {
                  "line": {
                    "color": "gray",
                    "dash": "dot",
                    "width": 2
                  },
                  "mode": "lines",
                  "showlegend": false,
                  "type": "scatter",
                  "x": [
                    686,
                    297
                  ],
                  "y": [
                    "20 kilometres Walk",
                    "20 kilometres Walk"
                  ]
                },
                {
                  "line": {
                    "color": "gray",
                    "dash": "dot",
                    "width": 2
                  },
                  "mode": "lines",
                  "showlegend": false,
                  "type": "scatter",
                  "x": [
                    1545,
                    810
                  ],
                  "y": [
                    "200m",
                    "200m"
                  ]
                },
                {
                  "line": {
                    "color": "gray",
                    "dash": "dot",
                    "width": 2
                  },
                  "mode": "lines",
                  "showlegend": false,
                  "type": "scatter",
                  "x": [
                    57,
                    58
                  ],
                  "y": [
                    "20km Race Walk",
                    "20km Race Walk"
                  ]
                },
                {
                  "line": {
                    "color": "gray",
                    "dash": "dot",
                    "width": 2
                  },
                  "mode": "lines",
                  "showlegend": false,
                  "type": "scatter",
                  "x": [
                    726,
                    148
                  ],
                  "y": [
                    "3,000 metres Steeplechase",
                    "3,000 metres Steeplechase"
                  ]
                },
                {
                  "line": {
                    "color": "gray",
                    "dash": "dot",
                    "width": 2
                  },
                  "mode": "lines",
                  "showlegend": false,
                  "type": "scatter",
                  "x": [
                    44,
                    41
                  ],
                  "y": [
                    "3000m Steeplechase",
                    "3000m Steeplechase"
                  ]
                },
                {
                  "line": {
                    "color": "gray",
                    "dash": "dot",
                    "width": 2
                  },
                  "mode": "lines",
                  "showlegend": false,
                  "type": "scatter",
                  "x": [
                    1910,
                    1174
                  ],
                  "y": [
                    "4 x 100 metres Relay",
                    "4 x 100 metres Relay"
                  ]
                },
                {
                  "line": {
                    "color": "gray",
                    "dash": "dot",
                    "width": 2
                  },
                  "mode": "lines",
                  "showlegend": false,
                  "type": "scatter",
                  "x": [
                    3,
                    5
                  ],
                  "y": [
                    "4 x 100m Relay",
                    "4 x 100m Relay"
                  ]
                },
                {
                  "line": {
                    "color": "gray",
                    "dash": "dot",
                    "width": 2
                  },
                  "mode": "lines",
                  "showlegend": false,
                  "type": "scatter",
                  "x": [
                    89,
                    89
                  ],
                  "y": [
                    "4 x 100m Relay Team",
                    "4 x 100m Relay Team"
                  ]
                },
                {
                  "line": {
                    "color": "gray",
                    "dash": "dot",
                    "width": 2
                  },
                  "mode": "lines",
                  "showlegend": false,
                  "type": "scatter",
                  "x": [
                    1749,
                    749
                  ],
                  "y": [
                    "4 x 400 metres Relay",
                    "4 x 400 metres Relay"
                  ]
                },
                {
                  "line": {
                    "color": "gray",
                    "dash": "dot",
                    "width": 2
                  },
                  "mode": "lines",
                  "showlegend": false,
                  "type": "scatter",
                  "x": [
                    7,
                    2
                  ],
                  "y": [
                    "4 x 400m Relay",
                    "4 x 400m Relay"
                  ]
                },
                {
                  "line": {
                    "color": "gray",
                    "dash": "dot",
                    "width": 2
                  },
                  "mode": "lines",
                  "showlegend": false,
                  "type": "scatter",
                  "x": [
                    91,
                    97
                  ],
                  "y": [
                    "4 x 400m Relay Team",
                    "4 x 400m Relay Team"
                  ]
                },
                {
                  "line": {
                    "color": "gray",
                    "dash": "dot",
                    "width": 2
                  },
                  "mode": "lines",
                  "showlegend": false,
                  "type": "scatter",
                  "x": [
                    821,
                    302
                  ],
                  "y": [
                    "400 metres Hurdles",
                    "400 metres Hurdles"
                  ]
                },
                {
                  "line": {
                    "color": "gray",
                    "dash": "dot",
                    "width": 2
                  },
                  "mode": "lines",
                  "showlegend": false,
                  "type": "scatter",
                  "x": [
                    1464,
                    640
                  ],
                  "y": [
                    "400m",
                    "400m"
                  ]
                },
                {
                  "line": {
                    "color": "gray",
                    "dash": "dot",
                    "width": 2
                  },
                  "mode": "lines",
                  "showlegend": false,
                  "type": "scatter",
                  "x": [
                    36,
                    40
                  ],
                  "y": [
                    "400m Hurdles",
                    "400m Hurdles"
                  ]
                },
                {
                  "line": {
                    "color": "gray",
                    "dash": "dot",
                    "width": 2
                  },
                  "mode": "lines",
                  "showlegend": false,
                  "type": "scatter",
                  "x": [
                    982,
                    235
                  ],
                  "y": [
                    "5,000m",
                    "5,000m"
                  ]
                },
                {
                  "line": {
                    "color": "gray",
                    "dash": "dot",
                    "width": 2
                  },
                  "mode": "lines",
                  "showlegend": false,
                  "type": "scatter",
                  "x": [
                    40,
                    38
                  ],
                  "y": [
                    "5000m",
                    "5000m"
                  ]
                },
                {
                  "line": {
                    "color": "gray",
                    "dash": "dot",
                    "width": 2
                  },
                  "mode": "lines",
                  "showlegend": false,
                  "type": "scatter",
                  "x": [
                    1368,
                    602
                  ],
                  "y": [
                    "800m",
                    "800m"
                  ]
                },
                {
                  "line": {
                    "color": "gray",
                    "dash": "dot",
                    "width": 2
                  },
                  "mode": "lines",
                  "showlegend": false,
                  "type": "scatter",
                  "x": [
                    866,
                    540
                  ],
                  "y": [
                    "Discus Throw",
                    "Discus Throw"
                  ]
                },
                {
                  "line": {
                    "color": "gray",
                    "dash": "dot",
                    "width": 2
                  },
                  "mode": "lines",
                  "showlegend": false,
                  "type": "scatter",
                  "x": [
                    683,
                    226
                  ],
                  "y": [
                    "Hammer Throw",
                    "Hammer Throw"
                  ]
                },
                {
                  "line": {
                    "color": "gray",
                    "dash": "dot",
                    "width": 2
                  },
                  "mode": "lines",
                  "showlegend": false,
                  "type": "scatter",
                  "x": [
                    898,
                    600
                  ],
                  "y": [
                    "High Jump",
                    "High Jump"
                  ]
                },
                {
                  "line": {
                    "color": "gray",
                    "dash": "dot",
                    "width": 2
                  },
                  "mode": "lines",
                  "showlegend": false,
                  "type": "scatter",
                  "x": [
                    730,
                    530
                  ],
                  "y": [
                    "Javelin Throw",
                    "Javelin Throw"
                  ]
                },
                {
                  "line": {
                    "color": "gray",
                    "dash": "dot",
                    "width": 2
                  },
                  "mode": "lines",
                  "showlegend": false,
                  "type": "scatter",
                  "x": [
                    986,
                    603
                  ],
                  "y": [
                    "Long Jump",
                    "Long Jump"
                  ]
                },
                {
                  "line": {
                    "color": "gray",
                    "dash": "dot",
                    "width": 2
                  },
                  "mode": "lines",
                  "showlegend": false,
                  "type": "scatter",
                  "x": [
                    2199,
                    833
                  ],
                  "y": [
                    "Marathon",
                    "Marathon"
                  ]
                },
                {
                  "line": {
                    "color": "gray",
                    "dash": "dot",
                    "width": 2
                  },
                  "mode": "lines",
                  "showlegend": false,
                  "type": "scatter",
                  "x": [
                    75,
                    122
                  ],
                  "y": [
                    "Pentathlon",
                    "Pentathlon"
                  ]
                },
                {
                  "line": {
                    "color": "gray",
                    "dash": "dot",
                    "width": 2
                  },
                  "mode": "lines",
                  "showlegend": false,
                  "type": "scatter",
                  "x": [
                    697,
                    207
                  ],
                  "y": [
                    "Pole Vault",
                    "Pole Vault"
                  ]
                },
                {
                  "line": {
                    "color": "gray",
                    "dash": "dot",
                    "width": 2
                  },
                  "mode": "lines",
                  "showlegend": false,
                  "type": "scatter",
                  "x": [
                    716,
                    429
                  ],
                  "y": [
                    "Shot Put",
                    "Shot Put"
                  ]
                },
                {
                  "line": {
                    "color": "gray",
                    "dash": "dot",
                    "width": 2
                  },
                  "mode": "lines",
                  "showlegend": false,
                  "type": "scatter",
                  "x": [
                    879,
                    234
                  ],
                  "y": [
                    "Triple Jump",
                    "Triple Jump"
                  ]
                }
              ],
              "layout": {
                "font": {
                  "size": 14
                },
                "height": 700,
                "legend": {
                  "title": {
                    "text": "Gender"
                  },
                  "tracegroupgap": 0
                },
                "paper_bgcolor": "white",
                "plot_bgcolor": "white",
                "template": {
                  "data": {
                    "bar": [
                      {
                        "error_x": {
                          "color": "#2a3f5f"
                        },
                        "error_y": {
                          "color": "#2a3f5f"
                        },
                        "marker": {
                          "line": {
                            "color": "#E5ECF6",
                            "width": 0.5
                          },
                          "pattern": {
                            "fillmode": "overlay",
                            "size": 10,
                            "solidity": 0.2
                          }
                        },
                        "type": "bar"
                      }
                    ],
                    "barpolar": [
                      {
                        "marker": {
                          "line": {
                            "color": "#E5ECF6",
                            "width": 0.5
                          },
                          "pattern": {
                            "fillmode": "overlay",
                            "size": 10,
                            "solidity": 0.2
                          }
                        },
                        "type": "barpolar"
                      }
                    ],
                    "carpet": [
                      {
                        "aaxis": {
                          "endlinecolor": "#2a3f5f",
                          "gridcolor": "white",
                          "linecolor": "white",
                          "minorgridcolor": "white",
                          "startlinecolor": "#2a3f5f"
                        },
                        "baxis": {
                          "endlinecolor": "#2a3f5f",
                          "gridcolor": "white",
                          "linecolor": "white",
                          "minorgridcolor": "white",
                          "startlinecolor": "#2a3f5f"
                        },
                        "type": "carpet"
                      }
                    ],
                    "choropleth": [
                      {
                        "colorbar": {
                          "outlinewidth": 0,
                          "ticks": ""
                        },
                        "type": "choropleth"
                      }
                    ],
                    "contour": [
                      {
                        "colorbar": {
                          "outlinewidth": 0,
                          "ticks": ""
                        },
                        "colorscale": [
                          [
                            0,
                            "#0d0887"
                          ],
                          [
                            0.1111111111111111,
                            "#46039f"
                          ],
                          [
                            0.2222222222222222,
                            "#7201a8"
                          ],
                          [
                            0.3333333333333333,
                            "#9c179e"
                          ],
                          [
                            0.4444444444444444,
                            "#bd3786"
                          ],
                          [
                            0.5555555555555556,
                            "#d8576b"
                          ],
                          [
                            0.6666666666666666,
                            "#ed7953"
                          ],
                          [
                            0.7777777777777778,
                            "#fb9f3a"
                          ],
                          [
                            0.8888888888888888,
                            "#fdca26"
                          ],
                          [
                            1,
                            "#f0f921"
                          ]
                        ],
                        "type": "contour"
                      }
                    ],
                    "contourcarpet": [
                      {
                        "colorbar": {
                          "outlinewidth": 0,
                          "ticks": ""
                        },
                        "type": "contourcarpet"
                      }
                    ],
                    "heatmap": [
                      {
                        "colorbar": {
                          "outlinewidth": 0,
                          "ticks": ""
                        },
                        "colorscale": [
                          [
                            0,
                            "#0d0887"
                          ],
                          [
                            0.1111111111111111,
                            "#46039f"
                          ],
                          [
                            0.2222222222222222,
                            "#7201a8"
                          ],
                          [
                            0.3333333333333333,
                            "#9c179e"
                          ],
                          [
                            0.4444444444444444,
                            "#bd3786"
                          ],
                          [
                            0.5555555555555556,
                            "#d8576b"
                          ],
                          [
                            0.6666666666666666,
                            "#ed7953"
                          ],
                          [
                            0.7777777777777778,
                            "#fb9f3a"
                          ],
                          [
                            0.8888888888888888,
                            "#fdca26"
                          ],
                          [
                            1,
                            "#f0f921"
                          ]
                        ],
                        "type": "heatmap"
                      }
                    ],
                    "histogram": [
                      {
                        "marker": {
                          "pattern": {
                            "fillmode": "overlay",
                            "size": 10,
                            "solidity": 0.2
                          }
                        },
                        "type": "histogram"
                      }
                    ],
                    "histogram2d": [
                      {
                        "colorbar": {
                          "outlinewidth": 0,
                          "ticks": ""
                        },
                        "colorscale": [
                          [
                            0,
                            "#0d0887"
                          ],
                          [
                            0.1111111111111111,
                            "#46039f"
                          ],
                          [
                            0.2222222222222222,
                            "#7201a8"
                          ],
                          [
                            0.3333333333333333,
                            "#9c179e"
                          ],
                          [
                            0.4444444444444444,
                            "#bd3786"
                          ],
                          [
                            0.5555555555555556,
                            "#d8576b"
                          ],
                          [
                            0.6666666666666666,
                            "#ed7953"
                          ],
                          [
                            0.7777777777777778,
                            "#fb9f3a"
                          ],
                          [
                            0.8888888888888888,
                            "#fdca26"
                          ],
                          [
                            1,
                            "#f0f921"
                          ]
                        ],
                        "type": "histogram2d"
                      }
                    ],
                    "histogram2dcontour": [
                      {
                        "colorbar": {
                          "outlinewidth": 0,
                          "ticks": ""
                        },
                        "colorscale": [
                          [
                            0,
                            "#0d0887"
                          ],
                          [
                            0.1111111111111111,
                            "#46039f"
                          ],
                          [
                            0.2222222222222222,
                            "#7201a8"
                          ],
                          [
                            0.3333333333333333,
                            "#9c179e"
                          ],
                          [
                            0.4444444444444444,
                            "#bd3786"
                          ],
                          [
                            0.5555555555555556,
                            "#d8576b"
                          ],
                          [
                            0.6666666666666666,
                            "#ed7953"
                          ],
                          [
                            0.7777777777777778,
                            "#fb9f3a"
                          ],
                          [
                            0.8888888888888888,
                            "#fdca26"
                          ],
                          [
                            1,
                            "#f0f921"
                          ]
                        ],
                        "type": "histogram2dcontour"
                      }
                    ],
                    "mesh3d": [
                      {
                        "colorbar": {
                          "outlinewidth": 0,
                          "ticks": ""
                        },
                        "type": "mesh3d"
                      }
                    ],
                    "parcoords": [
                      {
                        "line": {
                          "colorbar": {
                            "outlinewidth": 0,
                            "ticks": ""
                          }
                        },
                        "type": "parcoords"
                      }
                    ],
                    "pie": [
                      {
                        "automargin": true,
                        "type": "pie"
                      }
                    ],
                    "scatter": [
                      {
                        "fillpattern": {
                          "fillmode": "overlay",
                          "size": 10,
                          "solidity": 0.2
                        },
                        "type": "scatter"
                      }
                    ],
                    "scatter3d": [
                      {
                        "line": {
                          "colorbar": {
                            "outlinewidth": 0,
                            "ticks": ""
                          }
                        },
                        "marker": {
                          "colorbar": {
                            "outlinewidth": 0,
                            "ticks": ""
                          }
                        },
                        "type": "scatter3d"
                      }
                    ],
                    "scattercarpet": [
                      {
                        "marker": {
                          "colorbar": {
                            "outlinewidth": 0,
                            "ticks": ""
                          }
                        },
                        "type": "scattercarpet"
                      }
                    ],
                    "scattergeo": [
                      {
                        "marker": {
                          "colorbar": {
                            "outlinewidth": 0,
                            "ticks": ""
                          }
                        },
                        "type": "scattergeo"
                      }
                    ],
                    "scattergl": [
                      {
                        "marker": {
                          "colorbar": {
                            "outlinewidth": 0,
                            "ticks": ""
                          }
                        },
                        "type": "scattergl"
                      }
                    ],
                    "scattermap": [
                      {
                        "marker": {
                          "colorbar": {
                            "outlinewidth": 0,
                            "ticks": ""
                          }
                        },
                        "type": "scattermap"
                      }
                    ],
                    "scattermapbox": [
                      {
                        "marker": {
                          "colorbar": {
                            "outlinewidth": 0,
                            "ticks": ""
                          }
                        },
                        "type": "scattermapbox"
                      }
                    ],
                    "scatterpolar": [
                      {
                        "marker": {
                          "colorbar": {
                            "outlinewidth": 0,
                            "ticks": ""
                          }
                        },
                        "type": "scatterpolar"
                      }
                    ],
                    "scatterpolargl": [
                      {
                        "marker": {
                          "colorbar": {
                            "outlinewidth": 0,
                            "ticks": ""
                          }
                        },
                        "type": "scatterpolargl"
                      }
                    ],
                    "scatterternary": [
                      {
                        "marker": {
                          "colorbar": {
                            "outlinewidth": 0,
                            "ticks": ""
                          }
                        },
                        "type": "scatterternary"
                      }
                    ],
                    "surface": [
                      {
                        "colorbar": {
                          "outlinewidth": 0,
                          "ticks": ""
                        },
                        "colorscale": [
                          [
                            0,
                            "#0d0887"
                          ],
                          [
                            0.1111111111111111,
                            "#46039f"
                          ],
                          [
                            0.2222222222222222,
                            "#7201a8"
                          ],
                          [
                            0.3333333333333333,
                            "#9c179e"
                          ],
                          [
                            0.4444444444444444,
                            "#bd3786"
                          ],
                          [
                            0.5555555555555556,
                            "#d8576b"
                          ],
                          [
                            0.6666666666666666,
                            "#ed7953"
                          ],
                          [
                            0.7777777777777778,
                            "#fb9f3a"
                          ],
                          [
                            0.8888888888888888,
                            "#fdca26"
                          ],
                          [
                            1,
                            "#f0f921"
                          ]
                        ],
                        "type": "surface"
                      }
                    ],
                    "table": [
                      {
                        "cells": {
                          "fill": {
                            "color": "#EBF0F8"
                          },
                          "line": {
                            "color": "white"
                          }
                        },
                        "header": {
                          "fill": {
                            "color": "#C8D4E3"
                          },
                          "line": {
                            "color": "white"
                          }
                        },
                        "type": "table"
                      }
                    ]
                  },
                  "layout": {
                    "annotationdefaults": {
                      "arrowcolor": "#2a3f5f",
                      "arrowhead": 0,
                      "arrowwidth": 1
                    },
                    "autotypenumbers": "strict",
                    "coloraxis": {
                      "colorbar": {
                        "outlinewidth": 0,
                        "ticks": ""
                      }
                    },
                    "colorscale": {
                      "diverging": [
                        [
                          0,
                          "#8e0152"
                        ],
                        [
                          0.1,
                          "#c51b7d"
                        ],
                        [
                          0.2,
                          "#de77ae"
                        ],
                        [
                          0.3,
                          "#f1b6da"
                        ],
                        [
                          0.4,
                          "#fde0ef"
                        ],
                        [
                          0.5,
                          "#f7f7f7"
                        ],
                        [
                          0.6,
                          "#e6f5d0"
                        ],
                        [
                          0.7,
                          "#b8e186"
                        ],
                        [
                          0.8,
                          "#7fbc41"
                        ],
                        [
                          0.9,
                          "#4d9221"
                        ],
                        [
                          1,
                          "#276419"
                        ]
                      ],
                      "sequential": [
                        [
                          0,
                          "#0d0887"
                        ],
                        [
                          0.1111111111111111,
                          "#46039f"
                        ],
                        [
                          0.2222222222222222,
                          "#7201a8"
                        ],
                        [
                          0.3333333333333333,
                          "#9c179e"
                        ],
                        [
                          0.4444444444444444,
                          "#bd3786"
                        ],
                        [
                          0.5555555555555556,
                          "#d8576b"
                        ],
                        [
                          0.6666666666666666,
                          "#ed7953"
                        ],
                        [
                          0.7777777777777778,
                          "#fb9f3a"
                        ],
                        [
                          0.8888888888888888,
                          "#fdca26"
                        ],
                        [
                          1,
                          "#f0f921"
                        ]
                      ],
                      "sequentialminus": [
                        [
                          0,
                          "#0d0887"
                        ],
                        [
                          0.1111111111111111,
                          "#46039f"
                        ],
                        [
                          0.2222222222222222,
                          "#7201a8"
                        ],
                        [
                          0.3333333333333333,
                          "#9c179e"
                        ],
                        [
                          0.4444444444444444,
                          "#bd3786"
                        ],
                        [
                          0.5555555555555556,
                          "#d8576b"
                        ],
                        [
                          0.6666666666666666,
                          "#ed7953"
                        ],
                        [
                          0.7777777777777778,
                          "#fb9f3a"
                        ],
                        [
                          0.8888888888888888,
                          "#fdca26"
                        ],
                        [
                          1,
                          "#f0f921"
                        ]
                      ]
                    },
                    "colorway": [
                      "#636efa",
                      "#EF553B",
                      "#00cc96",
                      "#ab63fa",
                      "#FFA15A",
                      "#19d3f3",
                      "#FF6692",
                      "#B6E880",
                      "#FF97FF",
                      "#FECB52"
                    ],
                    "font": {
                      "color": "#2a3f5f"
                    },
                    "geo": {
                      "bgcolor": "white",
                      "lakecolor": "white",
                      "landcolor": "#E5ECF6",
                      "showlakes": true,
                      "showland": true,
                      "subunitcolor": "white"
                    },
                    "hoverlabel": {
                      "align": "left"
                    },
                    "hovermode": "closest",
                    "mapbox": {
                      "style": "light"
                    },
                    "paper_bgcolor": "white",
                    "plot_bgcolor": "#E5ECF6",
                    "polar": {
                      "angularaxis": {
                        "gridcolor": "white",
                        "linecolor": "white",
                        "ticks": ""
                      },
                      "bgcolor": "#E5ECF6",
                      "radialaxis": {
                        "gridcolor": "white",
                        "linecolor": "white",
                        "ticks": ""
                      }
                    },
                    "scene": {
                      "xaxis": {
                        "backgroundcolor": "#E5ECF6",
                        "gridcolor": "white",
                        "gridwidth": 2,
                        "linecolor": "white",
                        "showbackground": true,
                        "ticks": "",
                        "zerolinecolor": "white"
                      },
                      "yaxis": {
                        "backgroundcolor": "#E5ECF6",
                        "gridcolor": "white",
                        "gridwidth": 2,
                        "linecolor": "white",
                        "showbackground": true,
                        "ticks": "",
                        "zerolinecolor": "white"
                      },
                      "zaxis": {
                        "backgroundcolor": "#E5ECF6",
                        "gridcolor": "white",
                        "gridwidth": 2,
                        "linecolor": "white",
                        "showbackground": true,
                        "ticks": "",
                        "zerolinecolor": "white"
                      }
                    },
                    "shapedefaults": {
                      "line": {
                        "color": "#2a3f5f"
                      }
                    },
                    "ternary": {
                      "aaxis": {
                        "gridcolor": "white",
                        "linecolor": "white",
                        "ticks": ""
                      },
                      "baxis": {
                        "gridcolor": "white",
                        "linecolor": "white",
                        "ticks": ""
                      },
                      "bgcolor": "#E5ECF6",
                      "caxis": {
                        "gridcolor": "white",
                        "linecolor": "white",
                        "ticks": ""
                      }
                    },
                    "title": {
                      "x": 0.05
                    },
                    "xaxis": {
                      "automargin": true,
                      "gridcolor": "white",
                      "linecolor": "white",
                      "ticks": "",
                      "title": {
                        "standoff": 15
                      },
                      "zerolinecolor": "white",
                      "zerolinewidth": 2
                    },
                    "yaxis": {
                      "automargin": true,
                      "gridcolor": "white",
                      "linecolor": "white",
                      "ticks": "",
                      "title": {
                        "standoff": 15
                      },
                      "zerolinecolor": "white",
                      "zerolinewidth": 2
                    }
                  }
                },
                "title": {
                  "text": "Number of Men's and Women's Participations in Athletics"
                },
                "width": 1000,
                "xaxis": {
                  "anchor": "y",
                  "domain": [
                    0,
                    1
                  ],
                  "title": {
                    "text": "Number of Participants"
                  }
                },
                "yaxis": {
                  "anchor": "x",
                  "categoryorder": "total ascending",
                  "domain": [
                    0,
                    1
                  ],
                  "tickmode": "array",
                  "tickvals": [
                    "1,500m",
                    "10 kilometres Walk",
                    "10,000m",
                    "100m",
                    "1500m",
                    "20 kilometres Walk",
                    "200m",
                    "20km Race Walk",
                    "3,000 metres Steeplechase",
                    "3000m Steeplechase",
                    "4 x 100 metres Relay",
                    "4 x 100m Relay",
                    "4 x 100m Relay Team",
                    "4 x 400 metres Relay",
                    "4 x 400m Relay",
                    "4 x 400m Relay Team",
                    "400 metres Hurdles",
                    "400m",
                    "400m Hurdles",
                    "5,000m",
                    "5000m",
                    "800m",
                    "Discus Throw",
                    "Hammer Throw",
                    "High Jump",
                    "Javelin Throw",
                    "Long Jump",
                    "Marathon",
                    "Pentathlon",
                    "Pole Vault",
                    "Shot Put",
                    "Triple Jump"
                  ],
                  "title": {
                    "text": "Category"
                  }
                }
              }
            }
          },
          "metadata": {},
          "output_type": "display_data"
        }
      ],
      "source": [
        "swimming_events = olympics_data[olympics_data[\"Sport\"] == \"Athletics\"][\"Event\"]\n",
        "\n",
        "df = pd.DataFrame(swimming_events, columns=['Event'])\n",
        "\n",
        "df['Clean_Event'] = df['Event'].str.replace(r\"Men's |Women's |Mixed \", '', regex=True)\n",
        "df['Gender'] = df['Event'].str.extract(r\"(Men's|Women's)\")\n",
        "\n",
        "event_counts = df.pivot_table(index='Clean_Event', columns='Gender', aggfunc='size', fill_value=0).reset_index()\n",
        "\n",
        "both_genders = event_counts[(event_counts[\"Men's\"] > 0) & (event_counts[\"Women's\"] > 0)]\n",
        "\n",
        "event_counts_melted = both_genders.melt(id_vars=\"Clean_Event\", var_name=\"Gender\", value_name=\"Count\")\n",
        "\n",
        "event_counts_melted = event_counts_melted[event_counts_melted[\"Count\"] > 0]\n",
        "\n",
        "fig = px.scatter(\n",
        "    event_counts_melted,\n",
        "    x=\"Count\",\n",
        "    y=\"Clean_Event\",\n",
        "    color=\"Gender\",\n",
        "    title=\"Number of Men's and Women's Participations in Athletics\",\n",
        "    labels={\"Clean_Event\": \"Event\", \"Count\": \"Number of Events\"},\n",
        "    color_discrete_map={\"Men's\": \"blue\", \"Women's\": \"pink\"},\n",
        "    symbol=\"Gender\"\n",
        ")\n",
        "\n",
        "for event in both_genders[\"Clean_Event\"]:\n",
        "    men_count = both_genders.loc[both_genders[\"Clean_Event\"] == event, \"Men's\"].values[0]\n",
        "    women_count = both_genders.loc[both_genders[\"Clean_Event\"] == event, \"Women's\"].values[0]\n",
        "\n",
        "    fig.add_trace(go.Scatter(\n",
        "        x=[men_count, women_count],\n",
        "        y=[event, event],\n",
        "        mode=\"lines\",\n",
        "        line=dict(color=\"gray\", width=2, dash=\"dot\"),\n",
        "        showlegend=False\n",
        "    ))\n",
        "\n",
        "fig.update_layout(\n",
        "    width=1000,\n",
        "    height=700,\n",
        "    yaxis_categoryorder=\"total ascending\",\n",
        "    xaxis_title=\"Number of Participants\",\n",
        "    yaxis_title=\"Category\",\n",
        "    legend_title=\"Gender\",\n",
        "    plot_bgcolor=\"white\",\n",
        "    paper_bgcolor=\"white\",\n",
        "    font=dict(size=14)\n",
        ")\n",
        "\n",
        "fig.update_layout(\n",
        "    yaxis=dict(\n",
        "        tickmode=\"array\",\n",
        "        tickvals=event_counts_melted[\"Clean_Event\"].unique(),\n",
        "    )\n",
        ")\n",
        "\n",
        "\n",
        "fig.show()"
      ]
    },
    {
      "cell_type": "code",
      "execution_count": 21,
      "id": "deeVa6l8Dh5p",
      "metadata": {
        "colab": {
          "base_uri": "https://localhost:8080/",
          "height": 542
        },
        "id": "deeVa6l8Dh5p",
        "outputId": "7c5f0ee4-19f6-4821-84e1-bb9803447759"
      },
      "outputs": [
        {
          "data": {
            "application/vnd.plotly.v1+json": {
              "config": {
                "plotlyServerURL": "https://plot.ly"
              },
              "data": [
                {
                  "hovertemplate": "variable=Female %<br>Olympic Year=%{x}<br>Percentage of Athletes=%{y}<extra></extra>",
                  "legendgroup": "Female %",
                  "marker": {
                    "color": "pink",
                    "pattern": {
                      "shape": ""
                    }
                  },
                  "name": "Female %",
                  "orientation": "v",
                  "showlegend": true,
                  "textposition": "auto",
                  "type": "bar",
                  "x": [
                    "1896",
                    "1900",
                    "1904",
                    "1906",
                    "1908",
                    "1912",
                    "1920",
                    "1924",
                    "1928",
                    "1932",
                    "1936",
                    "1948",
                    "1952",
                    "1956",
                    "1960",
                    "1964",
                    "1968",
                    "1972",
                    "1976",
                    "1980",
                    "1984",
                    "1988",
                    "1992",
                    "1996",
                    "2000",
                    "2004",
                    "2008",
                    "2012",
                    "2016",
                    "2020"
                  ],
                  "xaxis": "x",
                  "y": {
                    "bdata": "AAAAAAAAAAAAAAAAAAAAAAAAAAAAAAAAAAAAAAAAAAAAAAAAAAAAAAAAAAAAAAAAAAAAAAAAAAAAAAAAAAAAAEIIIYQQAipAjxaVSL6mLkAug8S1G50qQP9L2BhudDZAJUmSJElSNkArm/JAo1I1QNSuRO1KlDRAW4PF1mCxOUCpBp0H2FE6QJ6/+2kJAz5AmS2JuRQnQED35orkyX49QKAlQa9nST5Afbjf7S7lQUCRk5CU5HlCQMw6Pq60xkJAUGfv5ynjREAUL5BJ8QJHQMwRKYb6y0dApRsn5gAUSEDfb9ozOxVIQDpbRYqCB0hA",
                    "dtype": "f8"
                  },
                  "yaxis": "y"
                },
                {
                  "hovertemplate": "variable=Male %<br>Olympic Year=%{x}<br>Percentage of Athletes=%{y}<extra></extra>",
                  "legendgroup": "Male %",
                  "marker": {
                    "color": "blue",
                    "pattern": {
                      "shape": ""
                    }
                  },
                  "name": "Male %",
                  "orientation": "v",
                  "showlegend": true,
                  "textposition": "auto",
                  "type": "bar",
                  "x": [
                    "1896",
                    "1900",
                    "1904",
                    "1906",
                    "1908",
                    "1912",
                    "1920",
                    "1924",
                    "1928",
                    "1932",
                    "1936",
                    "1948",
                    "1952",
                    "1956",
                    "1960",
                    "1964",
                    "1968",
                    "1972",
                    "1976",
                    "1980",
                    "1984",
                    "1988",
                    "1992",
                    "1996",
                    "2000",
                    "2004",
                    "2008",
                    "2012",
                    "2016",
                    "2020"
                  ],
                  "xaxis": "x",
                  "y": {
                    "bdata": "AAAAAAAAWUAAAAAAAABZQAAAAAAAAFlAAAAAAAAAWUAAAAAAAABZQAAAAAAAAFlAAAAAAAAAWUAAAAAAAABZQPjee++9v1VALl3tNigrVUCab0eJXKxVQAHtyXnkYlNAt23btm1rU0A1WcMvV6tTQEvUrkTt2lNAKZ9OyqeTUkBVvhj+iWtSQBgQgaU9f1FANGk7o3XsUEBCRt2GTaBRQJi2LxSmbVFAwSMQiWgNUEBubG9rG4ZPQDXFwVFLOU9AsJgQGNYcTUDr0G+2Dv1KQDTu1nkFNEpAW+TYGf/rSUAgkCXMxOpJQMakunV9+ElA",
                    "dtype": "f8"
                  },
                  "yaxis": "y"
                }
              ],
              "layout": {
                "annotations": [
                  {
                    "font": {
                      "color": "black",
                      "size": 14
                    },
                    "showarrow": false,
                    "text": "50%",
                    "x": 1,
                    "xanchor": "left",
                    "xref": "x domain",
                    "y": 50,
                    "yanchor": "middle",
                    "yref": "y"
                  }
                ],
                "barmode": "relative",
                "legend": {
                  "title": {
                    "text": "variable"
                  },
                  "tracegroupgap": 0
                },
                "plot_bgcolor": "white",
                "shapes": [
                  {
                    "line": {
                      "color": "black",
                      "dash": "dash"
                    },
                    "type": "line",
                    "x0": 0,
                    "x1": 1,
                    "xref": "x domain",
                    "y0": 50,
                    "y1": 50,
                    "yref": "y"
                  }
                ],
                "template": {
                  "data": {
                    "bar": [
                      {
                        "error_x": {
                          "color": "#2a3f5f"
                        },
                        "error_y": {
                          "color": "#2a3f5f"
                        },
                        "marker": {
                          "line": {
                            "color": "#E5ECF6",
                            "width": 0.5
                          },
                          "pattern": {
                            "fillmode": "overlay",
                            "size": 10,
                            "solidity": 0.2
                          }
                        },
                        "type": "bar"
                      }
                    ],
                    "barpolar": [
                      {
                        "marker": {
                          "line": {
                            "color": "#E5ECF6",
                            "width": 0.5
                          },
                          "pattern": {
                            "fillmode": "overlay",
                            "size": 10,
                            "solidity": 0.2
                          }
                        },
                        "type": "barpolar"
                      }
                    ],
                    "carpet": [
                      {
                        "aaxis": {
                          "endlinecolor": "#2a3f5f",
                          "gridcolor": "white",
                          "linecolor": "white",
                          "minorgridcolor": "white",
                          "startlinecolor": "#2a3f5f"
                        },
                        "baxis": {
                          "endlinecolor": "#2a3f5f",
                          "gridcolor": "white",
                          "linecolor": "white",
                          "minorgridcolor": "white",
                          "startlinecolor": "#2a3f5f"
                        },
                        "type": "carpet"
                      }
                    ],
                    "choropleth": [
                      {
                        "colorbar": {
                          "outlinewidth": 0,
                          "ticks": ""
                        },
                        "type": "choropleth"
                      }
                    ],
                    "contour": [
                      {
                        "colorbar": {
                          "outlinewidth": 0,
                          "ticks": ""
                        },
                        "colorscale": [
                          [
                            0,
                            "#0d0887"
                          ],
                          [
                            0.1111111111111111,
                            "#46039f"
                          ],
                          [
                            0.2222222222222222,
                            "#7201a8"
                          ],
                          [
                            0.3333333333333333,
                            "#9c179e"
                          ],
                          [
                            0.4444444444444444,
                            "#bd3786"
                          ],
                          [
                            0.5555555555555556,
                            "#d8576b"
                          ],
                          [
                            0.6666666666666666,
                            "#ed7953"
                          ],
                          [
                            0.7777777777777778,
                            "#fb9f3a"
                          ],
                          [
                            0.8888888888888888,
                            "#fdca26"
                          ],
                          [
                            1,
                            "#f0f921"
                          ]
                        ],
                        "type": "contour"
                      }
                    ],
                    "contourcarpet": [
                      {
                        "colorbar": {
                          "outlinewidth": 0,
                          "ticks": ""
                        },
                        "type": "contourcarpet"
                      }
                    ],
                    "heatmap": [
                      {
                        "colorbar": {
                          "outlinewidth": 0,
                          "ticks": ""
                        },
                        "colorscale": [
                          [
                            0,
                            "#0d0887"
                          ],
                          [
                            0.1111111111111111,
                            "#46039f"
                          ],
                          [
                            0.2222222222222222,
                            "#7201a8"
                          ],
                          [
                            0.3333333333333333,
                            "#9c179e"
                          ],
                          [
                            0.4444444444444444,
                            "#bd3786"
                          ],
                          [
                            0.5555555555555556,
                            "#d8576b"
                          ],
                          [
                            0.6666666666666666,
                            "#ed7953"
                          ],
                          [
                            0.7777777777777778,
                            "#fb9f3a"
                          ],
                          [
                            0.8888888888888888,
                            "#fdca26"
                          ],
                          [
                            1,
                            "#f0f921"
                          ]
                        ],
                        "type": "heatmap"
                      }
                    ],
                    "histogram": [
                      {
                        "marker": {
                          "pattern": {
                            "fillmode": "overlay",
                            "size": 10,
                            "solidity": 0.2
                          }
                        },
                        "type": "histogram"
                      }
                    ],
                    "histogram2d": [
                      {
                        "colorbar": {
                          "outlinewidth": 0,
                          "ticks": ""
                        },
                        "colorscale": [
                          [
                            0,
                            "#0d0887"
                          ],
                          [
                            0.1111111111111111,
                            "#46039f"
                          ],
                          [
                            0.2222222222222222,
                            "#7201a8"
                          ],
                          [
                            0.3333333333333333,
                            "#9c179e"
                          ],
                          [
                            0.4444444444444444,
                            "#bd3786"
                          ],
                          [
                            0.5555555555555556,
                            "#d8576b"
                          ],
                          [
                            0.6666666666666666,
                            "#ed7953"
                          ],
                          [
                            0.7777777777777778,
                            "#fb9f3a"
                          ],
                          [
                            0.8888888888888888,
                            "#fdca26"
                          ],
                          [
                            1,
                            "#f0f921"
                          ]
                        ],
                        "type": "histogram2d"
                      }
                    ],
                    "histogram2dcontour": [
                      {
                        "colorbar": {
                          "outlinewidth": 0,
                          "ticks": ""
                        },
                        "colorscale": [
                          [
                            0,
                            "#0d0887"
                          ],
                          [
                            0.1111111111111111,
                            "#46039f"
                          ],
                          [
                            0.2222222222222222,
                            "#7201a8"
                          ],
                          [
                            0.3333333333333333,
                            "#9c179e"
                          ],
                          [
                            0.4444444444444444,
                            "#bd3786"
                          ],
                          [
                            0.5555555555555556,
                            "#d8576b"
                          ],
                          [
                            0.6666666666666666,
                            "#ed7953"
                          ],
                          [
                            0.7777777777777778,
                            "#fb9f3a"
                          ],
                          [
                            0.8888888888888888,
                            "#fdca26"
                          ],
                          [
                            1,
                            "#f0f921"
                          ]
                        ],
                        "type": "histogram2dcontour"
                      }
                    ],
                    "mesh3d": [
                      {
                        "colorbar": {
                          "outlinewidth": 0,
                          "ticks": ""
                        },
                        "type": "mesh3d"
                      }
                    ],
                    "parcoords": [
                      {
                        "line": {
                          "colorbar": {
                            "outlinewidth": 0,
                            "ticks": ""
                          }
                        },
                        "type": "parcoords"
                      }
                    ],
                    "pie": [
                      {
                        "automargin": true,
                        "type": "pie"
                      }
                    ],
                    "scatter": [
                      {
                        "fillpattern": {
                          "fillmode": "overlay",
                          "size": 10,
                          "solidity": 0.2
                        },
                        "type": "scatter"
                      }
                    ],
                    "scatter3d": [
                      {
                        "line": {
                          "colorbar": {
                            "outlinewidth": 0,
                            "ticks": ""
                          }
                        },
                        "marker": {
                          "colorbar": {
                            "outlinewidth": 0,
                            "ticks": ""
                          }
                        },
                        "type": "scatter3d"
                      }
                    ],
                    "scattercarpet": [
                      {
                        "marker": {
                          "colorbar": {
                            "outlinewidth": 0,
                            "ticks": ""
                          }
                        },
                        "type": "scattercarpet"
                      }
                    ],
                    "scattergeo": [
                      {
                        "marker": {
                          "colorbar": {
                            "outlinewidth": 0,
                            "ticks": ""
                          }
                        },
                        "type": "scattergeo"
                      }
                    ],
                    "scattergl": [
                      {
                        "marker": {
                          "colorbar": {
                            "outlinewidth": 0,
                            "ticks": ""
                          }
                        },
                        "type": "scattergl"
                      }
                    ],
                    "scattermap": [
                      {
                        "marker": {
                          "colorbar": {
                            "outlinewidth": 0,
                            "ticks": ""
                          }
                        },
                        "type": "scattermap"
                      }
                    ],
                    "scattermapbox": [
                      {
                        "marker": {
                          "colorbar": {
                            "outlinewidth": 0,
                            "ticks": ""
                          }
                        },
                        "type": "scattermapbox"
                      }
                    ],
                    "scatterpolar": [
                      {
                        "marker": {
                          "colorbar": {
                            "outlinewidth": 0,
                            "ticks": ""
                          }
                        },
                        "type": "scatterpolar"
                      }
                    ],
                    "scatterpolargl": [
                      {
                        "marker": {
                          "colorbar": {
                            "outlinewidth": 0,
                            "ticks": ""
                          }
                        },
                        "type": "scatterpolargl"
                      }
                    ],
                    "scatterternary": [
                      {
                        "marker": {
                          "colorbar": {
                            "outlinewidth": 0,
                            "ticks": ""
                          }
                        },
                        "type": "scatterternary"
                      }
                    ],
                    "surface": [
                      {
                        "colorbar": {
                          "outlinewidth": 0,
                          "ticks": ""
                        },
                        "colorscale": [
                          [
                            0,
                            "#0d0887"
                          ],
                          [
                            0.1111111111111111,
                            "#46039f"
                          ],
                          [
                            0.2222222222222222,
                            "#7201a8"
                          ],
                          [
                            0.3333333333333333,
                            "#9c179e"
                          ],
                          [
                            0.4444444444444444,
                            "#bd3786"
                          ],
                          [
                            0.5555555555555556,
                            "#d8576b"
                          ],
                          [
                            0.6666666666666666,
                            "#ed7953"
                          ],
                          [
                            0.7777777777777778,
                            "#fb9f3a"
                          ],
                          [
                            0.8888888888888888,
                            "#fdca26"
                          ],
                          [
                            1,
                            "#f0f921"
                          ]
                        ],
                        "type": "surface"
                      }
                    ],
                    "table": [
                      {
                        "cells": {
                          "fill": {
                            "color": "#EBF0F8"
                          },
                          "line": {
                            "color": "white"
                          }
                        },
                        "header": {
                          "fill": {
                            "color": "#C8D4E3"
                          },
                          "line": {
                            "color": "white"
                          }
                        },
                        "type": "table"
                      }
                    ]
                  },
                  "layout": {
                    "annotationdefaults": {
                      "arrowcolor": "#2a3f5f",
                      "arrowhead": 0,
                      "arrowwidth": 1
                    },
                    "autotypenumbers": "strict",
                    "coloraxis": {
                      "colorbar": {
                        "outlinewidth": 0,
                        "ticks": ""
                      }
                    },
                    "colorscale": {
                      "diverging": [
                        [
                          0,
                          "#8e0152"
                        ],
                        [
                          0.1,
                          "#c51b7d"
                        ],
                        [
                          0.2,
                          "#de77ae"
                        ],
                        [
                          0.3,
                          "#f1b6da"
                        ],
                        [
                          0.4,
                          "#fde0ef"
                        ],
                        [
                          0.5,
                          "#f7f7f7"
                        ],
                        [
                          0.6,
                          "#e6f5d0"
                        ],
                        [
                          0.7,
                          "#b8e186"
                        ],
                        [
                          0.8,
                          "#7fbc41"
                        ],
                        [
                          0.9,
                          "#4d9221"
                        ],
                        [
                          1,
                          "#276419"
                        ]
                      ],
                      "sequential": [
                        [
                          0,
                          "#0d0887"
                        ],
                        [
                          0.1111111111111111,
                          "#46039f"
                        ],
                        [
                          0.2222222222222222,
                          "#7201a8"
                        ],
                        [
                          0.3333333333333333,
                          "#9c179e"
                        ],
                        [
                          0.4444444444444444,
                          "#bd3786"
                        ],
                        [
                          0.5555555555555556,
                          "#d8576b"
                        ],
                        [
                          0.6666666666666666,
                          "#ed7953"
                        ],
                        [
                          0.7777777777777778,
                          "#fb9f3a"
                        ],
                        [
                          0.8888888888888888,
                          "#fdca26"
                        ],
                        [
                          1,
                          "#f0f921"
                        ]
                      ],
                      "sequentialminus": [
                        [
                          0,
                          "#0d0887"
                        ],
                        [
                          0.1111111111111111,
                          "#46039f"
                        ],
                        [
                          0.2222222222222222,
                          "#7201a8"
                        ],
                        [
                          0.3333333333333333,
                          "#9c179e"
                        ],
                        [
                          0.4444444444444444,
                          "#bd3786"
                        ],
                        [
                          0.5555555555555556,
                          "#d8576b"
                        ],
                        [
                          0.6666666666666666,
                          "#ed7953"
                        ],
                        [
                          0.7777777777777778,
                          "#fb9f3a"
                        ],
                        [
                          0.8888888888888888,
                          "#fdca26"
                        ],
                        [
                          1,
                          "#f0f921"
                        ]
                      ]
                    },
                    "colorway": [
                      "#636efa",
                      "#EF553B",
                      "#00cc96",
                      "#ab63fa",
                      "#FFA15A",
                      "#19d3f3",
                      "#FF6692",
                      "#B6E880",
                      "#FF97FF",
                      "#FECB52"
                    ],
                    "font": {
                      "color": "#2a3f5f"
                    },
                    "geo": {
                      "bgcolor": "white",
                      "lakecolor": "white",
                      "landcolor": "#E5ECF6",
                      "showlakes": true,
                      "showland": true,
                      "subunitcolor": "white"
                    },
                    "hoverlabel": {
                      "align": "left"
                    },
                    "hovermode": "closest",
                    "mapbox": {
                      "style": "light"
                    },
                    "paper_bgcolor": "white",
                    "plot_bgcolor": "#E5ECF6",
                    "polar": {
                      "angularaxis": {
                        "gridcolor": "white",
                        "linecolor": "white",
                        "ticks": ""
                      },
                      "bgcolor": "#E5ECF6",
                      "radialaxis": {
                        "gridcolor": "white",
                        "linecolor": "white",
                        "ticks": ""
                      }
                    },
                    "scene": {
                      "xaxis": {
                        "backgroundcolor": "#E5ECF6",
                        "gridcolor": "white",
                        "gridwidth": 2,
                        "linecolor": "white",
                        "showbackground": true,
                        "ticks": "",
                        "zerolinecolor": "white"
                      },
                      "yaxis": {
                        "backgroundcolor": "#E5ECF6",
                        "gridcolor": "white",
                        "gridwidth": 2,
                        "linecolor": "white",
                        "showbackground": true,
                        "ticks": "",
                        "zerolinecolor": "white"
                      },
                      "zaxis": {
                        "backgroundcolor": "#E5ECF6",
                        "gridcolor": "white",
                        "gridwidth": 2,
                        "linecolor": "white",
                        "showbackground": true,
                        "ticks": "",
                        "zerolinecolor": "white"
                      }
                    },
                    "shapedefaults": {
                      "line": {
                        "color": "#2a3f5f"
                      }
                    },
                    "ternary": {
                      "aaxis": {
                        "gridcolor": "white",
                        "linecolor": "white",
                        "ticks": ""
                      },
                      "baxis": {
                        "gridcolor": "white",
                        "linecolor": "white",
                        "ticks": ""
                      },
                      "bgcolor": "#E5ECF6",
                      "caxis": {
                        "gridcolor": "white",
                        "linecolor": "white",
                        "ticks": ""
                      }
                    },
                    "title": {
                      "x": 0.05
                    },
                    "xaxis": {
                      "automargin": true,
                      "gridcolor": "white",
                      "linecolor": "white",
                      "ticks": "",
                      "title": {
                        "standoff": 15
                      },
                      "zerolinecolor": "white",
                      "zerolinewidth": 2
                    },
                    "yaxis": {
                      "automargin": true,
                      "gridcolor": "white",
                      "linecolor": "white",
                      "ticks": "",
                      "title": {
                        "standoff": 15
                      },
                      "zerolinecolor": "white",
                      "zerolinewidth": 2
                    }
                  }
                },
                "title": {
                  "text": "Evolution of Male and Female Participation in Olympic Athletics"
                },
                "xaxis": {
                  "anchor": "y",
                  "domain": [
                    0,
                    1
                  ],
                  "tickangle": -90,
                  "tickmode": "array",
                  "ticktext": [
                    "1896",
                    "1900",
                    "1904",
                    "1906",
                    "1908",
                    "1912",
                    "1920",
                    "1924",
                    "1928",
                    "1932",
                    "1936",
                    "1948",
                    "1952",
                    "1956",
                    "1960",
                    "1964",
                    "1968",
                    "1972",
                    "1976",
                    "1980",
                    "1984",
                    "1988",
                    "1992",
                    "1996",
                    "2000",
                    "2004",
                    "2008",
                    "2012",
                    "2016",
                    "2020"
                  ],
                  "tickvals": [
                    "1896",
                    "1900",
                    "1904",
                    "1906",
                    "1908",
                    "1912",
                    "1920",
                    "1924",
                    "1928",
                    "1932",
                    "1936",
                    "1948",
                    "1952",
                    "1956",
                    "1960",
                    "1964",
                    "1968",
                    "1972",
                    "1976",
                    "1980",
                    "1984",
                    "1988",
                    "1992",
                    "1996",
                    "2000",
                    "2004",
                    "2008",
                    "2012",
                    "2016",
                    "2020"
                  ],
                  "title": {
                    "text": "Olympic Year"
                  },
                  "type": "category"
                },
                "yaxis": {
                  "anchor": "x",
                  "domain": [
                    0,
                    1
                  ],
                  "title": {
                    "text": "% Share of Athletes"
                  }
                }
              }
            }
          },
          "metadata": {},
          "output_type": "display_data"
        }
      ],
      "source": [
        "athletics_data = olympics_data[olympics_data[\"Sport\"] == \"Athletics\"]\n",
        "gender_counts = athletics_data.groupby([\"Year\", \"Gender\"]).size().reset_index(name=\"Count\")\n",
        "\n",
        "pivot_df = gender_counts.pivot(index=\"Year\", columns=\"Gender\", values=\"Count\").fillna(0)\n",
        "\n",
        "pivot_df[\"Total\"] = pivot_df.sum(axis=1)\n",
        "pivot_df[\"Female %\"] = (pivot_df[\"Female\"] / pivot_df[\"Total\"]) * 100\n",
        "pivot_df[\"Male %\"] = (pivot_df[\"Male\"] / pivot_df[\"Total\"]) * 100\n",
        "\n",
        "pivot_df = pivot_df.reset_index()\n",
        "\n",
        "pivot_df[\"Year\"] = pivot_df[\"Year\"].astype(str)\n",
        "\n",
        "fig = px.bar(\n",
        "    pivot_df,\n",
        "    x=\"Year\",\n",
        "    y=[\"Female %\", \"Male %\"],\n",
        "    labels={\"value\": \"Percentage of Athletes\", \"Year\": \"Olympic Year\"},\n",
        "    title=\"Evolution of Male and Female Participation in Olympic Athletics\",\n",
        "    color_discrete_map={\"Female %\": \"pink\", \"Male %\": \"blue\"}\n",
        ")\n",
        "\n",
        "fig.update_layout(\n",
        "    barmode=\"relative\",\n",
        "    xaxis=dict(\n",
        "        type=\"category\",\n",
        "        tickmode=\"array\",\n",
        "        tickvals=pivot_df[\"Year\"],\n",
        "        ticktext=pivot_df[\"Year\"],\n",
        "    ),\n",
        "    yaxis=dict(title=\"% Share of Athletes\"),\n",
        "    plot_bgcolor=\"white\"\n",
        ")\n",
        "\n",
        "fig.add_hline(y=50, line_dash=\"dash\", line_color=\"black\", annotation_text=\"50%\",\n",
        "              annotation_position=\"right\", annotation_font_size=14, annotation_font_color=\"black\")\n",
        "\n",
        "fig.update_xaxes(tickangle=-90)\n",
        "\n",
        "fig.show()"
      ]
    },
    {
      "cell_type": "markdown",
      "id": "NINMYCPAeBKc",
      "metadata": {
        "id": "NINMYCPAeBKc"
      },
      "source": [
        "# Longeur de carrière"
      ]
    },
    {
      "cell_type": "code",
      "execution_count": 22,
      "id": "iSDwt9Z-IOvl",
      "metadata": {
        "colab": {
          "base_uri": "https://localhost:8080/",
          "height": 542
        },
        "id": "iSDwt9Z-IOvl",
        "outputId": "902862f9-d04d-4a2d-c328-fafad7695250"
      },
      "outputs": [
        {
          "data": {
            "application/vnd.plotly.v1+json": {
              "config": {
                "plotlyServerURL": "https://plot.ly"
              },
              "data": [
                {
                  "hovertemplate": "Color=gray<br>Sport=%{x}<br>Average Career Length (Years)=%{y}<extra></extra>",
                  "legendgroup": "gray",
                  "marker": {
                    "color": "gray",
                    "pattern": {
                      "shape": ""
                    }
                  },
                  "name": "gray",
                  "orientation": "v",
                  "showlegend": true,
                  "textposition": "auto",
                  "type": "bar",
                  "x": [
                    "Biathlon",
                    "Table Tennis",
                    "Cross Country Skiing",
                    "Luge",
                    "Nordic Combined",
                    "Equestrianism",
                    "Speed Skating",
                    "Shooting",
                    "Trampolining",
                    "Short Track Speed Skating",
                    "Fencing",
                    "Ski Jumping",
                    "Alpine Skiing",
                    "Canoeing",
                    "Freestyle Skiing",
                    "Bobsleigh",
                    "Diving",
                    "Water Polo",
                    "Snowboarding",
                    "Sailing",
                    "Ice Hockey",
                    "Badminton",
                    "Beach Volleyball",
                    "Tennis",
                    "Archery",
                    "Skeleton",
                    "Modern Pentathlon",
                    "Figure Skating",
                    "Hockey",
                    "Athletics",
                    "Wrestling",
                    "Volleyball",
                    "Weightlifting",
                    "Rowing",
                    "Judo",
                    "Synchronized Swimming",
                    "Handball",
                    "Curling",
                    "Triathlon",
                    "Softball",
                    "Cycling",
                    "Basketball",
                    "Gymnastics",
                    "Art Competitions",
                    "Taekwondo",
                    "Baseball",
                    "Tug-Of-War",
                    "Boxing",
                    "Rhythmic Gymnastics",
                    "Football",
                    "Polo",
                    "Military Ski Patrol",
                    "Rugby",
                    "Jeu De Paume",
                    "Motorboating",
                    "Golf",
                    "Rugby Sevens",
                    "Canoe Sprint",
                    "Alpinism",
                    "3x3 Basketball",
                    "Canoe Slalom",
                    "Basque Pelota",
                    "Baseball/Softball",
                    "Artistic Swimming",
                    "Artistic Gymnastics",
                    "Aeronautics",
                    "Cricket",
                    "Marathon Swimming",
                    "Lacrosse",
                    "Karate",
                    "Croquet",
                    "Cycling Track",
                    "Cycling Road",
                    "Cycling Mountain Bike",
                    "Equestrian",
                    "Cycling BMX Racing",
                    "Cycling BMX Freestyle",
                    "Racquets",
                    "Roque",
                    "Skateboarding",
                    "Surfing",
                    "Sport Climbing",
                    "Trampoline Gymnastics"
                  ],
                  "xaxis": "x",
                  "y": {
                    "bdata": "4yQL58CtA0CQUBcvZBYDQN/VOqGogAJAGMikeIFMAkB6nud5nucBQLzzFRwRgwFAaAywHFdyAUCSsOpwiG8BQA3lNZTXUAFAbUbTeW1IAUBb+iLWD+8AQOtgUzIo5wBAF4X6QGtRAECemSv/eykAQBqgxoEddP8/5OcP6RAz/z/UQA98aOv+P6h8AapCG/4/XuEVXuEV/j9WCr9zKN39P9Vhm8nWCf0/LdACLdAC/T/+LOfPcv78PxcWI6G08fw/lYGnW/ND/D+9KzJfmjj8P9p8f7WI8vs/VP37+Xay+z9Cb2KPVJT7P+n6YLPIafs/j/18uiY++z+sj47ahPP6PwiRf16Hufo/5bHQ9v58+j+Xkjj+tV/6Px5unVUQXvo/U6OzcjE1+j/zZ3yxESD6P6dQ4OekGvo/1kgExEcT+j+nUmqmhxL6Pyf/pbuyAfo/XRYxJcjQ+T/UmREptab3P05vetObXvc/UMujntU19j/l5OTk5OT0P3TRRRddtPQ/6uixSqJZ9D8fY2kV4TfzPx4rEEbasfI/q6qqqqqq8j+ebs0Pi5TxP3TRRRdddPE/8fDw8PDw8D87FM3GzTfwP94F5im0BvA/AAAAAAAA8D8AAAAAAADwPwAAAAAAAPA/AAAAAAAA8D8AAAAAAADwPwAAAAAAAPA/AAAAAAAA8D8AAAAAAADwPwAAAAAAAPA/AAAAAAAA8D8AAAAAAADwPwAAAAAAAPA/AAAAAAAA8D8AAAAAAADwPwAAAAAAAPA/AAAAAAAA8D8AAAAAAADwPwAAAAAAAPA/AAAAAAAA8D8AAAAAAADwPwAAAAAAAPA/AAAAAAAA8D8AAAAAAADwPwAAAAAAAPA/AAAAAAAA8D8AAAAAAADwPw==",
                    "dtype": "f8"
                  },
                  "yaxis": "y"
                },
                {
                  "hovertemplate": "Color=red<br>Sport=%{x}<br>Average Career Length (Years)=%{y}<extra></extra>",
                  "legendgroup": "red",
                  "marker": {
                    "color": "red",
                    "pattern": {
                      "shape": ""
                    }
                  },
                  "name": "red",
                  "orientation": "v",
                  "showlegend": true,
                  "textposition": "auto",
                  "type": "bar",
                  "x": [
                    "Swimming"
                  ],
                  "xaxis": "x",
                  "y": {
                    "bdata": "s46wTFoS/D8=",
                    "dtype": "f8"
                  },
                  "yaxis": "y"
                }
              ],
              "layout": {
                "barmode": "relative",
                "legend": {
                  "title": {
                    "text": "Color"
                  },
                  "tracegroupgap": 0
                },
                "showlegend": false,
                "template": {
                  "data": {
                    "bar": [
                      {
                        "error_x": {
                          "color": "rgb(36,36,36)"
                        },
                        "error_y": {
                          "color": "rgb(36,36,36)"
                        },
                        "marker": {
                          "line": {
                            "color": "white",
                            "width": 0.5
                          },
                          "pattern": {
                            "fillmode": "overlay",
                            "size": 10,
                            "solidity": 0.2
                          }
                        },
                        "type": "bar"
                      }
                    ],
                    "barpolar": [
                      {
                        "marker": {
                          "line": {
                            "color": "white",
                            "width": 0.5
                          },
                          "pattern": {
                            "fillmode": "overlay",
                            "size": 10,
                            "solidity": 0.2
                          }
                        },
                        "type": "barpolar"
                      }
                    ],
                    "carpet": [
                      {
                        "aaxis": {
                          "endlinecolor": "rgb(36,36,36)",
                          "gridcolor": "white",
                          "linecolor": "white",
                          "minorgridcolor": "white",
                          "startlinecolor": "rgb(36,36,36)"
                        },
                        "baxis": {
                          "endlinecolor": "rgb(36,36,36)",
                          "gridcolor": "white",
                          "linecolor": "white",
                          "minorgridcolor": "white",
                          "startlinecolor": "rgb(36,36,36)"
                        },
                        "type": "carpet"
                      }
                    ],
                    "choropleth": [
                      {
                        "colorbar": {
                          "outlinewidth": 1,
                          "tickcolor": "rgb(36,36,36)",
                          "ticks": "outside"
                        },
                        "type": "choropleth"
                      }
                    ],
                    "contour": [
                      {
                        "colorbar": {
                          "outlinewidth": 1,
                          "tickcolor": "rgb(36,36,36)",
                          "ticks": "outside"
                        },
                        "colorscale": [
                          [
                            0,
                            "#440154"
                          ],
                          [
                            0.1111111111111111,
                            "#482878"
                          ],
                          [
                            0.2222222222222222,
                            "#3e4989"
                          ],
                          [
                            0.3333333333333333,
                            "#31688e"
                          ],
                          [
                            0.4444444444444444,
                            "#26828e"
                          ],
                          [
                            0.5555555555555556,
                            "#1f9e89"
                          ],
                          [
                            0.6666666666666666,
                            "#35b779"
                          ],
                          [
                            0.7777777777777778,
                            "#6ece58"
                          ],
                          [
                            0.8888888888888888,
                            "#b5de2b"
                          ],
                          [
                            1,
                            "#fde725"
                          ]
                        ],
                        "type": "contour"
                      }
                    ],
                    "contourcarpet": [
                      {
                        "colorbar": {
                          "outlinewidth": 1,
                          "tickcolor": "rgb(36,36,36)",
                          "ticks": "outside"
                        },
                        "type": "contourcarpet"
                      }
                    ],
                    "heatmap": [
                      {
                        "colorbar": {
                          "outlinewidth": 1,
                          "tickcolor": "rgb(36,36,36)",
                          "ticks": "outside"
                        },
                        "colorscale": [
                          [
                            0,
                            "#440154"
                          ],
                          [
                            0.1111111111111111,
                            "#482878"
                          ],
                          [
                            0.2222222222222222,
                            "#3e4989"
                          ],
                          [
                            0.3333333333333333,
                            "#31688e"
                          ],
                          [
                            0.4444444444444444,
                            "#26828e"
                          ],
                          [
                            0.5555555555555556,
                            "#1f9e89"
                          ],
                          [
                            0.6666666666666666,
                            "#35b779"
                          ],
                          [
                            0.7777777777777778,
                            "#6ece58"
                          ],
                          [
                            0.8888888888888888,
                            "#b5de2b"
                          ],
                          [
                            1,
                            "#fde725"
                          ]
                        ],
                        "type": "heatmap"
                      }
                    ],
                    "histogram": [
                      {
                        "marker": {
                          "line": {
                            "color": "white",
                            "width": 0.6
                          }
                        },
                        "type": "histogram"
                      }
                    ],
                    "histogram2d": [
                      {
                        "colorbar": {
                          "outlinewidth": 1,
                          "tickcolor": "rgb(36,36,36)",
                          "ticks": "outside"
                        },
                        "colorscale": [
                          [
                            0,
                            "#440154"
                          ],
                          [
                            0.1111111111111111,
                            "#482878"
                          ],
                          [
                            0.2222222222222222,
                            "#3e4989"
                          ],
                          [
                            0.3333333333333333,
                            "#31688e"
                          ],
                          [
                            0.4444444444444444,
                            "#26828e"
                          ],
                          [
                            0.5555555555555556,
                            "#1f9e89"
                          ],
                          [
                            0.6666666666666666,
                            "#35b779"
                          ],
                          [
                            0.7777777777777778,
                            "#6ece58"
                          ],
                          [
                            0.8888888888888888,
                            "#b5de2b"
                          ],
                          [
                            1,
                            "#fde725"
                          ]
                        ],
                        "type": "histogram2d"
                      }
                    ],
                    "histogram2dcontour": [
                      {
                        "colorbar": {
                          "outlinewidth": 1,
                          "tickcolor": "rgb(36,36,36)",
                          "ticks": "outside"
                        },
                        "colorscale": [
                          [
                            0,
                            "#440154"
                          ],
                          [
                            0.1111111111111111,
                            "#482878"
                          ],
                          [
                            0.2222222222222222,
                            "#3e4989"
                          ],
                          [
                            0.3333333333333333,
                            "#31688e"
                          ],
                          [
                            0.4444444444444444,
                            "#26828e"
                          ],
                          [
                            0.5555555555555556,
                            "#1f9e89"
                          ],
                          [
                            0.6666666666666666,
                            "#35b779"
                          ],
                          [
                            0.7777777777777778,
                            "#6ece58"
                          ],
                          [
                            0.8888888888888888,
                            "#b5de2b"
                          ],
                          [
                            1,
                            "#fde725"
                          ]
                        ],
                        "type": "histogram2dcontour"
                      }
                    ],
                    "mesh3d": [
                      {
                        "colorbar": {
                          "outlinewidth": 1,
                          "tickcolor": "rgb(36,36,36)",
                          "ticks": "outside"
                        },
                        "type": "mesh3d"
                      }
                    ],
                    "parcoords": [
                      {
                        "line": {
                          "colorbar": {
                            "outlinewidth": 1,
                            "tickcolor": "rgb(36,36,36)",
                            "ticks": "outside"
                          }
                        },
                        "type": "parcoords"
                      }
                    ],
                    "pie": [
                      {
                        "automargin": true,
                        "type": "pie"
                      }
                    ],
                    "scatter": [
                      {
                        "fillpattern": {
                          "fillmode": "overlay",
                          "size": 10,
                          "solidity": 0.2
                        },
                        "type": "scatter"
                      }
                    ],
                    "scatter3d": [
                      {
                        "line": {
                          "colorbar": {
                            "outlinewidth": 1,
                            "tickcolor": "rgb(36,36,36)",
                            "ticks": "outside"
                          }
                        },
                        "marker": {
                          "colorbar": {
                            "outlinewidth": 1,
                            "tickcolor": "rgb(36,36,36)",
                            "ticks": "outside"
                          }
                        },
                        "type": "scatter3d"
                      }
                    ],
                    "scattercarpet": [
                      {
                        "marker": {
                          "colorbar": {
                            "outlinewidth": 1,
                            "tickcolor": "rgb(36,36,36)",
                            "ticks": "outside"
                          }
                        },
                        "type": "scattercarpet"
                      }
                    ],
                    "scattergeo": [
                      {
                        "marker": {
                          "colorbar": {
                            "outlinewidth": 1,
                            "tickcolor": "rgb(36,36,36)",
                            "ticks": "outside"
                          }
                        },
                        "type": "scattergeo"
                      }
                    ],
                    "scattergl": [
                      {
                        "marker": {
                          "colorbar": {
                            "outlinewidth": 1,
                            "tickcolor": "rgb(36,36,36)",
                            "ticks": "outside"
                          }
                        },
                        "type": "scattergl"
                      }
                    ],
                    "scattermap": [
                      {
                        "marker": {
                          "colorbar": {
                            "outlinewidth": 1,
                            "tickcolor": "rgb(36,36,36)",
                            "ticks": "outside"
                          }
                        },
                        "type": "scattermap"
                      }
                    ],
                    "scattermapbox": [
                      {
                        "marker": {
                          "colorbar": {
                            "outlinewidth": 1,
                            "tickcolor": "rgb(36,36,36)",
                            "ticks": "outside"
                          }
                        },
                        "type": "scattermapbox"
                      }
                    ],
                    "scatterpolar": [
                      {
                        "marker": {
                          "colorbar": {
                            "outlinewidth": 1,
                            "tickcolor": "rgb(36,36,36)",
                            "ticks": "outside"
                          }
                        },
                        "type": "scatterpolar"
                      }
                    ],
                    "scatterpolargl": [
                      {
                        "marker": {
                          "colorbar": {
                            "outlinewidth": 1,
                            "tickcolor": "rgb(36,36,36)",
                            "ticks": "outside"
                          }
                        },
                        "type": "scatterpolargl"
                      }
                    ],
                    "scatterternary": [
                      {
                        "marker": {
                          "colorbar": {
                            "outlinewidth": 1,
                            "tickcolor": "rgb(36,36,36)",
                            "ticks": "outside"
                          }
                        },
                        "type": "scatterternary"
                      }
                    ],
                    "surface": [
                      {
                        "colorbar": {
                          "outlinewidth": 1,
                          "tickcolor": "rgb(36,36,36)",
                          "ticks": "outside"
                        },
                        "colorscale": [
                          [
                            0,
                            "#440154"
                          ],
                          [
                            0.1111111111111111,
                            "#482878"
                          ],
                          [
                            0.2222222222222222,
                            "#3e4989"
                          ],
                          [
                            0.3333333333333333,
                            "#31688e"
                          ],
                          [
                            0.4444444444444444,
                            "#26828e"
                          ],
                          [
                            0.5555555555555556,
                            "#1f9e89"
                          ],
                          [
                            0.6666666666666666,
                            "#35b779"
                          ],
                          [
                            0.7777777777777778,
                            "#6ece58"
                          ],
                          [
                            0.8888888888888888,
                            "#b5de2b"
                          ],
                          [
                            1,
                            "#fde725"
                          ]
                        ],
                        "type": "surface"
                      }
                    ],
                    "table": [
                      {
                        "cells": {
                          "fill": {
                            "color": "rgb(237,237,237)"
                          },
                          "line": {
                            "color": "white"
                          }
                        },
                        "header": {
                          "fill": {
                            "color": "rgb(217,217,217)"
                          },
                          "line": {
                            "color": "white"
                          }
                        },
                        "type": "table"
                      }
                    ]
                  },
                  "layout": {
                    "annotationdefaults": {
                      "arrowhead": 0,
                      "arrowwidth": 1
                    },
                    "autotypenumbers": "strict",
                    "coloraxis": {
                      "colorbar": {
                        "outlinewidth": 1,
                        "tickcolor": "rgb(36,36,36)",
                        "ticks": "outside"
                      }
                    },
                    "colorscale": {
                      "diverging": [
                        [
                          0,
                          "rgb(103,0,31)"
                        ],
                        [
                          0.1,
                          "rgb(178,24,43)"
                        ],
                        [
                          0.2,
                          "rgb(214,96,77)"
                        ],
                        [
                          0.3,
                          "rgb(244,165,130)"
                        ],
                        [
                          0.4,
                          "rgb(253,219,199)"
                        ],
                        [
                          0.5,
                          "rgb(247,247,247)"
                        ],
                        [
                          0.6,
                          "rgb(209,229,240)"
                        ],
                        [
                          0.7,
                          "rgb(146,197,222)"
                        ],
                        [
                          0.8,
                          "rgb(67,147,195)"
                        ],
                        [
                          0.9,
                          "rgb(33,102,172)"
                        ],
                        [
                          1,
                          "rgb(5,48,97)"
                        ]
                      ],
                      "sequential": [
                        [
                          0,
                          "#440154"
                        ],
                        [
                          0.1111111111111111,
                          "#482878"
                        ],
                        [
                          0.2222222222222222,
                          "#3e4989"
                        ],
                        [
                          0.3333333333333333,
                          "#31688e"
                        ],
                        [
                          0.4444444444444444,
                          "#26828e"
                        ],
                        [
                          0.5555555555555556,
                          "#1f9e89"
                        ],
                        [
                          0.6666666666666666,
                          "#35b779"
                        ],
                        [
                          0.7777777777777778,
                          "#6ece58"
                        ],
                        [
                          0.8888888888888888,
                          "#b5de2b"
                        ],
                        [
                          1,
                          "#fde725"
                        ]
                      ],
                      "sequentialminus": [
                        [
                          0,
                          "#440154"
                        ],
                        [
                          0.1111111111111111,
                          "#482878"
                        ],
                        [
                          0.2222222222222222,
                          "#3e4989"
                        ],
                        [
                          0.3333333333333333,
                          "#31688e"
                        ],
                        [
                          0.4444444444444444,
                          "#26828e"
                        ],
                        [
                          0.5555555555555556,
                          "#1f9e89"
                        ],
                        [
                          0.6666666666666666,
                          "#35b779"
                        ],
                        [
                          0.7777777777777778,
                          "#6ece58"
                        ],
                        [
                          0.8888888888888888,
                          "#b5de2b"
                        ],
                        [
                          1,
                          "#fde725"
                        ]
                      ]
                    },
                    "colorway": [
                      "#1F77B4",
                      "#FF7F0E",
                      "#2CA02C",
                      "#D62728",
                      "#9467BD",
                      "#8C564B",
                      "#E377C2",
                      "#7F7F7F",
                      "#BCBD22",
                      "#17BECF"
                    ],
                    "font": {
                      "color": "rgb(36,36,36)"
                    },
                    "geo": {
                      "bgcolor": "white",
                      "lakecolor": "white",
                      "landcolor": "white",
                      "showlakes": true,
                      "showland": true,
                      "subunitcolor": "white"
                    },
                    "hoverlabel": {
                      "align": "left"
                    },
                    "hovermode": "closest",
                    "mapbox": {
                      "style": "light"
                    },
                    "paper_bgcolor": "white",
                    "plot_bgcolor": "white",
                    "polar": {
                      "angularaxis": {
                        "gridcolor": "rgb(232,232,232)",
                        "linecolor": "rgb(36,36,36)",
                        "showgrid": false,
                        "showline": true,
                        "ticks": "outside"
                      },
                      "bgcolor": "white",
                      "radialaxis": {
                        "gridcolor": "rgb(232,232,232)",
                        "linecolor": "rgb(36,36,36)",
                        "showgrid": false,
                        "showline": true,
                        "ticks": "outside"
                      }
                    },
                    "scene": {
                      "xaxis": {
                        "backgroundcolor": "white",
                        "gridcolor": "rgb(232,232,232)",
                        "gridwidth": 2,
                        "linecolor": "rgb(36,36,36)",
                        "showbackground": true,
                        "showgrid": false,
                        "showline": true,
                        "ticks": "outside",
                        "zeroline": false,
                        "zerolinecolor": "rgb(36,36,36)"
                      },
                      "yaxis": {
                        "backgroundcolor": "white",
                        "gridcolor": "rgb(232,232,232)",
                        "gridwidth": 2,
                        "linecolor": "rgb(36,36,36)",
                        "showbackground": true,
                        "showgrid": false,
                        "showline": true,
                        "ticks": "outside",
                        "zeroline": false,
                        "zerolinecolor": "rgb(36,36,36)"
                      },
                      "zaxis": {
                        "backgroundcolor": "white",
                        "gridcolor": "rgb(232,232,232)",
                        "gridwidth": 2,
                        "linecolor": "rgb(36,36,36)",
                        "showbackground": true,
                        "showgrid": false,
                        "showline": true,
                        "ticks": "outside",
                        "zeroline": false,
                        "zerolinecolor": "rgb(36,36,36)"
                      }
                    },
                    "shapedefaults": {
                      "fillcolor": "black",
                      "line": {
                        "width": 0
                      },
                      "opacity": 0.3
                    },
                    "ternary": {
                      "aaxis": {
                        "gridcolor": "rgb(232,232,232)",
                        "linecolor": "rgb(36,36,36)",
                        "showgrid": false,
                        "showline": true,
                        "ticks": "outside"
                      },
                      "baxis": {
                        "gridcolor": "rgb(232,232,232)",
                        "linecolor": "rgb(36,36,36)",
                        "showgrid": false,
                        "showline": true,
                        "ticks": "outside"
                      },
                      "bgcolor": "white",
                      "caxis": {
                        "gridcolor": "rgb(232,232,232)",
                        "linecolor": "rgb(36,36,36)",
                        "showgrid": false,
                        "showline": true,
                        "ticks": "outside"
                      }
                    },
                    "title": {
                      "x": 0.05
                    },
                    "xaxis": {
                      "automargin": true,
                      "gridcolor": "rgb(232,232,232)",
                      "linecolor": "rgb(36,36,36)",
                      "showgrid": false,
                      "showline": true,
                      "ticks": "outside",
                      "title": {
                        "standoff": 15
                      },
                      "zeroline": false,
                      "zerolinecolor": "rgb(36,36,36)"
                    },
                    "yaxis": {
                      "automargin": true,
                      "gridcolor": "rgb(232,232,232)",
                      "linecolor": "rgb(36,36,36)",
                      "showgrid": false,
                      "showline": true,
                      "ticks": "outside",
                      "title": {
                        "standoff": 15
                      },
                      "zeroline": false,
                      "zerolinecolor": "rgb(36,36,36)"
                    }
                  }
                },
                "title": {
                  "text": "Average Olympic Career Length by Sport"
                },
                "xaxis": {
                  "anchor": "y",
                  "categoryarray": [
                    "Biathlon",
                    "Table Tennis",
                    "Cross Country Skiing",
                    "Luge",
                    "Nordic Combined",
                    "Equestrianism",
                    "Speed Skating",
                    "Shooting",
                    "Trampolining",
                    "Short Track Speed Skating",
                    "Fencing",
                    "Ski Jumping",
                    "Alpine Skiing",
                    "Canoeing",
                    "Freestyle Skiing",
                    "Bobsleigh",
                    "Diving",
                    "Water Polo",
                    "Snowboarding",
                    "Sailing",
                    "Ice Hockey",
                    "Badminton",
                    "Beach Volleyball",
                    "Tennis",
                    "Archery",
                    "Skeleton",
                    "Swimming",
                    "Modern Pentathlon",
                    "Figure Skating",
                    "Hockey",
                    "Athletics",
                    "Wrestling",
                    "Volleyball",
                    "Weightlifting",
                    "Rowing",
                    "Judo",
                    "Synchronized Swimming",
                    "Handball",
                    "Curling",
                    "Triathlon",
                    "Softball",
                    "Cycling",
                    "Basketball",
                    "Gymnastics",
                    "Art Competitions",
                    "Taekwondo",
                    "Baseball",
                    "Tug-Of-War",
                    "Boxing",
                    "Rhythmic Gymnastics",
                    "Football",
                    "Polo",
                    "Military Ski Patrol",
                    "Rugby",
                    "Jeu De Paume",
                    "Motorboating",
                    "Golf",
                    "Rugby Sevens",
                    "Canoe Sprint",
                    "Alpinism",
                    "3x3 Basketball",
                    "Canoe Slalom",
                    "Basque Pelota",
                    "Baseball/Softball",
                    "Artistic Swimming",
                    "Artistic Gymnastics",
                    "Aeronautics",
                    "Cricket",
                    "Marathon Swimming",
                    "Lacrosse",
                    "Karate",
                    "Croquet",
                    "Cycling Track",
                    "Cycling Road",
                    "Cycling Mountain Bike",
                    "Equestrian",
                    "Cycling BMX Racing",
                    "Cycling BMX Freestyle",
                    "Racquets",
                    "Roque",
                    "Skateboarding",
                    "Surfing",
                    "Sport Climbing",
                    "Trampoline Gymnastics"
                  ],
                  "categoryorder": "array",
                  "domain": [
                    0,
                    1
                  ],
                  "title": {
                    "text": "Sport"
                  }
                },
                "yaxis": {
                  "anchor": "x",
                  "domain": [
                    0,
                    1
                  ],
                  "title": {
                    "text": "Average Career Length (Years)"
                  }
                }
              }
            }
          },
          "metadata": {},
          "output_type": "display_data"
        }
      ],
      "source": [
        "df = olympics_data.copy()\n",
        "\n",
        "# A corriger\n",
        "df['Career Length'] = df.groupby('Name')['Year'].transform('nunique')\n",
        "\n",
        "avg_career_length = df.groupby('Sport')['Career Length'].mean().reset_index()\n",
        "\n",
        "avg_career_length = avg_career_length.sort_values('Career Length', ascending=False)\n",
        "\n",
        "avg_career_length['Color'] = avg_career_length['Sport'].apply(lambda x: 'red' if x == 'Swimming' else 'gray')\n",
        "\n",
        "fig = px.bar(\n",
        "    avg_career_length,\n",
        "    x='Sport',\n",
        "    y='Career Length',\n",
        "    color='Color',\n",
        "    color_discrete_map={'red': 'red', 'gray': 'gray'},\n",
        "    labels={'Career Length': 'Average Career Length (Years)'},\n",
        "    title='Average Olympic Career Length by Sport',\n",
        "    category_orders={'Sport': avg_career_length['Sport'].tolist()}\n",
        ")\n",
        "\n",
        "fig.update_layout(\n",
        "    xaxis_title='Sport',\n",
        "    yaxis_title='Average Career Length (Years)',\n",
        "    showlegend=False,\n",
        "    template='simple_white'\n",
        ")\n",
        "\n",
        "fig.show()"
      ]
    }
  ],
  "metadata": {
    "colab": {
      "provenance": []
    },
    "kernelspec": {
      "display_name": "project8808",
      "language": "python",
      "name": "python3"
    },
    "language_info": {
      "codemirror_mode": {
        "name": "ipython",
        "version": 3
      },
      "file_extension": ".py",
      "mimetype": "text/x-python",
      "name": "python",
      "nbconvert_exporter": "python",
      "pygments_lexer": "ipython3",
      "version": "3.9.13"
    }
  },
  "nbformat": 4,
  "nbformat_minor": 5
}
