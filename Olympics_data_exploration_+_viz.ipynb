{
  "cells": [
    {
      "cell_type": "code",
      "execution_count": 17,
      "id": "VmGARVaVjSdA",
      "metadata": {
        "colab": {
          "base_uri": "https://localhost:8080/"
        },
        "id": "VmGARVaVjSdA",
        "outputId": "b12c0169-2422-4e75-c6b3-3fc7706a1159"
      },
      "outputs": [
        {
          "name": "stdout",
          "output_type": "stream",
          "text": [
            "Requirement already satisfied: dash in c:\\users\\alexi\\source\\repos\\tp_inf8808\\.venv\\lib\\site-packages (2.6.2)\n",
            "Requirement already satisfied: Flask>=1.0.4 in c:\\users\\alexi\\source\\repos\\tp_inf8808\\.venv\\lib\\site-packages (from dash) (2.2.2)\n",
            "Requirement already satisfied: flask-compress in c:\\users\\alexi\\source\\repos\\tp_inf8808\\.venv\\lib\\site-packages (from dash) (1.13)\n",
            "Requirement already satisfied: plotly>=5.0.0 in c:\\users\\alexi\\source\\repos\\tp_inf8808\\.venv\\lib\\site-packages (from dash) (5.11.0)\n",
            "Requirement already satisfied: dash-html-components==2.0.0 in c:\\users\\alexi\\source\\repos\\tp_inf8808\\.venv\\lib\\site-packages (from dash) (2.0.0)\n",
            "Requirement already satisfied: dash-core-components==2.0.0 in c:\\users\\alexi\\source\\repos\\tp_inf8808\\.venv\\lib\\site-packages (from dash) (2.0.0)\n",
            "Requirement already satisfied: dash-table==5.0.0 in c:\\users\\alexi\\source\\repos\\tp_inf8808\\.venv\\lib\\site-packages (from dash) (5.0.0)\n",
            "Requirement already satisfied: Werkzeug>=2.2.2 in c:\\users\\alexi\\source\\repos\\tp_inf8808\\.venv\\lib\\site-packages (from Flask>=1.0.4->dash) (2.2.2)\n",
            "Requirement already satisfied: Jinja2>=3.0 in c:\\users\\alexi\\source\\repos\\tp_inf8808\\.venv\\lib\\site-packages (from Flask>=1.0.4->dash) (3.1.2)\n",
            "Requirement already satisfied: itsdangerous>=2.0 in c:\\users\\alexi\\source\\repos\\tp_inf8808\\.venv\\lib\\site-packages (from Flask>=1.0.4->dash) (2.1.2)\n",
            "Requirement already satisfied: click>=8.0 in c:\\users\\alexi\\source\\repos\\tp_inf8808\\.venv\\lib\\site-packages (from Flask>=1.0.4->dash) (8.1.3)\n",
            "Requirement already satisfied: tenacity>=6.2.0 in c:\\users\\alexi\\source\\repos\\tp_inf8808\\.venv\\lib\\site-packages (from plotly>=5.0.0->dash) (8.1.0)\n",
            "Requirement already satisfied: brotli in c:\\users\\alexi\\source\\repos\\tp_inf8808\\.venv\\lib\\site-packages (from flask-compress->dash) (1.0.9)\n",
            "Requirement already satisfied: colorama in c:\\users\\alexi\\source\\repos\\tp_inf8808\\.venv\\lib\\site-packages (from click>=8.0->Flask>=1.0.4->dash) (0.4.6)\n",
            "Requirement already satisfied: MarkupSafe>=2.0 in c:\\users\\alexi\\source\\repos\\tp_inf8808\\.venv\\lib\\site-packages (from Jinja2>=3.0->Flask>=1.0.4->dash) (2.1.1)\n",
            "Note: you may need to restart the kernel to use updated packages.\n"
          ]
        },
        {
          "name": "stderr",
          "output_type": "stream",
          "text": [
            "WARNING: Ignoring invalid distribution ~lotly (c:\\Users\\alexi\\source\\repos\\TP_INF8808\\.venv\\Lib\\site-packages)\n",
            "WARNING: Ignoring invalid distribution ~lotly (c:\\Users\\alexi\\source\\repos\\TP_INF8808\\.venv\\Lib\\site-packages)\n",
            "WARNING: Ignoring invalid distribution ~lotly (c:\\Users\\alexi\\source\\repos\\TP_INF8808\\.venv\\Lib\\site-packages)\n",
            "\n",
            "[notice] A new release of pip is available: 24.3.1 -> 25.0.1\n",
            "[notice] To update, run: python.exe -m pip install --upgrade pip\n"
          ]
        }
      ],
      "source": [
        "pip install dash\n"
      ]
    },
    {
      "cell_type": "code",
      "execution_count": 18,
      "id": "ffddcc14",
      "metadata": {},
      "outputs": [
        {
          "name": "stdout",
          "output_type": "stream",
          "text": [
            "Requirement already satisfied: nbformat in c:\\users\\alexi\\source\\repos\\tp_inf8808\\.venv\\lib\\site-packages (5.10.4)\n",
            "Requirement already satisfied: fastjsonschema>=2.15 in c:\\users\\alexi\\source\\repos\\tp_inf8808\\.venv\\lib\\site-packages (from nbformat) (2.21.1)\n",
            "Requirement already satisfied: jsonschema>=2.6 in c:\\users\\alexi\\source\\repos\\tp_inf8808\\.venv\\lib\\site-packages (from nbformat) (4.23.0)\n",
            "Requirement already satisfied: jupyter-core!=5.0.*,>=4.12 in c:\\users\\alexi\\source\\repos\\tp_inf8808\\.venv\\lib\\site-packages (from nbformat) (5.7.2)\n",
            "Requirement already satisfied: traitlets>=5.1 in c:\\users\\alexi\\source\\repos\\tp_inf8808\\.venv\\lib\\site-packages (from nbformat) (5.14.3)\n",
            "Requirement already satisfied: attrs>=22.2.0 in c:\\users\\alexi\\source\\repos\\tp_inf8808\\.venv\\lib\\site-packages (from jsonschema>=2.6->nbformat) (25.2.0)\n",
            "Requirement already satisfied: jsonschema-specifications>=2023.03.6 in c:\\users\\alexi\\source\\repos\\tp_inf8808\\.venv\\lib\\site-packages (from jsonschema>=2.6->nbformat) (2024.10.1)\n",
            "Requirement already satisfied: referencing>=0.28.4 in c:\\users\\alexi\\source\\repos\\tp_inf8808\\.venv\\lib\\site-packages (from jsonschema>=2.6->nbformat) (0.36.2)\n",
            "Requirement already satisfied: rpds-py>=0.7.1 in c:\\users\\alexi\\source\\repos\\tp_inf8808\\.venv\\lib\\site-packages (from jsonschema>=2.6->nbformat) (0.23.1)\n",
            "Requirement already satisfied: platformdirs>=2.5 in c:\\users\\alexi\\source\\repos\\tp_inf8808\\.venv\\lib\\site-packages (from jupyter-core!=5.0.*,>=4.12->nbformat) (4.3.6)\n",
            "Requirement already satisfied: pywin32>=300 in c:\\users\\alexi\\source\\repos\\tp_inf8808\\.venv\\lib\\site-packages (from jupyter-core!=5.0.*,>=4.12->nbformat) (309)\n",
            "Requirement already satisfied: typing-extensions>=4.4.0 in c:\\users\\alexi\\source\\repos\\tp_inf8808\\.venv\\lib\\site-packages (from referencing>=0.28.4->jsonschema>=2.6->nbformat) (4.12.2)\n",
            "Note: you may need to restart the kernel to use updated packages.\n"
          ]
        },
        {
          "name": "stderr",
          "output_type": "stream",
          "text": [
            "WARNING: Ignoring invalid distribution ~lotly (c:\\Users\\alexi\\source\\repos\\TP_INF8808\\.venv\\Lib\\site-packages)\n",
            "WARNING: Ignoring invalid distribution ~lotly (c:\\Users\\alexi\\source\\repos\\TP_INF8808\\.venv\\Lib\\site-packages)\n",
            "WARNING: Ignoring invalid distribution ~lotly (c:\\Users\\alexi\\source\\repos\\TP_INF8808\\.venv\\Lib\\site-packages)\n",
            "\n",
            "[notice] A new release of pip is available: 24.3.1 -> 25.0.1\n",
            "[notice] To update, run: python.exe -m pip install --upgrade pip\n"
          ]
        }
      ],
      "source": [
        "pip install --upgrade nbformat"
      ]
    },
    {
      "cell_type": "code",
      "execution_count": 19,
      "id": "76379269-c028-4f44-ad2b-7b56ed81234f",
      "metadata": {
        "id": "76379269-c028-4f44-ad2b-7b56ed81234f"
      },
      "outputs": [],
      "source": [
        "import pandas as pd\n",
        "import numpy as np\n",
        "import nbformat\n",
        "import plotly.express as px\n",
        "import dash\n",
        "from dash import dcc, html\n",
        "from dash.dependencies import Input, Output\n",
        "import plotly.graph_objects as go\n",
        "import plotly.subplots as sp\n",
        "import pandas as pd\n",
        "from plotly.subplots import make_subplots"
      ]
    },
    {
      "cell_type": "code",
      "execution_count": 20,
      "id": "d100c77c-cc61-4871-a692-9cbe21ca4955",
      "metadata": {
        "id": "d100c77c-cc61-4871-a692-9cbe21ca4955"
      },
      "outputs": [],
      "source": [
        "olympics_data_original = pd.read_csv('all_athlete_games.csv')\n",
        "olympics_data = olympics_data_original.copy()"
      ]
    },
    {
      "cell_type": "code",
      "execution_count": 21,
      "id": "041e54fa-1261-4fae-80fe-ee8101490c62",
      "metadata": {
        "id": "041e54fa-1261-4fae-80fe-ee8101490c62"
      },
      "outputs": [],
      "source": [
        "olympics_data['Age'] = olympics_data['Age'].astype('Int64')"
      ]
    },
    {
      "cell_type": "code",
      "execution_count": 22,
      "id": "cMYo7bZ1tIhU",
      "metadata": {
        "id": "cMYo7bZ1tIhU"
      },
      "outputs": [],
      "source": [
        "import re\n",
        "\n",
        "olympics_data['Event'] = olympics_data.apply(\n",
        "    lambda row: re.sub(f'^{re.escape(row[\"Sport\"])}\\\\s*', '',\n",
        "                       re.sub(r'\\s*metres$', 'm',\n",
        "                       re.sub(r'^Athletics\\s*', '', row['Event']))),\n",
        "    axis=1\n",
        ")\n"
      ]
    },
    {
      "cell_type": "code",
      "execution_count": 23,
      "id": "guHPFEsnd4FY",
      "metadata": {
        "colab": {
          "base_uri": "https://localhost:8080/"
        },
        "id": "guHPFEsnd4FY",
        "outputId": "c7c69dc6-1283-490b-e42f-719713ff344a"
      },
      "outputs": [
        {
          "data": {
            "text/plain": [
              "929"
            ]
          },
          "execution_count": 23,
          "metadata": {},
          "output_type": "execute_result"
        }
      ],
      "source": [
        "olympics_data['Event'].unique().size"
      ]
    },
    {
      "cell_type": "code",
      "execution_count": 24,
      "id": "GvN85TWjgK_Y",
      "metadata": {
        "id": "GvN85TWjgK_Y"
      },
      "outputs": [],
      "source": [
        "olympics_data['Team'] = olympics_data['Team'].str.replace(r'\\d+$', '', regex=True)"
      ]
    },
    {
      "cell_type": "code",
      "execution_count": 25,
      "id": "eM-JePb3jMQw",
      "metadata": {
        "colab": {
          "base_uri": "https://localhost:8080/",
          "height": 164
        },
        "id": "eM-JePb3jMQw",
        "outputId": "419b3657-b92c-40d9-8e12-0f3653231e55"
      },
      "outputs": [
        {
          "data": {
            "text/html": [
              "<div>\n",
              "<style scoped>\n",
              "    .dataframe tbody tr th:only-of-type {\n",
              "        vertical-align: middle;\n",
              "    }\n",
              "\n",
              "    .dataframe tbody tr th {\n",
              "        vertical-align: top;\n",
              "    }\n",
              "\n",
              "    .dataframe thead th {\n",
              "        text-align: right;\n",
              "    }\n",
              "</style>\n",
              "<table border=\"1\" class=\"dataframe\">\n",
              "  <thead>\n",
              "    <tr style=\"text-align: right;\">\n",
              "      <th></th>\n",
              "      <th>Entry ID</th>\n",
              "      <th>Name</th>\n",
              "      <th>Gender</th>\n",
              "      <th>Age</th>\n",
              "      <th>Team</th>\n",
              "      <th>NOC</th>\n",
              "      <th>Year</th>\n",
              "      <th>Season</th>\n",
              "      <th>City</th>\n",
              "      <th>Sport</th>\n",
              "      <th>Event</th>\n",
              "      <th>Medal</th>\n",
              "    </tr>\n",
              "  </thead>\n",
              "  <tbody>\n",
              "    <tr>\n",
              "      <th>6</th>\n",
              "      <td>29</td>\n",
              "      <td>Einar Ferdinand \"Einari\" Aalto</td>\n",
              "      <td>Male</td>\n",
              "      <td>26</td>\n",
              "      <td>Finland</td>\n",
              "      <td>FIN</td>\n",
              "      <td>1952</td>\n",
              "      <td>Summer</td>\n",
              "      <td>Helsinki</td>\n",
              "      <td>Swimming</td>\n",
              "      <td>Men's 400 metres Freestyle</td>\n",
              "      <td>NaN</td>\n",
              "    </tr>\n",
              "    <tr>\n",
              "      <th>10</th>\n",
              "      <td>35</td>\n",
              "      <td>Arvo Ossian Aaltonen</td>\n",
              "      <td>Male</td>\n",
              "      <td>22</td>\n",
              "      <td>Finland</td>\n",
              "      <td>FIN</td>\n",
              "      <td>1912</td>\n",
              "      <td>Summer</td>\n",
              "      <td>Stockholm</td>\n",
              "      <td>Swimming</td>\n",
              "      <td>Men's 200 metres Breaststroke</td>\n",
              "      <td>NaN</td>\n",
              "    </tr>\n",
              "  </tbody>\n",
              "</table>\n",
              "</div>"
            ],
            "text/plain": [
              "    Entry ID                            Name Gender  Age     Team  NOC  Year  \\\n",
              "6         29  Einar Ferdinand \"Einari\" Aalto   Male   26  Finland  FIN  1952   \n",
              "10        35            Arvo Ossian Aaltonen   Male   22  Finland  FIN  1912   \n",
              "\n",
              "    Season       City     Sport                          Event Medal  \n",
              "6   Summer   Helsinki  Swimming     Men's 400 metres Freestyle   NaN  \n",
              "10  Summer  Stockholm  Swimming  Men's 200 metres Breaststroke   NaN  "
            ]
          },
          "execution_count": 25,
          "metadata": {},
          "output_type": "execute_result"
        }
      ],
      "source": [
        "olympics_data[olympics_data['Sport'] == 'Swimming'].head(2)"
      ]
    },
    {
      "cell_type": "markdown",
      "id": "qQWk0nqCmzTl",
      "metadata": {
        "id": "qQWk0nqCmzTl"
      },
      "source": [
        "# Age"
      ]
    },
    {
      "cell_type": "markdown",
      "id": "1NzJzQlBZrpB",
      "metadata": {
        "id": "1NzJzQlBZrpB"
      },
      "source": [
        "# Age avec moyenne"
      ]
    },
    {
      "cell_type": "code",
      "execution_count": 26,
      "id": "ICmvdnHgpWP6",
      "metadata": {
        "colab": {
          "base_uri": "https://localhost:8080/",
          "height": 631
        },
        "id": "ICmvdnHgpWP6",
        "outputId": "4984a115-08e7-42d2-9867-904de707c52a"
      },
      "outputs": [
        {
          "data": {
            "application/vnd.plotly.v1+json": {
              "config": {
                "plotlyServerURL": "https://plot.ly"
              },
              "data": [
                {
                  "hovertemplate": "Age Group=%{y}<br>Year=%{x}<br>Number of Athletes=%{marker.size}<extra></extra>",
                  "legendgroup": "10-14",
                  "marker": {
                    "color": "#2E86C1",
                    "opacity": 0.85,
                    "size": [
                      0,
                      0,
                      0,
                      0,
                      0,
                      2,
                      0,
                      1,
                      2,
                      1,
                      4,
                      2,
                      1,
                      0,
                      5,
                      3,
                      23,
                      18,
                      23,
                      7,
                      5,
                      7,
                      10,
                      9,
                      2,
                      4,
                      3,
                      1,
                      2,
                      0
                    ],
                    "sizemode": "area",
                    "sizeref": 0.355625,
                    "symbol": "circle"
                  },
                  "mode": "markers",
                  "name": "10-14",
                  "orientation": "h",
                  "showlegend": true,
                  "type": "scatter",
                  "x": [
                    1896,
                    1900,
                    1904,
                    1906,
                    1908,
                    1912,
                    1920,
                    1924,
                    1928,
                    1932,
                    1936,
                    1948,
                    1952,
                    1956,
                    1960,
                    1964,
                    1968,
                    1972,
                    1976,
                    1980,
                    1984,
                    1988,
                    1992,
                    1996,
                    2000,
                    2004,
                    2008,
                    2012,
                    2016,
                    2020
                  ],
                  "xaxis": "x",
                  "y": [
                    "10-14",
                    "10-14",
                    "10-14",
                    "10-14",
                    "10-14",
                    "10-14",
                    "10-14",
                    "10-14",
                    "10-14",
                    "10-14",
                    "10-14",
                    "10-14",
                    "10-14",
                    "10-14",
                    "10-14",
                    "10-14",
                    "10-14",
                    "10-14",
                    "10-14",
                    "10-14",
                    "10-14",
                    "10-14",
                    "10-14",
                    "10-14",
                    "10-14",
                    "10-14",
                    "10-14",
                    "10-14",
                    "10-14",
                    "10-14"
                  ],
                  "yaxis": "y"
                },
                {
                  "hovertemplate": "Age Group=%{y}<br>Year=%{x}<br>Number of Athletes=%{marker.size}<extra></extra>",
                  "legendgroup": "15-17",
                  "marker": {
                    "color": "#1ABC9C",
                    "opacity": 0.85,
                    "size": [
                      0,
                      3,
                      1,
                      6,
                      12,
                      15,
                      13,
                      24,
                      25,
                      20,
                      45,
                      26,
                      33,
                      42,
                      101,
                      124,
                      297,
                      314,
                      289,
                      173,
                      180,
                      209,
                      182,
                      170,
                      142,
                      113,
                      82,
                      64,
                      58,
                      53
                    ],
                    "sizemode": "area",
                    "sizeref": 0.355625,
                    "symbol": "circle"
                  },
                  "mode": "markers",
                  "name": "15-17",
                  "orientation": "h",
                  "showlegend": true,
                  "type": "scatter",
                  "x": [
                    1896,
                    1900,
                    1904,
                    1906,
                    1908,
                    1912,
                    1920,
                    1924,
                    1928,
                    1932,
                    1936,
                    1948,
                    1952,
                    1956,
                    1960,
                    1964,
                    1968,
                    1972,
                    1976,
                    1980,
                    1984,
                    1988,
                    1992,
                    1996,
                    2000,
                    2004,
                    2008,
                    2012,
                    2016,
                    2020
                  ],
                  "xaxis": "x",
                  "y": [
                    "15-17",
                    "15-17",
                    "15-17",
                    "15-17",
                    "15-17",
                    "15-17",
                    "15-17",
                    "15-17",
                    "15-17",
                    "15-17",
                    "15-17",
                    "15-17",
                    "15-17",
                    "15-17",
                    "15-17",
                    "15-17",
                    "15-17",
                    "15-17",
                    "15-17",
                    "15-17",
                    "15-17",
                    "15-17",
                    "15-17",
                    "15-17",
                    "15-17",
                    "15-17",
                    "15-17",
                    "15-17",
                    "15-17",
                    "15-17"
                  ],
                  "yaxis": "y"
                },
                {
                  "hovertemplate": "Age Group=%{y}<br>Year=%{x}<br>Number of Athletes=%{marker.size}<extra></extra>",
                  "legendgroup": "18-20",
                  "marker": {
                    "color": "#F39C12",
                    "opacity": 0.85,
                    "size": [
                      5,
                      22,
                      13,
                      11,
                      33,
                      63,
                      56,
                      62,
                      81,
                      64,
                      110,
                      130,
                      167,
                      109,
                      255,
                      296,
                      462,
                      517,
                      457,
                      329,
                      459,
                      551,
                      507,
                      488,
                      401,
                      359,
                      339,
                      268,
                      274,
                      261
                    ],
                    "sizemode": "area",
                    "sizeref": 0.355625,
                    "symbol": "circle"
                  },
                  "mode": "markers",
                  "name": "18-20",
                  "orientation": "h",
                  "showlegend": true,
                  "type": "scatter",
                  "x": [
                    1896,
                    1900,
                    1904,
                    1906,
                    1908,
                    1912,
                    1920,
                    1924,
                    1928,
                    1932,
                    1936,
                    1948,
                    1952,
                    1956,
                    1960,
                    1964,
                    1968,
                    1972,
                    1976,
                    1980,
                    1984,
                    1988,
                    1992,
                    1996,
                    2000,
                    2004,
                    2008,
                    2012,
                    2016,
                    2020
                  ],
                  "xaxis": "x",
                  "y": [
                    "18-20",
                    "18-20",
                    "18-20",
                    "18-20",
                    "18-20",
                    "18-20",
                    "18-20",
                    "18-20",
                    "18-20",
                    "18-20",
                    "18-20",
                    "18-20",
                    "18-20",
                    "18-20",
                    "18-20",
                    "18-20",
                    "18-20",
                    "18-20",
                    "18-20",
                    "18-20",
                    "18-20",
                    "18-20",
                    "18-20",
                    "18-20",
                    "18-20",
                    "18-20",
                    "18-20",
                    "18-20",
                    "18-20",
                    "18-20"
                  ],
                  "yaxis": "y"
                },
                {
                  "hovertemplate": "Age Group=%{y}<br>Year=%{x}<br>Number of Athletes=%{marker.size}<extra></extra>",
                  "legendgroup": "21-23",
                  "marker": {
                    "color": "#E74C3C",
                    "opacity": 0.85,
                    "size": [
                      2,
                      22,
                      21,
                      14,
                      32,
                      64,
                      26,
                      89,
                      80,
                      41,
                      111,
                      77,
                      138,
                      72,
                      177,
                      216,
                      326,
                      282,
                      233,
                      179,
                      429,
                      524,
                      500,
                      466,
                      569,
                      485,
                      531,
                      449,
                      466,
                      454
                    ],
                    "sizemode": "area",
                    "sizeref": 0.355625,
                    "symbol": "circle"
                  },
                  "mode": "markers",
                  "name": "21-23",
                  "orientation": "h",
                  "showlegend": true,
                  "type": "scatter",
                  "x": [
                    1896,
                    1900,
                    1904,
                    1906,
                    1908,
                    1912,
                    1920,
                    1924,
                    1928,
                    1932,
                    1936,
                    1948,
                    1952,
                    1956,
                    1960,
                    1964,
                    1968,
                    1972,
                    1976,
                    1980,
                    1984,
                    1988,
                    1992,
                    1996,
                    2000,
                    2004,
                    2008,
                    2012,
                    2016,
                    2020
                  ],
                  "xaxis": "x",
                  "y": [
                    "21-23",
                    "21-23",
                    "21-23",
                    "21-23",
                    "21-23",
                    "21-23",
                    "21-23",
                    "21-23",
                    "21-23",
                    "21-23",
                    "21-23",
                    "21-23",
                    "21-23",
                    "21-23",
                    "21-23",
                    "21-23",
                    "21-23",
                    "21-23",
                    "21-23",
                    "21-23",
                    "21-23",
                    "21-23",
                    "21-23",
                    "21-23",
                    "21-23",
                    "21-23",
                    "21-23",
                    "21-23",
                    "21-23",
                    "21-23"
                  ],
                  "yaxis": "y"
                },
                {
                  "hovertemplate": "Age Group=%{y}<br>Year=%{x}<br>Number of Athletes=%{marker.size}<extra></extra>",
                  "legendgroup": "24-26",
                  "marker": {
                    "color": "#8E44AD",
                    "opacity": 0.85,
                    "size": [
                      0,
                      5,
                      16,
                      14,
                      31,
                      30,
                      29,
                      22,
                      17,
                      30,
                      54,
                      61,
                      84,
                      48,
                      67,
                      74,
                      104,
                      106,
                      53,
                      53,
                      108,
                      267,
                      298,
                      342,
                      373,
                      379,
                      476,
                      438,
                      410,
                      431
                    ],
                    "sizemode": "area",
                    "sizeref": 0.355625,
                    "symbol": "circle"
                  },
                  "mode": "markers",
                  "name": "24-26",
                  "orientation": "h",
                  "showlegend": true,
                  "type": "scatter",
                  "x": [
                    1896,
                    1900,
                    1904,
                    1906,
                    1908,
                    1912,
                    1920,
                    1924,
                    1928,
                    1932,
                    1936,
                    1948,
                    1952,
                    1956,
                    1960,
                    1964,
                    1968,
                    1972,
                    1976,
                    1980,
                    1984,
                    1988,
                    1992,
                    1996,
                    2000,
                    2004,
                    2008,
                    2012,
                    2016,
                    2020
                  ],
                  "xaxis": "x",
                  "y": [
                    "24-26",
                    "24-26",
                    "24-26",
                    "24-26",
                    "24-26",
                    "24-26",
                    "24-26",
                    "24-26",
                    "24-26",
                    "24-26",
                    "24-26",
                    "24-26",
                    "24-26",
                    "24-26",
                    "24-26",
                    "24-26",
                    "24-26",
                    "24-26",
                    "24-26",
                    "24-26",
                    "24-26",
                    "24-26",
                    "24-26",
                    "24-26",
                    "24-26",
                    "24-26",
                    "24-26",
                    "24-26",
                    "24-26",
                    "24-26"
                  ],
                  "yaxis": "y"
                },
                {
                  "hovertemplate": "Age Group=%{y}<br>Year=%{x}<br>Number of Athletes=%{marker.size}<extra></extra>",
                  "legendgroup": "27-30",
                  "marker": {
                    "color": "#16A085",
                    "opacity": 0.85,
                    "size": [
                      0,
                      7,
                      1,
                      7,
                      15,
                      13,
                      25,
                      13,
                      22,
                      10,
                      20,
                      35,
                      37,
                      21,
                      16,
                      23,
                      13,
                      14,
                      16,
                      3,
                      16,
                      39,
                      104,
                      150,
                      216,
                      222,
                      242,
                      269,
                      283,
                      336
                    ],
                    "sizemode": "area",
                    "sizeref": 0.355625,
                    "symbol": "circle"
                  },
                  "mode": "markers",
                  "name": "27-30",
                  "orientation": "h",
                  "showlegend": true,
                  "type": "scatter",
                  "x": [
                    1896,
                    1900,
                    1904,
                    1906,
                    1908,
                    1912,
                    1920,
                    1924,
                    1928,
                    1932,
                    1936,
                    1948,
                    1952,
                    1956,
                    1960,
                    1964,
                    1968,
                    1972,
                    1976,
                    1980,
                    1984,
                    1988,
                    1992,
                    1996,
                    2000,
                    2004,
                    2008,
                    2012,
                    2016,
                    2020
                  ],
                  "xaxis": "x",
                  "y": [
                    "27-30",
                    "27-30",
                    "27-30",
                    "27-30",
                    "27-30",
                    "27-30",
                    "27-30",
                    "27-30",
                    "27-30",
                    "27-30",
                    "27-30",
                    "27-30",
                    "27-30",
                    "27-30",
                    "27-30",
                    "27-30",
                    "27-30",
                    "27-30",
                    "27-30",
                    "27-30",
                    "27-30",
                    "27-30",
                    "27-30",
                    "27-30",
                    "27-30",
                    "27-30",
                    "27-30",
                    "27-30",
                    "27-30",
                    "27-30"
                  ],
                  "yaxis": "y"
                },
                {
                  "hovertemplate": "Age Group=%{y}<br>Year=%{x}<br>Number of Athletes=%{marker.size}<extra></extra>",
                  "legendgroup": "31-35",
                  "marker": {
                    "color": "#D35400",
                    "opacity": 0.85,
                    "size": [
                      0,
                      4,
                      3,
                      4,
                      3,
                      9,
                      8,
                      9,
                      1,
                      4,
                      1,
                      5,
                      7,
                      5,
                      6,
                      0,
                      4,
                      2,
                      0,
                      2,
                      4,
                      6,
                      10,
                      7,
                      38,
                      54,
                      69,
                      42,
                      68,
                      89
                    ],
                    "sizemode": "area",
                    "sizeref": 0.355625,
                    "symbol": "circle"
                  },
                  "mode": "markers",
                  "name": "31-35",
                  "orientation": "h",
                  "showlegend": true,
                  "type": "scatter",
                  "x": [
                    1896,
                    1900,
                    1904,
                    1906,
                    1908,
                    1912,
                    1920,
                    1924,
                    1928,
                    1932,
                    1936,
                    1948,
                    1952,
                    1956,
                    1960,
                    1964,
                    1968,
                    1972,
                    1976,
                    1980,
                    1984,
                    1988,
                    1992,
                    1996,
                    2000,
                    2004,
                    2008,
                    2012,
                    2016,
                    2020
                  ],
                  "xaxis": "x",
                  "y": [
                    "31-35",
                    "31-35",
                    "31-35",
                    "31-35",
                    "31-35",
                    "31-35",
                    "31-35",
                    "31-35",
                    "31-35",
                    "31-35",
                    "31-35",
                    "31-35",
                    "31-35",
                    "31-35",
                    "31-35",
                    "31-35",
                    "31-35",
                    "31-35",
                    "31-35",
                    "31-35",
                    "31-35",
                    "31-35",
                    "31-35",
                    "31-35",
                    "31-35",
                    "31-35",
                    "31-35",
                    "31-35",
                    "31-35",
                    "31-35"
                  ],
                  "yaxis": "y"
                },
                {
                  "hovertemplate": "Age Group=%{y}<br>Year=%{x}<br>Number of Athletes=%{marker.size}<extra></extra>",
                  "legendgroup": "36+",
                  "marker": {
                    "color": "#34495E",
                    "opacity": 0.85,
                    "size": [
                      0,
                      3,
                      5,
                      1,
                      3,
                      2,
                      6,
                      0,
                      2,
                      0,
                      0,
                      0,
                      1,
                      1,
                      0,
                      0,
                      0,
                      0,
                      0,
                      0,
                      0,
                      0,
                      1,
                      0,
                      0,
                      2,
                      7,
                      7,
                      7,
                      10
                    ],
                    "sizemode": "area",
                    "sizeref": 0.355625,
                    "symbol": "circle"
                  },
                  "mode": "markers",
                  "name": "36+",
                  "orientation": "h",
                  "showlegend": true,
                  "type": "scatter",
                  "x": [
                    1896,
                    1900,
                    1904,
                    1906,
                    1908,
                    1912,
                    1920,
                    1924,
                    1928,
                    1932,
                    1936,
                    1948,
                    1952,
                    1956,
                    1960,
                    1964,
                    1968,
                    1972,
                    1976,
                    1980,
                    1984,
                    1988,
                    1992,
                    1996,
                    2000,
                    2004,
                    2008,
                    2012,
                    2016,
                    2020
                  ],
                  "xaxis": "x",
                  "y": [
                    "36+",
                    "36+",
                    "36+",
                    "36+",
                    "36+",
                    "36+",
                    "36+",
                    "36+",
                    "36+",
                    "36+",
                    "36+",
                    "36+",
                    "36+",
                    "36+",
                    "36+",
                    "36+",
                    "36+",
                    "36+",
                    "36+",
                    "36+",
                    "36+",
                    "36+",
                    "36+",
                    "36+",
                    "36+",
                    "36+",
                    "36+",
                    "36+",
                    "36+",
                    "36+"
                  ],
                  "yaxis": "y"
                },
                {
                  "marker": {
                    "color": "#000000",
                    "size": 6
                  },
                  "mode": "markers",
                  "name": "",
                  "type": "scatter",
                  "x": [
                    1896,
                    1900,
                    1904,
                    1906,
                    1908,
                    1912,
                    1920,
                    1924,
                    1928,
                    1932,
                    1936,
                    1948,
                    1952,
                    1956,
                    1960,
                    1964,
                    1968,
                    1972,
                    1976,
                    1980,
                    1984,
                    1988,
                    1992,
                    1996,
                    2000,
                    2004,
                    2008,
                    2012,
                    2016,
                    2020
                  ],
                  "y": [
                    "18-20",
                    "21-23",
                    "21-23",
                    "21-23",
                    "21-23",
                    "21-23",
                    "21-23",
                    "21-23",
                    "21-23",
                    "21-23",
                    "21-23",
                    "21-23",
                    "21-23",
                    "21-23",
                    "18-20",
                    "18-20",
                    "18-20",
                    "18-20",
                    "18-20",
                    "18-20",
                    "18-20",
                    "18-20",
                    "21-23",
                    "21-23",
                    "21-23",
                    "21-23",
                    "21-23",
                    "21-23",
                    "21-23",
                    "24-26"
                  ]
                },
                {
                  "line": {
                    "color": "#000000",
                    "width": 2
                  },
                  "mode": "lines",
                  "name": "Mean Age Trend",
                  "type": "scatter",
                  "x": [
                    1896,
                    1900,
                    1904,
                    1906,
                    1908,
                    1912,
                    1920,
                    1924,
                    1928,
                    1932,
                    1936,
                    1948,
                    1952,
                    1956,
                    1960,
                    1964,
                    1968,
                    1972,
                    1976,
                    1980,
                    1984,
                    1988,
                    1992,
                    1996,
                    2000,
                    2004,
                    2008,
                    2012,
                    2016,
                    2020
                  ],
                  "y": [
                    "18-20",
                    "21-23",
                    "21-23",
                    "21-23",
                    "21-23",
                    "21-23",
                    "21-23",
                    "21-23",
                    "21-23",
                    "21-23",
                    "21-23",
                    "21-23",
                    "21-23",
                    "21-23",
                    "18-20",
                    "18-20",
                    "18-20",
                    "18-20",
                    "18-20",
                    "18-20",
                    "18-20",
                    "18-20",
                    "21-23",
                    "21-23",
                    "21-23",
                    "21-23",
                    "21-23",
                    "21-23",
                    "21-23",
                    "24-26"
                  ]
                }
              ],
              "layout": {
                "font": {
                  "size": 14
                },
                "legend": {
                  "itemsizing": "constant",
                  "title": {
                    "text": "Age Groups"
                  },
                  "tracegroupgap": 0
                },
                "paper_bgcolor": "white",
                "plot_bgcolor": "white",
                "template": {
                  "data": {
                    "bar": [
                      {
                        "error_x": {
                          "color": "rgb(36,36,36)"
                        },
                        "error_y": {
                          "color": "rgb(36,36,36)"
                        },
                        "marker": {
                          "line": {
                            "color": "white",
                            "width": 0.5
                          },
                          "pattern": {
                            "fillmode": "overlay",
                            "size": 10,
                            "solidity": 0.2
                          }
                        },
                        "type": "bar"
                      }
                    ],
                    "barpolar": [
                      {
                        "marker": {
                          "line": {
                            "color": "white",
                            "width": 0.5
                          },
                          "pattern": {
                            "fillmode": "overlay",
                            "size": 10,
                            "solidity": 0.2
                          }
                        },
                        "type": "barpolar"
                      }
                    ],
                    "carpet": [
                      {
                        "aaxis": {
                          "endlinecolor": "rgb(36,36,36)",
                          "gridcolor": "white",
                          "linecolor": "white",
                          "minorgridcolor": "white",
                          "startlinecolor": "rgb(36,36,36)"
                        },
                        "baxis": {
                          "endlinecolor": "rgb(36,36,36)",
                          "gridcolor": "white",
                          "linecolor": "white",
                          "minorgridcolor": "white",
                          "startlinecolor": "rgb(36,36,36)"
                        },
                        "type": "carpet"
                      }
                    ],
                    "choropleth": [
                      {
                        "colorbar": {
                          "outlinewidth": 1,
                          "tickcolor": "rgb(36,36,36)",
                          "ticks": "outside"
                        },
                        "type": "choropleth"
                      }
                    ],
                    "contour": [
                      {
                        "colorbar": {
                          "outlinewidth": 1,
                          "tickcolor": "rgb(36,36,36)",
                          "ticks": "outside"
                        },
                        "colorscale": [
                          [
                            0,
                            "#440154"
                          ],
                          [
                            0.1111111111111111,
                            "#482878"
                          ],
                          [
                            0.2222222222222222,
                            "#3e4989"
                          ],
                          [
                            0.3333333333333333,
                            "#31688e"
                          ],
                          [
                            0.4444444444444444,
                            "#26828e"
                          ],
                          [
                            0.5555555555555556,
                            "#1f9e89"
                          ],
                          [
                            0.6666666666666666,
                            "#35b779"
                          ],
                          [
                            0.7777777777777778,
                            "#6ece58"
                          ],
                          [
                            0.8888888888888888,
                            "#b5de2b"
                          ],
                          [
                            1,
                            "#fde725"
                          ]
                        ],
                        "type": "contour"
                      }
                    ],
                    "contourcarpet": [
                      {
                        "colorbar": {
                          "outlinewidth": 1,
                          "tickcolor": "rgb(36,36,36)",
                          "ticks": "outside"
                        },
                        "type": "contourcarpet"
                      }
                    ],
                    "heatmap": [
                      {
                        "colorbar": {
                          "outlinewidth": 1,
                          "tickcolor": "rgb(36,36,36)",
                          "ticks": "outside"
                        },
                        "colorscale": [
                          [
                            0,
                            "#440154"
                          ],
                          [
                            0.1111111111111111,
                            "#482878"
                          ],
                          [
                            0.2222222222222222,
                            "#3e4989"
                          ],
                          [
                            0.3333333333333333,
                            "#31688e"
                          ],
                          [
                            0.4444444444444444,
                            "#26828e"
                          ],
                          [
                            0.5555555555555556,
                            "#1f9e89"
                          ],
                          [
                            0.6666666666666666,
                            "#35b779"
                          ],
                          [
                            0.7777777777777778,
                            "#6ece58"
                          ],
                          [
                            0.8888888888888888,
                            "#b5de2b"
                          ],
                          [
                            1,
                            "#fde725"
                          ]
                        ],
                        "type": "heatmap"
                      }
                    ],
                    "heatmapgl": [
                      {
                        "colorbar": {
                          "outlinewidth": 1,
                          "tickcolor": "rgb(36,36,36)",
                          "ticks": "outside"
                        },
                        "colorscale": [
                          [
                            0,
                            "#440154"
                          ],
                          [
                            0.1111111111111111,
                            "#482878"
                          ],
                          [
                            0.2222222222222222,
                            "#3e4989"
                          ],
                          [
                            0.3333333333333333,
                            "#31688e"
                          ],
                          [
                            0.4444444444444444,
                            "#26828e"
                          ],
                          [
                            0.5555555555555556,
                            "#1f9e89"
                          ],
                          [
                            0.6666666666666666,
                            "#35b779"
                          ],
                          [
                            0.7777777777777778,
                            "#6ece58"
                          ],
                          [
                            0.8888888888888888,
                            "#b5de2b"
                          ],
                          [
                            1,
                            "#fde725"
                          ]
                        ],
                        "type": "heatmapgl"
                      }
                    ],
                    "histogram": [
                      {
                        "marker": {
                          "line": {
                            "color": "white",
                            "width": 0.6
                          }
                        },
                        "type": "histogram"
                      }
                    ],
                    "histogram2d": [
                      {
                        "colorbar": {
                          "outlinewidth": 1,
                          "tickcolor": "rgb(36,36,36)",
                          "ticks": "outside"
                        },
                        "colorscale": [
                          [
                            0,
                            "#440154"
                          ],
                          [
                            0.1111111111111111,
                            "#482878"
                          ],
                          [
                            0.2222222222222222,
                            "#3e4989"
                          ],
                          [
                            0.3333333333333333,
                            "#31688e"
                          ],
                          [
                            0.4444444444444444,
                            "#26828e"
                          ],
                          [
                            0.5555555555555556,
                            "#1f9e89"
                          ],
                          [
                            0.6666666666666666,
                            "#35b779"
                          ],
                          [
                            0.7777777777777778,
                            "#6ece58"
                          ],
                          [
                            0.8888888888888888,
                            "#b5de2b"
                          ],
                          [
                            1,
                            "#fde725"
                          ]
                        ],
                        "type": "histogram2d"
                      }
                    ],
                    "histogram2dcontour": [
                      {
                        "colorbar": {
                          "outlinewidth": 1,
                          "tickcolor": "rgb(36,36,36)",
                          "ticks": "outside"
                        },
                        "colorscale": [
                          [
                            0,
                            "#440154"
                          ],
                          [
                            0.1111111111111111,
                            "#482878"
                          ],
                          [
                            0.2222222222222222,
                            "#3e4989"
                          ],
                          [
                            0.3333333333333333,
                            "#31688e"
                          ],
                          [
                            0.4444444444444444,
                            "#26828e"
                          ],
                          [
                            0.5555555555555556,
                            "#1f9e89"
                          ],
                          [
                            0.6666666666666666,
                            "#35b779"
                          ],
                          [
                            0.7777777777777778,
                            "#6ece58"
                          ],
                          [
                            0.8888888888888888,
                            "#b5de2b"
                          ],
                          [
                            1,
                            "#fde725"
                          ]
                        ],
                        "type": "histogram2dcontour"
                      }
                    ],
                    "mesh3d": [
                      {
                        "colorbar": {
                          "outlinewidth": 1,
                          "tickcolor": "rgb(36,36,36)",
                          "ticks": "outside"
                        },
                        "type": "mesh3d"
                      }
                    ],
                    "parcoords": [
                      {
                        "line": {
                          "colorbar": {
                            "outlinewidth": 1,
                            "tickcolor": "rgb(36,36,36)",
                            "ticks": "outside"
                          }
                        },
                        "type": "parcoords"
                      }
                    ],
                    "pie": [
                      {
                        "automargin": true,
                        "type": "pie"
                      }
                    ],
                    "scatter": [
                      {
                        "fillpattern": {
                          "fillmode": "overlay",
                          "size": 10,
                          "solidity": 0.2
                        },
                        "type": "scatter"
                      }
                    ],
                    "scatter3d": [
                      {
                        "line": {
                          "colorbar": {
                            "outlinewidth": 1,
                            "tickcolor": "rgb(36,36,36)",
                            "ticks": "outside"
                          }
                        },
                        "marker": {
                          "colorbar": {
                            "outlinewidth": 1,
                            "tickcolor": "rgb(36,36,36)",
                            "ticks": "outside"
                          }
                        },
                        "type": "scatter3d"
                      }
                    ],
                    "scattercarpet": [
                      {
                        "marker": {
                          "colorbar": {
                            "outlinewidth": 1,
                            "tickcolor": "rgb(36,36,36)",
                            "ticks": "outside"
                          }
                        },
                        "type": "scattercarpet"
                      }
                    ],
                    "scattergeo": [
                      {
                        "marker": {
                          "colorbar": {
                            "outlinewidth": 1,
                            "tickcolor": "rgb(36,36,36)",
                            "ticks": "outside"
                          }
                        },
                        "type": "scattergeo"
                      }
                    ],
                    "scattergl": [
                      {
                        "marker": {
                          "colorbar": {
                            "outlinewidth": 1,
                            "tickcolor": "rgb(36,36,36)",
                            "ticks": "outside"
                          }
                        },
                        "type": "scattergl"
                      }
                    ],
                    "scattermapbox": [
                      {
                        "marker": {
                          "colorbar": {
                            "outlinewidth": 1,
                            "tickcolor": "rgb(36,36,36)",
                            "ticks": "outside"
                          }
                        },
                        "type": "scattermapbox"
                      }
                    ],
                    "scatterpolar": [
                      {
                        "marker": {
                          "colorbar": {
                            "outlinewidth": 1,
                            "tickcolor": "rgb(36,36,36)",
                            "ticks": "outside"
                          }
                        },
                        "type": "scatterpolar"
                      }
                    ],
                    "scatterpolargl": [
                      {
                        "marker": {
                          "colorbar": {
                            "outlinewidth": 1,
                            "tickcolor": "rgb(36,36,36)",
                            "ticks": "outside"
                          }
                        },
                        "type": "scatterpolargl"
                      }
                    ],
                    "scatterternary": [
                      {
                        "marker": {
                          "colorbar": {
                            "outlinewidth": 1,
                            "tickcolor": "rgb(36,36,36)",
                            "ticks": "outside"
                          }
                        },
                        "type": "scatterternary"
                      }
                    ],
                    "surface": [
                      {
                        "colorbar": {
                          "outlinewidth": 1,
                          "tickcolor": "rgb(36,36,36)",
                          "ticks": "outside"
                        },
                        "colorscale": [
                          [
                            0,
                            "#440154"
                          ],
                          [
                            0.1111111111111111,
                            "#482878"
                          ],
                          [
                            0.2222222222222222,
                            "#3e4989"
                          ],
                          [
                            0.3333333333333333,
                            "#31688e"
                          ],
                          [
                            0.4444444444444444,
                            "#26828e"
                          ],
                          [
                            0.5555555555555556,
                            "#1f9e89"
                          ],
                          [
                            0.6666666666666666,
                            "#35b779"
                          ],
                          [
                            0.7777777777777778,
                            "#6ece58"
                          ],
                          [
                            0.8888888888888888,
                            "#b5de2b"
                          ],
                          [
                            1,
                            "#fde725"
                          ]
                        ],
                        "type": "surface"
                      }
                    ],
                    "table": [
                      {
                        "cells": {
                          "fill": {
                            "color": "rgb(237,237,237)"
                          },
                          "line": {
                            "color": "white"
                          }
                        },
                        "header": {
                          "fill": {
                            "color": "rgb(217,217,217)"
                          },
                          "line": {
                            "color": "white"
                          }
                        },
                        "type": "table"
                      }
                    ]
                  },
                  "layout": {
                    "annotationdefaults": {
                      "arrowhead": 0,
                      "arrowwidth": 1
                    },
                    "autotypenumbers": "strict",
                    "coloraxis": {
                      "colorbar": {
                        "outlinewidth": 1,
                        "tickcolor": "rgb(36,36,36)",
                        "ticks": "outside"
                      }
                    },
                    "colorscale": {
                      "diverging": [
                        [
                          0,
                          "rgb(103,0,31)"
                        ],
                        [
                          0.1,
                          "rgb(178,24,43)"
                        ],
                        [
                          0.2,
                          "rgb(214,96,77)"
                        ],
                        [
                          0.3,
                          "rgb(244,165,130)"
                        ],
                        [
                          0.4,
                          "rgb(253,219,199)"
                        ],
                        [
                          0.5,
                          "rgb(247,247,247)"
                        ],
                        [
                          0.6,
                          "rgb(209,229,240)"
                        ],
                        [
                          0.7,
                          "rgb(146,197,222)"
                        ],
                        [
                          0.8,
                          "rgb(67,147,195)"
                        ],
                        [
                          0.9,
                          "rgb(33,102,172)"
                        ],
                        [
                          1,
                          "rgb(5,48,97)"
                        ]
                      ],
                      "sequential": [
                        [
                          0,
                          "#440154"
                        ],
                        [
                          0.1111111111111111,
                          "#482878"
                        ],
                        [
                          0.2222222222222222,
                          "#3e4989"
                        ],
                        [
                          0.3333333333333333,
                          "#31688e"
                        ],
                        [
                          0.4444444444444444,
                          "#26828e"
                        ],
                        [
                          0.5555555555555556,
                          "#1f9e89"
                        ],
                        [
                          0.6666666666666666,
                          "#35b779"
                        ],
                        [
                          0.7777777777777778,
                          "#6ece58"
                        ],
                        [
                          0.8888888888888888,
                          "#b5de2b"
                        ],
                        [
                          1,
                          "#fde725"
                        ]
                      ],
                      "sequentialminus": [
                        [
                          0,
                          "#440154"
                        ],
                        [
                          0.1111111111111111,
                          "#482878"
                        ],
                        [
                          0.2222222222222222,
                          "#3e4989"
                        ],
                        [
                          0.3333333333333333,
                          "#31688e"
                        ],
                        [
                          0.4444444444444444,
                          "#26828e"
                        ],
                        [
                          0.5555555555555556,
                          "#1f9e89"
                        ],
                        [
                          0.6666666666666666,
                          "#35b779"
                        ],
                        [
                          0.7777777777777778,
                          "#6ece58"
                        ],
                        [
                          0.8888888888888888,
                          "#b5de2b"
                        ],
                        [
                          1,
                          "#fde725"
                        ]
                      ]
                    },
                    "colorway": [
                      "#1F77B4",
                      "#FF7F0E",
                      "#2CA02C",
                      "#D62728",
                      "#9467BD",
                      "#8C564B",
                      "#E377C2",
                      "#7F7F7F",
                      "#BCBD22",
                      "#17BECF"
                    ],
                    "font": {
                      "color": "rgb(36,36,36)"
                    },
                    "geo": {
                      "bgcolor": "white",
                      "lakecolor": "white",
                      "landcolor": "white",
                      "showlakes": true,
                      "showland": true,
                      "subunitcolor": "white"
                    },
                    "hoverlabel": {
                      "align": "left"
                    },
                    "hovermode": "closest",
                    "mapbox": {
                      "style": "light"
                    },
                    "paper_bgcolor": "white",
                    "plot_bgcolor": "white",
                    "polar": {
                      "angularaxis": {
                        "gridcolor": "rgb(232,232,232)",
                        "linecolor": "rgb(36,36,36)",
                        "showgrid": false,
                        "showline": true,
                        "ticks": "outside"
                      },
                      "bgcolor": "white",
                      "radialaxis": {
                        "gridcolor": "rgb(232,232,232)",
                        "linecolor": "rgb(36,36,36)",
                        "showgrid": false,
                        "showline": true,
                        "ticks": "outside"
                      }
                    },
                    "scene": {
                      "xaxis": {
                        "backgroundcolor": "white",
                        "gridcolor": "rgb(232,232,232)",
                        "gridwidth": 2,
                        "linecolor": "rgb(36,36,36)",
                        "showbackground": true,
                        "showgrid": false,
                        "showline": true,
                        "ticks": "outside",
                        "zeroline": false,
                        "zerolinecolor": "rgb(36,36,36)"
                      },
                      "yaxis": {
                        "backgroundcolor": "white",
                        "gridcolor": "rgb(232,232,232)",
                        "gridwidth": 2,
                        "linecolor": "rgb(36,36,36)",
                        "showbackground": true,
                        "showgrid": false,
                        "showline": true,
                        "ticks": "outside",
                        "zeroline": false,
                        "zerolinecolor": "rgb(36,36,36)"
                      },
                      "zaxis": {
                        "backgroundcolor": "white",
                        "gridcolor": "rgb(232,232,232)",
                        "gridwidth": 2,
                        "linecolor": "rgb(36,36,36)",
                        "showbackground": true,
                        "showgrid": false,
                        "showline": true,
                        "ticks": "outside",
                        "zeroline": false,
                        "zerolinecolor": "rgb(36,36,36)"
                      }
                    },
                    "shapedefaults": {
                      "fillcolor": "black",
                      "line": {
                        "width": 0
                      },
                      "opacity": 0.3
                    },
                    "ternary": {
                      "aaxis": {
                        "gridcolor": "rgb(232,232,232)",
                        "linecolor": "rgb(36,36,36)",
                        "showgrid": false,
                        "showline": true,
                        "ticks": "outside"
                      },
                      "baxis": {
                        "gridcolor": "rgb(232,232,232)",
                        "linecolor": "rgb(36,36,36)",
                        "showgrid": false,
                        "showline": true,
                        "ticks": "outside"
                      },
                      "bgcolor": "white",
                      "caxis": {
                        "gridcolor": "rgb(232,232,232)",
                        "linecolor": "rgb(36,36,36)",
                        "showgrid": false,
                        "showline": true,
                        "ticks": "outside"
                      }
                    },
                    "title": {
                      "x": 0.05
                    },
                    "xaxis": {
                      "automargin": true,
                      "gridcolor": "rgb(232,232,232)",
                      "linecolor": "rgb(36,36,36)",
                      "showgrid": false,
                      "showline": true,
                      "ticks": "outside",
                      "title": {
                        "standoff": 15
                      },
                      "zeroline": false,
                      "zerolinecolor": "rgb(36,36,36)"
                    },
                    "yaxis": {
                      "automargin": true,
                      "gridcolor": "rgb(232,232,232)",
                      "linecolor": "rgb(36,36,36)",
                      "showgrid": false,
                      "showline": true,
                      "ticks": "outside",
                      "title": {
                        "standoff": 15
                      },
                      "zeroline": false,
                      "zerolinecolor": "rgb(36,36,36)"
                    }
                  }
                },
                "title": {
                  "font": {
                    "size": 18
                  },
                  "text": "Age Distribution of Swimming Athletes Over Time"
                },
                "xaxis": {
                  "anchor": "y",
                  "domain": [
                    0,
                    1
                  ],
                  "showgrid": false,
                  "showline": false,
                  "tickmode": "array",
                  "title": {
                    "text": "Year"
                  }
                },
                "yaxis": {
                  "anchor": "x",
                  "categoryarray": [
                    "36+",
                    "31-35",
                    "27-30",
                    "24-26",
                    "21-23",
                    "18-20",
                    "15-17",
                    "10-14"
                  ],
                  "categoryorder": "array",
                  "domain": [
                    0,
                    1
                  ],
                  "gridcolor": "lightgray",
                  "griddash": "dashdot",
                  "gridwidth": 1,
                  "showgrid": true,
                  "showline": false,
                  "title": {
                    "text": "Age Group"
                  }
                }
              }
            }
          },
          "metadata": {},
          "output_type": "display_data"
        }
      ],
      "source": [
        "df = olympics_data[olympics_data['Sport'] == 'Swimming'].copy()\n",
        "\n",
        "bins = [10, 14, 17, 20, 23, 26, 30, 35, 100]\n",
        "labels = [\"10-14\", \"15-17\", \"18-20\", \"21-23\", \"24-26\", \"27-30\", \"31-35\", \"36+\"]\n",
        "df[\"Age Group\"] = pd.cut(df[\"Age\"], bins=bins, labels=labels, right=False)\n",
        "\n",
        "df_grouped = df.groupby([\"Year\", \"Age Group\"]).size().reset_index(name=\"Count\")\n",
        "\n",
        "# Average age\n",
        "df_mean_age = df.groupby(\"Year\")[\"Age\"].mean().reset_index()\n",
        "df_mean_age[\"Age Group\"] = pd.cut(\n",
        "    df_mean_age[\"Age\"],\n",
        "    bins=bins,\n",
        "    labels=labels,\n",
        "    right=False\n",
        ")\n",
        "\n",
        "color_palette = [\"#2E86C1\", \"#1ABC9C\", \"#F39C12\", \"#E74C3C\", \"#8E44AD\", \"#16A085\", \"#D35400\", \"#34495E\"]\n",
        "\n",
        "fig = px.scatter(df_grouped,\n",
        "                 x=\"Year\",\n",
        "                 y=\"Age Group\",\n",
        "                 size=\"Count\",\n",
        "                 color=\"Age Group\",\n",
        "                 color_discrete_sequence=color_palette,\n",
        "                 title=\"Age Distribution of Swimming Athletes Over Time\",\n",
        "                 labels={\"Year\": \"Year\", \"Age Group\": \"Age Group\", \"Count\": \"Number of Athletes\"},\n",
        "                 opacity=0.85,\n",
        "                 size_max=40)\n",
        "\n",
        "fig.add_scatter(\n",
        "    x=df_mean_age[\"Year\"],\n",
        "    y=df_mean_age[\"Age Group\"],\n",
        "    mode=\"markers\",\n",
        "    marker=dict(color=\"#000000\", size=6),\n",
        "    name=\"\"\n",
        ")\n",
        "\n",
        "\n",
        "fig.add_scatter(\n",
        "    x=df_mean_age[\"Year\"],\n",
        "    y=df_mean_age[\"Age Group\"],\n",
        "    mode=\"lines\",\n",
        "    line=dict(color=\"#000000\", width=2),\n",
        "    name=\"Mean Age Trend\"\n",
        ")\n",
        "\n",
        "fig.update_layout(\n",
        "    template=\"simple_white\",\n",
        "    font=dict(size=14),\n",
        "    title_font=dict(size=18),\n",
        "    plot_bgcolor=\"white\",\n",
        "    paper_bgcolor=\"white\",\n",
        "    xaxis=dict(\n",
        "        showline=False,\n",
        "        showgrid=False,\n",
        "        tickmode=\"array\",\n",
        "    ),\n",
        "    yaxis=dict(\n",
        "        showline=False,\n",
        "        showgrid=True,\n",
        "        gridcolor=\"lightgray\",\n",
        "        gridwidth=1,\n",
        "        griddash=\"dashdot\",\n",
        "    ),\n",
        "    legend_title_text=\"Age Groups\",\n",
        ")\n",
        "\n",
        "fig.show()"
      ]
    },
    {
      "cell_type": "markdown",
      "id": "pyisdHtdl65q",
      "metadata": {
        "id": "pyisdHtdl65q"
      },
      "source": [
        "# Age par Categorie"
      ]
    },
    {
      "cell_type": "code",
      "execution_count": 27,
      "id": "k_enJ6WSqMG3",
      "metadata": {
        "colab": {
          "base_uri": "https://localhost:8080/",
          "height": 761
        },
        "id": "k_enJ6WSqMG3",
        "outputId": "ab64b153-d0b9-44df-9342-bbbd8083b164"
      },
      "outputs": [
        {
          "name": "stdout",
          "output_type": "stream",
          "text": [
            "Dash is running on http://127.0.0.1:8050/\n",
            "\n",
            "Dash is running on http://127.0.0.1:8050/\n",
            "\n",
            "Dash is running on http://127.0.0.1:8050/\n",
            "\n",
            "Dash is running on http://127.0.0.1:8050/\n",
            "\n",
            " * Serving Flask app '__main__'\n",
            " * Debug mode: on\n"
          ]
        },
        {
          "ename": "SystemExit",
          "evalue": "1",
          "output_type": "error",
          "traceback": [
            "An exception has occurred, use %tb to see the full traceback.\n",
            "\u001b[31mSystemExit\u001b[39m\u001b[31m:\u001b[39m 1\n"
          ]
        },
        {
          "name": "stderr",
          "output_type": "stream",
          "text": [
            "c:\\Users\\alexi\\source\\repos\\TP_INF8808\\.venv\\Lib\\site-packages\\IPython\\core\\interactiveshell.py:3557: UserWarning:\n",
            "\n",
            "To exit: use 'exit', 'quit', or Ctrl-D.\n",
            "\n"
          ]
        }
      ],
      "source": [
        "df = olympics_data[olympics_data[\"Sport\"] == \"Swimming\"].copy()\n",
        "\n",
        "bins = [10, 14, 17, 20, 23, 26, 30, 35, 100]\n",
        "labels = [\"10-14\", \"15-17\", \"18-20\", \"21-23\", \"24-26\", \"27-30\", \"31-35\", \"36+\"]\n",
        "df[\"Age Group\"] = pd.cut(df[\"Age\"], bins=bins, labels=labels, right=False)\n",
        "\n",
        "\n",
        "df_grouped = df.groupby([\"Year\", \"Age Group\", \"Event\"]).size().reset_index(name=\"Count\")\n",
        "\n",
        "color_palette = [\"#2E86C1\", \"#1ABC9C\", \"#F39C12\", \"#E74C3C\", \"#8E44AD\", \"#16A085\", \"#D35400\", \"#34495E\"]\n",
        "\n",
        "app = dash.Dash(__name__)\n",
        "\n",
        "app.layout = html.Div([\n",
        "    html.Label(\"Select Event:\", style={\"font-weight\": \"bold\", \"font-size\": \"16px\"}),\n",
        "    dcc.Dropdown(\n",
        "        id=\"event-dropdown\",\n",
        "        options=[{\"label\": event, \"value\": event} for event in df_grouped[\"Event\"].unique()],\n",
        "        value=df_grouped[\"Event\"].unique()[0],\n",
        "        clearable=False,\n",
        "        style={\"width\": \"50%\", \"margin-bottom\": \"20px\"}\n",
        "    ),\n",
        "\n",
        "    # Bubble Chart\n",
        "    dcc.Graph(id=\"bubble-chart\")\n",
        "])\n",
        "\n",
        "\n",
        "@app.callback(\n",
        "    Output(\"bubble-chart\", \"figure\"),\n",
        "    [Input(\"event-dropdown\", \"value\")]\n",
        ")\n",
        "def update_chart(selected_event):\n",
        "    filtered_df = df_grouped[df_grouped[\"Event\"] == selected_event]\n",
        "    fig = px.scatter(filtered_df,\n",
        "                     x=\"Year\",\n",
        "                     y=\"Age Group\",\n",
        "                     size=\"Count\",\n",
        "                     color=\"Age Group\",\n",
        "                     color_discrete_sequence=color_palette,\n",
        "                     title=f\"Age Distribution of {selected_event} Over Time\",\n",
        "                     labels={\"Year\": \"Year\", \"Age Group\": \"Age Group\", \"Count\": \"Number of Athletes\"},\n",
        "                     opacity=0.85,\n",
        "                     size_max=40)\n",
        "    fig.update_layout(\n",
        "        template=\"simple_white\",\n",
        "        font=dict(size=14),\n",
        "        title_font=dict(size=18),\n",
        "        plot_bgcolor=\"white\",\n",
        "        paper_bgcolor=\"white\",\n",
        "        xaxis=dict(showline=False, showgrid=False, tickmode=\"array\"),\n",
        "        yaxis=dict(showline=False, showgrid=True, gridcolor=\"lightgray\", gridwidth=1, griddash=\"dashdot\"),\n",
        "        legend_title_text=\"Age Groups\"\n",
        "    )\n",
        "\n",
        "    return fig\n",
        "\n",
        "# Run app\n",
        "if __name__ == \"__main__\":\n",
        "    app.run_server(debug=True)"
      ]
    },
    {
      "cell_type": "markdown",
      "id": "5EFRGLzuaY_I",
      "metadata": {
        "id": "5EFRGLzuaY_I"
      },
      "source": [
        "# Age par médaille"
      ]
    },
    {
      "cell_type": "code",
      "execution_count": null,
      "id": "zKn6fJld-2UL",
      "metadata": {
        "colab": {
          "base_uri": "https://localhost:8080/",
          "height": 631
        },
        "id": "zKn6fJld-2UL",
        "outputId": "e4b22a8f-ac6b-499a-954c-935836d14f58"
      },
      "outputs": [
        {
          "data": {
            "application/vnd.plotly.v1+json": {
              "config": {
                "plotlyServerURL": "https://plot.ly"
              },
              "data": [
                {
                  "hovertemplate": "Medal Type=%{x}<br>Age Group=%{y}<br>Number of Athletes=%{marker.size}<extra></extra>",
                  "legendgroup": "Bronze",
                  "marker": {
                    "color": "#CD7F32",
                    "opacity": 0.85,
                    "size": [
                      3,
                      79,
                      263,
                      360,
                      197,
                      96,
                      22,
                      2
                    ],
                    "sizemode": "area",
                    "sizeref": 0.2425,
                    "symbol": "circle"
                  },
                  "mode": "markers",
                  "name": "Bronze",
                  "orientation": "v",
                  "showlegend": true,
                  "type": "scatter",
                  "x": [
                    "Bronze",
                    "Bronze",
                    "Bronze",
                    "Bronze",
                    "Bronze",
                    "Bronze",
                    "Bronze",
                    "Bronze"
                  ],
                  "xaxis": "x",
                  "y": [
                    "10-14",
                    "15-17",
                    "18-20",
                    "21-23",
                    "24-26",
                    "27-30",
                    "31-35",
                    "36+"
                  ],
                  "yaxis": "y"
                },
                {
                  "hovertemplate": "Medal Type=%{x}<br>Age Group=%{y}<br>Number of Athletes=%{marker.size}<extra></extra>",
                  "legendgroup": "Gold",
                  "marker": {
                    "color": "#FFD700",
                    "opacity": 0.85,
                    "size": [
                      1,
                      108,
                      322,
                      388,
                      216,
                      109,
                      17,
                      2
                    ],
                    "sizemode": "area",
                    "sizeref": 0.2425,
                    "symbol": "circle"
                  },
                  "mode": "markers",
                  "name": "Gold",
                  "orientation": "v",
                  "showlegend": true,
                  "type": "scatter",
                  "x": [
                    "Gold",
                    "Gold",
                    "Gold",
                    "Gold",
                    "Gold",
                    "Gold",
                    "Gold",
                    "Gold"
                  ],
                  "xaxis": "x",
                  "y": [
                    "10-14",
                    "15-17",
                    "18-20",
                    "21-23",
                    "24-26",
                    "27-30",
                    "31-35",
                    "36+"
                  ],
                  "yaxis": "y"
                },
                {
                  "hovertemplate": "Medal Type=%{x}<br>Age Group=%{y}<br>Number of Athletes=%{marker.size}<extra></extra>",
                  "legendgroup": "Silver",
                  "marker": {
                    "color": "#C0C0C0",
                    "opacity": 0.85,
                    "size": [
                      4,
                      96,
                      279,
                      340,
                      206,
                      101,
                      17,
                      7
                    ],
                    "sizemode": "area",
                    "sizeref": 0.2425,
                    "symbol": "circle"
                  },
                  "mode": "markers",
                  "name": "Silver",
                  "orientation": "v",
                  "showlegend": true,
                  "type": "scatter",
                  "x": [
                    "Silver",
                    "Silver",
                    "Silver",
                    "Silver",
                    "Silver",
                    "Silver",
                    "Silver",
                    "Silver"
                  ],
                  "xaxis": "x",
                  "y": [
                    "10-14",
                    "15-17",
                    "18-20",
                    "21-23",
                    "24-26",
                    "27-30",
                    "31-35",
                    "36+"
                  ],
                  "yaxis": "y"
                }
              ],
              "layout": {
                "font": {
                  "size": 14
                },
                "legend": {
                  "itemsizing": "constant",
                  "title": {
                    "text": "Medal Type"
                  },
                  "tracegroupgap": 0
                },
                "paper_bgcolor": "white",
                "plot_bgcolor": "white",
                "template": {
                  "data": {
                    "bar": [
                      {
                        "error_x": {
                          "color": "rgb(36,36,36)"
                        },
                        "error_y": {
                          "color": "rgb(36,36,36)"
                        },
                        "marker": {
                          "line": {
                            "color": "white",
                            "width": 0.5
                          },
                          "pattern": {
                            "fillmode": "overlay",
                            "size": 10,
                            "solidity": 0.2
                          }
                        },
                        "type": "bar"
                      }
                    ],
                    "barpolar": [
                      {
                        "marker": {
                          "line": {
                            "color": "white",
                            "width": 0.5
                          },
                          "pattern": {
                            "fillmode": "overlay",
                            "size": 10,
                            "solidity": 0.2
                          }
                        },
                        "type": "barpolar"
                      }
                    ],
                    "carpet": [
                      {
                        "aaxis": {
                          "endlinecolor": "rgb(36,36,36)",
                          "gridcolor": "white",
                          "linecolor": "white",
                          "minorgridcolor": "white",
                          "startlinecolor": "rgb(36,36,36)"
                        },
                        "baxis": {
                          "endlinecolor": "rgb(36,36,36)",
                          "gridcolor": "white",
                          "linecolor": "white",
                          "minorgridcolor": "white",
                          "startlinecolor": "rgb(36,36,36)"
                        },
                        "type": "carpet"
                      }
                    ],
                    "choropleth": [
                      {
                        "colorbar": {
                          "outlinewidth": 1,
                          "tickcolor": "rgb(36,36,36)",
                          "ticks": "outside"
                        },
                        "type": "choropleth"
                      }
                    ],
                    "contour": [
                      {
                        "colorbar": {
                          "outlinewidth": 1,
                          "tickcolor": "rgb(36,36,36)",
                          "ticks": "outside"
                        },
                        "colorscale": [
                          [
                            0,
                            "#440154"
                          ],
                          [
                            0.1111111111111111,
                            "#482878"
                          ],
                          [
                            0.2222222222222222,
                            "#3e4989"
                          ],
                          [
                            0.3333333333333333,
                            "#31688e"
                          ],
                          [
                            0.4444444444444444,
                            "#26828e"
                          ],
                          [
                            0.5555555555555556,
                            "#1f9e89"
                          ],
                          [
                            0.6666666666666666,
                            "#35b779"
                          ],
                          [
                            0.7777777777777778,
                            "#6ece58"
                          ],
                          [
                            0.8888888888888888,
                            "#b5de2b"
                          ],
                          [
                            1,
                            "#fde725"
                          ]
                        ],
                        "type": "contour"
                      }
                    ],
                    "contourcarpet": [
                      {
                        "colorbar": {
                          "outlinewidth": 1,
                          "tickcolor": "rgb(36,36,36)",
                          "ticks": "outside"
                        },
                        "type": "contourcarpet"
                      }
                    ],
                    "heatmap": [
                      {
                        "colorbar": {
                          "outlinewidth": 1,
                          "tickcolor": "rgb(36,36,36)",
                          "ticks": "outside"
                        },
                        "colorscale": [
                          [
                            0,
                            "#440154"
                          ],
                          [
                            0.1111111111111111,
                            "#482878"
                          ],
                          [
                            0.2222222222222222,
                            "#3e4989"
                          ],
                          [
                            0.3333333333333333,
                            "#31688e"
                          ],
                          [
                            0.4444444444444444,
                            "#26828e"
                          ],
                          [
                            0.5555555555555556,
                            "#1f9e89"
                          ],
                          [
                            0.6666666666666666,
                            "#35b779"
                          ],
                          [
                            0.7777777777777778,
                            "#6ece58"
                          ],
                          [
                            0.8888888888888888,
                            "#b5de2b"
                          ],
                          [
                            1,
                            "#fde725"
                          ]
                        ],
                        "type": "heatmap"
                      }
                    ],
                    "heatmapgl": [
                      {
                        "colorbar": {
                          "outlinewidth": 1,
                          "tickcolor": "rgb(36,36,36)",
                          "ticks": "outside"
                        },
                        "colorscale": [
                          [
                            0,
                            "#440154"
                          ],
                          [
                            0.1111111111111111,
                            "#482878"
                          ],
                          [
                            0.2222222222222222,
                            "#3e4989"
                          ],
                          [
                            0.3333333333333333,
                            "#31688e"
                          ],
                          [
                            0.4444444444444444,
                            "#26828e"
                          ],
                          [
                            0.5555555555555556,
                            "#1f9e89"
                          ],
                          [
                            0.6666666666666666,
                            "#35b779"
                          ],
                          [
                            0.7777777777777778,
                            "#6ece58"
                          ],
                          [
                            0.8888888888888888,
                            "#b5de2b"
                          ],
                          [
                            1,
                            "#fde725"
                          ]
                        ],
                        "type": "heatmapgl"
                      }
                    ],
                    "histogram": [
                      {
                        "marker": {
                          "line": {
                            "color": "white",
                            "width": 0.6
                          }
                        },
                        "type": "histogram"
                      }
                    ],
                    "histogram2d": [
                      {
                        "colorbar": {
                          "outlinewidth": 1,
                          "tickcolor": "rgb(36,36,36)",
                          "ticks": "outside"
                        },
                        "colorscale": [
                          [
                            0,
                            "#440154"
                          ],
                          [
                            0.1111111111111111,
                            "#482878"
                          ],
                          [
                            0.2222222222222222,
                            "#3e4989"
                          ],
                          [
                            0.3333333333333333,
                            "#31688e"
                          ],
                          [
                            0.4444444444444444,
                            "#26828e"
                          ],
                          [
                            0.5555555555555556,
                            "#1f9e89"
                          ],
                          [
                            0.6666666666666666,
                            "#35b779"
                          ],
                          [
                            0.7777777777777778,
                            "#6ece58"
                          ],
                          [
                            0.8888888888888888,
                            "#b5de2b"
                          ],
                          [
                            1,
                            "#fde725"
                          ]
                        ],
                        "type": "histogram2d"
                      }
                    ],
                    "histogram2dcontour": [
                      {
                        "colorbar": {
                          "outlinewidth": 1,
                          "tickcolor": "rgb(36,36,36)",
                          "ticks": "outside"
                        },
                        "colorscale": [
                          [
                            0,
                            "#440154"
                          ],
                          [
                            0.1111111111111111,
                            "#482878"
                          ],
                          [
                            0.2222222222222222,
                            "#3e4989"
                          ],
                          [
                            0.3333333333333333,
                            "#31688e"
                          ],
                          [
                            0.4444444444444444,
                            "#26828e"
                          ],
                          [
                            0.5555555555555556,
                            "#1f9e89"
                          ],
                          [
                            0.6666666666666666,
                            "#35b779"
                          ],
                          [
                            0.7777777777777778,
                            "#6ece58"
                          ],
                          [
                            0.8888888888888888,
                            "#b5de2b"
                          ],
                          [
                            1,
                            "#fde725"
                          ]
                        ],
                        "type": "histogram2dcontour"
                      }
                    ],
                    "mesh3d": [
                      {
                        "colorbar": {
                          "outlinewidth": 1,
                          "tickcolor": "rgb(36,36,36)",
                          "ticks": "outside"
                        },
                        "type": "mesh3d"
                      }
                    ],
                    "parcoords": [
                      {
                        "line": {
                          "colorbar": {
                            "outlinewidth": 1,
                            "tickcolor": "rgb(36,36,36)",
                            "ticks": "outside"
                          }
                        },
                        "type": "parcoords"
                      }
                    ],
                    "pie": [
                      {
                        "automargin": true,
                        "type": "pie"
                      }
                    ],
                    "scatter": [
                      {
                        "fillpattern": {
                          "fillmode": "overlay",
                          "size": 10,
                          "solidity": 0.2
                        },
                        "type": "scatter"
                      }
                    ],
                    "scatter3d": [
                      {
                        "line": {
                          "colorbar": {
                            "outlinewidth": 1,
                            "tickcolor": "rgb(36,36,36)",
                            "ticks": "outside"
                          }
                        },
                        "marker": {
                          "colorbar": {
                            "outlinewidth": 1,
                            "tickcolor": "rgb(36,36,36)",
                            "ticks": "outside"
                          }
                        },
                        "type": "scatter3d"
                      }
                    ],
                    "scattercarpet": [
                      {
                        "marker": {
                          "colorbar": {
                            "outlinewidth": 1,
                            "tickcolor": "rgb(36,36,36)",
                            "ticks": "outside"
                          }
                        },
                        "type": "scattercarpet"
                      }
                    ],
                    "scattergeo": [
                      {
                        "marker": {
                          "colorbar": {
                            "outlinewidth": 1,
                            "tickcolor": "rgb(36,36,36)",
                            "ticks": "outside"
                          }
                        },
                        "type": "scattergeo"
                      }
                    ],
                    "scattergl": [
                      {
                        "marker": {
                          "colorbar": {
                            "outlinewidth": 1,
                            "tickcolor": "rgb(36,36,36)",
                            "ticks": "outside"
                          }
                        },
                        "type": "scattergl"
                      }
                    ],
                    "scattermapbox": [
                      {
                        "marker": {
                          "colorbar": {
                            "outlinewidth": 1,
                            "tickcolor": "rgb(36,36,36)",
                            "ticks": "outside"
                          }
                        },
                        "type": "scattermapbox"
                      }
                    ],
                    "scatterpolar": [
                      {
                        "marker": {
                          "colorbar": {
                            "outlinewidth": 1,
                            "tickcolor": "rgb(36,36,36)",
                            "ticks": "outside"
                          }
                        },
                        "type": "scatterpolar"
                      }
                    ],
                    "scatterpolargl": [
                      {
                        "marker": {
                          "colorbar": {
                            "outlinewidth": 1,
                            "tickcolor": "rgb(36,36,36)",
                            "ticks": "outside"
                          }
                        },
                        "type": "scatterpolargl"
                      }
                    ],
                    "scatterternary": [
                      {
                        "marker": {
                          "colorbar": {
                            "outlinewidth": 1,
                            "tickcolor": "rgb(36,36,36)",
                            "ticks": "outside"
                          }
                        },
                        "type": "scatterternary"
                      }
                    ],
                    "surface": [
                      {
                        "colorbar": {
                          "outlinewidth": 1,
                          "tickcolor": "rgb(36,36,36)",
                          "ticks": "outside"
                        },
                        "colorscale": [
                          [
                            0,
                            "#440154"
                          ],
                          [
                            0.1111111111111111,
                            "#482878"
                          ],
                          [
                            0.2222222222222222,
                            "#3e4989"
                          ],
                          [
                            0.3333333333333333,
                            "#31688e"
                          ],
                          [
                            0.4444444444444444,
                            "#26828e"
                          ],
                          [
                            0.5555555555555556,
                            "#1f9e89"
                          ],
                          [
                            0.6666666666666666,
                            "#35b779"
                          ],
                          [
                            0.7777777777777778,
                            "#6ece58"
                          ],
                          [
                            0.8888888888888888,
                            "#b5de2b"
                          ],
                          [
                            1,
                            "#fde725"
                          ]
                        ],
                        "type": "surface"
                      }
                    ],
                    "table": [
                      {
                        "cells": {
                          "fill": {
                            "color": "rgb(237,237,237)"
                          },
                          "line": {
                            "color": "white"
                          }
                        },
                        "header": {
                          "fill": {
                            "color": "rgb(217,217,217)"
                          },
                          "line": {
                            "color": "white"
                          }
                        },
                        "type": "table"
                      }
                    ]
                  },
                  "layout": {
                    "annotationdefaults": {
                      "arrowhead": 0,
                      "arrowwidth": 1
                    },
                    "autotypenumbers": "strict",
                    "coloraxis": {
                      "colorbar": {
                        "outlinewidth": 1,
                        "tickcolor": "rgb(36,36,36)",
                        "ticks": "outside"
                      }
                    },
                    "colorscale": {
                      "diverging": [
                        [
                          0,
                          "rgb(103,0,31)"
                        ],
                        [
                          0.1,
                          "rgb(178,24,43)"
                        ],
                        [
                          0.2,
                          "rgb(214,96,77)"
                        ],
                        [
                          0.3,
                          "rgb(244,165,130)"
                        ],
                        [
                          0.4,
                          "rgb(253,219,199)"
                        ],
                        [
                          0.5,
                          "rgb(247,247,247)"
                        ],
                        [
                          0.6,
                          "rgb(209,229,240)"
                        ],
                        [
                          0.7,
                          "rgb(146,197,222)"
                        ],
                        [
                          0.8,
                          "rgb(67,147,195)"
                        ],
                        [
                          0.9,
                          "rgb(33,102,172)"
                        ],
                        [
                          1,
                          "rgb(5,48,97)"
                        ]
                      ],
                      "sequential": [
                        [
                          0,
                          "#440154"
                        ],
                        [
                          0.1111111111111111,
                          "#482878"
                        ],
                        [
                          0.2222222222222222,
                          "#3e4989"
                        ],
                        [
                          0.3333333333333333,
                          "#31688e"
                        ],
                        [
                          0.4444444444444444,
                          "#26828e"
                        ],
                        [
                          0.5555555555555556,
                          "#1f9e89"
                        ],
                        [
                          0.6666666666666666,
                          "#35b779"
                        ],
                        [
                          0.7777777777777778,
                          "#6ece58"
                        ],
                        [
                          0.8888888888888888,
                          "#b5de2b"
                        ],
                        [
                          1,
                          "#fde725"
                        ]
                      ],
                      "sequentialminus": [
                        [
                          0,
                          "#440154"
                        ],
                        [
                          0.1111111111111111,
                          "#482878"
                        ],
                        [
                          0.2222222222222222,
                          "#3e4989"
                        ],
                        [
                          0.3333333333333333,
                          "#31688e"
                        ],
                        [
                          0.4444444444444444,
                          "#26828e"
                        ],
                        [
                          0.5555555555555556,
                          "#1f9e89"
                        ],
                        [
                          0.6666666666666666,
                          "#35b779"
                        ],
                        [
                          0.7777777777777778,
                          "#6ece58"
                        ],
                        [
                          0.8888888888888888,
                          "#b5de2b"
                        ],
                        [
                          1,
                          "#fde725"
                        ]
                      ]
                    },
                    "colorway": [
                      "#1F77B4",
                      "#FF7F0E",
                      "#2CA02C",
                      "#D62728",
                      "#9467BD",
                      "#8C564B",
                      "#E377C2",
                      "#7F7F7F",
                      "#BCBD22",
                      "#17BECF"
                    ],
                    "font": {
                      "color": "rgb(36,36,36)"
                    },
                    "geo": {
                      "bgcolor": "white",
                      "lakecolor": "white",
                      "landcolor": "white",
                      "showlakes": true,
                      "showland": true,
                      "subunitcolor": "white"
                    },
                    "hoverlabel": {
                      "align": "left"
                    },
                    "hovermode": "closest",
                    "mapbox": {
                      "style": "light"
                    },
                    "paper_bgcolor": "white",
                    "plot_bgcolor": "white",
                    "polar": {
                      "angularaxis": {
                        "gridcolor": "rgb(232,232,232)",
                        "linecolor": "rgb(36,36,36)",
                        "showgrid": false,
                        "showline": true,
                        "ticks": "outside"
                      },
                      "bgcolor": "white",
                      "radialaxis": {
                        "gridcolor": "rgb(232,232,232)",
                        "linecolor": "rgb(36,36,36)",
                        "showgrid": false,
                        "showline": true,
                        "ticks": "outside"
                      }
                    },
                    "scene": {
                      "xaxis": {
                        "backgroundcolor": "white",
                        "gridcolor": "rgb(232,232,232)",
                        "gridwidth": 2,
                        "linecolor": "rgb(36,36,36)",
                        "showbackground": true,
                        "showgrid": false,
                        "showline": true,
                        "ticks": "outside",
                        "zeroline": false,
                        "zerolinecolor": "rgb(36,36,36)"
                      },
                      "yaxis": {
                        "backgroundcolor": "white",
                        "gridcolor": "rgb(232,232,232)",
                        "gridwidth": 2,
                        "linecolor": "rgb(36,36,36)",
                        "showbackground": true,
                        "showgrid": false,
                        "showline": true,
                        "ticks": "outside",
                        "zeroline": false,
                        "zerolinecolor": "rgb(36,36,36)"
                      },
                      "zaxis": {
                        "backgroundcolor": "white",
                        "gridcolor": "rgb(232,232,232)",
                        "gridwidth": 2,
                        "linecolor": "rgb(36,36,36)",
                        "showbackground": true,
                        "showgrid": false,
                        "showline": true,
                        "ticks": "outside",
                        "zeroline": false,
                        "zerolinecolor": "rgb(36,36,36)"
                      }
                    },
                    "shapedefaults": {
                      "fillcolor": "black",
                      "line": {
                        "width": 0
                      },
                      "opacity": 0.3
                    },
                    "ternary": {
                      "aaxis": {
                        "gridcolor": "rgb(232,232,232)",
                        "linecolor": "rgb(36,36,36)",
                        "showgrid": false,
                        "showline": true,
                        "ticks": "outside"
                      },
                      "baxis": {
                        "gridcolor": "rgb(232,232,232)",
                        "linecolor": "rgb(36,36,36)",
                        "showgrid": false,
                        "showline": true,
                        "ticks": "outside"
                      },
                      "bgcolor": "white",
                      "caxis": {
                        "gridcolor": "rgb(232,232,232)",
                        "linecolor": "rgb(36,36,36)",
                        "showgrid": false,
                        "showline": true,
                        "ticks": "outside"
                      }
                    },
                    "title": {
                      "x": 0.05
                    },
                    "xaxis": {
                      "automargin": true,
                      "gridcolor": "rgb(232,232,232)",
                      "linecolor": "rgb(36,36,36)",
                      "showgrid": false,
                      "showline": true,
                      "ticks": "outside",
                      "title": {
                        "standoff": 15
                      },
                      "zeroline": false,
                      "zerolinecolor": "rgb(36,36,36)"
                    },
                    "yaxis": {
                      "automargin": true,
                      "gridcolor": "rgb(232,232,232)",
                      "linecolor": "rgb(36,36,36)",
                      "showgrid": false,
                      "showline": true,
                      "ticks": "outside",
                      "title": {
                        "standoff": 15
                      },
                      "zeroline": false,
                      "zerolinecolor": "rgb(36,36,36)"
                    }
                  }
                },
                "title": {
                  "font": {
                    "size": 18
                  },
                  "text": "Age Distribution of Swimming Athletes by Medal"
                },
                "xaxis": {
                  "anchor": "y",
                  "categoryarray": [
                    "Gold",
                    "Silver",
                    "Bronze"
                  ],
                  "categoryorder": "array",
                  "domain": [
                    0,
                    1
                  ],
                  "showgrid": false,
                  "showline": false,
                  "tickmode": "array",
                  "title": {
                    "text": "Medal Type"
                  }
                },
                "yaxis": {
                  "anchor": "x",
                  "domain": [
                    0,
                    1
                  ],
                  "gridcolor": "lightgray",
                  "griddash": "dashdot",
                  "gridwidth": 1,
                  "showgrid": true,
                  "showline": false,
                  "title": {
                    "text": "Age Group"
                  }
                }
              }
            }
          },
          "metadata": {},
          "output_type": "display_data"
        }
      ],
      "source": [
        "df_grouped = df.groupby([\"Medal\", \"Age Group\"]).size().reset_index(name=\"Count\")\n",
        "\n",
        "medal_colors = {\"Gold\": \"#FFD700\", \"Silver\": \"#C0C0C0\", \"Bronze\": \"#CD7F32\"}\n",
        "\n",
        "fig = px.scatter(df_grouped,\n",
        "                 x=\"Medal\",\n",
        "                 y=\"Age Group\",\n",
        "                 size=\"Count\",\n",
        "                 color=\"Medal\",\n",
        "                 color_discrete_map=medal_colors,\n",
        "                 title=\"Age Distribution of Swimming Athletes by Medal\",\n",
        "                 labels={\"Medal\": \"Medal Type\", \"Age Group\": \"Age Group\", \"Count\": \"Number of Athletes\"},\n",
        "                 opacity=0.85,\n",
        "                 size_max=40)\n",
        "\n",
        "fig.update_layout(\n",
        "    template=\"simple_white\",\n",
        "    font=dict(size=14),\n",
        "    title_font=dict(size=18),\n",
        "    plot_bgcolor=\"white\",\n",
        "    paper_bgcolor=\"white\",\n",
        "    xaxis=dict(\n",
        "        showline=False,\n",
        "        showgrid=False,\n",
        "        tickmode=\"array\",\n",
        "        categoryorder=\"array\",\n",
        "        categoryarray=[\"Gold\", \"Silver\", \"Bronze\"]\n",
        "    ),\n",
        "    yaxis=dict(\n",
        "        showline=False,\n",
        "        showgrid=True,\n",
        "        gridcolor=\"lightgray\",\n",
        "        gridwidth=1,\n",
        "        griddash=\"dashdot\",\n",
        "    ),\n",
        "    legend_title_text=\"Medal Type\",\n",
        ")\n",
        "\n",
        "fig.show()"
      ]
    },
    {
      "cell_type": "markdown",
      "id": "MJFafpHgt0Es",
      "metadata": {
        "id": "MJFafpHgt0Es"
      },
      "source": [
        "# Participations"
      ]
    },
    {
      "cell_type": "code",
      "execution_count": null,
      "id": "UAlxmZzFKBpF",
      "metadata": {
        "colab": {
          "base_uri": "https://localhost:8080/",
          "height": 417
        },
        "id": "UAlxmZzFKBpF",
        "outputId": "eadd799b-66df-4724-b0d6-6ebc47837b12"
      },
      "outputs": [
        {
          "data": {
            "application/vnd.plotly.v1+json": {
              "config": {
                "plotlyServerURL": "https://plot.ly"
              },
              "data": [
                {
                  "domain": {
                    "x": [
                      0,
                      0.1388888888888889
                    ],
                    "y": [
                      0,
                      1
                    ]
                  },
                  "hole": 0.4,
                  "labels": [
                    "Medal Won",
                    "No Medal"
                  ],
                  "marker": {
                    "colors": [
                      "#F4C542",
                      "#A0A0A0"
                    ]
                  },
                  "showlegend": true,
                  "textinfo": "percent",
                  "type": "pie",
                  "values": [
                    8.86837464993258,
                    91.13162535006742
                  ]
                },
                {
                  "domain": {
                    "x": [
                      0.17222222222222222,
                      0.3111111111111111
                    ],
                    "y": [
                      0,
                      1
                    ]
                  },
                  "hole": 0.4,
                  "labels": [
                    "Medal Won",
                    "No Medal"
                  ],
                  "marker": {
                    "colors": [
                      "#F4C542",
                      "#A0A0A0"
                    ]
                  },
                  "showlegend": false,
                  "textinfo": "percent",
                  "type": "pie",
                  "values": [
                    11.565468814539447,
                    88.43453118546056
                  ]
                },
                {
                  "domain": {
                    "x": [
                      0.34444444444444444,
                      0.48333333333333334
                    ],
                    "y": [
                      0,
                      1
                    ]
                  },
                  "hole": 0.4,
                  "labels": [
                    "Medal Won",
                    "No Medal"
                  ],
                  "marker": {
                    "colors": [
                      "#F4C542",
                      "#A0A0A0"
                    ]
                  },
                  "showlegend": false,
                  "textinfo": "percent",
                  "type": "pie",
                  "values": [
                    11.037891268533773,
                    88.96210873146623
                  ]
                },
                {
                  "domain": {
                    "x": [
                      0.5166666666666667,
                      0.6555555555555557
                    ],
                    "y": [
                      0,
                      1
                    ]
                  },
                  "hole": 0.4,
                  "labels": [
                    "Medal Won",
                    "No Medal"
                  ],
                  "marker": {
                    "colors": [
                      "#F4C542",
                      "#A0A0A0"
                    ]
                  },
                  "showlegend": false,
                  "textinfo": "percent",
                  "type": "pie",
                  "values": [
                    7.43801652892562,
                    92.56198347107438
                  ]
                },
                {
                  "domain": {
                    "x": [
                      0.6888888888888889,
                      0.8277777777777777
                    ],
                    "y": [
                      0,
                      1
                    ]
                  },
                  "hole": 0.4,
                  "labels": [
                    "Medal Won",
                    "No Medal"
                  ],
                  "marker": {
                    "colors": [
                      "#F4C542",
                      "#A0A0A0"
                    ]
                  },
                  "showlegend": false,
                  "textinfo": "percent",
                  "type": "pie",
                  "values": [
                    15.789473684210526,
                    84.21052631578947
                  ]
                },
                {
                  "domain": {
                    "x": [
                      0.861111111111111,
                      1
                    ],
                    "y": [
                      0,
                      1
                    ]
                  },
                  "hole": 0.4,
                  "labels": [
                    "Medal Won",
                    "No Medal"
                  ],
                  "marker": {
                    "colors": [
                      "#F4C542",
                      "#A0A0A0"
                    ]
                  },
                  "showlegend": false,
                  "textinfo": "percent",
                  "type": "pie",
                  "values": [
                    0,
                    100
                  ]
                }
              ],
              "layout": {
                "annotations": [
                  {
                    "font": {
                      "color": "black",
                      "family": "Arial Black",
                      "size": 16
                    },
                    "showarrow": false,
                    "text": "1",
                    "x": 0.08333333333333333,
                    "xref": "paper",
                    "y": 0.5,
                    "yref": "paper"
                  },
                  {
                    "font": {
                      "color": "black",
                      "family": "Arial Black",
                      "size": 16
                    },
                    "showarrow": false,
                    "text": "2",
                    "x": 0.25,
                    "xref": "paper",
                    "y": 0.5,
                    "yref": "paper"
                  },
                  {
                    "font": {
                      "color": "black",
                      "family": "Arial Black",
                      "size": 16
                    },
                    "showarrow": false,
                    "text": "3",
                    "x": 0.4166666666666667,
                    "xref": "paper",
                    "y": 0.5,
                    "yref": "paper"
                  },
                  {
                    "font": {
                      "color": "black",
                      "family": "Arial Black",
                      "size": 16
                    },
                    "showarrow": false,
                    "text": "4",
                    "x": 0.5833333333333334,
                    "xref": "paper",
                    "y": 0.5,
                    "yref": "paper"
                  },
                  {
                    "font": {
                      "color": "black",
                      "family": "Arial Black",
                      "size": 16
                    },
                    "showarrow": false,
                    "text": "5",
                    "x": 0.75,
                    "xref": "paper",
                    "y": 0.5,
                    "yref": "paper"
                  },
                  {
                    "font": {
                      "color": "black",
                      "family": "Arial Black",
                      "size": 16
                    },
                    "showarrow": false,
                    "text": "6",
                    "x": 0.9166666666666666,
                    "xref": "paper",
                    "y": 0.5,
                    "yref": "paper"
                  }
                ],
                "font": {
                  "size": 12
                },
                "height": 400,
                "margin": {
                  "b": 50,
                  "l": 50,
                  "r": 50,
                  "t": 80
                },
                "template": {
                  "data": {
                    "bar": [
                      {
                        "error_x": {
                          "color": "#2a3f5f"
                        },
                        "error_y": {
                          "color": "#2a3f5f"
                        },
                        "marker": {
                          "line": {
                            "color": "#E5ECF6",
                            "width": 0.5
                          },
                          "pattern": {
                            "fillmode": "overlay",
                            "size": 10,
                            "solidity": 0.2
                          }
                        },
                        "type": "bar"
                      }
                    ],
                    "barpolar": [
                      {
                        "marker": {
                          "line": {
                            "color": "#E5ECF6",
                            "width": 0.5
                          },
                          "pattern": {
                            "fillmode": "overlay",
                            "size": 10,
                            "solidity": 0.2
                          }
                        },
                        "type": "barpolar"
                      }
                    ],
                    "carpet": [
                      {
                        "aaxis": {
                          "endlinecolor": "#2a3f5f",
                          "gridcolor": "white",
                          "linecolor": "white",
                          "minorgridcolor": "white",
                          "startlinecolor": "#2a3f5f"
                        },
                        "baxis": {
                          "endlinecolor": "#2a3f5f",
                          "gridcolor": "white",
                          "linecolor": "white",
                          "minorgridcolor": "white",
                          "startlinecolor": "#2a3f5f"
                        },
                        "type": "carpet"
                      }
                    ],
                    "choropleth": [
                      {
                        "colorbar": {
                          "outlinewidth": 0,
                          "ticks": ""
                        },
                        "type": "choropleth"
                      }
                    ],
                    "contour": [
                      {
                        "colorbar": {
                          "outlinewidth": 0,
                          "ticks": ""
                        },
                        "colorscale": [
                          [
                            0,
                            "#0d0887"
                          ],
                          [
                            0.1111111111111111,
                            "#46039f"
                          ],
                          [
                            0.2222222222222222,
                            "#7201a8"
                          ],
                          [
                            0.3333333333333333,
                            "#9c179e"
                          ],
                          [
                            0.4444444444444444,
                            "#bd3786"
                          ],
                          [
                            0.5555555555555556,
                            "#d8576b"
                          ],
                          [
                            0.6666666666666666,
                            "#ed7953"
                          ],
                          [
                            0.7777777777777778,
                            "#fb9f3a"
                          ],
                          [
                            0.8888888888888888,
                            "#fdca26"
                          ],
                          [
                            1,
                            "#f0f921"
                          ]
                        ],
                        "type": "contour"
                      }
                    ],
                    "contourcarpet": [
                      {
                        "colorbar": {
                          "outlinewidth": 0,
                          "ticks": ""
                        },
                        "type": "contourcarpet"
                      }
                    ],
                    "heatmap": [
                      {
                        "colorbar": {
                          "outlinewidth": 0,
                          "ticks": ""
                        },
                        "colorscale": [
                          [
                            0,
                            "#0d0887"
                          ],
                          [
                            0.1111111111111111,
                            "#46039f"
                          ],
                          [
                            0.2222222222222222,
                            "#7201a8"
                          ],
                          [
                            0.3333333333333333,
                            "#9c179e"
                          ],
                          [
                            0.4444444444444444,
                            "#bd3786"
                          ],
                          [
                            0.5555555555555556,
                            "#d8576b"
                          ],
                          [
                            0.6666666666666666,
                            "#ed7953"
                          ],
                          [
                            0.7777777777777778,
                            "#fb9f3a"
                          ],
                          [
                            0.8888888888888888,
                            "#fdca26"
                          ],
                          [
                            1,
                            "#f0f921"
                          ]
                        ],
                        "type": "heatmap"
                      }
                    ],
                    "heatmapgl": [
                      {
                        "colorbar": {
                          "outlinewidth": 0,
                          "ticks": ""
                        },
                        "colorscale": [
                          [
                            0,
                            "#0d0887"
                          ],
                          [
                            0.1111111111111111,
                            "#46039f"
                          ],
                          [
                            0.2222222222222222,
                            "#7201a8"
                          ],
                          [
                            0.3333333333333333,
                            "#9c179e"
                          ],
                          [
                            0.4444444444444444,
                            "#bd3786"
                          ],
                          [
                            0.5555555555555556,
                            "#d8576b"
                          ],
                          [
                            0.6666666666666666,
                            "#ed7953"
                          ],
                          [
                            0.7777777777777778,
                            "#fb9f3a"
                          ],
                          [
                            0.8888888888888888,
                            "#fdca26"
                          ],
                          [
                            1,
                            "#f0f921"
                          ]
                        ],
                        "type": "heatmapgl"
                      }
                    ],
                    "histogram": [
                      {
                        "marker": {
                          "pattern": {
                            "fillmode": "overlay",
                            "size": 10,
                            "solidity": 0.2
                          }
                        },
                        "type": "histogram"
                      }
                    ],
                    "histogram2d": [
                      {
                        "colorbar": {
                          "outlinewidth": 0,
                          "ticks": ""
                        },
                        "colorscale": [
                          [
                            0,
                            "#0d0887"
                          ],
                          [
                            0.1111111111111111,
                            "#46039f"
                          ],
                          [
                            0.2222222222222222,
                            "#7201a8"
                          ],
                          [
                            0.3333333333333333,
                            "#9c179e"
                          ],
                          [
                            0.4444444444444444,
                            "#bd3786"
                          ],
                          [
                            0.5555555555555556,
                            "#d8576b"
                          ],
                          [
                            0.6666666666666666,
                            "#ed7953"
                          ],
                          [
                            0.7777777777777778,
                            "#fb9f3a"
                          ],
                          [
                            0.8888888888888888,
                            "#fdca26"
                          ],
                          [
                            1,
                            "#f0f921"
                          ]
                        ],
                        "type": "histogram2d"
                      }
                    ],
                    "histogram2dcontour": [
                      {
                        "colorbar": {
                          "outlinewidth": 0,
                          "ticks": ""
                        },
                        "colorscale": [
                          [
                            0,
                            "#0d0887"
                          ],
                          [
                            0.1111111111111111,
                            "#46039f"
                          ],
                          [
                            0.2222222222222222,
                            "#7201a8"
                          ],
                          [
                            0.3333333333333333,
                            "#9c179e"
                          ],
                          [
                            0.4444444444444444,
                            "#bd3786"
                          ],
                          [
                            0.5555555555555556,
                            "#d8576b"
                          ],
                          [
                            0.6666666666666666,
                            "#ed7953"
                          ],
                          [
                            0.7777777777777778,
                            "#fb9f3a"
                          ],
                          [
                            0.8888888888888888,
                            "#fdca26"
                          ],
                          [
                            1,
                            "#f0f921"
                          ]
                        ],
                        "type": "histogram2dcontour"
                      }
                    ],
                    "mesh3d": [
                      {
                        "colorbar": {
                          "outlinewidth": 0,
                          "ticks": ""
                        },
                        "type": "mesh3d"
                      }
                    ],
                    "parcoords": [
                      {
                        "line": {
                          "colorbar": {
                            "outlinewidth": 0,
                            "ticks": ""
                          }
                        },
                        "type": "parcoords"
                      }
                    ],
                    "pie": [
                      {
                        "automargin": true,
                        "type": "pie"
                      }
                    ],
                    "scatter": [
                      {
                        "fillpattern": {
                          "fillmode": "overlay",
                          "size": 10,
                          "solidity": 0.2
                        },
                        "type": "scatter"
                      }
                    ],
                    "scatter3d": [
                      {
                        "line": {
                          "colorbar": {
                            "outlinewidth": 0,
                            "ticks": ""
                          }
                        },
                        "marker": {
                          "colorbar": {
                            "outlinewidth": 0,
                            "ticks": ""
                          }
                        },
                        "type": "scatter3d"
                      }
                    ],
                    "scattercarpet": [
                      {
                        "marker": {
                          "colorbar": {
                            "outlinewidth": 0,
                            "ticks": ""
                          }
                        },
                        "type": "scattercarpet"
                      }
                    ],
                    "scattergeo": [
                      {
                        "marker": {
                          "colorbar": {
                            "outlinewidth": 0,
                            "ticks": ""
                          }
                        },
                        "type": "scattergeo"
                      }
                    ],
                    "scattergl": [
                      {
                        "marker": {
                          "colorbar": {
                            "outlinewidth": 0,
                            "ticks": ""
                          }
                        },
                        "type": "scattergl"
                      }
                    ],
                    "scattermapbox": [
                      {
                        "marker": {
                          "colorbar": {
                            "outlinewidth": 0,
                            "ticks": ""
                          }
                        },
                        "type": "scattermapbox"
                      }
                    ],
                    "scatterpolar": [
                      {
                        "marker": {
                          "colorbar": {
                            "outlinewidth": 0,
                            "ticks": ""
                          }
                        },
                        "type": "scatterpolar"
                      }
                    ],
                    "scatterpolargl": [
                      {
                        "marker": {
                          "colorbar": {
                            "outlinewidth": 0,
                            "ticks": ""
                          }
                        },
                        "type": "scatterpolargl"
                      }
                    ],
                    "scatterternary": [
                      {
                        "marker": {
                          "colorbar": {
                            "outlinewidth": 0,
                            "ticks": ""
                          }
                        },
                        "type": "scatterternary"
                      }
                    ],
                    "surface": [
                      {
                        "colorbar": {
                          "outlinewidth": 0,
                          "ticks": ""
                        },
                        "colorscale": [
                          [
                            0,
                            "#0d0887"
                          ],
                          [
                            0.1111111111111111,
                            "#46039f"
                          ],
                          [
                            0.2222222222222222,
                            "#7201a8"
                          ],
                          [
                            0.3333333333333333,
                            "#9c179e"
                          ],
                          [
                            0.4444444444444444,
                            "#bd3786"
                          ],
                          [
                            0.5555555555555556,
                            "#d8576b"
                          ],
                          [
                            0.6666666666666666,
                            "#ed7953"
                          ],
                          [
                            0.7777777777777778,
                            "#fb9f3a"
                          ],
                          [
                            0.8888888888888888,
                            "#fdca26"
                          ],
                          [
                            1,
                            "#f0f921"
                          ]
                        ],
                        "type": "surface"
                      }
                    ],
                    "table": [
                      {
                        "cells": {
                          "fill": {
                            "color": "#EBF0F8"
                          },
                          "line": {
                            "color": "white"
                          }
                        },
                        "header": {
                          "fill": {
                            "color": "#C8D4E3"
                          },
                          "line": {
                            "color": "white"
                          }
                        },
                        "type": "table"
                      }
                    ]
                  },
                  "layout": {
                    "annotationdefaults": {
                      "arrowcolor": "#2a3f5f",
                      "arrowhead": 0,
                      "arrowwidth": 1
                    },
                    "autotypenumbers": "strict",
                    "coloraxis": {
                      "colorbar": {
                        "outlinewidth": 0,
                        "ticks": ""
                      }
                    },
                    "colorscale": {
                      "diverging": [
                        [
                          0,
                          "#8e0152"
                        ],
                        [
                          0.1,
                          "#c51b7d"
                        ],
                        [
                          0.2,
                          "#de77ae"
                        ],
                        [
                          0.3,
                          "#f1b6da"
                        ],
                        [
                          0.4,
                          "#fde0ef"
                        ],
                        [
                          0.5,
                          "#f7f7f7"
                        ],
                        [
                          0.6,
                          "#e6f5d0"
                        ],
                        [
                          0.7,
                          "#b8e186"
                        ],
                        [
                          0.8,
                          "#7fbc41"
                        ],
                        [
                          0.9,
                          "#4d9221"
                        ],
                        [
                          1,
                          "#276419"
                        ]
                      ],
                      "sequential": [
                        [
                          0,
                          "#0d0887"
                        ],
                        [
                          0.1111111111111111,
                          "#46039f"
                        ],
                        [
                          0.2222222222222222,
                          "#7201a8"
                        ],
                        [
                          0.3333333333333333,
                          "#9c179e"
                        ],
                        [
                          0.4444444444444444,
                          "#bd3786"
                        ],
                        [
                          0.5555555555555556,
                          "#d8576b"
                        ],
                        [
                          0.6666666666666666,
                          "#ed7953"
                        ],
                        [
                          0.7777777777777778,
                          "#fb9f3a"
                        ],
                        [
                          0.8888888888888888,
                          "#fdca26"
                        ],
                        [
                          1,
                          "#f0f921"
                        ]
                      ],
                      "sequentialminus": [
                        [
                          0,
                          "#0d0887"
                        ],
                        [
                          0.1111111111111111,
                          "#46039f"
                        ],
                        [
                          0.2222222222222222,
                          "#7201a8"
                        ],
                        [
                          0.3333333333333333,
                          "#9c179e"
                        ],
                        [
                          0.4444444444444444,
                          "#bd3786"
                        ],
                        [
                          0.5555555555555556,
                          "#d8576b"
                        ],
                        [
                          0.6666666666666666,
                          "#ed7953"
                        ],
                        [
                          0.7777777777777778,
                          "#fb9f3a"
                        ],
                        [
                          0.8888888888888888,
                          "#fdca26"
                        ],
                        [
                          1,
                          "#f0f921"
                        ]
                      ]
                    },
                    "colorway": [
                      "#636efa",
                      "#EF553B",
                      "#00cc96",
                      "#ab63fa",
                      "#FFA15A",
                      "#19d3f3",
                      "#FF6692",
                      "#B6E880",
                      "#FF97FF",
                      "#FECB52"
                    ],
                    "font": {
                      "color": "#2a3f5f"
                    },
                    "geo": {
                      "bgcolor": "white",
                      "lakecolor": "white",
                      "landcolor": "#E5ECF6",
                      "showlakes": true,
                      "showland": true,
                      "subunitcolor": "white"
                    },
                    "hoverlabel": {
                      "align": "left"
                    },
                    "hovermode": "closest",
                    "mapbox": {
                      "style": "light"
                    },
                    "paper_bgcolor": "white",
                    "plot_bgcolor": "#E5ECF6",
                    "polar": {
                      "angularaxis": {
                        "gridcolor": "white",
                        "linecolor": "white",
                        "ticks": ""
                      },
                      "bgcolor": "#E5ECF6",
                      "radialaxis": {
                        "gridcolor": "white",
                        "linecolor": "white",
                        "ticks": ""
                      }
                    },
                    "scene": {
                      "xaxis": {
                        "backgroundcolor": "#E5ECF6",
                        "gridcolor": "white",
                        "gridwidth": 2,
                        "linecolor": "white",
                        "showbackground": true,
                        "ticks": "",
                        "zerolinecolor": "white"
                      },
                      "yaxis": {
                        "backgroundcolor": "#E5ECF6",
                        "gridcolor": "white",
                        "gridwidth": 2,
                        "linecolor": "white",
                        "showbackground": true,
                        "ticks": "",
                        "zerolinecolor": "white"
                      },
                      "zaxis": {
                        "backgroundcolor": "#E5ECF6",
                        "gridcolor": "white",
                        "gridwidth": 2,
                        "linecolor": "white",
                        "showbackground": true,
                        "ticks": "",
                        "zerolinecolor": "white"
                      }
                    },
                    "shapedefaults": {
                      "line": {
                        "color": "#2a3f5f"
                      }
                    },
                    "ternary": {
                      "aaxis": {
                        "gridcolor": "white",
                        "linecolor": "white",
                        "ticks": ""
                      },
                      "baxis": {
                        "gridcolor": "white",
                        "linecolor": "white",
                        "ticks": ""
                      },
                      "bgcolor": "#E5ECF6",
                      "caxis": {
                        "gridcolor": "white",
                        "linecolor": "white",
                        "ticks": ""
                      }
                    },
                    "title": {
                      "x": 0.05
                    },
                    "xaxis": {
                      "automargin": true,
                      "gridcolor": "white",
                      "linecolor": "white",
                      "ticks": "",
                      "title": {
                        "standoff": 15
                      },
                      "zerolinecolor": "white",
                      "zerolinewidth": 2
                    },
                    "yaxis": {
                      "automargin": true,
                      "gridcolor": "white",
                      "linecolor": "white",
                      "ticks": "",
                      "title": {
                        "standoff": 15
                      },
                      "zerolinecolor": "white",
                      "zerolinewidth": 2
                    }
                  }
                },
                "title": {
                  "text": "Medal Distribution by Olympic Participation"
                },
                "width": 780
              }
            }
          },
          "metadata": {},
          "output_type": "display_data"
        }
      ],
      "source": [
        "# A améliorer\n",
        "\n",
        "df = olympics_data[olympics_data[\"Sport\"] == \"Swimming\"].copy()\n",
        "df = df.drop_duplicates(subset=[\"Name\", \"Year\"])\n",
        "\n",
        "df = df.sort_values([\"Name\", \"Year\"])\n",
        "df[\"Participation_Number\"] = df.groupby(\"Name\").cumcount() + 1\n",
        "\n",
        "df[\"Medal_Status\"] = df[\"Medal\"].apply(lambda x: \"Medal Won\" if pd.notna(x) else \"No Medal\")\n",
        "\n",
        "participation_counts = df.groupby([\"Participation_Number\", \"Medal_Status\"]).size().unstack(fill_value=0)\n",
        "\n",
        "participation_percentages = participation_counts.div(participation_counts.sum(axis=1), axis=0) * 100\n",
        "\n",
        "colors = {\"Medal Won\": \"#F4C542\", \"No Medal\": \"#A0A0A0\"}\n",
        "\n",
        "participation_levels = sorted(participation_percentages.index)\n",
        "num_participations = len(participation_levels)\n",
        "\n",
        "fig = sp.make_subplots(\n",
        "    rows=1, cols=num_participations,\n",
        "    specs=[[{\"type\": \"domain\"}] * num_participations]\n",
        ")\n",
        "\n",
        "for i, p in enumerate(participation_levels):\n",
        "    values = [\n",
        "        participation_percentages.loc[p][\"Medal Won\"],\n",
        "        participation_percentages.loc[p][\"No Medal\"]\n",
        "    ]\n",
        "\n",
        "    fig.add_trace(go.Pie(\n",
        "        labels=[\"Medal Won\", \"No Medal\"],\n",
        "        values=values,\n",
        "        marker=dict(colors=[colors[\"Medal Won\"], colors[\"No Medal\"]]),\n",
        "        hole=0.4,\n",
        "        textinfo='percent',\n",
        "        showlegend=(i == 0)\n",
        "    ), row=1, col=i+1)\n",
        "\n",
        "    num_pies = len(participation_levels)\n",
        "    x_position = (i + 0.5) / num_pies\n",
        "\n",
        "    fig.add_annotation(\n",
        "        x=x_position,\n",
        "        y=0.5,\n",
        "        text=f\"{p}\",\n",
        "        showarrow=False,\n",
        "        font=dict(size=16, color=\"black\", family=\"Arial Black\"),\n",
        "        xref=\"paper\",\n",
        "        yref=\"paper\"\n",
        "    )\n",
        "\n",
        "fig.update_layout(\n",
        "    title_text=\"Medal Distribution by Olympic Participation\",\n",
        "    height=400,\n",
        "    width=130 * num_participations,\n",
        "    margin=dict(t=80, b=50, l=50, r=50),\n",
        "    font=dict(size=12)\n",
        ")\n",
        "\n",
        "fig.show()"
      ]
    },
    {
      "cell_type": "code",
      "execution_count": 98,
      "id": "aeb025c2",
      "metadata": {},
      "outputs": [
        {
          "data": {
            "application/vnd.plotly.v1+json": {
              "config": {
                "plotlyServerURL": "https://plot.ly"
              },
              "data": [
                {
                  "hovertemplate": "Team=Australia<br>Olympic Participation Number=%{x}<br>=%{y}<br>Odds of Winning a Medal (1/x)=%{marker.size}<br>text=%{text}<extra></extra>",
                  "legendgroup": "Australia",
                  "marker": {
                    "color": "#636efa",
                    "opacity": 0.85,
                    "size": [
                      25,
                      25,
                      22.58064516129032,
                      0
                    ],
                    "sizemode": "area",
                    "sizeref": 0.013486590038314176,
                    "symbol": "circle"
                  },
                  "mode": "markers+text",
                  "name": "Australia",
                  "orientation": "v",
                  "showlegend": true,
                  "text": [
                    "25.0%",
                    "25.0%",
                    "22.58%",
                    "0.0%"
                  ],
                  "type": "scatter",
                  "x": [
                    "1",
                    "2",
                    "3",
                    "4+"
                  ],
                  "xaxis": "x",
                  "y": [
                    0,
                    0,
                    0,
                    0
                  ],
                  "yaxis": "y"
                },
                {
                  "hovertemplate": "Team=Canada<br>Olympic Participation Number=%{x}<br>=%{y}<br>Odds of Winning a Medal (1/x)=%{marker.size}<br>text=%{text}<extra></extra>",
                  "legendgroup": "Canada",
                  "marker": {
                    "color": "#EF553B",
                    "opacity": 0.85,
                    "size": [
                      5.177111716621254,
                      3.614457831325301,
                      0
                    ],
                    "sizemode": "area",
                    "sizeref": 0.013486590038314176,
                    "symbol": "circle"
                  },
                  "mode": "markers+text",
                  "name": "Canada",
                  "orientation": "v",
                  "showlegend": true,
                  "text": [
                    "5.18%",
                    "3.61%",
                    "0.0%"
                  ],
                  "type": "scatter",
                  "x": [
                    "1",
                    "2",
                    "3"
                  ],
                  "xaxis": "x",
                  "y": [
                    1,
                    1,
                    1
                  ],
                  "yaxis": "y"
                },
                {
                  "hovertemplate": "Team=France<br>Olympic Participation Number=%{x}<br>=%{y}<br>Odds of Winning a Medal (1/x)=%{marker.size}<br>text=%{text}<extra></extra>",
                  "legendgroup": "France",
                  "marker": {
                    "color": "#00cc96",
                    "opacity": 0.85,
                    "size": [
                      5.080213903743315,
                      8.16326530612245,
                      11.538461538461538,
                      33.33333333333333
                    ],
                    "sizemode": "area",
                    "sizeref": 0.013486590038314176,
                    "symbol": "circle"
                  },
                  "mode": "markers+text",
                  "name": "France",
                  "orientation": "v",
                  "showlegend": true,
                  "text": [
                    "5.08%",
                    "8.16%",
                    "11.54%",
                    "33.33%"
                  ],
                  "type": "scatter",
                  "x": [
                    "1",
                    "2",
                    "3",
                    "4+"
                  ],
                  "xaxis": "x",
                  "y": [
                    2,
                    2,
                    2,
                    2
                  ],
                  "yaxis": "y"
                },
                {
                  "hovertemplate": "Team=United States<br>Olympic Participation Number=%{x}<br>=%{y}<br>Odds of Winning a Medal (1/x)=%{marker.size}<br>text=%{text}<extra></extra>",
                  "legendgroup": "United States",
                  "marker": {
                    "color": "#ab63fa",
                    "opacity": 0.85,
                    "size": [
                      48.8031914893617,
                      57.34265734265735,
                      75.86206896551724,
                      75
                    ],
                    "sizemode": "area",
                    "sizeref": 0.013486590038314176,
                    "symbol": "circle"
                  },
                  "mode": "markers+text",
                  "name": "United States",
                  "orientation": "v",
                  "showlegend": true,
                  "text": [
                    "48.8%",
                    "57.34%",
                    "75.86%",
                    "75.0%"
                  ],
                  "type": "scatter",
                  "x": [
                    "1",
                    "2",
                    "3",
                    "4+"
                  ],
                  "xaxis": "x",
                  "y": [
                    3,
                    3,
                    3,
                    3
                  ],
                  "yaxis": "y"
                }
              ],
              "layout": {
                "font": {
                  "size": 14
                },
                "height": 600,
                "legend": {
                  "itemsizing": "constant",
                  "title": {
                    "text": "Team"
                  },
                  "tracegroupgap": 0
                },
                "paper_bgcolor": "white",
                "plot_bgcolor": "white",
                "showlegend": true,
                "template": {
                  "data": {
                    "bar": [
                      {
                        "error_x": {
                          "color": "rgb(36,36,36)"
                        },
                        "error_y": {
                          "color": "rgb(36,36,36)"
                        },
                        "marker": {
                          "line": {
                            "color": "white",
                            "width": 0.5
                          },
                          "pattern": {
                            "fillmode": "overlay",
                            "size": 10,
                            "solidity": 0.2
                          }
                        },
                        "type": "bar"
                      }
                    ],
                    "barpolar": [
                      {
                        "marker": {
                          "line": {
                            "color": "white",
                            "width": 0.5
                          },
                          "pattern": {
                            "fillmode": "overlay",
                            "size": 10,
                            "solidity": 0.2
                          }
                        },
                        "type": "barpolar"
                      }
                    ],
                    "carpet": [
                      {
                        "aaxis": {
                          "endlinecolor": "rgb(36,36,36)",
                          "gridcolor": "white",
                          "linecolor": "white",
                          "minorgridcolor": "white",
                          "startlinecolor": "rgb(36,36,36)"
                        },
                        "baxis": {
                          "endlinecolor": "rgb(36,36,36)",
                          "gridcolor": "white",
                          "linecolor": "white",
                          "minorgridcolor": "white",
                          "startlinecolor": "rgb(36,36,36)"
                        },
                        "type": "carpet"
                      }
                    ],
                    "choropleth": [
                      {
                        "colorbar": {
                          "outlinewidth": 1,
                          "tickcolor": "rgb(36,36,36)",
                          "ticks": "outside"
                        },
                        "type": "choropleth"
                      }
                    ],
                    "contour": [
                      {
                        "colorbar": {
                          "outlinewidth": 1,
                          "tickcolor": "rgb(36,36,36)",
                          "ticks": "outside"
                        },
                        "colorscale": [
                          [
                            0,
                            "#440154"
                          ],
                          [
                            0.1111111111111111,
                            "#482878"
                          ],
                          [
                            0.2222222222222222,
                            "#3e4989"
                          ],
                          [
                            0.3333333333333333,
                            "#31688e"
                          ],
                          [
                            0.4444444444444444,
                            "#26828e"
                          ],
                          [
                            0.5555555555555556,
                            "#1f9e89"
                          ],
                          [
                            0.6666666666666666,
                            "#35b779"
                          ],
                          [
                            0.7777777777777778,
                            "#6ece58"
                          ],
                          [
                            0.8888888888888888,
                            "#b5de2b"
                          ],
                          [
                            1,
                            "#fde725"
                          ]
                        ],
                        "type": "contour"
                      }
                    ],
                    "contourcarpet": [
                      {
                        "colorbar": {
                          "outlinewidth": 1,
                          "tickcolor": "rgb(36,36,36)",
                          "ticks": "outside"
                        },
                        "type": "contourcarpet"
                      }
                    ],
                    "heatmap": [
                      {
                        "colorbar": {
                          "outlinewidth": 1,
                          "tickcolor": "rgb(36,36,36)",
                          "ticks": "outside"
                        },
                        "colorscale": [
                          [
                            0,
                            "#440154"
                          ],
                          [
                            0.1111111111111111,
                            "#482878"
                          ],
                          [
                            0.2222222222222222,
                            "#3e4989"
                          ],
                          [
                            0.3333333333333333,
                            "#31688e"
                          ],
                          [
                            0.4444444444444444,
                            "#26828e"
                          ],
                          [
                            0.5555555555555556,
                            "#1f9e89"
                          ],
                          [
                            0.6666666666666666,
                            "#35b779"
                          ],
                          [
                            0.7777777777777778,
                            "#6ece58"
                          ],
                          [
                            0.8888888888888888,
                            "#b5de2b"
                          ],
                          [
                            1,
                            "#fde725"
                          ]
                        ],
                        "type": "heatmap"
                      }
                    ],
                    "heatmapgl": [
                      {
                        "colorbar": {
                          "outlinewidth": 1,
                          "tickcolor": "rgb(36,36,36)",
                          "ticks": "outside"
                        },
                        "colorscale": [
                          [
                            0,
                            "#440154"
                          ],
                          [
                            0.1111111111111111,
                            "#482878"
                          ],
                          [
                            0.2222222222222222,
                            "#3e4989"
                          ],
                          [
                            0.3333333333333333,
                            "#31688e"
                          ],
                          [
                            0.4444444444444444,
                            "#26828e"
                          ],
                          [
                            0.5555555555555556,
                            "#1f9e89"
                          ],
                          [
                            0.6666666666666666,
                            "#35b779"
                          ],
                          [
                            0.7777777777777778,
                            "#6ece58"
                          ],
                          [
                            0.8888888888888888,
                            "#b5de2b"
                          ],
                          [
                            1,
                            "#fde725"
                          ]
                        ],
                        "type": "heatmapgl"
                      }
                    ],
                    "histogram": [
                      {
                        "marker": {
                          "line": {
                            "color": "white",
                            "width": 0.6
                          }
                        },
                        "type": "histogram"
                      }
                    ],
                    "histogram2d": [
                      {
                        "colorbar": {
                          "outlinewidth": 1,
                          "tickcolor": "rgb(36,36,36)",
                          "ticks": "outside"
                        },
                        "colorscale": [
                          [
                            0,
                            "#440154"
                          ],
                          [
                            0.1111111111111111,
                            "#482878"
                          ],
                          [
                            0.2222222222222222,
                            "#3e4989"
                          ],
                          [
                            0.3333333333333333,
                            "#31688e"
                          ],
                          [
                            0.4444444444444444,
                            "#26828e"
                          ],
                          [
                            0.5555555555555556,
                            "#1f9e89"
                          ],
                          [
                            0.6666666666666666,
                            "#35b779"
                          ],
                          [
                            0.7777777777777778,
                            "#6ece58"
                          ],
                          [
                            0.8888888888888888,
                            "#b5de2b"
                          ],
                          [
                            1,
                            "#fde725"
                          ]
                        ],
                        "type": "histogram2d"
                      }
                    ],
                    "histogram2dcontour": [
                      {
                        "colorbar": {
                          "outlinewidth": 1,
                          "tickcolor": "rgb(36,36,36)",
                          "ticks": "outside"
                        },
                        "colorscale": [
                          [
                            0,
                            "#440154"
                          ],
                          [
                            0.1111111111111111,
                            "#482878"
                          ],
                          [
                            0.2222222222222222,
                            "#3e4989"
                          ],
                          [
                            0.3333333333333333,
                            "#31688e"
                          ],
                          [
                            0.4444444444444444,
                            "#26828e"
                          ],
                          [
                            0.5555555555555556,
                            "#1f9e89"
                          ],
                          [
                            0.6666666666666666,
                            "#35b779"
                          ],
                          [
                            0.7777777777777778,
                            "#6ece58"
                          ],
                          [
                            0.8888888888888888,
                            "#b5de2b"
                          ],
                          [
                            1,
                            "#fde725"
                          ]
                        ],
                        "type": "histogram2dcontour"
                      }
                    ],
                    "mesh3d": [
                      {
                        "colorbar": {
                          "outlinewidth": 1,
                          "tickcolor": "rgb(36,36,36)",
                          "ticks": "outside"
                        },
                        "type": "mesh3d"
                      }
                    ],
                    "parcoords": [
                      {
                        "line": {
                          "colorbar": {
                            "outlinewidth": 1,
                            "tickcolor": "rgb(36,36,36)",
                            "ticks": "outside"
                          }
                        },
                        "type": "parcoords"
                      }
                    ],
                    "pie": [
                      {
                        "automargin": true,
                        "type": "pie"
                      }
                    ],
                    "scatter": [
                      {
                        "fillpattern": {
                          "fillmode": "overlay",
                          "size": 10,
                          "solidity": 0.2
                        },
                        "type": "scatter"
                      }
                    ],
                    "scatter3d": [
                      {
                        "line": {
                          "colorbar": {
                            "outlinewidth": 1,
                            "tickcolor": "rgb(36,36,36)",
                            "ticks": "outside"
                          }
                        },
                        "marker": {
                          "colorbar": {
                            "outlinewidth": 1,
                            "tickcolor": "rgb(36,36,36)",
                            "ticks": "outside"
                          }
                        },
                        "type": "scatter3d"
                      }
                    ],
                    "scattercarpet": [
                      {
                        "marker": {
                          "colorbar": {
                            "outlinewidth": 1,
                            "tickcolor": "rgb(36,36,36)",
                            "ticks": "outside"
                          }
                        },
                        "type": "scattercarpet"
                      }
                    ],
                    "scattergeo": [
                      {
                        "marker": {
                          "colorbar": {
                            "outlinewidth": 1,
                            "tickcolor": "rgb(36,36,36)",
                            "ticks": "outside"
                          }
                        },
                        "type": "scattergeo"
                      }
                    ],
                    "scattergl": [
                      {
                        "marker": {
                          "colorbar": {
                            "outlinewidth": 1,
                            "tickcolor": "rgb(36,36,36)",
                            "ticks": "outside"
                          }
                        },
                        "type": "scattergl"
                      }
                    ],
                    "scattermapbox": [
                      {
                        "marker": {
                          "colorbar": {
                            "outlinewidth": 1,
                            "tickcolor": "rgb(36,36,36)",
                            "ticks": "outside"
                          }
                        },
                        "type": "scattermapbox"
                      }
                    ],
                    "scatterpolar": [
                      {
                        "marker": {
                          "colorbar": {
                            "outlinewidth": 1,
                            "tickcolor": "rgb(36,36,36)",
                            "ticks": "outside"
                          }
                        },
                        "type": "scatterpolar"
                      }
                    ],
                    "scatterpolargl": [
                      {
                        "marker": {
                          "colorbar": {
                            "outlinewidth": 1,
                            "tickcolor": "rgb(36,36,36)",
                            "ticks": "outside"
                          }
                        },
                        "type": "scatterpolargl"
                      }
                    ],
                    "scatterternary": [
                      {
                        "marker": {
                          "colorbar": {
                            "outlinewidth": 1,
                            "tickcolor": "rgb(36,36,36)",
                            "ticks": "outside"
                          }
                        },
                        "type": "scatterternary"
                      }
                    ],
                    "surface": [
                      {
                        "colorbar": {
                          "outlinewidth": 1,
                          "tickcolor": "rgb(36,36,36)",
                          "ticks": "outside"
                        },
                        "colorscale": [
                          [
                            0,
                            "#440154"
                          ],
                          [
                            0.1111111111111111,
                            "#482878"
                          ],
                          [
                            0.2222222222222222,
                            "#3e4989"
                          ],
                          [
                            0.3333333333333333,
                            "#31688e"
                          ],
                          [
                            0.4444444444444444,
                            "#26828e"
                          ],
                          [
                            0.5555555555555556,
                            "#1f9e89"
                          ],
                          [
                            0.6666666666666666,
                            "#35b779"
                          ],
                          [
                            0.7777777777777778,
                            "#6ece58"
                          ],
                          [
                            0.8888888888888888,
                            "#b5de2b"
                          ],
                          [
                            1,
                            "#fde725"
                          ]
                        ],
                        "type": "surface"
                      }
                    ],
                    "table": [
                      {
                        "cells": {
                          "fill": {
                            "color": "rgb(237,237,237)"
                          },
                          "line": {
                            "color": "white"
                          }
                        },
                        "header": {
                          "fill": {
                            "color": "rgb(217,217,217)"
                          },
                          "line": {
                            "color": "white"
                          }
                        },
                        "type": "table"
                      }
                    ]
                  },
                  "layout": {
                    "annotationdefaults": {
                      "arrowhead": 0,
                      "arrowwidth": 1
                    },
                    "autotypenumbers": "strict",
                    "coloraxis": {
                      "colorbar": {
                        "outlinewidth": 1,
                        "tickcolor": "rgb(36,36,36)",
                        "ticks": "outside"
                      }
                    },
                    "colorscale": {
                      "diverging": [
                        [
                          0,
                          "rgb(103,0,31)"
                        ],
                        [
                          0.1,
                          "rgb(178,24,43)"
                        ],
                        [
                          0.2,
                          "rgb(214,96,77)"
                        ],
                        [
                          0.3,
                          "rgb(244,165,130)"
                        ],
                        [
                          0.4,
                          "rgb(253,219,199)"
                        ],
                        [
                          0.5,
                          "rgb(247,247,247)"
                        ],
                        [
                          0.6,
                          "rgb(209,229,240)"
                        ],
                        [
                          0.7,
                          "rgb(146,197,222)"
                        ],
                        [
                          0.8,
                          "rgb(67,147,195)"
                        ],
                        [
                          0.9,
                          "rgb(33,102,172)"
                        ],
                        [
                          1,
                          "rgb(5,48,97)"
                        ]
                      ],
                      "sequential": [
                        [
                          0,
                          "#440154"
                        ],
                        [
                          0.1111111111111111,
                          "#482878"
                        ],
                        [
                          0.2222222222222222,
                          "#3e4989"
                        ],
                        [
                          0.3333333333333333,
                          "#31688e"
                        ],
                        [
                          0.4444444444444444,
                          "#26828e"
                        ],
                        [
                          0.5555555555555556,
                          "#1f9e89"
                        ],
                        [
                          0.6666666666666666,
                          "#35b779"
                        ],
                        [
                          0.7777777777777778,
                          "#6ece58"
                        ],
                        [
                          0.8888888888888888,
                          "#b5de2b"
                        ],
                        [
                          1,
                          "#fde725"
                        ]
                      ],
                      "sequentialminus": [
                        [
                          0,
                          "#440154"
                        ],
                        [
                          0.1111111111111111,
                          "#482878"
                        ],
                        [
                          0.2222222222222222,
                          "#3e4989"
                        ],
                        [
                          0.3333333333333333,
                          "#31688e"
                        ],
                        [
                          0.4444444444444444,
                          "#26828e"
                        ],
                        [
                          0.5555555555555556,
                          "#1f9e89"
                        ],
                        [
                          0.6666666666666666,
                          "#35b779"
                        ],
                        [
                          0.7777777777777778,
                          "#6ece58"
                        ],
                        [
                          0.8888888888888888,
                          "#b5de2b"
                        ],
                        [
                          1,
                          "#fde725"
                        ]
                      ]
                    },
                    "colorway": [
                      "#1F77B4",
                      "#FF7F0E",
                      "#2CA02C",
                      "#D62728",
                      "#9467BD",
                      "#8C564B",
                      "#E377C2",
                      "#7F7F7F",
                      "#BCBD22",
                      "#17BECF"
                    ],
                    "font": {
                      "color": "rgb(36,36,36)"
                    },
                    "geo": {
                      "bgcolor": "white",
                      "lakecolor": "white",
                      "landcolor": "white",
                      "showlakes": true,
                      "showland": true,
                      "subunitcolor": "white"
                    },
                    "hoverlabel": {
                      "align": "left"
                    },
                    "hovermode": "closest",
                    "mapbox": {
                      "style": "light"
                    },
                    "paper_bgcolor": "white",
                    "plot_bgcolor": "white",
                    "polar": {
                      "angularaxis": {
                        "gridcolor": "rgb(232,232,232)",
                        "linecolor": "rgb(36,36,36)",
                        "showgrid": false,
                        "showline": true,
                        "ticks": "outside"
                      },
                      "bgcolor": "white",
                      "radialaxis": {
                        "gridcolor": "rgb(232,232,232)",
                        "linecolor": "rgb(36,36,36)",
                        "showgrid": false,
                        "showline": true,
                        "ticks": "outside"
                      }
                    },
                    "scene": {
                      "xaxis": {
                        "backgroundcolor": "white",
                        "gridcolor": "rgb(232,232,232)",
                        "gridwidth": 2,
                        "linecolor": "rgb(36,36,36)",
                        "showbackground": true,
                        "showgrid": false,
                        "showline": true,
                        "ticks": "outside",
                        "zeroline": false,
                        "zerolinecolor": "rgb(36,36,36)"
                      },
                      "yaxis": {
                        "backgroundcolor": "white",
                        "gridcolor": "rgb(232,232,232)",
                        "gridwidth": 2,
                        "linecolor": "rgb(36,36,36)",
                        "showbackground": true,
                        "showgrid": false,
                        "showline": true,
                        "ticks": "outside",
                        "zeroline": false,
                        "zerolinecolor": "rgb(36,36,36)"
                      },
                      "zaxis": {
                        "backgroundcolor": "white",
                        "gridcolor": "rgb(232,232,232)",
                        "gridwidth": 2,
                        "linecolor": "rgb(36,36,36)",
                        "showbackground": true,
                        "showgrid": false,
                        "showline": true,
                        "ticks": "outside",
                        "zeroline": false,
                        "zerolinecolor": "rgb(36,36,36)"
                      }
                    },
                    "shapedefaults": {
                      "fillcolor": "black",
                      "line": {
                        "width": 0
                      },
                      "opacity": 0.3
                    },
                    "ternary": {
                      "aaxis": {
                        "gridcolor": "rgb(232,232,232)",
                        "linecolor": "rgb(36,36,36)",
                        "showgrid": false,
                        "showline": true,
                        "ticks": "outside"
                      },
                      "baxis": {
                        "gridcolor": "rgb(232,232,232)",
                        "linecolor": "rgb(36,36,36)",
                        "showgrid": false,
                        "showline": true,
                        "ticks": "outside"
                      },
                      "bgcolor": "white",
                      "caxis": {
                        "gridcolor": "rgb(232,232,232)",
                        "linecolor": "rgb(36,36,36)",
                        "showgrid": false,
                        "showline": true,
                        "ticks": "outside"
                      }
                    },
                    "title": {
                      "x": 0.05
                    },
                    "xaxis": {
                      "automargin": true,
                      "gridcolor": "rgb(232,232,232)",
                      "linecolor": "rgb(36,36,36)",
                      "showgrid": false,
                      "showline": true,
                      "ticks": "outside",
                      "title": {
                        "standoff": 15
                      },
                      "zeroline": false,
                      "zerolinecolor": "rgb(36,36,36)"
                    },
                    "yaxis": {
                      "automargin": true,
                      "gridcolor": "rgb(232,232,232)",
                      "linecolor": "rgb(36,36,36)",
                      "showgrid": false,
                      "showline": true,
                      "ticks": "outside",
                      "title": {
                        "standoff": 15
                      },
                      "zeroline": false,
                      "zerolinecolor": "rgb(36,36,36)"
                    }
                  }
                },
                "title": {
                  "font": {
                    "size": 18
                  },
                  "text": "Odds of Winning a Medal by Olympic Participation (Swimming - United States, Australia, Canada, France)"
                },
                "xaxis": {
                  "anchor": "y",
                  "domain": [
                    0,
                    1
                  ],
                  "showgrid": false,
                  "showline": false,
                  "tickmode": "array",
                  "ticktext": [
                    "1",
                    "2",
                    "3",
                    "4+"
                  ],
                  "tickvals": [
                    "1",
                    "2",
                    "3",
                    "4+"
                  ],
                  "title": {
                    "text": "Olympic Participation Number"
                  }
                },
                "yaxis": {
                  "anchor": "x",
                  "domain": [
                    0,
                    1
                  ],
                  "title": {
                    "text": ""
                  },
                  "visible": false
                }
              }
            }
          },
          "metadata": {},
          "output_type": "display_data"
        }
      ],
      "source": [
        "def plot_medal_odds(olympics_data, sport, teams=None):\n",
        "    df = olympics_data[olympics_data[\"Sport\"] == sport].copy()\n",
        "    \n",
        "    if teams:\n",
        "        df = df[df[\"Team\"].isin(teams)]\n",
        "    \n",
        "    df = df.drop_duplicates(subset=[\"Name\", \"Year\"])\n",
        "    df = df.sort_values([\"Name\", \"Year\"])\n",
        "    df[\"Participation_Number\"] = df.groupby(\"Name\").cumcount() + 1\n",
        "    df[\"Participation_Number\"] = df[\"Participation_Number\"].apply(lambda x: str(x) if x <= 3 else \"4+\")\n",
        "    df[\"Medal_Status\"] = df[\"Medal\"].apply(lambda x: \"Medal Won\" if pd.notna(x) else \"No Medal\")\n",
        "    \n",
        "    participation_counts = df.groupby([\"Team\", \"Participation_Number\", \"Medal_Status\"]).size().unstack(fill_value=0)\n",
        "    \n",
        "    # Calculate odds\n",
        "    odds_by_part = participation_counts.iloc[:, 0].div(participation_counts.sum(axis=1), axis=0) * 100\n",
        "    odds_by_part = odds_by_part.reset_index(name=\"Odds\")\n",
        "    \n",
        "    # Assign y values based on team index\n",
        "    team_indices = {team: idx for idx, team in enumerate(odds_by_part[\"Team\"].unique())}\n",
        "    odds_by_part[\"y\"] = odds_by_part[\"Team\"].map(team_indices)\n",
        "    \n",
        "    # Calculate the height of the figure based on the number of teams\n",
        "    num_teams = len(team_indices)\n",
        "    fig_height = 400 + num_teams * 50  # Base height of 400 plus 50 per team\n",
        "    \n",
        "    # Create bubble chart\n",
        "    fig = px.scatter(\n",
        "        odds_by_part,\n",
        "        x=\"Participation_Number\",\n",
        "        y=\"y\",  # Use y values based on team index\n",
        "        size=\"Odds\",\n",
        "        color=\"Team\",\n",
        "        text=odds_by_part[\"Odds\"].round(2).astype(str) + '%',  # Add percentage labels\n",
        "        title=f\"Odds of Winning a Medal by Olympic Participation ({sport} - {'All Teams' if not teams else ', '.join(teams)})\",\n",
        "        labels={\"Participation_Number\": \"Olympic Participation Number\", \"Odds\": \"Odds of Winning a Medal (1/x)\", \"y\": \"\"},\n",
        "        opacity=0.85,\n",
        "        size_max=75,\n",
        "        height=fig_height  # Set the height of the figure\n",
        "    )\n",
        "    \n",
        "    fig.update_layout(\n",
        "        template=\"simple_white\",\n",
        "        font=dict(size=14),\n",
        "        title_font=dict(size=18),\n",
        "        plot_bgcolor=\"white\",\n",
        "        paper_bgcolor=\"white\",\n",
        "        xaxis=dict(\n",
        "            showline=False,\n",
        "            showgrid=False,\n",
        "            tickmode=\"array\",\n",
        "            tickvals=[\"1\", \"2\", \"3\", \"4+\"],\n",
        "            ticktext=[\"1\", \"2\", \"3\", \"4+\"]\n",
        "        ),\n",
        "        yaxis=dict(visible=False),  # Hide the y-axis\n",
        "        showlegend=True  # Show the legend\n",
        "    )\n",
        "    \n",
        "    fig.show()\n",
        "\n",
        "# Example usage:\n",
        "plot_medal_odds(olympics_data, \"Swimming\", [\"United States\", \"Australia\", \"Canada\", \"France\"])"
      ]
    },
    {
      "cell_type": "markdown",
      "id": "7qgYb7-e9bFe",
      "metadata": {
        "id": "7qgYb7-e9bFe"
      },
      "source": [
        "# Meilleurs athlètes"
      ]
    },
    {
      "cell_type": "code",
      "execution_count": null,
      "id": "Iveyx2IUF3pt",
      "metadata": {
        "colab": {
          "base_uri": "https://localhost:8080/",
          "height": 542
        },
        "id": "Iveyx2IUF3pt",
        "outputId": "d7cdbf49-25db-411e-905b-549e1f442ca5"
      },
      "outputs": [
        {
          "data": {
            "text/html": [
              "<html>\n",
              "<head><meta charset=\"utf-8\" /></head>\n",
              "<body>\n",
              "    <div>            <script src=\"https://cdnjs.cloudflare.com/ajax/libs/mathjax/2.7.5/MathJax.js?config=TeX-AMS-MML_SVG\"></script><script type=\"text/javascript\">if (window.MathJax && window.MathJax.Hub && window.MathJax.Hub.Config) {window.MathJax.Hub.Config({SVG: {font: \"STIX-Web\"}});}</script>                <script type=\"text/javascript\">window.PlotlyConfig = {MathJaxConfig: 'local'};</script>\n",
              "        <script charset=\"utf-8\" src=\"https://cdn.plot.ly/plotly-2.35.2.min.js\"></script>                <div id=\"b0a6e7b9-032b-465d-84c4-e2e3d9b3eb5a\" class=\"plotly-graph-div\" style=\"height:525px; width:100%;\"></div>            <script type=\"text/javascript\">                                    window.PLOTLYENV=window.PLOTLYENV || {};                                    if (document.getElementById(\"b0a6e7b9-032b-465d-84c4-e2e3d9b3eb5a\")) {                    Plotly.newPlot(                        \"b0a6e7b9-032b-465d-84c4-e2e3d9b3eb5a\",                        [{\"alignmentgroup\":\"True\",\"hovertemplate\":\"Medal=Gold\\u003cbr\\u003eTotal Medals=%{x}\\u003cbr\\u003eAthletes=%{y}\\u003cextra\\u003e\\u003c\\u002fextra\\u003e\",\"legendgroup\":\"Gold\",\"marker\":{\"color\":\"#FFD700\",\"pattern\":{\"shape\":\"\"}},\"name\":\"Gold\",\"offsetgroup\":\"Gold\",\"orientation\":\"h\",\"showlegend\":true,\"textposition\":\"auto\",\"x\":[4,4,5,8,9,8,23,3,6],\"xaxis\":\"x\",\"y\":[\"Aleksandr Vladimirovich Popov\",\"Dara Grace Torres (-Hoffman, -Minas)\",\"Gary Wayne Hall, Jr.\",\"Jennifer Elisabeth \\\"Jenny\\\" Thompson (-Cumpelik)\",\"Mark Andrew Spitz\",\"Matthew Nicholas \\\"Matt\\\" Biondi\",\"Michael Fred Phelps, II\",\"Natalie Anne Coughlin (-Hall)\",\"Ryan Steven Lochte\"],\"yaxis\":\"y\",\"type\":\"bar\"},{\"alignmentgroup\":\"True\",\"hovertemplate\":\"Medal=Silver\\u003cbr\\u003eTotal Medals=%{x}\\u003cbr\\u003eAthletes=%{y}\\u003cextra\\u003e\\u003c\\u002fextra\\u003e\",\"legendgroup\":\"Silver\",\"marker\":{\"color\":\"#C0C0C0\",\"pattern\":{\"shape\":\"\"}},\"name\":\"Silver\",\"offsetgroup\":\"Silver\",\"orientation\":\"h\",\"showlegend\":true,\"textposition\":\"auto\",\"x\":[5,4,4,3,3,1,2,3,4,3],\"xaxis\":\"x\",\"y\":[\"Aleksandr Vladimirovich Popov\",\"Dara Grace Torres (-Hoffman, -Minas)\",\"Franziska van Almsick\",\"Gary Wayne Hall, Jr.\",\"Jennifer Elisabeth \\\"Jenny\\\" Thompson (-Cumpelik)\",\"Mark Andrew Spitz\",\"Matthew Nicholas \\\"Matt\\\" Biondi\",\"Michael Fred Phelps, II\",\"Natalie Anne Coughlin (-Hall)\",\"Ryan Steven Lochte\"],\"yaxis\":\"y\",\"type\":\"bar\"},{\"alignmentgroup\":\"True\",\"hovertemplate\":\"Medal=Bronze\\u003cbr\\u003eTotal Medals=%{x}\\u003cbr\\u003eAthletes=%{y}\\u003cextra\\u003e\\u003c\\u002fextra\\u003e\",\"legendgroup\":\"Bronze\",\"marker\":{\"color\":\"#CD7F32\",\"pattern\":{\"shape\":\"\"}},\"name\":\"Bronze\",\"offsetgroup\":\"Bronze\",\"orientation\":\"h\",\"showlegend\":true,\"textposition\":\"auto\",\"x\":[4,6,2,1,1,1,2,5,3],\"xaxis\":\"x\",\"y\":[\"Dara Grace Torres (-Hoffman, -Minas)\",\"Franziska van Almsick\",\"Gary Wayne Hall, Jr.\",\"Jennifer Elisabeth \\\"Jenny\\\" Thompson (-Cumpelik)\",\"Mark Andrew Spitz\",\"Matthew Nicholas \\\"Matt\\\" Biondi\",\"Michael Fred Phelps, II\",\"Natalie Anne Coughlin (-Hall)\",\"Ryan Steven Lochte\"],\"yaxis\":\"y\",\"type\":\"bar\"}],                        {\"template\":{\"data\":{\"barpolar\":[{\"marker\":{\"line\":{\"color\":\"white\",\"width\":0.5},\"pattern\":{\"fillmode\":\"overlay\",\"size\":10,\"solidity\":0.2}},\"type\":\"barpolar\"}],\"bar\":[{\"error_x\":{\"color\":\"#2a3f5f\"},\"error_y\":{\"color\":\"#2a3f5f\"},\"marker\":{\"line\":{\"color\":\"white\",\"width\":0.5},\"pattern\":{\"fillmode\":\"overlay\",\"size\":10,\"solidity\":0.2}},\"type\":\"bar\"}],\"carpet\":[{\"aaxis\":{\"endlinecolor\":\"#2a3f5f\",\"gridcolor\":\"#C8D4E3\",\"linecolor\":\"#C8D4E3\",\"minorgridcolor\":\"#C8D4E3\",\"startlinecolor\":\"#2a3f5f\"},\"baxis\":{\"endlinecolor\":\"#2a3f5f\",\"gridcolor\":\"#C8D4E3\",\"linecolor\":\"#C8D4E3\",\"minorgridcolor\":\"#C8D4E3\",\"startlinecolor\":\"#2a3f5f\"},\"type\":\"carpet\"}],\"choropleth\":[{\"colorbar\":{\"outlinewidth\":0,\"ticks\":\"\"},\"type\":\"choropleth\"}],\"contourcarpet\":[{\"colorbar\":{\"outlinewidth\":0,\"ticks\":\"\"},\"type\":\"contourcarpet\"}],\"contour\":[{\"colorbar\":{\"outlinewidth\":0,\"ticks\":\"\"},\"colorscale\":[[0.0,\"#0d0887\"],[0.1111111111111111,\"#46039f\"],[0.2222222222222222,\"#7201a8\"],[0.3333333333333333,\"#9c179e\"],[0.4444444444444444,\"#bd3786\"],[0.5555555555555556,\"#d8576b\"],[0.6666666666666666,\"#ed7953\"],[0.7777777777777778,\"#fb9f3a\"],[0.8888888888888888,\"#fdca26\"],[1.0,\"#f0f921\"]],\"type\":\"contour\"}],\"heatmapgl\":[{\"colorbar\":{\"outlinewidth\":0,\"ticks\":\"\"},\"colorscale\":[[0.0,\"#0d0887\"],[0.1111111111111111,\"#46039f\"],[0.2222222222222222,\"#7201a8\"],[0.3333333333333333,\"#9c179e\"],[0.4444444444444444,\"#bd3786\"],[0.5555555555555556,\"#d8576b\"],[0.6666666666666666,\"#ed7953\"],[0.7777777777777778,\"#fb9f3a\"],[0.8888888888888888,\"#fdca26\"],[1.0,\"#f0f921\"]],\"type\":\"heatmapgl\"}],\"heatmap\":[{\"colorbar\":{\"outlinewidth\":0,\"ticks\":\"\"},\"colorscale\":[[0.0,\"#0d0887\"],[0.1111111111111111,\"#46039f\"],[0.2222222222222222,\"#7201a8\"],[0.3333333333333333,\"#9c179e\"],[0.4444444444444444,\"#bd3786\"],[0.5555555555555556,\"#d8576b\"],[0.6666666666666666,\"#ed7953\"],[0.7777777777777778,\"#fb9f3a\"],[0.8888888888888888,\"#fdca26\"],[1.0,\"#f0f921\"]],\"type\":\"heatmap\"}],\"histogram2dcontour\":[{\"colorbar\":{\"outlinewidth\":0,\"ticks\":\"\"},\"colorscale\":[[0.0,\"#0d0887\"],[0.1111111111111111,\"#46039f\"],[0.2222222222222222,\"#7201a8\"],[0.3333333333333333,\"#9c179e\"],[0.4444444444444444,\"#bd3786\"],[0.5555555555555556,\"#d8576b\"],[0.6666666666666666,\"#ed7953\"],[0.7777777777777778,\"#fb9f3a\"],[0.8888888888888888,\"#fdca26\"],[1.0,\"#f0f921\"]],\"type\":\"histogram2dcontour\"}],\"histogram2d\":[{\"colorbar\":{\"outlinewidth\":0,\"ticks\":\"\"},\"colorscale\":[[0.0,\"#0d0887\"],[0.1111111111111111,\"#46039f\"],[0.2222222222222222,\"#7201a8\"],[0.3333333333333333,\"#9c179e\"],[0.4444444444444444,\"#bd3786\"],[0.5555555555555556,\"#d8576b\"],[0.6666666666666666,\"#ed7953\"],[0.7777777777777778,\"#fb9f3a\"],[0.8888888888888888,\"#fdca26\"],[1.0,\"#f0f921\"]],\"type\":\"histogram2d\"}],\"histogram\":[{\"marker\":{\"pattern\":{\"fillmode\":\"overlay\",\"size\":10,\"solidity\":0.2}},\"type\":\"histogram\"}],\"mesh3d\":[{\"colorbar\":{\"outlinewidth\":0,\"ticks\":\"\"},\"type\":\"mesh3d\"}],\"parcoords\":[{\"line\":{\"colorbar\":{\"outlinewidth\":0,\"ticks\":\"\"}},\"type\":\"parcoords\"}],\"pie\":[{\"automargin\":true,\"type\":\"pie\"}],\"scatter3d\":[{\"line\":{\"colorbar\":{\"outlinewidth\":0,\"ticks\":\"\"}},\"marker\":{\"colorbar\":{\"outlinewidth\":0,\"ticks\":\"\"}},\"type\":\"scatter3d\"}],\"scattercarpet\":[{\"marker\":{\"colorbar\":{\"outlinewidth\":0,\"ticks\":\"\"}},\"type\":\"scattercarpet\"}],\"scattergeo\":[{\"marker\":{\"colorbar\":{\"outlinewidth\":0,\"ticks\":\"\"}},\"type\":\"scattergeo\"}],\"scattergl\":[{\"marker\":{\"colorbar\":{\"outlinewidth\":0,\"ticks\":\"\"}},\"type\":\"scattergl\"}],\"scattermapbox\":[{\"marker\":{\"colorbar\":{\"outlinewidth\":0,\"ticks\":\"\"}},\"type\":\"scattermapbox\"}],\"scatterpolargl\":[{\"marker\":{\"colorbar\":{\"outlinewidth\":0,\"ticks\":\"\"}},\"type\":\"scatterpolargl\"}],\"scatterpolar\":[{\"marker\":{\"colorbar\":{\"outlinewidth\":0,\"ticks\":\"\"}},\"type\":\"scatterpolar\"}],\"scatter\":[{\"fillpattern\":{\"fillmode\":\"overlay\",\"size\":10,\"solidity\":0.2},\"type\":\"scatter\"}],\"scatterternary\":[{\"marker\":{\"colorbar\":{\"outlinewidth\":0,\"ticks\":\"\"}},\"type\":\"scatterternary\"}],\"surface\":[{\"colorbar\":{\"outlinewidth\":0,\"ticks\":\"\"},\"colorscale\":[[0.0,\"#0d0887\"],[0.1111111111111111,\"#46039f\"],[0.2222222222222222,\"#7201a8\"],[0.3333333333333333,\"#9c179e\"],[0.4444444444444444,\"#bd3786\"],[0.5555555555555556,\"#d8576b\"],[0.6666666666666666,\"#ed7953\"],[0.7777777777777778,\"#fb9f3a\"],[0.8888888888888888,\"#fdca26\"],[1.0,\"#f0f921\"]],\"type\":\"surface\"}],\"table\":[{\"cells\":{\"fill\":{\"color\":\"#EBF0F8\"},\"line\":{\"color\":\"white\"}},\"header\":{\"fill\":{\"color\":\"#C8D4E3\"},\"line\":{\"color\":\"white\"}},\"type\":\"table\"}]},\"layout\":{\"annotationdefaults\":{\"arrowcolor\":\"#2a3f5f\",\"arrowhead\":0,\"arrowwidth\":1},\"autotypenumbers\":\"strict\",\"coloraxis\":{\"colorbar\":{\"outlinewidth\":0,\"ticks\":\"\"}},\"colorscale\":{\"diverging\":[[0,\"#8e0152\"],[0.1,\"#c51b7d\"],[0.2,\"#de77ae\"],[0.3,\"#f1b6da\"],[0.4,\"#fde0ef\"],[0.5,\"#f7f7f7\"],[0.6,\"#e6f5d0\"],[0.7,\"#b8e186\"],[0.8,\"#7fbc41\"],[0.9,\"#4d9221\"],[1,\"#276419\"]],\"sequential\":[[0.0,\"#0d0887\"],[0.1111111111111111,\"#46039f\"],[0.2222222222222222,\"#7201a8\"],[0.3333333333333333,\"#9c179e\"],[0.4444444444444444,\"#bd3786\"],[0.5555555555555556,\"#d8576b\"],[0.6666666666666666,\"#ed7953\"],[0.7777777777777778,\"#fb9f3a\"],[0.8888888888888888,\"#fdca26\"],[1.0,\"#f0f921\"]],\"sequentialminus\":[[0.0,\"#0d0887\"],[0.1111111111111111,\"#46039f\"],[0.2222222222222222,\"#7201a8\"],[0.3333333333333333,\"#9c179e\"],[0.4444444444444444,\"#bd3786\"],[0.5555555555555556,\"#d8576b\"],[0.6666666666666666,\"#ed7953\"],[0.7777777777777778,\"#fb9f3a\"],[0.8888888888888888,\"#fdca26\"],[1.0,\"#f0f921\"]]},\"colorway\":[\"#636efa\",\"#EF553B\",\"#00cc96\",\"#ab63fa\",\"#FFA15A\",\"#19d3f3\",\"#FF6692\",\"#B6E880\",\"#FF97FF\",\"#FECB52\"],\"font\":{\"color\":\"#2a3f5f\"},\"geo\":{\"bgcolor\":\"white\",\"lakecolor\":\"white\",\"landcolor\":\"white\",\"showlakes\":true,\"showland\":true,\"subunitcolor\":\"#C8D4E3\"},\"hoverlabel\":{\"align\":\"left\"},\"hovermode\":\"closest\",\"mapbox\":{\"style\":\"light\"},\"paper_bgcolor\":\"white\",\"plot_bgcolor\":\"white\",\"polar\":{\"angularaxis\":{\"gridcolor\":\"#EBF0F8\",\"linecolor\":\"#EBF0F8\",\"ticks\":\"\"},\"bgcolor\":\"white\",\"radialaxis\":{\"gridcolor\":\"#EBF0F8\",\"linecolor\":\"#EBF0F8\",\"ticks\":\"\"}},\"scene\":{\"xaxis\":{\"backgroundcolor\":\"white\",\"gridcolor\":\"#DFE8F3\",\"gridwidth\":2,\"linecolor\":\"#EBF0F8\",\"showbackground\":true,\"ticks\":\"\",\"zerolinecolor\":\"#EBF0F8\"},\"yaxis\":{\"backgroundcolor\":\"white\",\"gridcolor\":\"#DFE8F3\",\"gridwidth\":2,\"linecolor\":\"#EBF0F8\",\"showbackground\":true,\"ticks\":\"\",\"zerolinecolor\":\"#EBF0F8\"},\"zaxis\":{\"backgroundcolor\":\"white\",\"gridcolor\":\"#DFE8F3\",\"gridwidth\":2,\"linecolor\":\"#EBF0F8\",\"showbackground\":true,\"ticks\":\"\",\"zerolinecolor\":\"#EBF0F8\"}},\"shapedefaults\":{\"line\":{\"color\":\"#2a3f5f\"}},\"ternary\":{\"aaxis\":{\"gridcolor\":\"#DFE8F3\",\"linecolor\":\"#A2B1C6\",\"ticks\":\"\"},\"baxis\":{\"gridcolor\":\"#DFE8F3\",\"linecolor\":\"#A2B1C6\",\"ticks\":\"\"},\"bgcolor\":\"white\",\"caxis\":{\"gridcolor\":\"#DFE8F3\",\"linecolor\":\"#A2B1C6\",\"ticks\":\"\"}},\"title\":{\"x\":0.05},\"xaxis\":{\"automargin\":true,\"gridcolor\":\"#EBF0F8\",\"linecolor\":\"#EBF0F8\",\"ticks\":\"\",\"title\":{\"standoff\":15},\"zerolinecolor\":\"#EBF0F8\",\"zerolinewidth\":2},\"yaxis\":{\"automargin\":true,\"gridcolor\":\"#EBF0F8\",\"linecolor\":\"#EBF0F8\",\"ticks\":\"\",\"title\":{\"standoff\":15},\"zerolinecolor\":\"#EBF0F8\",\"zerolinewidth\":2}}},\"xaxis\":{\"anchor\":\"y\",\"domain\":[0.0,1.0],\"title\":{\"text\":\"Total Medals\"}},\"yaxis\":{\"anchor\":\"x\",\"domain\":[0.0,1.0],\"title\":{\"text\":\"\"},\"categoryorder\":\"array\",\"categoryarray\":[\"Michael Fred Phelps, II\",\"Dara Grace Torres (-Hoffman, -Minas)\",\"Jennifer Elisabeth \\\"Jenny\\\" Thompson (-Cumpelik)\",\"Natalie Anne Coughlin (-Hall)\",\"Ryan Steven Lochte\",\"Mark Andrew Spitz\",\"Matthew Nicholas \\\"Matt\\\" Biondi\",\"Franziska van Almsick\",\"Gary Wayne Hall, Jr.\",\"Aleksandr Vladimirovich Popov\"]},\"legend\":{\"title\":{\"text\":\"Medal\"},\"tracegroupgap\":0},\"title\":{\"text\":\"Olympic Hall of Fame – Who Dominates the Pool?\"},\"barmode\":\"relative\",\"showlegend\":true},                        {\"responsive\": true}                    ).then(function(){\n",
              "                            \n",
              "var gd = document.getElementById('b0a6e7b9-032b-465d-84c4-e2e3d9b3eb5a');\n",
              "var x = new MutationObserver(function (mutations, observer) {{\n",
              "        var display = window.getComputedStyle(gd).display;\n",
              "        if (!display || display === 'none') {{\n",
              "            console.log([gd, 'removed!']);\n",
              "            Plotly.purge(gd);\n",
              "            observer.disconnect();\n",
              "        }}\n",
              "}});\n",
              "\n",
              "// Listen for the removal of the full notebook cells\n",
              "var notebookContainer = gd.closest('#notebook-container');\n",
              "if (notebookContainer) {{\n",
              "    x.observe(notebookContainer, {childList: true});\n",
              "}}\n",
              "\n",
              "// Listen for the clearing of the current output cell\n",
              "var outputEl = gd.closest('.output');\n",
              "if (outputEl) {{\n",
              "    x.observe(outputEl, {childList: true});\n",
              "}}\n",
              "\n",
              "                        })                };                            </script>        </div>\n",
              "</body>\n",
              "</html>"
            ]
          },
          "metadata": {},
          "output_type": "display_data"
        }
      ],
      "source": [
        "df = olympics_data[olympics_data[\"Sport\"] == \"Swimming\"].copy()\n",
        "df[\"Medal\"] = df[\"Medal\"].fillna(\"No Medal\")\n",
        "\n",
        "medal_counts = df[df[\"Medal\"] != \"No Medal\"].groupby([\"Name\", \"Medal\"]).size().reset_index(name=\"Count\")\n",
        "\n",
        "top_athletes = medal_counts.groupby(\"Name\")[\"Count\"].sum().nlargest(10)\n",
        "medal_counts = medal_counts[medal_counts[\"Name\"].isin(top_athletes.index)]\n",
        "medal_colors = {\"Gold\": \"#FFD700\", \"Silver\": \"#C0C0C0\", \"Bronze\": \"#CD7F32\"}\n",
        "\n",
        "ordered_athletes = top_athletes.index[::-1]\n",
        "\n",
        "# Stacked bar chart\n",
        "fig = px.bar(\n",
        "    medal_counts,\n",
        "    x=\"Count\",\n",
        "    y=\"Name\",\n",
        "    color=\"Medal\",\n",
        "    orientation=\"h\",\n",
        "    title=\"Olympic Hall of Fame – Who Dominates the Pool?\",\n",
        "    labels={\"Count\": \"Total Medals\", \"Name\": \"Athletes\"},\n",
        "    color_discrete_map=medal_colors,\n",
        "    category_orders={\"Name\": ordered_athletes}\n",
        ")\n",
        "\n",
        "fig.update_layout(\n",
        "    template=\"plotly_white\",\n",
        "    xaxis_title=\"Total Medals\",\n",
        "    yaxis_title=\"\",\n",
        "    showlegend=True\n",
        ")\n",
        "\n",
        "fig.show()"
      ]
    },
    {
      "cell_type": "markdown",
      "id": "uVxAyviZi7Xz",
      "metadata": {
        "id": "uVxAyviZi7Xz"
      },
      "source": [
        "# Pays"
      ]
    },
    {
      "cell_type": "code",
      "execution_count": null,
      "id": "mzsm_84M08u6",
      "metadata": {
        "colab": {
          "base_uri": "https://localhost:8080/",
          "height": 417
        },
        "id": "mzsm_84M08u6",
        "outputId": "2cc0c018-e285-4143-88a2-538351e475bf"
      },
      "outputs": [
        {
          "data": {
            "application/vnd.plotly.v1+json": {
              "config": {
                "plotlyServerURL": "https://plot.ly"
              },
              "data": [
                {
                  "colorscale": [
                    [
                      0,
                      "#00ECC2"
                    ],
                    [
                      0.25,
                      "#0078FF"
                    ],
                    [
                      0.5,
                      "#cbe58e"
                    ],
                    [
                      0.75,
                      "#FF4359"
                    ],
                    [
                      1,
                      "rgba(170, 170, 170, 0.3)"
                    ]
                  ],
                  "customdata": [
                    [
                      "USA",
                      "USA",
                      "USA",
                      "USA",
                      "AUS",
                      "GER",
                      "Other",
                      "Other",
                      "Other",
                      "Other"
                    ],
                    [
                      "USA",
                      "USA",
                      "USA",
                      "USA",
                      "AUS",
                      "GER",
                      "Other",
                      "Other",
                      "Other",
                      "Other"
                    ],
                    [
                      "USA",
                      "USA",
                      "USA",
                      "USA",
                      "AUS",
                      "GER",
                      "Other",
                      "Other",
                      "Other",
                      "Other"
                    ],
                    [
                      "USA",
                      "USA",
                      "USA",
                      "USA",
                      "AUS",
                      "GER",
                      "Other",
                      "Other",
                      "Other",
                      "Other"
                    ],
                    [
                      "USA",
                      "USA",
                      "USA",
                      "USA",
                      "AUS",
                      "CAN",
                      "Other",
                      "Other",
                      "Other",
                      "Other"
                    ],
                    [
                      "USA",
                      "USA",
                      "USA",
                      "AUS",
                      "AUS",
                      "CAN",
                      "Other",
                      "Other",
                      "Other",
                      "Other"
                    ],
                    [
                      "USA",
                      "USA",
                      "USA",
                      "AUS",
                      "AUS",
                      "CAN",
                      "Other",
                      "Other",
                      "Other",
                      "Other"
                    ],
                    [
                      "USA",
                      "USA",
                      "USA",
                      "AUS",
                      "AUS",
                      "Other",
                      "Other",
                      "Other",
                      "Other",
                      "Other"
                    ],
                    [
                      "USA",
                      "USA",
                      "USA",
                      "AUS",
                      "AUS",
                      "Other",
                      "Other",
                      "Other",
                      "Other",
                      "Other"
                    ],
                    [
                      "USA",
                      "USA",
                      "USA",
                      "AUS",
                      "GER",
                      "Other",
                      "Other",
                      "Other",
                      "Other",
                      "Other"
                    ]
                  ],
                  "hovertemplate": "%{customdata}<extra></extra>",
                  "showscale": false,
                  "type": "heatmap",
                  "x": [
                    0,
                    1,
                    2,
                    3,
                    4,
                    5,
                    6,
                    7,
                    8,
                    9
                  ],
                  "xgap": 3,
                  "y": [
                    0,
                    1,
                    2,
                    3,
                    4,
                    5,
                    6,
                    7,
                    8,
                    9
                  ],
                  "ygap": 3,
                  "z": [
                    [
                      1,
                      1,
                      1,
                      1,
                      2,
                      3,
                      5,
                      5,
                      5,
                      5
                    ],
                    [
                      1,
                      1,
                      1,
                      1,
                      2,
                      3,
                      5,
                      5,
                      5,
                      5
                    ],
                    [
                      1,
                      1,
                      1,
                      1,
                      2,
                      3,
                      5,
                      5,
                      5,
                      5
                    ],
                    [
                      1,
                      1,
                      1,
                      1,
                      2,
                      3,
                      5,
                      5,
                      5,
                      5
                    ],
                    [
                      1,
                      1,
                      1,
                      1,
                      2,
                      4,
                      5,
                      5,
                      5,
                      5
                    ],
                    [
                      1,
                      1,
                      1,
                      2,
                      2,
                      4,
                      5,
                      5,
                      5,
                      5
                    ],
                    [
                      1,
                      1,
                      1,
                      2,
                      2,
                      4,
                      5,
                      5,
                      5,
                      5
                    ],
                    [
                      1,
                      1,
                      1,
                      2,
                      2,
                      5,
                      5,
                      5,
                      5,
                      5
                    ],
                    [
                      1,
                      1,
                      1,
                      2,
                      2,
                      5,
                      5,
                      5,
                      5,
                      5
                    ],
                    [
                      1,
                      1,
                      1,
                      2,
                      3,
                      5,
                      5,
                      5,
                      5,
                      5
                    ]
                  ]
                },
                {
                  "marker": {
                    "color": "#00ECC2",
                    "size": 10,
                    "symbol": "circle"
                  },
                  "mode": "markers",
                  "name": "USA",
                  "type": "scatter",
                  "x": [
                    null
                  ],
                  "y": [
                    null
                  ]
                },
                {
                  "marker": {
                    "color": "#0078FF",
                    "size": 10,
                    "symbol": "circle"
                  },
                  "mode": "markers",
                  "name": "AUS",
                  "type": "scatter",
                  "x": [
                    null
                  ],
                  "y": [
                    null
                  ]
                },
                {
                  "marker": {
                    "color": "#cbe58e",
                    "size": 10,
                    "symbol": "circle"
                  },
                  "mode": "markers",
                  "name": "GER",
                  "type": "scatter",
                  "x": [
                    null
                  ],
                  "y": [
                    null
                  ]
                },
                {
                  "marker": {
                    "color": "#FF4359",
                    "size": 10,
                    "symbol": "circle"
                  },
                  "mode": "markers",
                  "name": "CAN",
                  "type": "scatter",
                  "x": [
                    null
                  ],
                  "y": [
                    null
                  ]
                },
                {
                  "marker": {
                    "color": "rgba(170, 170, 170, 0.3)",
                    "size": 10,
                    "symbol": "circle"
                  },
                  "mode": "markers",
                  "name": "Other",
                  "type": "scatter",
                  "x": [
                    null
                  ],
                  "y": [
                    null
                  ]
                }
              ],
              "layout": {
                "height": 400,
                "paper_bgcolor": "rgba(0,0,0,0)",
                "plot_bgcolor": "rgba(0,0,0,0)",
                "template": {
                  "data": {
                    "bar": [
                      {
                        "error_x": {
                          "color": "#2a3f5f"
                        },
                        "error_y": {
                          "color": "#2a3f5f"
                        },
                        "marker": {
                          "line": {
                            "color": "#E5ECF6",
                            "width": 0.5
                          },
                          "pattern": {
                            "fillmode": "overlay",
                            "size": 10,
                            "solidity": 0.2
                          }
                        },
                        "type": "bar"
                      }
                    ],
                    "barpolar": [
                      {
                        "marker": {
                          "line": {
                            "color": "#E5ECF6",
                            "width": 0.5
                          },
                          "pattern": {
                            "fillmode": "overlay",
                            "size": 10,
                            "solidity": 0.2
                          }
                        },
                        "type": "barpolar"
                      }
                    ],
                    "carpet": [
                      {
                        "aaxis": {
                          "endlinecolor": "#2a3f5f",
                          "gridcolor": "white",
                          "linecolor": "white",
                          "minorgridcolor": "white",
                          "startlinecolor": "#2a3f5f"
                        },
                        "baxis": {
                          "endlinecolor": "#2a3f5f",
                          "gridcolor": "white",
                          "linecolor": "white",
                          "minorgridcolor": "white",
                          "startlinecolor": "#2a3f5f"
                        },
                        "type": "carpet"
                      }
                    ],
                    "choropleth": [
                      {
                        "colorbar": {
                          "outlinewidth": 0,
                          "ticks": ""
                        },
                        "type": "choropleth"
                      }
                    ],
                    "contour": [
                      {
                        "colorbar": {
                          "outlinewidth": 0,
                          "ticks": ""
                        },
                        "colorscale": [
                          [
                            0,
                            "#0d0887"
                          ],
                          [
                            0.1111111111111111,
                            "#46039f"
                          ],
                          [
                            0.2222222222222222,
                            "#7201a8"
                          ],
                          [
                            0.3333333333333333,
                            "#9c179e"
                          ],
                          [
                            0.4444444444444444,
                            "#bd3786"
                          ],
                          [
                            0.5555555555555556,
                            "#d8576b"
                          ],
                          [
                            0.6666666666666666,
                            "#ed7953"
                          ],
                          [
                            0.7777777777777778,
                            "#fb9f3a"
                          ],
                          [
                            0.8888888888888888,
                            "#fdca26"
                          ],
                          [
                            1,
                            "#f0f921"
                          ]
                        ],
                        "type": "contour"
                      }
                    ],
                    "contourcarpet": [
                      {
                        "colorbar": {
                          "outlinewidth": 0,
                          "ticks": ""
                        },
                        "type": "contourcarpet"
                      }
                    ],
                    "heatmap": [
                      {
                        "colorbar": {
                          "outlinewidth": 0,
                          "ticks": ""
                        },
                        "colorscale": [
                          [
                            0,
                            "#0d0887"
                          ],
                          [
                            0.1111111111111111,
                            "#46039f"
                          ],
                          [
                            0.2222222222222222,
                            "#7201a8"
                          ],
                          [
                            0.3333333333333333,
                            "#9c179e"
                          ],
                          [
                            0.4444444444444444,
                            "#bd3786"
                          ],
                          [
                            0.5555555555555556,
                            "#d8576b"
                          ],
                          [
                            0.6666666666666666,
                            "#ed7953"
                          ],
                          [
                            0.7777777777777778,
                            "#fb9f3a"
                          ],
                          [
                            0.8888888888888888,
                            "#fdca26"
                          ],
                          [
                            1,
                            "#f0f921"
                          ]
                        ],
                        "type": "heatmap"
                      }
                    ],
                    "heatmapgl": [
                      {
                        "colorbar": {
                          "outlinewidth": 0,
                          "ticks": ""
                        },
                        "colorscale": [
                          [
                            0,
                            "#0d0887"
                          ],
                          [
                            0.1111111111111111,
                            "#46039f"
                          ],
                          [
                            0.2222222222222222,
                            "#7201a8"
                          ],
                          [
                            0.3333333333333333,
                            "#9c179e"
                          ],
                          [
                            0.4444444444444444,
                            "#bd3786"
                          ],
                          [
                            0.5555555555555556,
                            "#d8576b"
                          ],
                          [
                            0.6666666666666666,
                            "#ed7953"
                          ],
                          [
                            0.7777777777777778,
                            "#fb9f3a"
                          ],
                          [
                            0.8888888888888888,
                            "#fdca26"
                          ],
                          [
                            1,
                            "#f0f921"
                          ]
                        ],
                        "type": "heatmapgl"
                      }
                    ],
                    "histogram": [
                      {
                        "marker": {
                          "pattern": {
                            "fillmode": "overlay",
                            "size": 10,
                            "solidity": 0.2
                          }
                        },
                        "type": "histogram"
                      }
                    ],
                    "histogram2d": [
                      {
                        "colorbar": {
                          "outlinewidth": 0,
                          "ticks": ""
                        },
                        "colorscale": [
                          [
                            0,
                            "#0d0887"
                          ],
                          [
                            0.1111111111111111,
                            "#46039f"
                          ],
                          [
                            0.2222222222222222,
                            "#7201a8"
                          ],
                          [
                            0.3333333333333333,
                            "#9c179e"
                          ],
                          [
                            0.4444444444444444,
                            "#bd3786"
                          ],
                          [
                            0.5555555555555556,
                            "#d8576b"
                          ],
                          [
                            0.6666666666666666,
                            "#ed7953"
                          ],
                          [
                            0.7777777777777778,
                            "#fb9f3a"
                          ],
                          [
                            0.8888888888888888,
                            "#fdca26"
                          ],
                          [
                            1,
                            "#f0f921"
                          ]
                        ],
                        "type": "histogram2d"
                      }
                    ],
                    "histogram2dcontour": [
                      {
                        "colorbar": {
                          "outlinewidth": 0,
                          "ticks": ""
                        },
                        "colorscale": [
                          [
                            0,
                            "#0d0887"
                          ],
                          [
                            0.1111111111111111,
                            "#46039f"
                          ],
                          [
                            0.2222222222222222,
                            "#7201a8"
                          ],
                          [
                            0.3333333333333333,
                            "#9c179e"
                          ],
                          [
                            0.4444444444444444,
                            "#bd3786"
                          ],
                          [
                            0.5555555555555556,
                            "#d8576b"
                          ],
                          [
                            0.6666666666666666,
                            "#ed7953"
                          ],
                          [
                            0.7777777777777778,
                            "#fb9f3a"
                          ],
                          [
                            0.8888888888888888,
                            "#fdca26"
                          ],
                          [
                            1,
                            "#f0f921"
                          ]
                        ],
                        "type": "histogram2dcontour"
                      }
                    ],
                    "mesh3d": [
                      {
                        "colorbar": {
                          "outlinewidth": 0,
                          "ticks": ""
                        },
                        "type": "mesh3d"
                      }
                    ],
                    "parcoords": [
                      {
                        "line": {
                          "colorbar": {
                            "outlinewidth": 0,
                            "ticks": ""
                          }
                        },
                        "type": "parcoords"
                      }
                    ],
                    "pie": [
                      {
                        "automargin": true,
                        "type": "pie"
                      }
                    ],
                    "scatter": [
                      {
                        "fillpattern": {
                          "fillmode": "overlay",
                          "size": 10,
                          "solidity": 0.2
                        },
                        "type": "scatter"
                      }
                    ],
                    "scatter3d": [
                      {
                        "line": {
                          "colorbar": {
                            "outlinewidth": 0,
                            "ticks": ""
                          }
                        },
                        "marker": {
                          "colorbar": {
                            "outlinewidth": 0,
                            "ticks": ""
                          }
                        },
                        "type": "scatter3d"
                      }
                    ],
                    "scattercarpet": [
                      {
                        "marker": {
                          "colorbar": {
                            "outlinewidth": 0,
                            "ticks": ""
                          }
                        },
                        "type": "scattercarpet"
                      }
                    ],
                    "scattergeo": [
                      {
                        "marker": {
                          "colorbar": {
                            "outlinewidth": 0,
                            "ticks": ""
                          }
                        },
                        "type": "scattergeo"
                      }
                    ],
                    "scattergl": [
                      {
                        "marker": {
                          "colorbar": {
                            "outlinewidth": 0,
                            "ticks": ""
                          }
                        },
                        "type": "scattergl"
                      }
                    ],
                    "scattermapbox": [
                      {
                        "marker": {
                          "colorbar": {
                            "outlinewidth": 0,
                            "ticks": ""
                          }
                        },
                        "type": "scattermapbox"
                      }
                    ],
                    "scatterpolar": [
                      {
                        "marker": {
                          "colorbar": {
                            "outlinewidth": 0,
                            "ticks": ""
                          }
                        },
                        "type": "scatterpolar"
                      }
                    ],
                    "scatterpolargl": [
                      {
                        "marker": {
                          "colorbar": {
                            "outlinewidth": 0,
                            "ticks": ""
                          }
                        },
                        "type": "scatterpolargl"
                      }
                    ],
                    "scatterternary": [
                      {
                        "marker": {
                          "colorbar": {
                            "outlinewidth": 0,
                            "ticks": ""
                          }
                        },
                        "type": "scatterternary"
                      }
                    ],
                    "surface": [
                      {
                        "colorbar": {
                          "outlinewidth": 0,
                          "ticks": ""
                        },
                        "colorscale": [
                          [
                            0,
                            "#0d0887"
                          ],
                          [
                            0.1111111111111111,
                            "#46039f"
                          ],
                          [
                            0.2222222222222222,
                            "#7201a8"
                          ],
                          [
                            0.3333333333333333,
                            "#9c179e"
                          ],
                          [
                            0.4444444444444444,
                            "#bd3786"
                          ],
                          [
                            0.5555555555555556,
                            "#d8576b"
                          ],
                          [
                            0.6666666666666666,
                            "#ed7953"
                          ],
                          [
                            0.7777777777777778,
                            "#fb9f3a"
                          ],
                          [
                            0.8888888888888888,
                            "#fdca26"
                          ],
                          [
                            1,
                            "#f0f921"
                          ]
                        ],
                        "type": "surface"
                      }
                    ],
                    "table": [
                      {
                        "cells": {
                          "fill": {
                            "color": "#EBF0F8"
                          },
                          "line": {
                            "color": "white"
                          }
                        },
                        "header": {
                          "fill": {
                            "color": "#C8D4E3"
                          },
                          "line": {
                            "color": "white"
                          }
                        },
                        "type": "table"
                      }
                    ]
                  },
                  "layout": {
                    "annotationdefaults": {
                      "arrowcolor": "#2a3f5f",
                      "arrowhead": 0,
                      "arrowwidth": 1
                    },
                    "autotypenumbers": "strict",
                    "coloraxis": {
                      "colorbar": {
                        "outlinewidth": 0,
                        "ticks": ""
                      }
                    },
                    "colorscale": {
                      "diverging": [
                        [
                          0,
                          "#8e0152"
                        ],
                        [
                          0.1,
                          "#c51b7d"
                        ],
                        [
                          0.2,
                          "#de77ae"
                        ],
                        [
                          0.3,
                          "#f1b6da"
                        ],
                        [
                          0.4,
                          "#fde0ef"
                        ],
                        [
                          0.5,
                          "#f7f7f7"
                        ],
                        [
                          0.6,
                          "#e6f5d0"
                        ],
                        [
                          0.7,
                          "#b8e186"
                        ],
                        [
                          0.8,
                          "#7fbc41"
                        ],
                        [
                          0.9,
                          "#4d9221"
                        ],
                        [
                          1,
                          "#276419"
                        ]
                      ],
                      "sequential": [
                        [
                          0,
                          "#0d0887"
                        ],
                        [
                          0.1111111111111111,
                          "#46039f"
                        ],
                        [
                          0.2222222222222222,
                          "#7201a8"
                        ],
                        [
                          0.3333333333333333,
                          "#9c179e"
                        ],
                        [
                          0.4444444444444444,
                          "#bd3786"
                        ],
                        [
                          0.5555555555555556,
                          "#d8576b"
                        ],
                        [
                          0.6666666666666666,
                          "#ed7953"
                        ],
                        [
                          0.7777777777777778,
                          "#fb9f3a"
                        ],
                        [
                          0.8888888888888888,
                          "#fdca26"
                        ],
                        [
                          1,
                          "#f0f921"
                        ]
                      ],
                      "sequentialminus": [
                        [
                          0,
                          "#0d0887"
                        ],
                        [
                          0.1111111111111111,
                          "#46039f"
                        ],
                        [
                          0.2222222222222222,
                          "#7201a8"
                        ],
                        [
                          0.3333333333333333,
                          "#9c179e"
                        ],
                        [
                          0.4444444444444444,
                          "#bd3786"
                        ],
                        [
                          0.5555555555555556,
                          "#d8576b"
                        ],
                        [
                          0.6666666666666666,
                          "#ed7953"
                        ],
                        [
                          0.7777777777777778,
                          "#fb9f3a"
                        ],
                        [
                          0.8888888888888888,
                          "#fdca26"
                        ],
                        [
                          1,
                          "#f0f921"
                        ]
                      ]
                    },
                    "colorway": [
                      "#636efa",
                      "#EF553B",
                      "#00cc96",
                      "#ab63fa",
                      "#FFA15A",
                      "#19d3f3",
                      "#FF6692",
                      "#B6E880",
                      "#FF97FF",
                      "#FECB52"
                    ],
                    "font": {
                      "color": "#2a3f5f"
                    },
                    "geo": {
                      "bgcolor": "white",
                      "lakecolor": "white",
                      "landcolor": "#E5ECF6",
                      "showlakes": true,
                      "showland": true,
                      "subunitcolor": "white"
                    },
                    "hoverlabel": {
                      "align": "left"
                    },
                    "hovermode": "closest",
                    "mapbox": {
                      "style": "light"
                    },
                    "paper_bgcolor": "white",
                    "plot_bgcolor": "#E5ECF6",
                    "polar": {
                      "angularaxis": {
                        "gridcolor": "white",
                        "linecolor": "white",
                        "ticks": ""
                      },
                      "bgcolor": "#E5ECF6",
                      "radialaxis": {
                        "gridcolor": "white",
                        "linecolor": "white",
                        "ticks": ""
                      }
                    },
                    "scene": {
                      "xaxis": {
                        "backgroundcolor": "#E5ECF6",
                        "gridcolor": "white",
                        "gridwidth": 2,
                        "linecolor": "white",
                        "showbackground": true,
                        "ticks": "",
                        "zerolinecolor": "white"
                      },
                      "yaxis": {
                        "backgroundcolor": "#E5ECF6",
                        "gridcolor": "white",
                        "gridwidth": 2,
                        "linecolor": "white",
                        "showbackground": true,
                        "ticks": "",
                        "zerolinecolor": "white"
                      },
                      "zaxis": {
                        "backgroundcolor": "#E5ECF6",
                        "gridcolor": "white",
                        "gridwidth": 2,
                        "linecolor": "white",
                        "showbackground": true,
                        "ticks": "",
                        "zerolinecolor": "white"
                      }
                    },
                    "shapedefaults": {
                      "line": {
                        "color": "#2a3f5f"
                      }
                    },
                    "ternary": {
                      "aaxis": {
                        "gridcolor": "white",
                        "linecolor": "white",
                        "ticks": ""
                      },
                      "baxis": {
                        "gridcolor": "white",
                        "linecolor": "white",
                        "ticks": ""
                      },
                      "bgcolor": "#E5ECF6",
                      "caxis": {
                        "gridcolor": "white",
                        "linecolor": "white",
                        "ticks": ""
                      }
                    },
                    "title": {
                      "x": 0.05
                    },
                    "xaxis": {
                      "automargin": true,
                      "gridcolor": "white",
                      "linecolor": "white",
                      "ticks": "",
                      "title": {
                        "standoff": 15
                      },
                      "zerolinecolor": "white",
                      "zerolinewidth": 2
                    },
                    "yaxis": {
                      "automargin": true,
                      "gridcolor": "white",
                      "linecolor": "white",
                      "ticks": "",
                      "title": {
                        "standoff": 15
                      },
                      "zerolinecolor": "white",
                      "zerolinewidth": 2
                    }
                  }
                },
                "title": {
                  "text": "Swimming Medals – All Editions"
                },
                "width": 400,
                "xaxis": {
                  "showgrid": false,
                  "showticklabels": false,
                  "zeroline": false
                },
                "yaxis": {
                  "showgrid": false,
                  "showticklabels": false,
                  "zeroline": false
                }
              }
            }
          },
          "metadata": {},
          "output_type": "display_data"
        }
      ],
      "source": [
        "df_medals = olympics_data[olympics_data[\"Sport\"] == \"Swimming\"]\n",
        "df_medals = df_medals[df_medals[\"Medal\"].notna()]\n",
        "total_medal_counts = df_medals[\"NOC\"].value_counts()\n",
        "\n",
        "# Select Top 3 countries + Canada (athlete's country) + \"Other\"\n",
        "top_countries = total_medal_counts.head(3).index.tolist() + ['CAN']\n",
        "\n",
        "df_grouped = df_medals[\"NOC\"].value_counts().reset_index()\n",
        "df_grouped.columns = [\"Country\", \"Medals\"]\n",
        "df_grouped[\"Country\"] = df_grouped[\"Country\"].apply(lambda x: x if x in top_countries else \"Other\")\n",
        "\n",
        "df_grouped = df_grouped.groupby(\"Country\")[\"Medals\"].sum().reset_index()\n",
        "\n",
        "df_grouped = df_grouped.sort_values(by=\"Medals\", ascending=False)\n",
        "if \"Other\" in df_grouped[\"Country\"].values:\n",
        "    df_grouped = pd.concat([\n",
        "        df_grouped[df_grouped[\"Country\"] != \"Other\"],\n",
        "        df_grouped[df_grouped[\"Country\"] == \"Other\"]\n",
        "    ])\n",
        "\n",
        "df_grouped[\"Normalized\"] = (df_grouped[\"Medals\"] / df_grouped[\"Medals\"].sum() * 100).round().astype(int)\n",
        "\n",
        "while df_grouped[\"Normalized\"].sum() > 100:\n",
        "    df_grouped.loc[df_grouped[\"Normalized\"].idxmax(), \"Normalized\"] -= 1\n",
        "while df_grouped[\"Normalized\"].sum() < 100:\n",
        "    df_grouped.loc[df_grouped[\"Normalized\"].idxmax(), \"Normalized\"] += 1\n",
        "\n",
        "country_mapping = {country: i + 1 for i, country in enumerate(df_grouped[\"Country\"])}\n",
        "\n",
        "flat_list = []\n",
        "for team, count in zip(df_grouped[\"Country\"], df_grouped[\"Normalized\"]):\n",
        "    flat_list.extend([country_mapping[team]] * count)\n",
        "\n",
        "waffle_array = np.array(flat_list).reshape(10, 10, order=\"F\")\n",
        "\n",
        "label_map = {v: k for k, v in country_mapping.items()}\n",
        "labels = np.vectorize(label_map.get)(waffle_array)\n",
        "\n",
        "color_palette = [\"#00ECC2\", \"#0078FF\", \"#cbe58e\", \"#FF4359\"]\n",
        "country_colors = {country: color_palette[i] for i, country in enumerate(top_countries)}\n",
        "country_colors[\"Other\"] = \"rgba(170, 170, 170, 0.3)\"  # gray for others\n",
        "\n",
        "# Waffle chart\n",
        "fig = go.Figure()\n",
        "\n",
        "fig.add_trace(\n",
        "    go.Heatmap(\n",
        "        x=np.arange(10), y=np.arange(10),\n",
        "        z=waffle_array, customdata=labels,\n",
        "        xgap=3, ygap=3,\n",
        "        colorscale=[(i / 4, color_palette[i]) for i in range(4)] + [(1.0, \"rgba(170, 170, 170, 0.3)\")],\n",
        "        showscale=False,\n",
        "        hovertemplate=\"%{customdata}<extra></extra>\"\n",
        "    )\n",
        ")\n",
        "\n",
        "for team, color in country_colors.items():\n",
        "    fig.add_trace(\n",
        "        go.Scatter(\n",
        "            x=[None], y=[None], mode='markers',\n",
        "            marker=dict(color=color, symbol='circle', size=10),\n",
        "            name=team\n",
        "        )\n",
        "    )\n",
        "\n",
        "fig.update_layout(\n",
        "    title=\"Swimming Medals – All Editions\",\n",
        "    width=400, height=400,\n",
        "    plot_bgcolor='rgba(0,0,0,0)',\n",
        "    paper_bgcolor='rgba(0,0,0,0)',\n",
        ")\n",
        "\n",
        "fig.update_xaxes(showgrid=False, zeroline=False, showticklabels=False)\n",
        "fig.update_yaxes(showgrid=False, zeroline=False, showticklabels=False)\n",
        "\n",
        "fig.show()"
      ]
    },
    {
      "cell_type": "code",
      "execution_count": null,
      "id": "OqLiIbaytEoC",
      "metadata": {
        "colab": {
          "base_uri": "https://localhost:8080/",
          "height": 472
        },
        "id": "OqLiIbaytEoC",
        "outputId": "1ca19b21-fd48-4ce3-8dd6-1f5eafdcf3c6"
      },
      "outputs": [
        {
          "name": "stdout",
          "output_type": "stream",
          "text": [
            "['USA', 'AUS', 'GER', 'CAN']\n",
            "{'USA': '#00ECC2', 'AUS': '#0078FF', 'GER': '#cbe58e', 'CAN': '#FF4359'}\n"
          ]
        },
        {
          "data": {
            "application/vnd.plotly.v1+json": {
              "config": {
                "plotlyServerURL": "https://plot.ly"
              },
              "data": [
                {
                  "colorscale": [
                    [
                      0,
                      "#00ECC2"
                    ],
                    [
                      0.25,
                      "#0078FF"
                    ],
                    [
                      0.5,
                      "#cbe58e"
                    ],
                    [
                      0.75,
                      "#FF4359"
                    ],
                    [
                      1,
                      "rgba(170, 170, 170, 0.3)"
                    ]
                  ],
                  "customdata": [
                    [
                      "USA",
                      "USA",
                      "USA",
                      "GER",
                      "AUS",
                      "Other",
                      "Other",
                      "Other",
                      "Other",
                      "Other"
                    ],
                    [
                      "USA",
                      "USA",
                      "USA",
                      "GER",
                      "AUS",
                      "Other",
                      "Other",
                      "Other",
                      "Other",
                      "Other"
                    ],
                    [
                      "USA",
                      "USA",
                      "USA",
                      "GER",
                      "AUS",
                      "Other",
                      "Other",
                      "Other",
                      "Other",
                      "Other"
                    ],
                    [
                      "USA",
                      "USA",
                      "USA",
                      "GER",
                      "AUS",
                      "Other",
                      "Other",
                      "Other",
                      "Other",
                      "Other"
                    ],
                    [
                      "USA",
                      "USA",
                      "USA",
                      "GER",
                      "AUS",
                      "Other",
                      "Other",
                      "Other",
                      "Other",
                      "Other"
                    ],
                    [
                      "USA",
                      "USA",
                      "USA",
                      "GER",
                      "CAN",
                      "Other",
                      "Other",
                      "Other",
                      "Other",
                      "Other"
                    ],
                    [
                      "USA",
                      "USA",
                      "GER",
                      "GER",
                      "CAN",
                      "Other",
                      "Other",
                      "Other",
                      "Other",
                      "Other"
                    ],
                    [
                      "USA",
                      "USA",
                      "GER",
                      "GER",
                      "Other",
                      "Other",
                      "Other",
                      "Other",
                      "Other",
                      "Other"
                    ],
                    [
                      "USA",
                      "USA",
                      "GER",
                      "GER",
                      "Other",
                      "Other",
                      "Other",
                      "Other",
                      "Other",
                      "Other"
                    ],
                    [
                      "USA",
                      "USA",
                      "GER",
                      "AUS",
                      "Other",
                      "Other",
                      "Other",
                      "Other",
                      "Other",
                      "Other"
                    ]
                  ],
                  "hovertemplate": "%{customdata}<extra></extra>",
                  "showscale": false,
                  "type": "heatmap",
                  "x": [
                    0,
                    1,
                    2,
                    3,
                    4,
                    5,
                    6,
                    7,
                    8,
                    9
                  ],
                  "xaxis": "x",
                  "xgap": 3,
                  "y": [
                    0,
                    1,
                    2,
                    3,
                    4,
                    5,
                    6,
                    7,
                    8,
                    9
                  ],
                  "yaxis": "y",
                  "ygap": 3,
                  "z": [
                    [
                      1,
                      1,
                      1,
                      2,
                      3,
                      5,
                      5,
                      5,
                      5,
                      5
                    ],
                    [
                      1,
                      1,
                      1,
                      2,
                      3,
                      5,
                      5,
                      5,
                      5,
                      5
                    ],
                    [
                      1,
                      1,
                      1,
                      2,
                      3,
                      5,
                      5,
                      5,
                      5,
                      5
                    ],
                    [
                      1,
                      1,
                      1,
                      2,
                      3,
                      5,
                      5,
                      5,
                      5,
                      5
                    ],
                    [
                      1,
                      1,
                      1,
                      2,
                      3,
                      5,
                      5,
                      5,
                      5,
                      5
                    ],
                    [
                      1,
                      1,
                      1,
                      2,
                      4,
                      5,
                      5,
                      5,
                      5,
                      5
                    ],
                    [
                      1,
                      1,
                      2,
                      2,
                      4,
                      5,
                      5,
                      5,
                      5,
                      5
                    ],
                    [
                      1,
                      1,
                      2,
                      2,
                      5,
                      5,
                      5,
                      5,
                      5,
                      5
                    ],
                    [
                      1,
                      1,
                      2,
                      2,
                      5,
                      5,
                      5,
                      5,
                      5,
                      5
                    ],
                    [
                      1,
                      1,
                      2,
                      3,
                      5,
                      5,
                      5,
                      5,
                      5,
                      5
                    ]
                  ]
                },
                {
                  "colorscale": [
                    [
                      0,
                      "#00ECC2"
                    ],
                    [
                      0.25,
                      "#0078FF"
                    ],
                    [
                      0.5,
                      "#cbe58e"
                    ],
                    [
                      0.75,
                      "#FF4359"
                    ],
                    [
                      1,
                      "rgba(170, 170, 170, 0.3)"
                    ]
                  ],
                  "customdata": [
                    [
                      "USA",
                      "USA",
                      "USA",
                      "USA",
                      "AUS",
                      "Other",
                      "Other",
                      "Other",
                      "Other",
                      "Other"
                    ],
                    [
                      "USA",
                      "USA",
                      "USA",
                      "USA",
                      "AUS",
                      "Other",
                      "Other",
                      "Other",
                      "Other",
                      "Other"
                    ],
                    [
                      "USA",
                      "USA",
                      "USA",
                      "USA",
                      "AUS",
                      "Other",
                      "Other",
                      "Other",
                      "Other",
                      "Other"
                    ],
                    [
                      "USA",
                      "USA",
                      "USA",
                      "USA",
                      "GER",
                      "Other",
                      "Other",
                      "Other",
                      "Other",
                      "Other"
                    ],
                    [
                      "USA",
                      "USA",
                      "USA",
                      "USA",
                      "GER",
                      "Other",
                      "Other",
                      "Other",
                      "Other",
                      "Other"
                    ],
                    [
                      "USA",
                      "USA",
                      "USA",
                      "USA",
                      "GER",
                      "Other",
                      "Other",
                      "Other",
                      "Other",
                      "Other"
                    ],
                    [
                      "USA",
                      "USA",
                      "USA",
                      "USA",
                      "GER",
                      "Other",
                      "Other",
                      "Other",
                      "Other",
                      "Other"
                    ],
                    [
                      "USA",
                      "USA",
                      "USA",
                      "USA",
                      "CAN",
                      "Other",
                      "Other",
                      "Other",
                      "Other",
                      "Other"
                    ],
                    [
                      "USA",
                      "USA",
                      "USA",
                      "AUS",
                      "Other",
                      "Other",
                      "Other",
                      "Other",
                      "Other",
                      "Other"
                    ],
                    [
                      "USA",
                      "USA",
                      "USA",
                      "AUS",
                      "Other",
                      "Other",
                      "Other",
                      "Other",
                      "Other",
                      "Other"
                    ]
                  ],
                  "hovertemplate": "%{customdata}<extra></extra>",
                  "showscale": false,
                  "type": "heatmap",
                  "x": [
                    0,
                    1,
                    2,
                    3,
                    4,
                    5,
                    6,
                    7,
                    8,
                    9
                  ],
                  "xaxis": "x2",
                  "xgap": 3,
                  "y": [
                    0,
                    1,
                    2,
                    3,
                    4,
                    5,
                    6,
                    7,
                    8,
                    9
                  ],
                  "yaxis": "y2",
                  "ygap": 3,
                  "z": [
                    [
                      1,
                      1,
                      1,
                      1,
                      2,
                      5,
                      5,
                      5,
                      5,
                      5
                    ],
                    [
                      1,
                      1,
                      1,
                      1,
                      2,
                      5,
                      5,
                      5,
                      5,
                      5
                    ],
                    [
                      1,
                      1,
                      1,
                      1,
                      2,
                      5,
                      5,
                      5,
                      5,
                      5
                    ],
                    [
                      1,
                      1,
                      1,
                      1,
                      3,
                      5,
                      5,
                      5,
                      5,
                      5
                    ],
                    [
                      1,
                      1,
                      1,
                      1,
                      3,
                      5,
                      5,
                      5,
                      5,
                      5
                    ],
                    [
                      1,
                      1,
                      1,
                      1,
                      3,
                      5,
                      5,
                      5,
                      5,
                      5
                    ],
                    [
                      1,
                      1,
                      1,
                      1,
                      3,
                      5,
                      5,
                      5,
                      5,
                      5
                    ],
                    [
                      1,
                      1,
                      1,
                      1,
                      4,
                      5,
                      5,
                      5,
                      5,
                      5
                    ],
                    [
                      1,
                      1,
                      1,
                      2,
                      5,
                      5,
                      5,
                      5,
                      5,
                      5
                    ],
                    [
                      1,
                      1,
                      1,
                      2,
                      5,
                      5,
                      5,
                      5,
                      5,
                      5
                    ]
                  ]
                },
                {
                  "colorscale": [
                    [
                      0,
                      "#00ECC2"
                    ],
                    [
                      0.25,
                      "#0078FF"
                    ],
                    [
                      0.5,
                      "#cbe58e"
                    ],
                    [
                      0.75,
                      "#FF4359"
                    ],
                    [
                      1,
                      "rgba(170, 170, 170, 0.3)"
                    ]
                  ],
                  "customdata": [
                    [
                      "USA",
                      "USA",
                      "USA",
                      "USA",
                      "AUS",
                      "AUS",
                      "GER",
                      "Other",
                      "Other",
                      "Other"
                    ],
                    [
                      "USA",
                      "USA",
                      "USA",
                      "USA",
                      "AUS",
                      "AUS",
                      "Other",
                      "Other",
                      "Other",
                      "Other"
                    ],
                    [
                      "USA",
                      "USA",
                      "USA",
                      "USA",
                      "AUS",
                      "AUS",
                      "Other",
                      "Other",
                      "Other",
                      "Other"
                    ],
                    [
                      "USA",
                      "USA",
                      "USA",
                      "USA",
                      "AUS",
                      "CAN",
                      "Other",
                      "Other",
                      "Other",
                      "Other"
                    ],
                    [
                      "USA",
                      "USA",
                      "USA",
                      "USA",
                      "AUS",
                      "CAN",
                      "Other",
                      "Other",
                      "Other",
                      "Other"
                    ],
                    [
                      "USA",
                      "USA",
                      "USA",
                      "USA",
                      "AUS",
                      "CAN",
                      "Other",
                      "Other",
                      "Other",
                      "Other"
                    ],
                    [
                      "USA",
                      "USA",
                      "USA",
                      "USA",
                      "AUS",
                      "CAN",
                      "Other",
                      "Other",
                      "Other",
                      "Other"
                    ],
                    [
                      "USA",
                      "USA",
                      "USA",
                      "USA",
                      "AUS",
                      "CAN",
                      "Other",
                      "Other",
                      "Other",
                      "Other"
                    ],
                    [
                      "USA",
                      "USA",
                      "USA",
                      "USA",
                      "AUS",
                      "GER",
                      "Other",
                      "Other",
                      "Other",
                      "Other"
                    ],
                    [
                      "USA",
                      "USA",
                      "USA",
                      "AUS",
                      "AUS",
                      "GER",
                      "Other",
                      "Other",
                      "Other",
                      "Other"
                    ]
                  ],
                  "hovertemplate": "%{customdata}<extra></extra>",
                  "showscale": false,
                  "type": "heatmap",
                  "x": [
                    0,
                    1,
                    2,
                    3,
                    4,
                    5,
                    6,
                    7,
                    8,
                    9
                  ],
                  "xaxis": "x3",
                  "xgap": 3,
                  "y": [
                    0,
                    1,
                    2,
                    3,
                    4,
                    5,
                    6,
                    7,
                    8,
                    9
                  ],
                  "yaxis": "y3",
                  "ygap": 3,
                  "z": [
                    [
                      1,
                      1,
                      1,
                      1,
                      2,
                      2,
                      4,
                      5,
                      5,
                      5
                    ],
                    [
                      1,
                      1,
                      1,
                      1,
                      2,
                      2,
                      5,
                      5,
                      5,
                      5
                    ],
                    [
                      1,
                      1,
                      1,
                      1,
                      2,
                      2,
                      5,
                      5,
                      5,
                      5
                    ],
                    [
                      1,
                      1,
                      1,
                      1,
                      2,
                      3,
                      5,
                      5,
                      5,
                      5
                    ],
                    [
                      1,
                      1,
                      1,
                      1,
                      2,
                      3,
                      5,
                      5,
                      5,
                      5
                    ],
                    [
                      1,
                      1,
                      1,
                      1,
                      2,
                      3,
                      5,
                      5,
                      5,
                      5
                    ],
                    [
                      1,
                      1,
                      1,
                      1,
                      2,
                      3,
                      5,
                      5,
                      5,
                      5
                    ],
                    [
                      1,
                      1,
                      1,
                      1,
                      2,
                      3,
                      5,
                      5,
                      5,
                      5
                    ],
                    [
                      1,
                      1,
                      1,
                      1,
                      2,
                      4,
                      5,
                      5,
                      5,
                      5
                    ],
                    [
                      1,
                      1,
                      1,
                      2,
                      2,
                      4,
                      5,
                      5,
                      5,
                      5
                    ]
                  ]
                },
                {
                  "colorscale": [
                    [
                      0,
                      "#00ECC2"
                    ],
                    [
                      0.25,
                      "#0078FF"
                    ],
                    [
                      0.5,
                      "#cbe58e"
                    ],
                    [
                      0.75,
                      "#FF4359"
                    ],
                    [
                      1,
                      "rgba(170, 170, 170, 0.3)"
                    ]
                  ],
                  "customdata": [
                    [
                      "USA",
                      "USA",
                      "USA",
                      "USA",
                      "AUS",
                      "GER",
                      "Other",
                      "Other",
                      "Other",
                      "Other"
                    ],
                    [
                      "USA",
                      "USA",
                      "USA",
                      "USA",
                      "AUS",
                      "GER",
                      "Other",
                      "Other",
                      "Other",
                      "Other"
                    ],
                    [
                      "USA",
                      "USA",
                      "USA",
                      "USA",
                      "AUS",
                      "GER",
                      "Other",
                      "Other",
                      "Other",
                      "Other"
                    ],
                    [
                      "USA",
                      "USA",
                      "USA",
                      "AUS",
                      "AUS",
                      "GER",
                      "Other",
                      "Other",
                      "Other",
                      "Other"
                    ],
                    [
                      "USA",
                      "USA",
                      "USA",
                      "AUS",
                      "AUS",
                      "GER",
                      "Other",
                      "Other",
                      "Other",
                      "Other"
                    ],
                    [
                      "USA",
                      "USA",
                      "USA",
                      "AUS",
                      "AUS",
                      "GER",
                      "Other",
                      "Other",
                      "Other",
                      "Other"
                    ],
                    [
                      "USA",
                      "USA",
                      "USA",
                      "AUS",
                      "AUS",
                      "CAN",
                      "Other",
                      "Other",
                      "Other",
                      "Other"
                    ],
                    [
                      "USA",
                      "USA",
                      "USA",
                      "AUS",
                      "AUS",
                      "CAN",
                      "Other",
                      "Other",
                      "Other",
                      "Other"
                    ],
                    [
                      "USA",
                      "USA",
                      "USA",
                      "AUS",
                      "GER",
                      "Other",
                      "Other",
                      "Other",
                      "Other",
                      "Other"
                    ],
                    [
                      "USA",
                      "USA",
                      "USA",
                      "AUS",
                      "GER",
                      "Other",
                      "Other",
                      "Other",
                      "Other",
                      "Other"
                    ]
                  ],
                  "hovertemplate": "%{customdata}<extra></extra>",
                  "showscale": false,
                  "type": "heatmap",
                  "x": [
                    0,
                    1,
                    2,
                    3,
                    4,
                    5,
                    6,
                    7,
                    8,
                    9
                  ],
                  "xaxis": "x4",
                  "xgap": 3,
                  "y": [
                    0,
                    1,
                    2,
                    3,
                    4,
                    5,
                    6,
                    7,
                    8,
                    9
                  ],
                  "yaxis": "y4",
                  "ygap": 3,
                  "z": [
                    [
                      1,
                      1,
                      1,
                      1,
                      2,
                      3,
                      5,
                      5,
                      5,
                      5
                    ],
                    [
                      1,
                      1,
                      1,
                      1,
                      2,
                      3,
                      5,
                      5,
                      5,
                      5
                    ],
                    [
                      1,
                      1,
                      1,
                      1,
                      2,
                      3,
                      5,
                      5,
                      5,
                      5
                    ],
                    [
                      1,
                      1,
                      1,
                      2,
                      2,
                      3,
                      5,
                      5,
                      5,
                      5
                    ],
                    [
                      1,
                      1,
                      1,
                      2,
                      2,
                      3,
                      5,
                      5,
                      5,
                      5
                    ],
                    [
                      1,
                      1,
                      1,
                      2,
                      2,
                      3,
                      5,
                      5,
                      5,
                      5
                    ],
                    [
                      1,
                      1,
                      1,
                      2,
                      2,
                      4,
                      5,
                      5,
                      5,
                      5
                    ],
                    [
                      1,
                      1,
                      1,
                      2,
                      2,
                      4,
                      5,
                      5,
                      5,
                      5
                    ],
                    [
                      1,
                      1,
                      1,
                      2,
                      3,
                      5,
                      5,
                      5,
                      5,
                      5
                    ],
                    [
                      1,
                      1,
                      1,
                      2,
                      3,
                      5,
                      5,
                      5,
                      5,
                      5
                    ]
                  ]
                },
                {
                  "colorscale": [
                    [
                      0,
                      "#00ECC2"
                    ],
                    [
                      0.25,
                      "#0078FF"
                    ],
                    [
                      0.5,
                      "#cbe58e"
                    ],
                    [
                      0.75,
                      "#FF4359"
                    ],
                    [
                      1,
                      "rgba(170, 170, 170, 0.3)"
                    ]
                  ],
                  "customdata": [
                    [
                      "USA",
                      "USA",
                      "USA",
                      "USA",
                      "AUS",
                      "AUS",
                      "Other",
                      "Other",
                      "Other",
                      "Other"
                    ],
                    [
                      "USA",
                      "USA",
                      "USA",
                      "USA",
                      "AUS",
                      "AUS",
                      "Other",
                      "Other",
                      "Other",
                      "Other"
                    ],
                    [
                      "USA",
                      "USA",
                      "USA",
                      "USA",
                      "AUS",
                      "AUS",
                      "Other",
                      "Other",
                      "Other",
                      "Other"
                    ],
                    [
                      "USA",
                      "USA",
                      "USA",
                      "AUS",
                      "AUS",
                      "CAN",
                      "Other",
                      "Other",
                      "Other",
                      "Other"
                    ],
                    [
                      "USA",
                      "USA",
                      "USA",
                      "AUS",
                      "AUS",
                      "CAN",
                      "Other",
                      "Other",
                      "Other",
                      "Other"
                    ],
                    [
                      "USA",
                      "USA",
                      "USA",
                      "AUS",
                      "AUS",
                      "CAN",
                      "Other",
                      "Other",
                      "Other",
                      "Other"
                    ],
                    [
                      "USA",
                      "USA",
                      "USA",
                      "AUS",
                      "AUS",
                      "CAN",
                      "Other",
                      "Other",
                      "Other",
                      "Other"
                    ],
                    [
                      "USA",
                      "USA",
                      "USA",
                      "AUS",
                      "AUS",
                      "CAN",
                      "Other",
                      "Other",
                      "Other",
                      "Other"
                    ],
                    [
                      "USA",
                      "USA",
                      "USA",
                      "AUS",
                      "AUS",
                      "CAN",
                      "Other",
                      "Other",
                      "Other",
                      "Other"
                    ],
                    [
                      "USA",
                      "USA",
                      "USA",
                      "AUS",
                      "AUS",
                      "GER",
                      "Other",
                      "Other",
                      "Other",
                      "Other"
                    ]
                  ],
                  "hovertemplate": "%{customdata}<extra></extra>",
                  "showscale": false,
                  "type": "heatmap",
                  "x": [
                    0,
                    1,
                    2,
                    3,
                    4,
                    5,
                    6,
                    7,
                    8,
                    9
                  ],
                  "xaxis": "x5",
                  "xgap": 3,
                  "y": [
                    0,
                    1,
                    2,
                    3,
                    4,
                    5,
                    6,
                    7,
                    8,
                    9
                  ],
                  "yaxis": "y5",
                  "ygap": 3,
                  "z": [
                    [
                      1,
                      1,
                      1,
                      1,
                      2,
                      2,
                      5,
                      5,
                      5,
                      5
                    ],
                    [
                      1,
                      1,
                      1,
                      1,
                      2,
                      2,
                      5,
                      5,
                      5,
                      5
                    ],
                    [
                      1,
                      1,
                      1,
                      1,
                      2,
                      2,
                      5,
                      5,
                      5,
                      5
                    ],
                    [
                      1,
                      1,
                      1,
                      2,
                      2,
                      3,
                      5,
                      5,
                      5,
                      5
                    ],
                    [
                      1,
                      1,
                      1,
                      2,
                      2,
                      3,
                      5,
                      5,
                      5,
                      5
                    ],
                    [
                      1,
                      1,
                      1,
                      2,
                      2,
                      3,
                      5,
                      5,
                      5,
                      5
                    ],
                    [
                      1,
                      1,
                      1,
                      2,
                      2,
                      3,
                      5,
                      5,
                      5,
                      5
                    ],
                    [
                      1,
                      1,
                      1,
                      2,
                      2,
                      3,
                      5,
                      5,
                      5,
                      5
                    ],
                    [
                      1,
                      1,
                      1,
                      2,
                      2,
                      3,
                      5,
                      5,
                      5,
                      5
                    ],
                    [
                      1,
                      1,
                      1,
                      2,
                      2,
                      4,
                      5,
                      5,
                      5,
                      5
                    ]
                  ]
                },
                {
                  "marker": {
                    "color": "#00ECC2",
                    "size": 10,
                    "symbol": "circle"
                  },
                  "mode": "markers",
                  "name": "USA",
                  "type": "scatter",
                  "x": [
                    null
                  ],
                  "y": [
                    null
                  ]
                },
                {
                  "marker": {
                    "color": "#0078FF",
                    "size": 10,
                    "symbol": "circle"
                  },
                  "mode": "markers",
                  "name": "AUS",
                  "type": "scatter",
                  "x": [
                    null
                  ],
                  "y": [
                    null
                  ]
                },
                {
                  "marker": {
                    "color": "#cbe58e",
                    "size": 10,
                    "symbol": "circle"
                  },
                  "mode": "markers",
                  "name": "GER",
                  "type": "scatter",
                  "x": [
                    null
                  ],
                  "y": [
                    null
                  ]
                },
                {
                  "marker": {
                    "color": "#FF4359",
                    "size": 10,
                    "symbol": "circle"
                  },
                  "mode": "markers",
                  "name": "CAN",
                  "type": "scatter",
                  "x": [
                    null
                  ],
                  "y": [
                    null
                  ]
                },
                {
                  "marker": {
                    "color": "rgba(170, 170, 170, 0.3)",
                    "size": 10,
                    "symbol": "circle"
                  },
                  "mode": "markers",
                  "name": "Other",
                  "type": "scatter",
                  "x": [
                    null
                  ],
                  "y": [
                    null
                  ]
                }
              ],
              "layout": {
                "annotations": [
                  {
                    "font": {
                      "size": 16
                    },
                    "showarrow": false,
                    "text": "1896-1920",
                    "x": 0.08399999999999999,
                    "xanchor": "center",
                    "xref": "paper",
                    "y": 1,
                    "yanchor": "bottom",
                    "yref": "paper"
                  },
                  {
                    "font": {
                      "size": 16
                    },
                    "showarrow": false,
                    "text": "1924-1952",
                    "x": 0.292,
                    "xanchor": "center",
                    "xref": "paper",
                    "y": 1,
                    "yanchor": "bottom",
                    "yref": "paper"
                  },
                  {
                    "font": {
                      "size": 16
                    },
                    "showarrow": false,
                    "text": "1956-1984",
                    "x": 0.5,
                    "xanchor": "center",
                    "xref": "paper",
                    "y": 1,
                    "yanchor": "bottom",
                    "yref": "paper"
                  },
                  {
                    "font": {
                      "size": 16
                    },
                    "showarrow": false,
                    "text": "1988-2008",
                    "x": 0.708,
                    "xanchor": "center",
                    "xref": "paper",
                    "y": 1,
                    "yanchor": "bottom",
                    "yref": "paper"
                  },
                  {
                    "font": {
                      "size": 16
                    },
                    "showarrow": false,
                    "text": "2012-2020",
                    "x": 0.9159999999999999,
                    "xanchor": "center",
                    "xref": "paper",
                    "y": 1,
                    "yanchor": "bottom",
                    "yref": "paper"
                  }
                ],
                "height": 400,
                "paper_bgcolor": "rgba(0,0,0,0)",
                "plot_bgcolor": "rgba(0,0,0,0)",
                "template": {
                  "data": {
                    "bar": [
                      {
                        "error_x": {
                          "color": "#2a3f5f"
                        },
                        "error_y": {
                          "color": "#2a3f5f"
                        },
                        "marker": {
                          "line": {
                            "color": "#E5ECF6",
                            "width": 0.5
                          },
                          "pattern": {
                            "fillmode": "overlay",
                            "size": 10,
                            "solidity": 0.2
                          }
                        },
                        "type": "bar"
                      }
                    ],
                    "barpolar": [
                      {
                        "marker": {
                          "line": {
                            "color": "#E5ECF6",
                            "width": 0.5
                          },
                          "pattern": {
                            "fillmode": "overlay",
                            "size": 10,
                            "solidity": 0.2
                          }
                        },
                        "type": "barpolar"
                      }
                    ],
                    "carpet": [
                      {
                        "aaxis": {
                          "endlinecolor": "#2a3f5f",
                          "gridcolor": "white",
                          "linecolor": "white",
                          "minorgridcolor": "white",
                          "startlinecolor": "#2a3f5f"
                        },
                        "baxis": {
                          "endlinecolor": "#2a3f5f",
                          "gridcolor": "white",
                          "linecolor": "white",
                          "minorgridcolor": "white",
                          "startlinecolor": "#2a3f5f"
                        },
                        "type": "carpet"
                      }
                    ],
                    "choropleth": [
                      {
                        "colorbar": {
                          "outlinewidth": 0,
                          "ticks": ""
                        },
                        "type": "choropleth"
                      }
                    ],
                    "contour": [
                      {
                        "colorbar": {
                          "outlinewidth": 0,
                          "ticks": ""
                        },
                        "colorscale": [
                          [
                            0,
                            "#0d0887"
                          ],
                          [
                            0.1111111111111111,
                            "#46039f"
                          ],
                          [
                            0.2222222222222222,
                            "#7201a8"
                          ],
                          [
                            0.3333333333333333,
                            "#9c179e"
                          ],
                          [
                            0.4444444444444444,
                            "#bd3786"
                          ],
                          [
                            0.5555555555555556,
                            "#d8576b"
                          ],
                          [
                            0.6666666666666666,
                            "#ed7953"
                          ],
                          [
                            0.7777777777777778,
                            "#fb9f3a"
                          ],
                          [
                            0.8888888888888888,
                            "#fdca26"
                          ],
                          [
                            1,
                            "#f0f921"
                          ]
                        ],
                        "type": "contour"
                      }
                    ],
                    "contourcarpet": [
                      {
                        "colorbar": {
                          "outlinewidth": 0,
                          "ticks": ""
                        },
                        "type": "contourcarpet"
                      }
                    ],
                    "heatmap": [
                      {
                        "colorbar": {
                          "outlinewidth": 0,
                          "ticks": ""
                        },
                        "colorscale": [
                          [
                            0,
                            "#0d0887"
                          ],
                          [
                            0.1111111111111111,
                            "#46039f"
                          ],
                          [
                            0.2222222222222222,
                            "#7201a8"
                          ],
                          [
                            0.3333333333333333,
                            "#9c179e"
                          ],
                          [
                            0.4444444444444444,
                            "#bd3786"
                          ],
                          [
                            0.5555555555555556,
                            "#d8576b"
                          ],
                          [
                            0.6666666666666666,
                            "#ed7953"
                          ],
                          [
                            0.7777777777777778,
                            "#fb9f3a"
                          ],
                          [
                            0.8888888888888888,
                            "#fdca26"
                          ],
                          [
                            1,
                            "#f0f921"
                          ]
                        ],
                        "type": "heatmap"
                      }
                    ],
                    "heatmapgl": [
                      {
                        "colorbar": {
                          "outlinewidth": 0,
                          "ticks": ""
                        },
                        "colorscale": [
                          [
                            0,
                            "#0d0887"
                          ],
                          [
                            0.1111111111111111,
                            "#46039f"
                          ],
                          [
                            0.2222222222222222,
                            "#7201a8"
                          ],
                          [
                            0.3333333333333333,
                            "#9c179e"
                          ],
                          [
                            0.4444444444444444,
                            "#bd3786"
                          ],
                          [
                            0.5555555555555556,
                            "#d8576b"
                          ],
                          [
                            0.6666666666666666,
                            "#ed7953"
                          ],
                          [
                            0.7777777777777778,
                            "#fb9f3a"
                          ],
                          [
                            0.8888888888888888,
                            "#fdca26"
                          ],
                          [
                            1,
                            "#f0f921"
                          ]
                        ],
                        "type": "heatmapgl"
                      }
                    ],
                    "histogram": [
                      {
                        "marker": {
                          "pattern": {
                            "fillmode": "overlay",
                            "size": 10,
                            "solidity": 0.2
                          }
                        },
                        "type": "histogram"
                      }
                    ],
                    "histogram2d": [
                      {
                        "colorbar": {
                          "outlinewidth": 0,
                          "ticks": ""
                        },
                        "colorscale": [
                          [
                            0,
                            "#0d0887"
                          ],
                          [
                            0.1111111111111111,
                            "#46039f"
                          ],
                          [
                            0.2222222222222222,
                            "#7201a8"
                          ],
                          [
                            0.3333333333333333,
                            "#9c179e"
                          ],
                          [
                            0.4444444444444444,
                            "#bd3786"
                          ],
                          [
                            0.5555555555555556,
                            "#d8576b"
                          ],
                          [
                            0.6666666666666666,
                            "#ed7953"
                          ],
                          [
                            0.7777777777777778,
                            "#fb9f3a"
                          ],
                          [
                            0.8888888888888888,
                            "#fdca26"
                          ],
                          [
                            1,
                            "#f0f921"
                          ]
                        ],
                        "type": "histogram2d"
                      }
                    ],
                    "histogram2dcontour": [
                      {
                        "colorbar": {
                          "outlinewidth": 0,
                          "ticks": ""
                        },
                        "colorscale": [
                          [
                            0,
                            "#0d0887"
                          ],
                          [
                            0.1111111111111111,
                            "#46039f"
                          ],
                          [
                            0.2222222222222222,
                            "#7201a8"
                          ],
                          [
                            0.3333333333333333,
                            "#9c179e"
                          ],
                          [
                            0.4444444444444444,
                            "#bd3786"
                          ],
                          [
                            0.5555555555555556,
                            "#d8576b"
                          ],
                          [
                            0.6666666666666666,
                            "#ed7953"
                          ],
                          [
                            0.7777777777777778,
                            "#fb9f3a"
                          ],
                          [
                            0.8888888888888888,
                            "#fdca26"
                          ],
                          [
                            1,
                            "#f0f921"
                          ]
                        ],
                        "type": "histogram2dcontour"
                      }
                    ],
                    "mesh3d": [
                      {
                        "colorbar": {
                          "outlinewidth": 0,
                          "ticks": ""
                        },
                        "type": "mesh3d"
                      }
                    ],
                    "parcoords": [
                      {
                        "line": {
                          "colorbar": {
                            "outlinewidth": 0,
                            "ticks": ""
                          }
                        },
                        "type": "parcoords"
                      }
                    ],
                    "pie": [
                      {
                        "automargin": true,
                        "type": "pie"
                      }
                    ],
                    "scatter": [
                      {
                        "fillpattern": {
                          "fillmode": "overlay",
                          "size": 10,
                          "solidity": 0.2
                        },
                        "type": "scatter"
                      }
                    ],
                    "scatter3d": [
                      {
                        "line": {
                          "colorbar": {
                            "outlinewidth": 0,
                            "ticks": ""
                          }
                        },
                        "marker": {
                          "colorbar": {
                            "outlinewidth": 0,
                            "ticks": ""
                          }
                        },
                        "type": "scatter3d"
                      }
                    ],
                    "scattercarpet": [
                      {
                        "marker": {
                          "colorbar": {
                            "outlinewidth": 0,
                            "ticks": ""
                          }
                        },
                        "type": "scattercarpet"
                      }
                    ],
                    "scattergeo": [
                      {
                        "marker": {
                          "colorbar": {
                            "outlinewidth": 0,
                            "ticks": ""
                          }
                        },
                        "type": "scattergeo"
                      }
                    ],
                    "scattergl": [
                      {
                        "marker": {
                          "colorbar": {
                            "outlinewidth": 0,
                            "ticks": ""
                          }
                        },
                        "type": "scattergl"
                      }
                    ],
                    "scattermapbox": [
                      {
                        "marker": {
                          "colorbar": {
                            "outlinewidth": 0,
                            "ticks": ""
                          }
                        },
                        "type": "scattermapbox"
                      }
                    ],
                    "scatterpolar": [
                      {
                        "marker": {
                          "colorbar": {
                            "outlinewidth": 0,
                            "ticks": ""
                          }
                        },
                        "type": "scatterpolar"
                      }
                    ],
                    "scatterpolargl": [
                      {
                        "marker": {
                          "colorbar": {
                            "outlinewidth": 0,
                            "ticks": ""
                          }
                        },
                        "type": "scatterpolargl"
                      }
                    ],
                    "scatterternary": [
                      {
                        "marker": {
                          "colorbar": {
                            "outlinewidth": 0,
                            "ticks": ""
                          }
                        },
                        "type": "scatterternary"
                      }
                    ],
                    "surface": [
                      {
                        "colorbar": {
                          "outlinewidth": 0,
                          "ticks": ""
                        },
                        "colorscale": [
                          [
                            0,
                            "#0d0887"
                          ],
                          [
                            0.1111111111111111,
                            "#46039f"
                          ],
                          [
                            0.2222222222222222,
                            "#7201a8"
                          ],
                          [
                            0.3333333333333333,
                            "#9c179e"
                          ],
                          [
                            0.4444444444444444,
                            "#bd3786"
                          ],
                          [
                            0.5555555555555556,
                            "#d8576b"
                          ],
                          [
                            0.6666666666666666,
                            "#ed7953"
                          ],
                          [
                            0.7777777777777778,
                            "#fb9f3a"
                          ],
                          [
                            0.8888888888888888,
                            "#fdca26"
                          ],
                          [
                            1,
                            "#f0f921"
                          ]
                        ],
                        "type": "surface"
                      }
                    ],
                    "table": [
                      {
                        "cells": {
                          "fill": {
                            "color": "#EBF0F8"
                          },
                          "line": {
                            "color": "white"
                          }
                        },
                        "header": {
                          "fill": {
                            "color": "#C8D4E3"
                          },
                          "line": {
                            "color": "white"
                          }
                        },
                        "type": "table"
                      }
                    ]
                  },
                  "layout": {
                    "annotationdefaults": {
                      "arrowcolor": "#2a3f5f",
                      "arrowhead": 0,
                      "arrowwidth": 1
                    },
                    "autotypenumbers": "strict",
                    "coloraxis": {
                      "colorbar": {
                        "outlinewidth": 0,
                        "ticks": ""
                      }
                    },
                    "colorscale": {
                      "diverging": [
                        [
                          0,
                          "#8e0152"
                        ],
                        [
                          0.1,
                          "#c51b7d"
                        ],
                        [
                          0.2,
                          "#de77ae"
                        ],
                        [
                          0.3,
                          "#f1b6da"
                        ],
                        [
                          0.4,
                          "#fde0ef"
                        ],
                        [
                          0.5,
                          "#f7f7f7"
                        ],
                        [
                          0.6,
                          "#e6f5d0"
                        ],
                        [
                          0.7,
                          "#b8e186"
                        ],
                        [
                          0.8,
                          "#7fbc41"
                        ],
                        [
                          0.9,
                          "#4d9221"
                        ],
                        [
                          1,
                          "#276419"
                        ]
                      ],
                      "sequential": [
                        [
                          0,
                          "#0d0887"
                        ],
                        [
                          0.1111111111111111,
                          "#46039f"
                        ],
                        [
                          0.2222222222222222,
                          "#7201a8"
                        ],
                        [
                          0.3333333333333333,
                          "#9c179e"
                        ],
                        [
                          0.4444444444444444,
                          "#bd3786"
                        ],
                        [
                          0.5555555555555556,
                          "#d8576b"
                        ],
                        [
                          0.6666666666666666,
                          "#ed7953"
                        ],
                        [
                          0.7777777777777778,
                          "#fb9f3a"
                        ],
                        [
                          0.8888888888888888,
                          "#fdca26"
                        ],
                        [
                          1,
                          "#f0f921"
                        ]
                      ],
                      "sequentialminus": [
                        [
                          0,
                          "#0d0887"
                        ],
                        [
                          0.1111111111111111,
                          "#46039f"
                        ],
                        [
                          0.2222222222222222,
                          "#7201a8"
                        ],
                        [
                          0.3333333333333333,
                          "#9c179e"
                        ],
                        [
                          0.4444444444444444,
                          "#bd3786"
                        ],
                        [
                          0.5555555555555556,
                          "#d8576b"
                        ],
                        [
                          0.6666666666666666,
                          "#ed7953"
                        ],
                        [
                          0.7777777777777778,
                          "#fb9f3a"
                        ],
                        [
                          0.8888888888888888,
                          "#fdca26"
                        ],
                        [
                          1,
                          "#f0f921"
                        ]
                      ]
                    },
                    "colorway": [
                      "#636efa",
                      "#EF553B",
                      "#00cc96",
                      "#ab63fa",
                      "#FFA15A",
                      "#19d3f3",
                      "#FF6692",
                      "#B6E880",
                      "#FF97FF",
                      "#FECB52"
                    ],
                    "font": {
                      "color": "#2a3f5f"
                    },
                    "geo": {
                      "bgcolor": "white",
                      "lakecolor": "white",
                      "landcolor": "#E5ECF6",
                      "showlakes": true,
                      "showland": true,
                      "subunitcolor": "white"
                    },
                    "hoverlabel": {
                      "align": "left"
                    },
                    "hovermode": "closest",
                    "mapbox": {
                      "style": "light"
                    },
                    "paper_bgcolor": "white",
                    "plot_bgcolor": "#E5ECF6",
                    "polar": {
                      "angularaxis": {
                        "gridcolor": "white",
                        "linecolor": "white",
                        "ticks": ""
                      },
                      "bgcolor": "#E5ECF6",
                      "radialaxis": {
                        "gridcolor": "white",
                        "linecolor": "white",
                        "ticks": ""
                      }
                    },
                    "scene": {
                      "xaxis": {
                        "backgroundcolor": "#E5ECF6",
                        "gridcolor": "white",
                        "gridwidth": 2,
                        "linecolor": "white",
                        "showbackground": true,
                        "ticks": "",
                        "zerolinecolor": "white"
                      },
                      "yaxis": {
                        "backgroundcolor": "#E5ECF6",
                        "gridcolor": "white",
                        "gridwidth": 2,
                        "linecolor": "white",
                        "showbackground": true,
                        "ticks": "",
                        "zerolinecolor": "white"
                      },
                      "zaxis": {
                        "backgroundcolor": "#E5ECF6",
                        "gridcolor": "white",
                        "gridwidth": 2,
                        "linecolor": "white",
                        "showbackground": true,
                        "ticks": "",
                        "zerolinecolor": "white"
                      }
                    },
                    "shapedefaults": {
                      "line": {
                        "color": "#2a3f5f"
                      }
                    },
                    "ternary": {
                      "aaxis": {
                        "gridcolor": "white",
                        "linecolor": "white",
                        "ticks": ""
                      },
                      "baxis": {
                        "gridcolor": "white",
                        "linecolor": "white",
                        "ticks": ""
                      },
                      "bgcolor": "#E5ECF6",
                      "caxis": {
                        "gridcolor": "white",
                        "linecolor": "white",
                        "ticks": ""
                      }
                    },
                    "title": {
                      "x": 0.05
                    },
                    "xaxis": {
                      "automargin": true,
                      "gridcolor": "white",
                      "linecolor": "white",
                      "ticks": "",
                      "title": {
                        "standoff": 15
                      },
                      "zerolinecolor": "white",
                      "zerolinewidth": 2
                    },
                    "yaxis": {
                      "automargin": true,
                      "gridcolor": "white",
                      "linecolor": "white",
                      "ticks": "",
                      "title": {
                        "standoff": 15
                      },
                      "zerolinecolor": "white",
                      "zerolinewidth": 2
                    }
                  }
                },
                "title": {
                  "text": "Swimming Medals by Period (Each Square Represents 1% of Medals Won)"
                },
                "width": 1500,
                "xaxis": {
                  "anchor": "y",
                  "domain": [
                    0,
                    0.16799999999999998
                  ],
                  "showgrid": false,
                  "showticklabels": false,
                  "zeroline": false
                },
                "xaxis2": {
                  "anchor": "y2",
                  "domain": [
                    0.208,
                    0.376
                  ],
                  "showgrid": false,
                  "showticklabels": false,
                  "zeroline": false
                },
                "xaxis3": {
                  "anchor": "y3",
                  "domain": [
                    0.416,
                    0.584
                  ],
                  "showgrid": false,
                  "showticklabels": false,
                  "zeroline": false
                },
                "xaxis4": {
                  "anchor": "y4",
                  "domain": [
                    0.624,
                    0.792
                  ],
                  "showgrid": false,
                  "showticklabels": false,
                  "zeroline": false
                },
                "xaxis5": {
                  "anchor": "y5",
                  "domain": [
                    0.832,
                    1
                  ],
                  "showgrid": false,
                  "showticklabels": false,
                  "zeroline": false
                },
                "yaxis": {
                  "anchor": "x",
                  "domain": [
                    0,
                    1
                  ],
                  "showgrid": false,
                  "showticklabels": false,
                  "zeroline": false
                },
                "yaxis2": {
                  "anchor": "x2",
                  "domain": [
                    0,
                    1
                  ],
                  "showgrid": false,
                  "showticklabels": false,
                  "zeroline": false
                },
                "yaxis3": {
                  "anchor": "x3",
                  "domain": [
                    0,
                    1
                  ],
                  "showgrid": false,
                  "showticklabels": false,
                  "zeroline": false
                },
                "yaxis4": {
                  "anchor": "x4",
                  "domain": [
                    0,
                    1
                  ],
                  "showgrid": false,
                  "showticklabels": false,
                  "zeroline": false
                },
                "yaxis5": {
                  "anchor": "x5",
                  "domain": [
                    0,
                    1
                  ],
                  "showgrid": false,
                  "showticklabels": false,
                  "zeroline": false
                }
              }
            }
          },
          "metadata": {},
          "output_type": "display_data"
        }
      ],
      "source": [
        "year_groups = [\n",
        "    (1896, 1920),\n",
        "    (1924, 1952),\n",
        "    (1956, 1984),\n",
        "    (1988, 2008),\n",
        "    (2012, 2020)\n",
        "]\n",
        "\n",
        "df_swimming = olympics_data[olympics_data[\"Sport\"] == \"Swimming\"]\n",
        "df_medals = df_swimming[df_swimming[\"Medal\"].notna()]\n",
        "\n",
        "total_medal_counts = df_medals[\"NOC\"].value_counts()\n",
        "\n",
        "top_countries = total_medal_counts.head(3).index.tolist() + ['CAN']\n",
        "print(top_countries)\n",
        "\n",
        "color_palette = [\"#00ECC2\", \"#0078FF\", \"#cbe58e\", \"#FF4359\"]\n",
        "country_colors = {country: color_palette[i] for i, country in enumerate(top_countries)}\n",
        "print(country_colors)\n",
        "country_colors[\"Other\"] = \"rgba(170, 170, 170, 0.3)\"\n",
        "\n",
        "fig = make_subplots(rows=1, cols=5, subplot_titles=[f\"{start}-{end}\" for start, end in year_groups])\n",
        "\n",
        "for idx, (start, end) in enumerate(year_groups):\n",
        "\n",
        "    df_period = df_medals[(df_medals[\"Year\"] >= start) & (df_medals[\"Year\"] <= end)]\n",
        "    df_grouped = df_period[\"NOC\"].value_counts().reset_index()\n",
        "    df_grouped.columns = [\"Country\", \"Medals\"]\n",
        "\n",
        "    df_grouped[\"Country\"] = df_grouped[\"Country\"].apply(lambda x: x if x in top_countries else \"Other\")\n",
        "    df_grouped = df_grouped.groupby(\"Country\")[\"Medals\"].sum().reset_index()\n",
        "\n",
        "    df_grouped = df_grouped.sort_values(by=\"Medals\", ascending=False)\n",
        "    if \"Other\" in df_grouped[\"Country\"].values:\n",
        "        df_grouped = pd.concat([\n",
        "            df_grouped[df_grouped[\"Country\"] != \"Other\"],\n",
        "            df_grouped[df_grouped[\"Country\"] == \"Other\"]\n",
        "        ])\n",
        "\n",
        "    df_grouped[\"Normalized\"] = (df_grouped[\"Medals\"] / df_grouped[\"Medals\"].sum() * 100).round().astype(int)\n",
        "\n",
        "    while df_grouped[\"Normalized\"].sum() > 100:\n",
        "        df_grouped.loc[df_grouped[\"Normalized\"].idxmax(), \"Normalized\"] -= 1\n",
        "    while df_grouped[\"Normalized\"].sum() < 100:\n",
        "        df_grouped.loc[df_grouped[\"Normalized\"].idxmax(), \"Normalized\"] += 1\n",
        "\n",
        "    country_mapping = {country: i + 1 for i, country in enumerate(df_grouped[\"Country\"])}\n",
        "\n",
        "    flat_list = []\n",
        "    for team, count in zip(df_grouped[\"Country\"], df_grouped[\"Normalized\"]):\n",
        "        flat_list.extend([country_mapping[team]] * count)\n",
        "\n",
        "    waffle_array = np.array(flat_list).reshape(10, 10, order=\"F\")  # Fill column-wise\n",
        "\n",
        "    label_map = {v: k for k, v in country_mapping.items()}\n",
        "    labels = np.vectorize(label_map.get)(waffle_array)\n",
        "\n",
        "    fig.add_trace(\n",
        "        go.Heatmap(\n",
        "            x=np.arange(10), y=np.arange(10),\n",
        "            z=waffle_array, customdata=labels,\n",
        "            xgap=3, ygap=3,\n",
        "            colorscale=[(i / 4, color_palette[i]) for i in range(4)] + [(1.0, \"rgba(170, 170, 170, 0.3)\")],\n",
        "            showscale=False,\n",
        "            hovertemplate=\"%{customdata}<extra></extra>\"\n",
        "        ),\n",
        "        row=1, col=idx + 1\n",
        "    )\n",
        "\n",
        "legend_entries = []\n",
        "for team, color in country_colors.items():\n",
        "    legend_entries.append(\n",
        "        go.Scatter(\n",
        "            x=[None], y=[None], mode='markers',\n",
        "            marker=dict(color=color, symbol='circle', size=10),\n",
        "            name=team\n",
        "        )\n",
        "    )\n",
        "\n",
        "# Add the legend entries to the figure\n",
        "fig.add_traces(legend_entries)\n",
        "\n",
        "fig.update_layout(\n",
        "    title=\"Swimming Medals by Period (Each Square Represents 1% of Medals Won)\",\n",
        "    width=1500, height=400,\n",
        "    plot_bgcolor='rgba(0,0,0,0)',\n",
        "    paper_bgcolor='rgba(0,0,0,0)',\n",
        ")\n",
        "\n",
        "for i in range(1, 6):\n",
        "    fig.update_xaxes(showgrid=False, zeroline=False, showticklabels=False, row=1, col=i)\n",
        "    fig.update_yaxes(showgrid=False, zeroline=False, showticklabels=False, row=1, col=i)\n",
        "\n",
        "fig.show()\n"
      ]
    },
    {
      "cell_type": "markdown",
      "id": "bfrhv_z7ctBf",
      "metadata": {
        "id": "bfrhv_z7ctBf"
      },
      "source": [
        "# Pays/Participations"
      ]
    },
    {
      "cell_type": "code",
      "execution_count": null,
      "id": "SxTfJUCq1mZy",
      "metadata": {
        "colab": {
          "base_uri": "https://localhost:8080/",
          "height": 417
        },
        "id": "SxTfJUCq1mZy",
        "outputId": "e0a2c38b-b734-4070-b6bc-9a624b1b417e"
      },
      "outputs": [
        {
          "data": {
            "application/vnd.plotly.v1+json": {
              "config": {
                "plotlyServerURL": "https://plot.ly"
              },
              "data": [
                {
                  "colorscale": [
                    [
                      0,
                      "#00ECC2"
                    ],
                    [
                      0.25,
                      "#0078FF"
                    ],
                    [
                      0.5,
                      "#cbe58e"
                    ],
                    [
                      0.75,
                      "#FF4359"
                    ],
                    [
                      1,
                      "rgba(170, 170, 170, 0.3)"
                    ]
                  ],
                  "customdata": [
                    [
                      "USA",
                      "GBR",
                      "CAN",
                      "Other",
                      "Other",
                      "Other",
                      "Other",
                      "Other",
                      "Other",
                      "Other"
                    ],
                    [
                      "USA",
                      "GBR",
                      "Other",
                      "Other",
                      "Other",
                      "Other",
                      "Other",
                      "Other",
                      "Other",
                      "Other"
                    ],
                    [
                      "USA",
                      "AUS",
                      "Other",
                      "Other",
                      "Other",
                      "Other",
                      "Other",
                      "Other",
                      "Other",
                      "Other"
                    ],
                    [
                      "USA",
                      "AUS",
                      "Other",
                      "Other",
                      "Other",
                      "Other",
                      "Other",
                      "Other",
                      "Other",
                      "Other"
                    ],
                    [
                      "USA",
                      "AUS",
                      "Other",
                      "Other",
                      "Other",
                      "Other",
                      "Other",
                      "Other",
                      "Other",
                      "Other"
                    ],
                    [
                      "USA",
                      "AUS",
                      "Other",
                      "Other",
                      "Other",
                      "Other",
                      "Other",
                      "Other",
                      "Other",
                      "Other"
                    ],
                    [
                      "USA",
                      "AUS",
                      "Other",
                      "Other",
                      "Other",
                      "Other",
                      "Other",
                      "Other",
                      "Other",
                      "Other"
                    ],
                    [
                      "GBR",
                      "CAN",
                      "Other",
                      "Other",
                      "Other",
                      "Other",
                      "Other",
                      "Other",
                      "Other",
                      "Other"
                    ],
                    [
                      "GBR",
                      "CAN",
                      "Other",
                      "Other",
                      "Other",
                      "Other",
                      "Other",
                      "Other",
                      "Other",
                      "Other"
                    ],
                    [
                      "GBR",
                      "CAN",
                      "Other",
                      "Other",
                      "Other",
                      "Other",
                      "Other",
                      "Other",
                      "Other",
                      "Other"
                    ]
                  ],
                  "hovertemplate": "%{customdata}<extra></extra>",
                  "showscale": false,
                  "type": "heatmap",
                  "x": [
                    0,
                    1,
                    2,
                    3,
                    4,
                    5,
                    6,
                    7,
                    8,
                    9
                  ],
                  "xgap": 3,
                  "y": [
                    0,
                    1,
                    2,
                    3,
                    4,
                    5,
                    6,
                    7,
                    8,
                    9
                  ],
                  "ygap": 3,
                  "z": [
                    [
                      1,
                      2,
                      4,
                      5,
                      5,
                      5,
                      5,
                      5,
                      5,
                      5
                    ],
                    [
                      1,
                      2,
                      5,
                      5,
                      5,
                      5,
                      5,
                      5,
                      5,
                      5
                    ],
                    [
                      1,
                      3,
                      5,
                      5,
                      5,
                      5,
                      5,
                      5,
                      5,
                      5
                    ],
                    [
                      1,
                      3,
                      5,
                      5,
                      5,
                      5,
                      5,
                      5,
                      5,
                      5
                    ],
                    [
                      1,
                      3,
                      5,
                      5,
                      5,
                      5,
                      5,
                      5,
                      5,
                      5
                    ],
                    [
                      1,
                      3,
                      5,
                      5,
                      5,
                      5,
                      5,
                      5,
                      5,
                      5
                    ],
                    [
                      1,
                      3,
                      5,
                      5,
                      5,
                      5,
                      5,
                      5,
                      5,
                      5
                    ],
                    [
                      2,
                      4,
                      5,
                      5,
                      5,
                      5,
                      5,
                      5,
                      5,
                      5
                    ],
                    [
                      2,
                      4,
                      5,
                      5,
                      5,
                      5,
                      5,
                      5,
                      5,
                      5
                    ],
                    [
                      2,
                      4,
                      5,
                      5,
                      5,
                      5,
                      5,
                      5,
                      5,
                      5
                    ]
                  ]
                },
                {
                  "marker": {
                    "color": "#00ECC2",
                    "size": 10,
                    "symbol": "circle"
                  },
                  "mode": "markers",
                  "name": "USA",
                  "type": "scatter",
                  "x": [
                    null
                  ],
                  "y": [
                    null
                  ]
                },
                {
                  "marker": {
                    "color": "#0078FF",
                    "size": 10,
                    "symbol": "circle"
                  },
                  "mode": "markers",
                  "name": "GBR",
                  "type": "scatter",
                  "x": [
                    null
                  ],
                  "y": [
                    null
                  ]
                },
                {
                  "marker": {
                    "color": "#cbe58e",
                    "size": 10,
                    "symbol": "circle"
                  },
                  "mode": "markers",
                  "name": "AUS",
                  "type": "scatter",
                  "x": [
                    null
                  ],
                  "y": [
                    null
                  ]
                },
                {
                  "marker": {
                    "color": "#FF4359",
                    "size": 10,
                    "symbol": "circle"
                  },
                  "mode": "markers",
                  "name": "CAN",
                  "type": "scatter",
                  "x": [
                    null
                  ],
                  "y": [
                    null
                  ]
                },
                {
                  "marker": {
                    "color": "rgba(170, 170, 170, 0.3)",
                    "size": 10,
                    "symbol": "circle"
                  },
                  "mode": "markers",
                  "name": "Other",
                  "type": "scatter",
                  "x": [
                    null
                  ],
                  "y": [
                    null
                  ]
                }
              ],
              "layout": {
                "height": 400,
                "paper_bgcolor": "rgba(0,0,0,0)",
                "plot_bgcolor": "rgba(0,0,0,0)",
                "template": {
                  "data": {
                    "bar": [
                      {
                        "error_x": {
                          "color": "#2a3f5f"
                        },
                        "error_y": {
                          "color": "#2a3f5f"
                        },
                        "marker": {
                          "line": {
                            "color": "#E5ECF6",
                            "width": 0.5
                          },
                          "pattern": {
                            "fillmode": "overlay",
                            "size": 10,
                            "solidity": 0.2
                          }
                        },
                        "type": "bar"
                      }
                    ],
                    "barpolar": [
                      {
                        "marker": {
                          "line": {
                            "color": "#E5ECF6",
                            "width": 0.5
                          },
                          "pattern": {
                            "fillmode": "overlay",
                            "size": 10,
                            "solidity": 0.2
                          }
                        },
                        "type": "barpolar"
                      }
                    ],
                    "carpet": [
                      {
                        "aaxis": {
                          "endlinecolor": "#2a3f5f",
                          "gridcolor": "white",
                          "linecolor": "white",
                          "minorgridcolor": "white",
                          "startlinecolor": "#2a3f5f"
                        },
                        "baxis": {
                          "endlinecolor": "#2a3f5f",
                          "gridcolor": "white",
                          "linecolor": "white",
                          "minorgridcolor": "white",
                          "startlinecolor": "#2a3f5f"
                        },
                        "type": "carpet"
                      }
                    ],
                    "choropleth": [
                      {
                        "colorbar": {
                          "outlinewidth": 0,
                          "ticks": ""
                        },
                        "type": "choropleth"
                      }
                    ],
                    "contour": [
                      {
                        "colorbar": {
                          "outlinewidth": 0,
                          "ticks": ""
                        },
                        "colorscale": [
                          [
                            0,
                            "#0d0887"
                          ],
                          [
                            0.1111111111111111,
                            "#46039f"
                          ],
                          [
                            0.2222222222222222,
                            "#7201a8"
                          ],
                          [
                            0.3333333333333333,
                            "#9c179e"
                          ],
                          [
                            0.4444444444444444,
                            "#bd3786"
                          ],
                          [
                            0.5555555555555556,
                            "#d8576b"
                          ],
                          [
                            0.6666666666666666,
                            "#ed7953"
                          ],
                          [
                            0.7777777777777778,
                            "#fb9f3a"
                          ],
                          [
                            0.8888888888888888,
                            "#fdca26"
                          ],
                          [
                            1,
                            "#f0f921"
                          ]
                        ],
                        "type": "contour"
                      }
                    ],
                    "contourcarpet": [
                      {
                        "colorbar": {
                          "outlinewidth": 0,
                          "ticks": ""
                        },
                        "type": "contourcarpet"
                      }
                    ],
                    "heatmap": [
                      {
                        "colorbar": {
                          "outlinewidth": 0,
                          "ticks": ""
                        },
                        "colorscale": [
                          [
                            0,
                            "#0d0887"
                          ],
                          [
                            0.1111111111111111,
                            "#46039f"
                          ],
                          [
                            0.2222222222222222,
                            "#7201a8"
                          ],
                          [
                            0.3333333333333333,
                            "#9c179e"
                          ],
                          [
                            0.4444444444444444,
                            "#bd3786"
                          ],
                          [
                            0.5555555555555556,
                            "#d8576b"
                          ],
                          [
                            0.6666666666666666,
                            "#ed7953"
                          ],
                          [
                            0.7777777777777778,
                            "#fb9f3a"
                          ],
                          [
                            0.8888888888888888,
                            "#fdca26"
                          ],
                          [
                            1,
                            "#f0f921"
                          ]
                        ],
                        "type": "heatmap"
                      }
                    ],
                    "heatmapgl": [
                      {
                        "colorbar": {
                          "outlinewidth": 0,
                          "ticks": ""
                        },
                        "colorscale": [
                          [
                            0,
                            "#0d0887"
                          ],
                          [
                            0.1111111111111111,
                            "#46039f"
                          ],
                          [
                            0.2222222222222222,
                            "#7201a8"
                          ],
                          [
                            0.3333333333333333,
                            "#9c179e"
                          ],
                          [
                            0.4444444444444444,
                            "#bd3786"
                          ],
                          [
                            0.5555555555555556,
                            "#d8576b"
                          ],
                          [
                            0.6666666666666666,
                            "#ed7953"
                          ],
                          [
                            0.7777777777777778,
                            "#fb9f3a"
                          ],
                          [
                            0.8888888888888888,
                            "#fdca26"
                          ],
                          [
                            1,
                            "#f0f921"
                          ]
                        ],
                        "type": "heatmapgl"
                      }
                    ],
                    "histogram": [
                      {
                        "marker": {
                          "pattern": {
                            "fillmode": "overlay",
                            "size": 10,
                            "solidity": 0.2
                          }
                        },
                        "type": "histogram"
                      }
                    ],
                    "histogram2d": [
                      {
                        "colorbar": {
                          "outlinewidth": 0,
                          "ticks": ""
                        },
                        "colorscale": [
                          [
                            0,
                            "#0d0887"
                          ],
                          [
                            0.1111111111111111,
                            "#46039f"
                          ],
                          [
                            0.2222222222222222,
                            "#7201a8"
                          ],
                          [
                            0.3333333333333333,
                            "#9c179e"
                          ],
                          [
                            0.4444444444444444,
                            "#bd3786"
                          ],
                          [
                            0.5555555555555556,
                            "#d8576b"
                          ],
                          [
                            0.6666666666666666,
                            "#ed7953"
                          ],
                          [
                            0.7777777777777778,
                            "#fb9f3a"
                          ],
                          [
                            0.8888888888888888,
                            "#fdca26"
                          ],
                          [
                            1,
                            "#f0f921"
                          ]
                        ],
                        "type": "histogram2d"
                      }
                    ],
                    "histogram2dcontour": [
                      {
                        "colorbar": {
                          "outlinewidth": 0,
                          "ticks": ""
                        },
                        "colorscale": [
                          [
                            0,
                            "#0d0887"
                          ],
                          [
                            0.1111111111111111,
                            "#46039f"
                          ],
                          [
                            0.2222222222222222,
                            "#7201a8"
                          ],
                          [
                            0.3333333333333333,
                            "#9c179e"
                          ],
                          [
                            0.4444444444444444,
                            "#bd3786"
                          ],
                          [
                            0.5555555555555556,
                            "#d8576b"
                          ],
                          [
                            0.6666666666666666,
                            "#ed7953"
                          ],
                          [
                            0.7777777777777778,
                            "#fb9f3a"
                          ],
                          [
                            0.8888888888888888,
                            "#fdca26"
                          ],
                          [
                            1,
                            "#f0f921"
                          ]
                        ],
                        "type": "histogram2dcontour"
                      }
                    ],
                    "mesh3d": [
                      {
                        "colorbar": {
                          "outlinewidth": 0,
                          "ticks": ""
                        },
                        "type": "mesh3d"
                      }
                    ],
                    "parcoords": [
                      {
                        "line": {
                          "colorbar": {
                            "outlinewidth": 0,
                            "ticks": ""
                          }
                        },
                        "type": "parcoords"
                      }
                    ],
                    "pie": [
                      {
                        "automargin": true,
                        "type": "pie"
                      }
                    ],
                    "scatter": [
                      {
                        "fillpattern": {
                          "fillmode": "overlay",
                          "size": 10,
                          "solidity": 0.2
                        },
                        "type": "scatter"
                      }
                    ],
                    "scatter3d": [
                      {
                        "line": {
                          "colorbar": {
                            "outlinewidth": 0,
                            "ticks": ""
                          }
                        },
                        "marker": {
                          "colorbar": {
                            "outlinewidth": 0,
                            "ticks": ""
                          }
                        },
                        "type": "scatter3d"
                      }
                    ],
                    "scattercarpet": [
                      {
                        "marker": {
                          "colorbar": {
                            "outlinewidth": 0,
                            "ticks": ""
                          }
                        },
                        "type": "scattercarpet"
                      }
                    ],
                    "scattergeo": [
                      {
                        "marker": {
                          "colorbar": {
                            "outlinewidth": 0,
                            "ticks": ""
                          }
                        },
                        "type": "scattergeo"
                      }
                    ],
                    "scattergl": [
                      {
                        "marker": {
                          "colorbar": {
                            "outlinewidth": 0,
                            "ticks": ""
                          }
                        },
                        "type": "scattergl"
                      }
                    ],
                    "scattermapbox": [
                      {
                        "marker": {
                          "colorbar": {
                            "outlinewidth": 0,
                            "ticks": ""
                          }
                        },
                        "type": "scattermapbox"
                      }
                    ],
                    "scatterpolar": [
                      {
                        "marker": {
                          "colorbar": {
                            "outlinewidth": 0,
                            "ticks": ""
                          }
                        },
                        "type": "scatterpolar"
                      }
                    ],
                    "scatterpolargl": [
                      {
                        "marker": {
                          "colorbar": {
                            "outlinewidth": 0,
                            "ticks": ""
                          }
                        },
                        "type": "scatterpolargl"
                      }
                    ],
                    "scatterternary": [
                      {
                        "marker": {
                          "colorbar": {
                            "outlinewidth": 0,
                            "ticks": ""
                          }
                        },
                        "type": "scatterternary"
                      }
                    ],
                    "surface": [
                      {
                        "colorbar": {
                          "outlinewidth": 0,
                          "ticks": ""
                        },
                        "colorscale": [
                          [
                            0,
                            "#0d0887"
                          ],
                          [
                            0.1111111111111111,
                            "#46039f"
                          ],
                          [
                            0.2222222222222222,
                            "#7201a8"
                          ],
                          [
                            0.3333333333333333,
                            "#9c179e"
                          ],
                          [
                            0.4444444444444444,
                            "#bd3786"
                          ],
                          [
                            0.5555555555555556,
                            "#d8576b"
                          ],
                          [
                            0.6666666666666666,
                            "#ed7953"
                          ],
                          [
                            0.7777777777777778,
                            "#fb9f3a"
                          ],
                          [
                            0.8888888888888888,
                            "#fdca26"
                          ],
                          [
                            1,
                            "#f0f921"
                          ]
                        ],
                        "type": "surface"
                      }
                    ],
                    "table": [
                      {
                        "cells": {
                          "fill": {
                            "color": "#EBF0F8"
                          },
                          "line": {
                            "color": "white"
                          }
                        },
                        "header": {
                          "fill": {
                            "color": "#C8D4E3"
                          },
                          "line": {
                            "color": "white"
                          }
                        },
                        "type": "table"
                      }
                    ]
                  },
                  "layout": {
                    "annotationdefaults": {
                      "arrowcolor": "#2a3f5f",
                      "arrowhead": 0,
                      "arrowwidth": 1
                    },
                    "autotypenumbers": "strict",
                    "coloraxis": {
                      "colorbar": {
                        "outlinewidth": 0,
                        "ticks": ""
                      }
                    },
                    "colorscale": {
                      "diverging": [
                        [
                          0,
                          "#8e0152"
                        ],
                        [
                          0.1,
                          "#c51b7d"
                        ],
                        [
                          0.2,
                          "#de77ae"
                        ],
                        [
                          0.3,
                          "#f1b6da"
                        ],
                        [
                          0.4,
                          "#fde0ef"
                        ],
                        [
                          0.5,
                          "#f7f7f7"
                        ],
                        [
                          0.6,
                          "#e6f5d0"
                        ],
                        [
                          0.7,
                          "#b8e186"
                        ],
                        [
                          0.8,
                          "#7fbc41"
                        ],
                        [
                          0.9,
                          "#4d9221"
                        ],
                        [
                          1,
                          "#276419"
                        ]
                      ],
                      "sequential": [
                        [
                          0,
                          "#0d0887"
                        ],
                        [
                          0.1111111111111111,
                          "#46039f"
                        ],
                        [
                          0.2222222222222222,
                          "#7201a8"
                        ],
                        [
                          0.3333333333333333,
                          "#9c179e"
                        ],
                        [
                          0.4444444444444444,
                          "#bd3786"
                        ],
                        [
                          0.5555555555555556,
                          "#d8576b"
                        ],
                        [
                          0.6666666666666666,
                          "#ed7953"
                        ],
                        [
                          0.7777777777777778,
                          "#fb9f3a"
                        ],
                        [
                          0.8888888888888888,
                          "#fdca26"
                        ],
                        [
                          1,
                          "#f0f921"
                        ]
                      ],
                      "sequentialminus": [
                        [
                          0,
                          "#0d0887"
                        ],
                        [
                          0.1111111111111111,
                          "#46039f"
                        ],
                        [
                          0.2222222222222222,
                          "#7201a8"
                        ],
                        [
                          0.3333333333333333,
                          "#9c179e"
                        ],
                        [
                          0.4444444444444444,
                          "#bd3786"
                        ],
                        [
                          0.5555555555555556,
                          "#d8576b"
                        ],
                        [
                          0.6666666666666666,
                          "#ed7953"
                        ],
                        [
                          0.7777777777777778,
                          "#fb9f3a"
                        ],
                        [
                          0.8888888888888888,
                          "#fdca26"
                        ],
                        [
                          1,
                          "#f0f921"
                        ]
                      ]
                    },
                    "colorway": [
                      "#636efa",
                      "#EF553B",
                      "#00cc96",
                      "#ab63fa",
                      "#FFA15A",
                      "#19d3f3",
                      "#FF6692",
                      "#B6E880",
                      "#FF97FF",
                      "#FECB52"
                    ],
                    "font": {
                      "color": "#2a3f5f"
                    },
                    "geo": {
                      "bgcolor": "white",
                      "lakecolor": "white",
                      "landcolor": "#E5ECF6",
                      "showlakes": true,
                      "showland": true,
                      "subunitcolor": "white"
                    },
                    "hoverlabel": {
                      "align": "left"
                    },
                    "hovermode": "closest",
                    "mapbox": {
                      "style": "light"
                    },
                    "paper_bgcolor": "white",
                    "plot_bgcolor": "#E5ECF6",
                    "polar": {
                      "angularaxis": {
                        "gridcolor": "white",
                        "linecolor": "white",
                        "ticks": ""
                      },
                      "bgcolor": "#E5ECF6",
                      "radialaxis": {
                        "gridcolor": "white",
                        "linecolor": "white",
                        "ticks": ""
                      }
                    },
                    "scene": {
                      "xaxis": {
                        "backgroundcolor": "#E5ECF6",
                        "gridcolor": "white",
                        "gridwidth": 2,
                        "linecolor": "white",
                        "showbackground": true,
                        "ticks": "",
                        "zerolinecolor": "white"
                      },
                      "yaxis": {
                        "backgroundcolor": "#E5ECF6",
                        "gridcolor": "white",
                        "gridwidth": 2,
                        "linecolor": "white",
                        "showbackground": true,
                        "ticks": "",
                        "zerolinecolor": "white"
                      },
                      "zaxis": {
                        "backgroundcolor": "#E5ECF6",
                        "gridcolor": "white",
                        "gridwidth": 2,
                        "linecolor": "white",
                        "showbackground": true,
                        "ticks": "",
                        "zerolinecolor": "white"
                      }
                    },
                    "shapedefaults": {
                      "line": {
                        "color": "#2a3f5f"
                      }
                    },
                    "ternary": {
                      "aaxis": {
                        "gridcolor": "white",
                        "linecolor": "white",
                        "ticks": ""
                      },
                      "baxis": {
                        "gridcolor": "white",
                        "linecolor": "white",
                        "ticks": ""
                      },
                      "bgcolor": "#E5ECF6",
                      "caxis": {
                        "gridcolor": "white",
                        "linecolor": "white",
                        "ticks": ""
                      }
                    },
                    "title": {
                      "x": 0.05
                    },
                    "xaxis": {
                      "automargin": true,
                      "gridcolor": "white",
                      "linecolor": "white",
                      "ticks": "",
                      "title": {
                        "standoff": 15
                      },
                      "zerolinecolor": "white",
                      "zerolinewidth": 2
                    },
                    "yaxis": {
                      "automargin": true,
                      "gridcolor": "white",
                      "linecolor": "white",
                      "ticks": "",
                      "title": {
                        "standoff": 15
                      },
                      "zerolinecolor": "white",
                      "zerolinewidth": 2
                    }
                  }
                },
                "title": {
                  "text": "Swimming Participations – All Editions"
                },
                "width": 400,
                "xaxis": {
                  "showgrid": false,
                  "showticklabels": false,
                  "zeroline": false
                },
                "yaxis": {
                  "showgrid": false,
                  "showticklabels": false,
                  "zeroline": false
                }
              }
            }
          },
          "metadata": {},
          "output_type": "display_data"
        }
      ],
      "source": [
        "df_medals = olympics_data[(olympics_data[\"Sport\"] == \"Swimming\")]\n",
        "\n",
        "total_medal_counts = df_medals[\"NOC\"].value_counts()\n",
        "\n",
        "top_countries = total_medal_counts.head(3).index.tolist() + ['CAN']\n",
        "\n",
        "df_grouped = df_medals[\"NOC\"].value_counts().reset_index()\n",
        "df_grouped.columns = [\"Country\", \"Participations\"]\n",
        "df_grouped[\"Country\"] = df_grouped[\"Country\"].apply(lambda x: x if x in top_countries else \"Other\")\n",
        "\n",
        "df_grouped = df_grouped.groupby(\"Country\")[\"Participations\"].sum().reset_index()\n",
        "\n",
        "df_grouped = df_grouped.sort_values(by=\"Participations\", ascending=False)\n",
        "if \"Other\" in df_grouped[\"Country\"].values:\n",
        "    df_grouped = pd.concat([\n",
        "        df_grouped[df_grouped[\"Country\"] != \"Other\"],\n",
        "        df_grouped[df_grouped[\"Country\"] == \"Other\"]\n",
        "    ])\n",
        "\n",
        "df_grouped[\"Normalized\"] = (df_grouped[\"Participations\"] / df_grouped[\"Participations\"].sum() * 100).round().astype(int)\n",
        "\n",
        "while df_grouped[\"Normalized\"].sum() > 100:\n",
        "    df_grouped.loc[df_grouped[\"Normalized\"].idxmax(), \"Normalized\"] -= 1\n",
        "while df_grouped[\"Normalized\"].sum() < 100:\n",
        "    df_grouped.loc[df_grouped[\"Normalized\"].idxmax(), \"Normalized\"] += 1\n",
        "\n",
        "country_mapping = {country: i + 1 for i, country in enumerate(df_grouped[\"Country\"])}\n",
        "\n",
        "flat_list = []\n",
        "for team, count in zip(df_grouped[\"Country\"], df_grouped[\"Normalized\"]):\n",
        "    flat_list.extend([country_mapping[team]] * count)\n",
        "\n",
        "waffle_array = np.array(flat_list).reshape(10, 10, order=\"F\")\n",
        "\n",
        "label_map = {v: k for k, v in country_mapping.items()}\n",
        "labels = np.vectorize(label_map.get)(waffle_array)\n",
        "\n",
        "color_palette = [\"#00ECC2\", \"#0078FF\", \"#cbe58e\", \"#FF4359\"]\n",
        "country_colors = {country: color_palette[i] for i, country in enumerate(top_countries)}\n",
        "country_colors[\"Other\"] = \"rgba(170, 170, 170, 0.3)\"  # Light gray for others\n",
        "\n",
        "fig = go.Figure()\n",
        "\n",
        "fig.add_trace(\n",
        "    go.Heatmap(\n",
        "        x=np.arange(10), y=np.arange(10),\n",
        "        z=waffle_array, customdata=labels,\n",
        "        xgap=3, ygap=3,\n",
        "        colorscale=[(i / 4, color_palette[i]) for i in range(4)] + [(1.0, \"rgba(170, 170, 170, 0.3)\")],\n",
        "        showscale=False,\n",
        "        hovertemplate=\"%{customdata}<extra></extra>\"\n",
        "    )\n",
        ")\n",
        "\n",
        "for team, color in country_colors.items():\n",
        "    fig.add_trace(\n",
        "        go.Scatter(\n",
        "            x=[None], y=[None], mode='markers',\n",
        "            marker=dict(color=color, symbol='circle', size=10),\n",
        "            name=team\n",
        "        )\n",
        "    )\n",
        "\n",
        "\n",
        "fig.update_layout(\n",
        "    title=\"Swimming Participations – All Editions\",\n",
        "    width=400, height=400,\n",
        "    plot_bgcolor='rgba(0,0,0,0)',\n",
        "    paper_bgcolor='rgba(0,0,0,0)',\n",
        ")\n",
        "\n",
        "fig.update_xaxes(showgrid=False, zeroline=False, showticklabels=False)\n",
        "fig.update_yaxes(showgrid=False, zeroline=False, showticklabels=False)\n",
        "\n",
        "fig.show()"
      ]
    },
    {
      "cell_type": "code",
      "execution_count": null,
      "id": "wWVlG-LdwIGT",
      "metadata": {
        "colab": {
          "base_uri": "https://localhost:8080/",
          "height": 437
        },
        "id": "wWVlG-LdwIGT",
        "outputId": "c782ade9-1187-42f7-d77a-361094d12804"
      },
      "outputs": [
        {
          "data": {
            "application/vnd.plotly.v1+json": {
              "config": {
                "plotlyServerURL": "https://plot.ly"
              },
              "data": [
                {
                  "colorscale": [
                    [
                      0,
                      "#00ECC2"
                    ],
                    [
                      0.25,
                      "#0078FF"
                    ],
                    [
                      0.5,
                      "#cbe58e"
                    ],
                    [
                      0.75,
                      "#FF4359"
                    ],
                    [
                      1,
                      "rgba(170, 170, 170, 0.3)"
                    ]
                  ],
                  "customdata": [
                    [
                      "GBR",
                      "GBR",
                      "USA",
                      "USA",
                      "Other",
                      "Other",
                      "Other",
                      "Other",
                      "Other",
                      "Other"
                    ],
                    [
                      "GBR",
                      "GBR",
                      "USA",
                      "AUS",
                      "Other",
                      "Other",
                      "Other",
                      "Other",
                      "Other",
                      "Other"
                    ],
                    [
                      "GBR",
                      "GBR",
                      "USA",
                      "AUS",
                      "Other",
                      "Other",
                      "Other",
                      "Other",
                      "Other",
                      "Other"
                    ],
                    [
                      "GBR",
                      "GBR",
                      "USA",
                      "AUS",
                      "Other",
                      "Other",
                      "Other",
                      "Other",
                      "Other",
                      "Other"
                    ],
                    [
                      "GBR",
                      "GBR",
                      "USA",
                      "CAN",
                      "Other",
                      "Other",
                      "Other",
                      "Other",
                      "Other",
                      "Other"
                    ],
                    [
                      "GBR",
                      "GBR",
                      "USA",
                      "Other",
                      "Other",
                      "Other",
                      "Other",
                      "Other",
                      "Other",
                      "Other"
                    ],
                    [
                      "GBR",
                      "USA",
                      "USA",
                      "Other",
                      "Other",
                      "Other",
                      "Other",
                      "Other",
                      "Other",
                      "Other"
                    ],
                    [
                      "GBR",
                      "USA",
                      "USA",
                      "Other",
                      "Other",
                      "Other",
                      "Other",
                      "Other",
                      "Other",
                      "Other"
                    ],
                    [
                      "GBR",
                      "USA",
                      "USA",
                      "Other",
                      "Other",
                      "Other",
                      "Other",
                      "Other",
                      "Other",
                      "Other"
                    ],
                    [
                      "GBR",
                      "USA",
                      "USA",
                      "Other",
                      "Other",
                      "Other",
                      "Other",
                      "Other",
                      "Other",
                      "Other"
                    ]
                  ],
                  "hovertemplate": "%{customdata}<extra></extra>",
                  "showscale": false,
                  "type": "heatmap",
                  "x": [
                    0,
                    1,
                    2,
                    3,
                    4,
                    5,
                    6,
                    7,
                    8,
                    9
                  ],
                  "xaxis": "x",
                  "xgap": 3,
                  "y": [
                    0,
                    1,
                    2,
                    3,
                    4,
                    5,
                    6,
                    7,
                    8,
                    9
                  ],
                  "yaxis": "y",
                  "ygap": 3,
                  "z": [
                    [
                      1,
                      1,
                      2,
                      2,
                      5,
                      5,
                      5,
                      5,
                      5,
                      5
                    ],
                    [
                      1,
                      1,
                      2,
                      3,
                      5,
                      5,
                      5,
                      5,
                      5,
                      5
                    ],
                    [
                      1,
                      1,
                      2,
                      3,
                      5,
                      5,
                      5,
                      5,
                      5,
                      5
                    ],
                    [
                      1,
                      1,
                      2,
                      3,
                      5,
                      5,
                      5,
                      5,
                      5,
                      5
                    ],
                    [
                      1,
                      1,
                      2,
                      4,
                      5,
                      5,
                      5,
                      5,
                      5,
                      5
                    ],
                    [
                      1,
                      1,
                      2,
                      5,
                      5,
                      5,
                      5,
                      5,
                      5,
                      5
                    ],
                    [
                      1,
                      2,
                      2,
                      5,
                      5,
                      5,
                      5,
                      5,
                      5,
                      5
                    ],
                    [
                      1,
                      2,
                      2,
                      5,
                      5,
                      5,
                      5,
                      5,
                      5,
                      5
                    ],
                    [
                      1,
                      2,
                      2,
                      5,
                      5,
                      5,
                      5,
                      5,
                      5,
                      5
                    ],
                    [
                      1,
                      2,
                      2,
                      5,
                      5,
                      5,
                      5,
                      5,
                      5,
                      5
                    ]
                  ]
                },
                {
                  "colorscale": [
                    [
                      0,
                      "#00ECC2"
                    ],
                    [
                      0.25,
                      "#0078FF"
                    ],
                    [
                      0.5,
                      "#cbe58e"
                    ],
                    [
                      0.75,
                      "#FF4359"
                    ],
                    [
                      1,
                      "rgba(170, 170, 170, 0.3)"
                    ]
                  ],
                  "customdata": [
                    [
                      "USA",
                      "USA",
                      "CAN",
                      "Other",
                      "Other",
                      "Other",
                      "Other",
                      "Other",
                      "Other",
                      "Other"
                    ],
                    [
                      "USA",
                      "GBR",
                      "CAN",
                      "Other",
                      "Other",
                      "Other",
                      "Other",
                      "Other",
                      "Other",
                      "Other"
                    ],
                    [
                      "USA",
                      "GBR",
                      "CAN",
                      "Other",
                      "Other",
                      "Other",
                      "Other",
                      "Other",
                      "Other",
                      "Other"
                    ],
                    [
                      "USA",
                      "GBR",
                      "CAN",
                      "Other",
                      "Other",
                      "Other",
                      "Other",
                      "Other",
                      "Other",
                      "Other"
                    ],
                    [
                      "USA",
                      "GBR",
                      "CAN",
                      "Other",
                      "Other",
                      "Other",
                      "Other",
                      "Other",
                      "Other",
                      "Other"
                    ],
                    [
                      "USA",
                      "GBR",
                      "CAN",
                      "Other",
                      "Other",
                      "Other",
                      "Other",
                      "Other",
                      "Other",
                      "Other"
                    ],
                    [
                      "USA",
                      "GBR",
                      "AUS",
                      "Other",
                      "Other",
                      "Other",
                      "Other",
                      "Other",
                      "Other",
                      "Other"
                    ],
                    [
                      "USA",
                      "GBR",
                      "AUS",
                      "Other",
                      "Other",
                      "Other",
                      "Other",
                      "Other",
                      "Other",
                      "Other"
                    ],
                    [
                      "USA",
                      "GBR",
                      "AUS",
                      "Other",
                      "Other",
                      "Other",
                      "Other",
                      "Other",
                      "Other",
                      "Other"
                    ],
                    [
                      "USA",
                      "GBR",
                      "AUS",
                      "Other",
                      "Other",
                      "Other",
                      "Other",
                      "Other",
                      "Other",
                      "Other"
                    ]
                  ],
                  "hovertemplate": "%{customdata}<extra></extra>",
                  "showscale": false,
                  "type": "heatmap",
                  "x": [
                    0,
                    1,
                    2,
                    3,
                    4,
                    5,
                    6,
                    7,
                    8,
                    9
                  ],
                  "xaxis": "x2",
                  "xgap": 3,
                  "y": [
                    0,
                    1,
                    2,
                    3,
                    4,
                    5,
                    6,
                    7,
                    8,
                    9
                  ],
                  "yaxis": "y2",
                  "ygap": 3,
                  "z": [
                    [
                      1,
                      1,
                      3,
                      5,
                      5,
                      5,
                      5,
                      5,
                      5,
                      5
                    ],
                    [
                      1,
                      2,
                      3,
                      5,
                      5,
                      5,
                      5,
                      5,
                      5,
                      5
                    ],
                    [
                      1,
                      2,
                      3,
                      5,
                      5,
                      5,
                      5,
                      5,
                      5,
                      5
                    ],
                    [
                      1,
                      2,
                      3,
                      5,
                      5,
                      5,
                      5,
                      5,
                      5,
                      5
                    ],
                    [
                      1,
                      2,
                      3,
                      5,
                      5,
                      5,
                      5,
                      5,
                      5,
                      5
                    ],
                    [
                      1,
                      2,
                      3,
                      5,
                      5,
                      5,
                      5,
                      5,
                      5,
                      5
                    ],
                    [
                      1,
                      2,
                      4,
                      5,
                      5,
                      5,
                      5,
                      5,
                      5,
                      5
                    ],
                    [
                      1,
                      2,
                      4,
                      5,
                      5,
                      5,
                      5,
                      5,
                      5,
                      5
                    ],
                    [
                      1,
                      2,
                      4,
                      5,
                      5,
                      5,
                      5,
                      5,
                      5,
                      5
                    ],
                    [
                      1,
                      2,
                      4,
                      5,
                      5,
                      5,
                      5,
                      5,
                      5,
                      5
                    ]
                  ]
                },
                {
                  "colorscale": [
                    [
                      0,
                      "#00ECC2"
                    ],
                    [
                      0.25,
                      "#0078FF"
                    ],
                    [
                      0.5,
                      "#cbe58e"
                    ],
                    [
                      0.75,
                      "#FF4359"
                    ],
                    [
                      1,
                      "rgba(170, 170, 170, 0.3)"
                    ]
                  ],
                  "customdata": [
                    [
                      "USA",
                      "AUS",
                      "GBR",
                      "Other",
                      "Other",
                      "Other",
                      "Other",
                      "Other",
                      "Other",
                      "Other"
                    ],
                    [
                      "USA",
                      "AUS",
                      "CAN",
                      "Other",
                      "Other",
                      "Other",
                      "Other",
                      "Other",
                      "Other",
                      "Other"
                    ],
                    [
                      "USA",
                      "AUS",
                      "CAN",
                      "Other",
                      "Other",
                      "Other",
                      "Other",
                      "Other",
                      "Other",
                      "Other"
                    ],
                    [
                      "USA",
                      "AUS",
                      "CAN",
                      "Other",
                      "Other",
                      "Other",
                      "Other",
                      "Other",
                      "Other",
                      "Other"
                    ],
                    [
                      "USA",
                      "AUS",
                      "CAN",
                      "Other",
                      "Other",
                      "Other",
                      "Other",
                      "Other",
                      "Other",
                      "Other"
                    ],
                    [
                      "USA",
                      "GBR",
                      "CAN",
                      "Other",
                      "Other",
                      "Other",
                      "Other",
                      "Other",
                      "Other",
                      "Other"
                    ],
                    [
                      "USA",
                      "GBR",
                      "Other",
                      "Other",
                      "Other",
                      "Other",
                      "Other",
                      "Other",
                      "Other",
                      "Other"
                    ],
                    [
                      "USA",
                      "GBR",
                      "Other",
                      "Other",
                      "Other",
                      "Other",
                      "Other",
                      "Other",
                      "Other",
                      "Other"
                    ],
                    [
                      "AUS",
                      "GBR",
                      "Other",
                      "Other",
                      "Other",
                      "Other",
                      "Other",
                      "Other",
                      "Other",
                      "Other"
                    ],
                    [
                      "AUS",
                      "GBR",
                      "Other",
                      "Other",
                      "Other",
                      "Other",
                      "Other",
                      "Other",
                      "Other",
                      "Other"
                    ]
                  ],
                  "hovertemplate": "%{customdata}<extra></extra>",
                  "showscale": false,
                  "type": "heatmap",
                  "x": [
                    0,
                    1,
                    2,
                    3,
                    4,
                    5,
                    6,
                    7,
                    8,
                    9
                  ],
                  "xaxis": "x3",
                  "xgap": 3,
                  "y": [
                    0,
                    1,
                    2,
                    3,
                    4,
                    5,
                    6,
                    7,
                    8,
                    9
                  ],
                  "yaxis": "y3",
                  "ygap": 3,
                  "z": [
                    [
                      1,
                      2,
                      3,
                      5,
                      5,
                      5,
                      5,
                      5,
                      5,
                      5
                    ],
                    [
                      1,
                      2,
                      4,
                      5,
                      5,
                      5,
                      5,
                      5,
                      5,
                      5
                    ],
                    [
                      1,
                      2,
                      4,
                      5,
                      5,
                      5,
                      5,
                      5,
                      5,
                      5
                    ],
                    [
                      1,
                      2,
                      4,
                      5,
                      5,
                      5,
                      5,
                      5,
                      5,
                      5
                    ],
                    [
                      1,
                      2,
                      4,
                      5,
                      5,
                      5,
                      5,
                      5,
                      5,
                      5
                    ],
                    [
                      1,
                      3,
                      4,
                      5,
                      5,
                      5,
                      5,
                      5,
                      5,
                      5
                    ],
                    [
                      1,
                      3,
                      5,
                      5,
                      5,
                      5,
                      5,
                      5,
                      5,
                      5
                    ],
                    [
                      1,
                      3,
                      5,
                      5,
                      5,
                      5,
                      5,
                      5,
                      5,
                      5
                    ],
                    [
                      2,
                      3,
                      5,
                      5,
                      5,
                      5,
                      5,
                      5,
                      5,
                      5
                    ],
                    [
                      2,
                      3,
                      5,
                      5,
                      5,
                      5,
                      5,
                      5,
                      5,
                      5
                    ]
                  ]
                },
                {
                  "colorscale": [
                    [
                      0,
                      "#00ECC2"
                    ],
                    [
                      0.25,
                      "#0078FF"
                    ],
                    [
                      0.5,
                      "#cbe58e"
                    ],
                    [
                      0.75,
                      "#FF4359"
                    ],
                    [
                      1,
                      "rgba(170, 170, 170, 0.3)"
                    ]
                  ],
                  "customdata": [
                    [
                      "USA",
                      "GBR",
                      "Other",
                      "Other",
                      "Other",
                      "Other",
                      "Other",
                      "Other",
                      "Other",
                      "Other"
                    ],
                    [
                      "USA",
                      "GBR",
                      "Other",
                      "Other",
                      "Other",
                      "Other",
                      "Other",
                      "Other",
                      "Other",
                      "Other"
                    ],
                    [
                      "USA",
                      "GBR",
                      "Other",
                      "Other",
                      "Other",
                      "Other",
                      "Other",
                      "Other",
                      "Other",
                      "Other"
                    ],
                    [
                      "USA",
                      "GBR",
                      "Other",
                      "Other",
                      "Other",
                      "Other",
                      "Other",
                      "Other",
                      "Other",
                      "Other"
                    ],
                    [
                      "USA",
                      "CAN",
                      "Other",
                      "Other",
                      "Other",
                      "Other",
                      "Other",
                      "Other",
                      "Other",
                      "Other"
                    ],
                    [
                      "AUS",
                      "CAN",
                      "Other",
                      "Other",
                      "Other",
                      "Other",
                      "Other",
                      "Other",
                      "Other",
                      "Other"
                    ],
                    [
                      "AUS",
                      "CAN",
                      "Other",
                      "Other",
                      "Other",
                      "Other",
                      "Other",
                      "Other",
                      "Other",
                      "Other"
                    ],
                    [
                      "AUS",
                      "CAN",
                      "Other",
                      "Other",
                      "Other",
                      "Other",
                      "Other",
                      "Other",
                      "Other",
                      "Other"
                    ],
                    [
                      "AUS",
                      "Other",
                      "Other",
                      "Other",
                      "Other",
                      "Other",
                      "Other",
                      "Other",
                      "Other",
                      "Other"
                    ],
                    [
                      "AUS",
                      "Other",
                      "Other",
                      "Other",
                      "Other",
                      "Other",
                      "Other",
                      "Other",
                      "Other",
                      "Other"
                    ]
                  ],
                  "hovertemplate": "%{customdata}<extra></extra>",
                  "showscale": false,
                  "type": "heatmap",
                  "x": [
                    0,
                    1,
                    2,
                    3,
                    4,
                    5,
                    6,
                    7,
                    8,
                    9
                  ],
                  "xaxis": "x4",
                  "xgap": 3,
                  "y": [
                    0,
                    1,
                    2,
                    3,
                    4,
                    5,
                    6,
                    7,
                    8,
                    9
                  ],
                  "yaxis": "y4",
                  "ygap": 3,
                  "z": [
                    [
                      1,
                      3,
                      5,
                      5,
                      5,
                      5,
                      5,
                      5,
                      5,
                      5
                    ],
                    [
                      1,
                      3,
                      5,
                      5,
                      5,
                      5,
                      5,
                      5,
                      5,
                      5
                    ],
                    [
                      1,
                      3,
                      5,
                      5,
                      5,
                      5,
                      5,
                      5,
                      5,
                      5
                    ],
                    [
                      1,
                      3,
                      5,
                      5,
                      5,
                      5,
                      5,
                      5,
                      5,
                      5
                    ],
                    [
                      1,
                      4,
                      5,
                      5,
                      5,
                      5,
                      5,
                      5,
                      5,
                      5
                    ],
                    [
                      2,
                      4,
                      5,
                      5,
                      5,
                      5,
                      5,
                      5,
                      5,
                      5
                    ],
                    [
                      2,
                      4,
                      5,
                      5,
                      5,
                      5,
                      5,
                      5,
                      5,
                      5
                    ],
                    [
                      2,
                      4,
                      5,
                      5,
                      5,
                      5,
                      5,
                      5,
                      5,
                      5
                    ],
                    [
                      2,
                      5,
                      5,
                      5,
                      5,
                      5,
                      5,
                      5,
                      5,
                      5
                    ],
                    [
                      2,
                      5,
                      5,
                      5,
                      5,
                      5,
                      5,
                      5,
                      5,
                      5
                    ]
                  ]
                },
                {
                  "colorscale": [
                    [
                      0,
                      "#00ECC2"
                    ],
                    [
                      0.25,
                      "#0078FF"
                    ],
                    [
                      0.5,
                      "#cbe58e"
                    ],
                    [
                      0.75,
                      "#FF4359"
                    ],
                    [
                      1,
                      "rgba(170, 170, 170, 0.3)"
                    ]
                  ],
                  "customdata": [
                    [
                      "USA",
                      "AUS",
                      "Other",
                      "Other",
                      "Other",
                      "Other",
                      "Other",
                      "Other",
                      "Other",
                      "Other"
                    ],
                    [
                      "USA",
                      "AUS",
                      "Other",
                      "Other",
                      "Other",
                      "Other",
                      "Other",
                      "Other",
                      "Other",
                      "Other"
                    ],
                    [
                      "USA",
                      "GBR",
                      "Other",
                      "Other",
                      "Other",
                      "Other",
                      "Other",
                      "Other",
                      "Other",
                      "Other"
                    ],
                    [
                      "USA",
                      "GBR",
                      "Other",
                      "Other",
                      "Other",
                      "Other",
                      "Other",
                      "Other",
                      "Other",
                      "Other"
                    ],
                    [
                      "USA",
                      "GBR",
                      "Other",
                      "Other",
                      "Other",
                      "Other",
                      "Other",
                      "Other",
                      "Other",
                      "Other"
                    ],
                    [
                      "USA",
                      "GBR",
                      "Other",
                      "Other",
                      "Other",
                      "Other",
                      "Other",
                      "Other",
                      "Other",
                      "Other"
                    ],
                    [
                      "AUS",
                      "CAN",
                      "Other",
                      "Other",
                      "Other",
                      "Other",
                      "Other",
                      "Other",
                      "Other",
                      "Other"
                    ],
                    [
                      "AUS",
                      "CAN",
                      "Other",
                      "Other",
                      "Other",
                      "Other",
                      "Other",
                      "Other",
                      "Other",
                      "Other"
                    ],
                    [
                      "AUS",
                      "CAN",
                      "Other",
                      "Other",
                      "Other",
                      "Other",
                      "Other",
                      "Other",
                      "Other",
                      "Other"
                    ],
                    [
                      "AUS",
                      "CAN",
                      "Other",
                      "Other",
                      "Other",
                      "Other",
                      "Other",
                      "Other",
                      "Other",
                      "Other"
                    ]
                  ],
                  "hovertemplate": "%{customdata}<extra></extra>",
                  "showscale": false,
                  "type": "heatmap",
                  "x": [
                    0,
                    1,
                    2,
                    3,
                    4,
                    5,
                    6,
                    7,
                    8,
                    9
                  ],
                  "xaxis": "x5",
                  "xgap": 3,
                  "y": [
                    0,
                    1,
                    2,
                    3,
                    4,
                    5,
                    6,
                    7,
                    8,
                    9
                  ],
                  "yaxis": "y5",
                  "ygap": 3,
                  "z": [
                    [
                      1,
                      2,
                      5,
                      5,
                      5,
                      5,
                      5,
                      5,
                      5,
                      5
                    ],
                    [
                      1,
                      2,
                      5,
                      5,
                      5,
                      5,
                      5,
                      5,
                      5,
                      5
                    ],
                    [
                      1,
                      3,
                      5,
                      5,
                      5,
                      5,
                      5,
                      5,
                      5,
                      5
                    ],
                    [
                      1,
                      3,
                      5,
                      5,
                      5,
                      5,
                      5,
                      5,
                      5,
                      5
                    ],
                    [
                      1,
                      3,
                      5,
                      5,
                      5,
                      5,
                      5,
                      5,
                      5,
                      5
                    ],
                    [
                      1,
                      3,
                      5,
                      5,
                      5,
                      5,
                      5,
                      5,
                      5,
                      5
                    ],
                    [
                      2,
                      4,
                      5,
                      5,
                      5,
                      5,
                      5,
                      5,
                      5,
                      5
                    ],
                    [
                      2,
                      4,
                      5,
                      5,
                      5,
                      5,
                      5,
                      5,
                      5,
                      5
                    ],
                    [
                      2,
                      4,
                      5,
                      5,
                      5,
                      5,
                      5,
                      5,
                      5,
                      5
                    ],
                    [
                      2,
                      4,
                      5,
                      5,
                      5,
                      5,
                      5,
                      5,
                      5,
                      5
                    ]
                  ]
                },
                {
                  "marker": {
                    "color": "#00ECC2",
                    "size": 10,
                    "symbol": "circle"
                  },
                  "mode": "markers",
                  "name": "USA",
                  "type": "scatter",
                  "x": [
                    null
                  ],
                  "y": [
                    null
                  ]
                },
                {
                  "marker": {
                    "color": "#0078FF",
                    "size": 10,
                    "symbol": "circle"
                  },
                  "mode": "markers",
                  "name": "GBR",
                  "type": "scatter",
                  "x": [
                    null
                  ],
                  "y": [
                    null
                  ]
                },
                {
                  "marker": {
                    "color": "#cbe58e",
                    "size": 10,
                    "symbol": "circle"
                  },
                  "mode": "markers",
                  "name": "AUS",
                  "type": "scatter",
                  "x": [
                    null
                  ],
                  "y": [
                    null
                  ]
                },
                {
                  "marker": {
                    "color": "#FF4359",
                    "size": 10,
                    "symbol": "circle"
                  },
                  "mode": "markers",
                  "name": "CAN",
                  "type": "scatter",
                  "x": [
                    null
                  ],
                  "y": [
                    null
                  ]
                },
                {
                  "marker": {
                    "color": "rgba(170, 170, 170, 0.3)",
                    "size": 10,
                    "symbol": "circle"
                  },
                  "mode": "markers",
                  "name": "Other",
                  "type": "scatter",
                  "x": [
                    null
                  ],
                  "y": [
                    null
                  ]
                }
              ],
              "layout": {
                "annotations": [
                  {
                    "font": {
                      "size": 16
                    },
                    "showarrow": false,
                    "text": "1896-1920",
                    "x": 0.08399999999999999,
                    "xanchor": "center",
                    "xref": "paper",
                    "y": 1,
                    "yanchor": "bottom",
                    "yref": "paper"
                  },
                  {
                    "font": {
                      "size": 16
                    },
                    "showarrow": false,
                    "text": "1924-1952",
                    "x": 0.292,
                    "xanchor": "center",
                    "xref": "paper",
                    "y": 1,
                    "yanchor": "bottom",
                    "yref": "paper"
                  },
                  {
                    "font": {
                      "size": 16
                    },
                    "showarrow": false,
                    "text": "1956-1984",
                    "x": 0.5,
                    "xanchor": "center",
                    "xref": "paper",
                    "y": 1,
                    "yanchor": "bottom",
                    "yref": "paper"
                  },
                  {
                    "font": {
                      "size": 16
                    },
                    "showarrow": false,
                    "text": "1988-2008",
                    "x": 0.708,
                    "xanchor": "center",
                    "xref": "paper",
                    "y": 1,
                    "yanchor": "bottom",
                    "yref": "paper"
                  },
                  {
                    "font": {
                      "size": 16
                    },
                    "showarrow": false,
                    "text": "2012-2020",
                    "x": 0.9159999999999999,
                    "xanchor": "center",
                    "xref": "paper",
                    "y": 1,
                    "yanchor": "bottom",
                    "yref": "paper"
                  }
                ],
                "height": 400,
                "paper_bgcolor": "rgba(0,0,0,0)",
                "plot_bgcolor": "rgba(0,0,0,0)",
                "template": {
                  "data": {
                    "bar": [
                      {
                        "error_x": {
                          "color": "#2a3f5f"
                        },
                        "error_y": {
                          "color": "#2a3f5f"
                        },
                        "marker": {
                          "line": {
                            "color": "#E5ECF6",
                            "width": 0.5
                          },
                          "pattern": {
                            "fillmode": "overlay",
                            "size": 10,
                            "solidity": 0.2
                          }
                        },
                        "type": "bar"
                      }
                    ],
                    "barpolar": [
                      {
                        "marker": {
                          "line": {
                            "color": "#E5ECF6",
                            "width": 0.5
                          },
                          "pattern": {
                            "fillmode": "overlay",
                            "size": 10,
                            "solidity": 0.2
                          }
                        },
                        "type": "barpolar"
                      }
                    ],
                    "carpet": [
                      {
                        "aaxis": {
                          "endlinecolor": "#2a3f5f",
                          "gridcolor": "white",
                          "linecolor": "white",
                          "minorgridcolor": "white",
                          "startlinecolor": "#2a3f5f"
                        },
                        "baxis": {
                          "endlinecolor": "#2a3f5f",
                          "gridcolor": "white",
                          "linecolor": "white",
                          "minorgridcolor": "white",
                          "startlinecolor": "#2a3f5f"
                        },
                        "type": "carpet"
                      }
                    ],
                    "choropleth": [
                      {
                        "colorbar": {
                          "outlinewidth": 0,
                          "ticks": ""
                        },
                        "type": "choropleth"
                      }
                    ],
                    "contour": [
                      {
                        "colorbar": {
                          "outlinewidth": 0,
                          "ticks": ""
                        },
                        "colorscale": [
                          [
                            0,
                            "#0d0887"
                          ],
                          [
                            0.1111111111111111,
                            "#46039f"
                          ],
                          [
                            0.2222222222222222,
                            "#7201a8"
                          ],
                          [
                            0.3333333333333333,
                            "#9c179e"
                          ],
                          [
                            0.4444444444444444,
                            "#bd3786"
                          ],
                          [
                            0.5555555555555556,
                            "#d8576b"
                          ],
                          [
                            0.6666666666666666,
                            "#ed7953"
                          ],
                          [
                            0.7777777777777778,
                            "#fb9f3a"
                          ],
                          [
                            0.8888888888888888,
                            "#fdca26"
                          ],
                          [
                            1,
                            "#f0f921"
                          ]
                        ],
                        "type": "contour"
                      }
                    ],
                    "contourcarpet": [
                      {
                        "colorbar": {
                          "outlinewidth": 0,
                          "ticks": ""
                        },
                        "type": "contourcarpet"
                      }
                    ],
                    "heatmap": [
                      {
                        "colorbar": {
                          "outlinewidth": 0,
                          "ticks": ""
                        },
                        "colorscale": [
                          [
                            0,
                            "#0d0887"
                          ],
                          [
                            0.1111111111111111,
                            "#46039f"
                          ],
                          [
                            0.2222222222222222,
                            "#7201a8"
                          ],
                          [
                            0.3333333333333333,
                            "#9c179e"
                          ],
                          [
                            0.4444444444444444,
                            "#bd3786"
                          ],
                          [
                            0.5555555555555556,
                            "#d8576b"
                          ],
                          [
                            0.6666666666666666,
                            "#ed7953"
                          ],
                          [
                            0.7777777777777778,
                            "#fb9f3a"
                          ],
                          [
                            0.8888888888888888,
                            "#fdca26"
                          ],
                          [
                            1,
                            "#f0f921"
                          ]
                        ],
                        "type": "heatmap"
                      }
                    ],
                    "heatmapgl": [
                      {
                        "colorbar": {
                          "outlinewidth": 0,
                          "ticks": ""
                        },
                        "colorscale": [
                          [
                            0,
                            "#0d0887"
                          ],
                          [
                            0.1111111111111111,
                            "#46039f"
                          ],
                          [
                            0.2222222222222222,
                            "#7201a8"
                          ],
                          [
                            0.3333333333333333,
                            "#9c179e"
                          ],
                          [
                            0.4444444444444444,
                            "#bd3786"
                          ],
                          [
                            0.5555555555555556,
                            "#d8576b"
                          ],
                          [
                            0.6666666666666666,
                            "#ed7953"
                          ],
                          [
                            0.7777777777777778,
                            "#fb9f3a"
                          ],
                          [
                            0.8888888888888888,
                            "#fdca26"
                          ],
                          [
                            1,
                            "#f0f921"
                          ]
                        ],
                        "type": "heatmapgl"
                      }
                    ],
                    "histogram": [
                      {
                        "marker": {
                          "pattern": {
                            "fillmode": "overlay",
                            "size": 10,
                            "solidity": 0.2
                          }
                        },
                        "type": "histogram"
                      }
                    ],
                    "histogram2d": [
                      {
                        "colorbar": {
                          "outlinewidth": 0,
                          "ticks": ""
                        },
                        "colorscale": [
                          [
                            0,
                            "#0d0887"
                          ],
                          [
                            0.1111111111111111,
                            "#46039f"
                          ],
                          [
                            0.2222222222222222,
                            "#7201a8"
                          ],
                          [
                            0.3333333333333333,
                            "#9c179e"
                          ],
                          [
                            0.4444444444444444,
                            "#bd3786"
                          ],
                          [
                            0.5555555555555556,
                            "#d8576b"
                          ],
                          [
                            0.6666666666666666,
                            "#ed7953"
                          ],
                          [
                            0.7777777777777778,
                            "#fb9f3a"
                          ],
                          [
                            0.8888888888888888,
                            "#fdca26"
                          ],
                          [
                            1,
                            "#f0f921"
                          ]
                        ],
                        "type": "histogram2d"
                      }
                    ],
                    "histogram2dcontour": [
                      {
                        "colorbar": {
                          "outlinewidth": 0,
                          "ticks": ""
                        },
                        "colorscale": [
                          [
                            0,
                            "#0d0887"
                          ],
                          [
                            0.1111111111111111,
                            "#46039f"
                          ],
                          [
                            0.2222222222222222,
                            "#7201a8"
                          ],
                          [
                            0.3333333333333333,
                            "#9c179e"
                          ],
                          [
                            0.4444444444444444,
                            "#bd3786"
                          ],
                          [
                            0.5555555555555556,
                            "#d8576b"
                          ],
                          [
                            0.6666666666666666,
                            "#ed7953"
                          ],
                          [
                            0.7777777777777778,
                            "#fb9f3a"
                          ],
                          [
                            0.8888888888888888,
                            "#fdca26"
                          ],
                          [
                            1,
                            "#f0f921"
                          ]
                        ],
                        "type": "histogram2dcontour"
                      }
                    ],
                    "mesh3d": [
                      {
                        "colorbar": {
                          "outlinewidth": 0,
                          "ticks": ""
                        },
                        "type": "mesh3d"
                      }
                    ],
                    "parcoords": [
                      {
                        "line": {
                          "colorbar": {
                            "outlinewidth": 0,
                            "ticks": ""
                          }
                        },
                        "type": "parcoords"
                      }
                    ],
                    "pie": [
                      {
                        "automargin": true,
                        "type": "pie"
                      }
                    ],
                    "scatter": [
                      {
                        "fillpattern": {
                          "fillmode": "overlay",
                          "size": 10,
                          "solidity": 0.2
                        },
                        "type": "scatter"
                      }
                    ],
                    "scatter3d": [
                      {
                        "line": {
                          "colorbar": {
                            "outlinewidth": 0,
                            "ticks": ""
                          }
                        },
                        "marker": {
                          "colorbar": {
                            "outlinewidth": 0,
                            "ticks": ""
                          }
                        },
                        "type": "scatter3d"
                      }
                    ],
                    "scattercarpet": [
                      {
                        "marker": {
                          "colorbar": {
                            "outlinewidth": 0,
                            "ticks": ""
                          }
                        },
                        "type": "scattercarpet"
                      }
                    ],
                    "scattergeo": [
                      {
                        "marker": {
                          "colorbar": {
                            "outlinewidth": 0,
                            "ticks": ""
                          }
                        },
                        "type": "scattergeo"
                      }
                    ],
                    "scattergl": [
                      {
                        "marker": {
                          "colorbar": {
                            "outlinewidth": 0,
                            "ticks": ""
                          }
                        },
                        "type": "scattergl"
                      }
                    ],
                    "scattermapbox": [
                      {
                        "marker": {
                          "colorbar": {
                            "outlinewidth": 0,
                            "ticks": ""
                          }
                        },
                        "type": "scattermapbox"
                      }
                    ],
                    "scatterpolar": [
                      {
                        "marker": {
                          "colorbar": {
                            "outlinewidth": 0,
                            "ticks": ""
                          }
                        },
                        "type": "scatterpolar"
                      }
                    ],
                    "scatterpolargl": [
                      {
                        "marker": {
                          "colorbar": {
                            "outlinewidth": 0,
                            "ticks": ""
                          }
                        },
                        "type": "scatterpolargl"
                      }
                    ],
                    "scatterternary": [
                      {
                        "marker": {
                          "colorbar": {
                            "outlinewidth": 0,
                            "ticks": ""
                          }
                        },
                        "type": "scatterternary"
                      }
                    ],
                    "surface": [
                      {
                        "colorbar": {
                          "outlinewidth": 0,
                          "ticks": ""
                        },
                        "colorscale": [
                          [
                            0,
                            "#0d0887"
                          ],
                          [
                            0.1111111111111111,
                            "#46039f"
                          ],
                          [
                            0.2222222222222222,
                            "#7201a8"
                          ],
                          [
                            0.3333333333333333,
                            "#9c179e"
                          ],
                          [
                            0.4444444444444444,
                            "#bd3786"
                          ],
                          [
                            0.5555555555555556,
                            "#d8576b"
                          ],
                          [
                            0.6666666666666666,
                            "#ed7953"
                          ],
                          [
                            0.7777777777777778,
                            "#fb9f3a"
                          ],
                          [
                            0.8888888888888888,
                            "#fdca26"
                          ],
                          [
                            1,
                            "#f0f921"
                          ]
                        ],
                        "type": "surface"
                      }
                    ],
                    "table": [
                      {
                        "cells": {
                          "fill": {
                            "color": "#EBF0F8"
                          },
                          "line": {
                            "color": "white"
                          }
                        },
                        "header": {
                          "fill": {
                            "color": "#C8D4E3"
                          },
                          "line": {
                            "color": "white"
                          }
                        },
                        "type": "table"
                      }
                    ]
                  },
                  "layout": {
                    "annotationdefaults": {
                      "arrowcolor": "#2a3f5f",
                      "arrowhead": 0,
                      "arrowwidth": 1
                    },
                    "autotypenumbers": "strict",
                    "coloraxis": {
                      "colorbar": {
                        "outlinewidth": 0,
                        "ticks": ""
                      }
                    },
                    "colorscale": {
                      "diverging": [
                        [
                          0,
                          "#8e0152"
                        ],
                        [
                          0.1,
                          "#c51b7d"
                        ],
                        [
                          0.2,
                          "#de77ae"
                        ],
                        [
                          0.3,
                          "#f1b6da"
                        ],
                        [
                          0.4,
                          "#fde0ef"
                        ],
                        [
                          0.5,
                          "#f7f7f7"
                        ],
                        [
                          0.6,
                          "#e6f5d0"
                        ],
                        [
                          0.7,
                          "#b8e186"
                        ],
                        [
                          0.8,
                          "#7fbc41"
                        ],
                        [
                          0.9,
                          "#4d9221"
                        ],
                        [
                          1,
                          "#276419"
                        ]
                      ],
                      "sequential": [
                        [
                          0,
                          "#0d0887"
                        ],
                        [
                          0.1111111111111111,
                          "#46039f"
                        ],
                        [
                          0.2222222222222222,
                          "#7201a8"
                        ],
                        [
                          0.3333333333333333,
                          "#9c179e"
                        ],
                        [
                          0.4444444444444444,
                          "#bd3786"
                        ],
                        [
                          0.5555555555555556,
                          "#d8576b"
                        ],
                        [
                          0.6666666666666666,
                          "#ed7953"
                        ],
                        [
                          0.7777777777777778,
                          "#fb9f3a"
                        ],
                        [
                          0.8888888888888888,
                          "#fdca26"
                        ],
                        [
                          1,
                          "#f0f921"
                        ]
                      ],
                      "sequentialminus": [
                        [
                          0,
                          "#0d0887"
                        ],
                        [
                          0.1111111111111111,
                          "#46039f"
                        ],
                        [
                          0.2222222222222222,
                          "#7201a8"
                        ],
                        [
                          0.3333333333333333,
                          "#9c179e"
                        ],
                        [
                          0.4444444444444444,
                          "#bd3786"
                        ],
                        [
                          0.5555555555555556,
                          "#d8576b"
                        ],
                        [
                          0.6666666666666666,
                          "#ed7953"
                        ],
                        [
                          0.7777777777777778,
                          "#fb9f3a"
                        ],
                        [
                          0.8888888888888888,
                          "#fdca26"
                        ],
                        [
                          1,
                          "#f0f921"
                        ]
                      ]
                    },
                    "colorway": [
                      "#636efa",
                      "#EF553B",
                      "#00cc96",
                      "#ab63fa",
                      "#FFA15A",
                      "#19d3f3",
                      "#FF6692",
                      "#B6E880",
                      "#FF97FF",
                      "#FECB52"
                    ],
                    "font": {
                      "color": "#2a3f5f"
                    },
                    "geo": {
                      "bgcolor": "white",
                      "lakecolor": "white",
                      "landcolor": "#E5ECF6",
                      "showlakes": true,
                      "showland": true,
                      "subunitcolor": "white"
                    },
                    "hoverlabel": {
                      "align": "left"
                    },
                    "hovermode": "closest",
                    "mapbox": {
                      "style": "light"
                    },
                    "paper_bgcolor": "white",
                    "plot_bgcolor": "#E5ECF6",
                    "polar": {
                      "angularaxis": {
                        "gridcolor": "white",
                        "linecolor": "white",
                        "ticks": ""
                      },
                      "bgcolor": "#E5ECF6",
                      "radialaxis": {
                        "gridcolor": "white",
                        "linecolor": "white",
                        "ticks": ""
                      }
                    },
                    "scene": {
                      "xaxis": {
                        "backgroundcolor": "#E5ECF6",
                        "gridcolor": "white",
                        "gridwidth": 2,
                        "linecolor": "white",
                        "showbackground": true,
                        "ticks": "",
                        "zerolinecolor": "white"
                      },
                      "yaxis": {
                        "backgroundcolor": "#E5ECF6",
                        "gridcolor": "white",
                        "gridwidth": 2,
                        "linecolor": "white",
                        "showbackground": true,
                        "ticks": "",
                        "zerolinecolor": "white"
                      },
                      "zaxis": {
                        "backgroundcolor": "#E5ECF6",
                        "gridcolor": "white",
                        "gridwidth": 2,
                        "linecolor": "white",
                        "showbackground": true,
                        "ticks": "",
                        "zerolinecolor": "white"
                      }
                    },
                    "shapedefaults": {
                      "line": {
                        "color": "#2a3f5f"
                      }
                    },
                    "ternary": {
                      "aaxis": {
                        "gridcolor": "white",
                        "linecolor": "white",
                        "ticks": ""
                      },
                      "baxis": {
                        "gridcolor": "white",
                        "linecolor": "white",
                        "ticks": ""
                      },
                      "bgcolor": "#E5ECF6",
                      "caxis": {
                        "gridcolor": "white",
                        "linecolor": "white",
                        "ticks": ""
                      }
                    },
                    "title": {
                      "x": 0.05
                    },
                    "xaxis": {
                      "automargin": true,
                      "gridcolor": "white",
                      "linecolor": "white",
                      "ticks": "",
                      "title": {
                        "standoff": 15
                      },
                      "zerolinecolor": "white",
                      "zerolinewidth": 2
                    },
                    "yaxis": {
                      "automargin": true,
                      "gridcolor": "white",
                      "linecolor": "white",
                      "ticks": "",
                      "title": {
                        "standoff": 15
                      },
                      "zerolinecolor": "white",
                      "zerolinewidth": 2
                    }
                  }
                },
                "title": {
                  "text": "Swimming Participations by Period (Each Square Represents 1% of Participations)"
                },
                "width": 1500,
                "xaxis": {
                  "anchor": "y",
                  "domain": [
                    0,
                    0.16799999999999998
                  ],
                  "showgrid": false,
                  "showticklabels": false,
                  "zeroline": false
                },
                "xaxis2": {
                  "anchor": "y2",
                  "domain": [
                    0.208,
                    0.376
                  ],
                  "showgrid": false,
                  "showticklabels": false,
                  "zeroline": false
                },
                "xaxis3": {
                  "anchor": "y3",
                  "domain": [
                    0.416,
                    0.584
                  ],
                  "showgrid": false,
                  "showticklabels": false,
                  "zeroline": false
                },
                "xaxis4": {
                  "anchor": "y4",
                  "domain": [
                    0.624,
                    0.792
                  ],
                  "showgrid": false,
                  "showticklabels": false,
                  "zeroline": false
                },
                "xaxis5": {
                  "anchor": "y5",
                  "domain": [
                    0.832,
                    1
                  ],
                  "showgrid": false,
                  "showticklabels": false,
                  "zeroline": false
                },
                "yaxis": {
                  "anchor": "x",
                  "domain": [
                    0,
                    1
                  ],
                  "showgrid": false,
                  "showticklabels": false,
                  "zeroline": false
                },
                "yaxis2": {
                  "anchor": "x2",
                  "domain": [
                    0,
                    1
                  ],
                  "showgrid": false,
                  "showticklabels": false,
                  "zeroline": false
                },
                "yaxis3": {
                  "anchor": "x3",
                  "domain": [
                    0,
                    1
                  ],
                  "showgrid": false,
                  "showticklabels": false,
                  "zeroline": false
                },
                "yaxis4": {
                  "anchor": "x4",
                  "domain": [
                    0,
                    1
                  ],
                  "showgrid": false,
                  "showticklabels": false,
                  "zeroline": false
                },
                "yaxis5": {
                  "anchor": "x5",
                  "domain": [
                    0,
                    1
                  ],
                  "showgrid": false,
                  "showticklabels": false,
                  "zeroline": false
                }
              }
            }
          },
          "metadata": {},
          "output_type": "display_data"
        }
      ],
      "source": [
        "year_groups = [\n",
        "    (1896, 1920),\n",
        "    (1924, 1952),\n",
        "    (1956, 1984),\n",
        "    (1988, 2008),\n",
        "    (2012, 2020)\n",
        "]\n",
        "\n",
        "df_swimming = olympics_data[olympics_data[\"Sport\"] == \"Swimming\"]\n",
        "total_participation_counts = df_swimming[\"NOC\"].value_counts()\n",
        "\n",
        "top_countries = total_participation_counts.head(3).index.tolist() + ['CAN']\n",
        "\n",
        "color_palette = [\"#00ECC2\", \"#0078FF\", \"#cbe58e\", \"#FF4359\"]\n",
        "country_colors = {country: color_palette[i] for i, country in enumerate(top_countries)}\n",
        "country_colors[\"Other\"] = \"rgba(170, 170, 170, 0.3)\"\n",
        "\n",
        "fig = make_subplots(rows=1, cols=5, subplot_titles=[f\"{start}-{end}\" for start, end in year_groups])\n",
        "\n",
        "for idx, (start, end) in enumerate(year_groups):\n",
        "    df_period = df_swimming[(df_swimming[\"Year\"] >= start) & (df_swimming[\"Year\"] <= end)]\n",
        "    df_grouped = df_period[\"NOC\"].value_counts().reset_index()\n",
        "    df_grouped.columns = [\"Country\", \"Participations\"]\n",
        "    df_grouped[\"Country\"] = df_grouped[\"Country\"].apply(lambda x: x if x in top_countries else \"Other\")\n",
        "\n",
        "    df_grouped = df_grouped.groupby(\"Country\")[\"Participations\"].sum().reset_index()\n",
        "\n",
        "    df_grouped = df_grouped.sort_values(by=\"Participations\", ascending=False)\n",
        "    if \"Other\" in df_grouped[\"Country\"].values:\n",
        "        df_grouped = pd.concat([\n",
        "            df_grouped[df_grouped[\"Country\"] != \"Other\"],\n",
        "            df_grouped[df_grouped[\"Country\"] == \"Other\"]\n",
        "        ])\n",
        "\n",
        "    df_grouped[\"Normalized\"] = (df_grouped[\"Participations\"] / df_grouped[\"Participations\"].sum() * 100).round().astype(int)\n",
        "\n",
        "    while df_grouped[\"Normalized\"].sum() > 100:\n",
        "        df_grouped.loc[df_grouped[\"Normalized\"].idxmax(), \"Normalized\"] -= 1\n",
        "    while df_grouped[\"Normalized\"].sum() < 100:\n",
        "        df_grouped.loc[df_grouped[\"Normalized\"].idxmax(), \"Normalized\"] += 1\n",
        "\n",
        "    country_mapping = {country: i + 1 for i, country in enumerate(df_grouped[\"Country\"])}\n",
        "\n",
        "    flat_list = []\n",
        "    for team, count in zip(df_grouped[\"Country\"], df_grouped[\"Normalized\"]):\n",
        "        flat_list.extend([country_mapping[team]] * count)\n",
        "\n",
        "    waffle_array = np.array(flat_list).reshape(10, 10, order=\"F\")\n",
        "\n",
        "    label_map = {v: k for k, v in country_mapping.items()}\n",
        "    labels = np.vectorize(label_map.get)(waffle_array)\n",
        "\n",
        "    fig.add_trace(\n",
        "        go.Heatmap(\n",
        "            x=np.arange(10), y=np.arange(10),\n",
        "            z=waffle_array, customdata=labels,\n",
        "            xgap=3, ygap=3,\n",
        "            colorscale=[(i / 4, color_palette[i]) for i in range(4)] + [(1.0, \"rgba(170, 170, 170, 0.3)\")],\n",
        "            showscale=False,\n",
        "            hovertemplate=\"%{customdata}<extra></extra>\"\n",
        "        ),\n",
        "        row=1, col=idx + 1\n",
        "    )\n",
        "\n",
        "legend_entries = []\n",
        "for team, color in country_colors.items():\n",
        "    legend_entries.append(\n",
        "        go.Scatter(\n",
        "            x=[None], y=[None], mode='markers',\n",
        "            marker=dict(color=color, symbol='circle', size=10),\n",
        "            name=team\n",
        "        )\n",
        "    )\n",
        "\n",
        "fig.add_traces(legend_entries)\n",
        "\n",
        "fig.update_layout(\n",
        "    title=\"Swimming Participations by Period (Each Square Represents 1% of Participations)\",\n",
        "    width=1500, height=400,\n",
        "    plot_bgcolor='rgba(0,0,0,0)',\n",
        "    paper_bgcolor='rgba(0,0,0,0)',\n",
        ")\n",
        "\n",
        "for i in range(1, 6):\n",
        "    fig.update_xaxes(showgrid=False, zeroline=False, showticklabels=False, row=1, col=i)\n",
        "    fig.update_yaxes(showgrid=False, zeroline=False, showticklabels=False, row=1, col=i)\n",
        "\n",
        "fig.show()"
      ]
    },
    {
      "cell_type": "markdown",
      "id": "K6wyhuE_bGrZ",
      "metadata": {
        "id": "K6wyhuE_bGrZ"
      },
      "source": [
        "# Genre"
      ]
    },
    {
      "cell_type": "code",
      "execution_count": 32,
      "id": "kt1UTBn4hyic",
      "metadata": {
        "colab": {
          "base_uri": "https://localhost:8080/",
          "height": 737
        },
        "id": "kt1UTBn4hyic",
        "outputId": "5e6a6add-5d57-4fac-b589-ec37aadf03f0"
      },
      "outputs": [
        {
          "data": {
            "application/vnd.plotly.v1+json": {
              "config": {
                "plotlyServerURL": "https://plot.ly"
              },
              "data": [
                {
                  "hovertemplate": "Gender=Men's<br>Number of Events=%{x}<br>Event=%{y}<extra></extra>",
                  "legendgroup": "Men's",
                  "marker": {
                    "color": "blue",
                    "symbol": "circle"
                  },
                  "mode": "markers",
                  "name": "Men's",
                  "orientation": "h",
                  "showlegend": true,
                  "type": "scatter",
                  "x": [
                    1162,
                    112,
                    875,
                    2016,
                    49,
                    686,
                    1545,
                    57,
                    726,
                    44,
                    1910,
                    3,
                    89,
                    1749,
                    7,
                    91,
                    821,
                    1464,
                    36,
                    982,
                    40,
                    1368,
                    866,
                    683,
                    898,
                    730,
                    986,
                    2199,
                    75,
                    697,
                    716,
                    879
                  ],
                  "xaxis": "x",
                  "y": [
                    "1,500m",
                    "10 kilometres Walk",
                    "10,000m",
                    "100m",
                    "1500m",
                    "20 kilometres Walk",
                    "200m",
                    "20km Race Walk",
                    "3,000 metres Steeplechase",
                    "3000m Steeplechase",
                    "4 x 100 metres Relay",
                    "4 x 100m Relay",
                    "4 x 100m Relay Team",
                    "4 x 400 metres Relay",
                    "4 x 400m Relay",
                    "4 x 400m Relay Team",
                    "400 metres Hurdles",
                    "400m",
                    "400m Hurdles",
                    "5,000m",
                    "5000m",
                    "800m",
                    "Discus Throw",
                    "Hammer Throw",
                    "High Jump",
                    "Javelin Throw",
                    "Long Jump",
                    "Marathon",
                    "Pentathlon",
                    "Pole Vault",
                    "Shot Put",
                    "Triple Jump"
                  ],
                  "yaxis": "y"
                },
                {
                  "hovertemplate": "Gender=Women's<br>Number of Events=%{x}<br>Event=%{y}<extra></extra>",
                  "legendgroup": "Women's",
                  "marker": {
                    "color": "pink",
                    "symbol": "diamond"
                  },
                  "mode": "markers",
                  "name": "Women's",
                  "orientation": "h",
                  "showlegend": true,
                  "type": "scatter",
                  "x": [
                    427,
                    88,
                    309,
                    1136,
                    45,
                    297,
                    810,
                    58,
                    148,
                    41,
                    1174,
                    5,
                    89,
                    749,
                    2,
                    97,
                    302,
                    640,
                    40,
                    235,
                    38,
                    602,
                    540,
                    226,
                    600,
                    530,
                    603,
                    833,
                    122,
                    207,
                    429,
                    234
                  ],
                  "xaxis": "x",
                  "y": [
                    "1,500m",
                    "10 kilometres Walk",
                    "10,000m",
                    "100m",
                    "1500m",
                    "20 kilometres Walk",
                    "200m",
                    "20km Race Walk",
                    "3,000 metres Steeplechase",
                    "3000m Steeplechase",
                    "4 x 100 metres Relay",
                    "4 x 100m Relay",
                    "4 x 100m Relay Team",
                    "4 x 400 metres Relay",
                    "4 x 400m Relay",
                    "4 x 400m Relay Team",
                    "400 metres Hurdles",
                    "400m",
                    "400m Hurdles",
                    "5,000m",
                    "5000m",
                    "800m",
                    "Discus Throw",
                    "Hammer Throw",
                    "High Jump",
                    "Javelin Throw",
                    "Long Jump",
                    "Marathon",
                    "Pentathlon",
                    "Pole Vault",
                    "Shot Put",
                    "Triple Jump"
                  ],
                  "yaxis": "y"
                },
                {
                  "line": {
                    "color": "gray",
                    "dash": "dot",
                    "width": 2
                  },
                  "mode": "lines",
                  "showlegend": false,
                  "type": "scatter",
                  "x": [
                    1162,
                    427
                  ],
                  "y": [
                    "1,500m",
                    "1,500m"
                  ]
                },
                {
                  "line": {
                    "color": "gray",
                    "dash": "dot",
                    "width": 2
                  },
                  "mode": "lines",
                  "showlegend": false,
                  "type": "scatter",
                  "x": [
                    112,
                    88
                  ],
                  "y": [
                    "10 kilometres Walk",
                    "10 kilometres Walk"
                  ]
                },
                {
                  "line": {
                    "color": "gray",
                    "dash": "dot",
                    "width": 2
                  },
                  "mode": "lines",
                  "showlegend": false,
                  "type": "scatter",
                  "x": [
                    875,
                    309
                  ],
                  "y": [
                    "10,000m",
                    "10,000m"
                  ]
                },
                {
                  "line": {
                    "color": "gray",
                    "dash": "dot",
                    "width": 2
                  },
                  "mode": "lines",
                  "showlegend": false,
                  "type": "scatter",
                  "x": [
                    2016,
                    1136
                  ],
                  "y": [
                    "100m",
                    "100m"
                  ]
                },
                {
                  "line": {
                    "color": "gray",
                    "dash": "dot",
                    "width": 2
                  },
                  "mode": "lines",
                  "showlegend": false,
                  "type": "scatter",
                  "x": [
                    49,
                    45
                  ],
                  "y": [
                    "1500m",
                    "1500m"
                  ]
                },
                {
                  "line": {
                    "color": "gray",
                    "dash": "dot",
                    "width": 2
                  },
                  "mode": "lines",
                  "showlegend": false,
                  "type": "scatter",
                  "x": [
                    686,
                    297
                  ],
                  "y": [
                    "20 kilometres Walk",
                    "20 kilometres Walk"
                  ]
                },
                {
                  "line": {
                    "color": "gray",
                    "dash": "dot",
                    "width": 2
                  },
                  "mode": "lines",
                  "showlegend": false,
                  "type": "scatter",
                  "x": [
                    1545,
                    810
                  ],
                  "y": [
                    "200m",
                    "200m"
                  ]
                },
                {
                  "line": {
                    "color": "gray",
                    "dash": "dot",
                    "width": 2
                  },
                  "mode": "lines",
                  "showlegend": false,
                  "type": "scatter",
                  "x": [
                    57,
                    58
                  ],
                  "y": [
                    "20km Race Walk",
                    "20km Race Walk"
                  ]
                },
                {
                  "line": {
                    "color": "gray",
                    "dash": "dot",
                    "width": 2
                  },
                  "mode": "lines",
                  "showlegend": false,
                  "type": "scatter",
                  "x": [
                    726,
                    148
                  ],
                  "y": [
                    "3,000 metres Steeplechase",
                    "3,000 metres Steeplechase"
                  ]
                },
                {
                  "line": {
                    "color": "gray",
                    "dash": "dot",
                    "width": 2
                  },
                  "mode": "lines",
                  "showlegend": false,
                  "type": "scatter",
                  "x": [
                    44,
                    41
                  ],
                  "y": [
                    "3000m Steeplechase",
                    "3000m Steeplechase"
                  ]
                },
                {
                  "line": {
                    "color": "gray",
                    "dash": "dot",
                    "width": 2
                  },
                  "mode": "lines",
                  "showlegend": false,
                  "type": "scatter",
                  "x": [
                    1910,
                    1174
                  ],
                  "y": [
                    "4 x 100 metres Relay",
                    "4 x 100 metres Relay"
                  ]
                },
                {
                  "line": {
                    "color": "gray",
                    "dash": "dot",
                    "width": 2
                  },
                  "mode": "lines",
                  "showlegend": false,
                  "type": "scatter",
                  "x": [
                    3,
                    5
                  ],
                  "y": [
                    "4 x 100m Relay",
                    "4 x 100m Relay"
                  ]
                },
                {
                  "line": {
                    "color": "gray",
                    "dash": "dot",
                    "width": 2
                  },
                  "mode": "lines",
                  "showlegend": false,
                  "type": "scatter",
                  "x": [
                    89,
                    89
                  ],
                  "y": [
                    "4 x 100m Relay Team",
                    "4 x 100m Relay Team"
                  ]
                },
                {
                  "line": {
                    "color": "gray",
                    "dash": "dot",
                    "width": 2
                  },
                  "mode": "lines",
                  "showlegend": false,
                  "type": "scatter",
                  "x": [
                    1749,
                    749
                  ],
                  "y": [
                    "4 x 400 metres Relay",
                    "4 x 400 metres Relay"
                  ]
                },
                {
                  "line": {
                    "color": "gray",
                    "dash": "dot",
                    "width": 2
                  },
                  "mode": "lines",
                  "showlegend": false,
                  "type": "scatter",
                  "x": [
                    7,
                    2
                  ],
                  "y": [
                    "4 x 400m Relay",
                    "4 x 400m Relay"
                  ]
                },
                {
                  "line": {
                    "color": "gray",
                    "dash": "dot",
                    "width": 2
                  },
                  "mode": "lines",
                  "showlegend": false,
                  "type": "scatter",
                  "x": [
                    91,
                    97
                  ],
                  "y": [
                    "4 x 400m Relay Team",
                    "4 x 400m Relay Team"
                  ]
                },
                {
                  "line": {
                    "color": "gray",
                    "dash": "dot",
                    "width": 2
                  },
                  "mode": "lines",
                  "showlegend": false,
                  "type": "scatter",
                  "x": [
                    821,
                    302
                  ],
                  "y": [
                    "400 metres Hurdles",
                    "400 metres Hurdles"
                  ]
                },
                {
                  "line": {
                    "color": "gray",
                    "dash": "dot",
                    "width": 2
                  },
                  "mode": "lines",
                  "showlegend": false,
                  "type": "scatter",
                  "x": [
                    1464,
                    640
                  ],
                  "y": [
                    "400m",
                    "400m"
                  ]
                },
                {
                  "line": {
                    "color": "gray",
                    "dash": "dot",
                    "width": 2
                  },
                  "mode": "lines",
                  "showlegend": false,
                  "type": "scatter",
                  "x": [
                    36,
                    40
                  ],
                  "y": [
                    "400m Hurdles",
                    "400m Hurdles"
                  ]
                },
                {
                  "line": {
                    "color": "gray",
                    "dash": "dot",
                    "width": 2
                  },
                  "mode": "lines",
                  "showlegend": false,
                  "type": "scatter",
                  "x": [
                    982,
                    235
                  ],
                  "y": [
                    "5,000m",
                    "5,000m"
                  ]
                },
                {
                  "line": {
                    "color": "gray",
                    "dash": "dot",
                    "width": 2
                  },
                  "mode": "lines",
                  "showlegend": false,
                  "type": "scatter",
                  "x": [
                    40,
                    38
                  ],
                  "y": [
                    "5000m",
                    "5000m"
                  ]
                },
                {
                  "line": {
                    "color": "gray",
                    "dash": "dot",
                    "width": 2
                  },
                  "mode": "lines",
                  "showlegend": false,
                  "type": "scatter",
                  "x": [
                    1368,
                    602
                  ],
                  "y": [
                    "800m",
                    "800m"
                  ]
                },
                {
                  "line": {
                    "color": "gray",
                    "dash": "dot",
                    "width": 2
                  },
                  "mode": "lines",
                  "showlegend": false,
                  "type": "scatter",
                  "x": [
                    866,
                    540
                  ],
                  "y": [
                    "Discus Throw",
                    "Discus Throw"
                  ]
                },
                {
                  "line": {
                    "color": "gray",
                    "dash": "dot",
                    "width": 2
                  },
                  "mode": "lines",
                  "showlegend": false,
                  "type": "scatter",
                  "x": [
                    683,
                    226
                  ],
                  "y": [
                    "Hammer Throw",
                    "Hammer Throw"
                  ]
                },
                {
                  "line": {
                    "color": "gray",
                    "dash": "dot",
                    "width": 2
                  },
                  "mode": "lines",
                  "showlegend": false,
                  "type": "scatter",
                  "x": [
                    898,
                    600
                  ],
                  "y": [
                    "High Jump",
                    "High Jump"
                  ]
                },
                {
                  "line": {
                    "color": "gray",
                    "dash": "dot",
                    "width": 2
                  },
                  "mode": "lines",
                  "showlegend": false,
                  "type": "scatter",
                  "x": [
                    730,
                    530
                  ],
                  "y": [
                    "Javelin Throw",
                    "Javelin Throw"
                  ]
                },
                {
                  "line": {
                    "color": "gray",
                    "dash": "dot",
                    "width": 2
                  },
                  "mode": "lines",
                  "showlegend": false,
                  "type": "scatter",
                  "x": [
                    986,
                    603
                  ],
                  "y": [
                    "Long Jump",
                    "Long Jump"
                  ]
                },
                {
                  "line": {
                    "color": "gray",
                    "dash": "dot",
                    "width": 2
                  },
                  "mode": "lines",
                  "showlegend": false,
                  "type": "scatter",
                  "x": [
                    2199,
                    833
                  ],
                  "y": [
                    "Marathon",
                    "Marathon"
                  ]
                },
                {
                  "line": {
                    "color": "gray",
                    "dash": "dot",
                    "width": 2
                  },
                  "mode": "lines",
                  "showlegend": false,
                  "type": "scatter",
                  "x": [
                    75,
                    122
                  ],
                  "y": [
                    "Pentathlon",
                    "Pentathlon"
                  ]
                },
                {
                  "line": {
                    "color": "gray",
                    "dash": "dot",
                    "width": 2
                  },
                  "mode": "lines",
                  "showlegend": false,
                  "type": "scatter",
                  "x": [
                    697,
                    207
                  ],
                  "y": [
                    "Pole Vault",
                    "Pole Vault"
                  ]
                },
                {
                  "line": {
                    "color": "gray",
                    "dash": "dot",
                    "width": 2
                  },
                  "mode": "lines",
                  "showlegend": false,
                  "type": "scatter",
                  "x": [
                    716,
                    429
                  ],
                  "y": [
                    "Shot Put",
                    "Shot Put"
                  ]
                },
                {
                  "line": {
                    "color": "gray",
                    "dash": "dot",
                    "width": 2
                  },
                  "mode": "lines",
                  "showlegend": false,
                  "type": "scatter",
                  "x": [
                    879,
                    234
                  ],
                  "y": [
                    "Triple Jump",
                    "Triple Jump"
                  ]
                }
              ],
              "layout": {
                "font": {
                  "size": 14
                },
                "height": 700,
                "legend": {
                  "title": {
                    "text": "Gender"
                  },
                  "tracegroupgap": 0
                },
                "paper_bgcolor": "white",
                "plot_bgcolor": "white",
                "template": {
                  "data": {
                    "bar": [
                      {
                        "error_x": {
                          "color": "#2a3f5f"
                        },
                        "error_y": {
                          "color": "#2a3f5f"
                        },
                        "marker": {
                          "line": {
                            "color": "#E5ECF6",
                            "width": 0.5
                          },
                          "pattern": {
                            "fillmode": "overlay",
                            "size": 10,
                            "solidity": 0.2
                          }
                        },
                        "type": "bar"
                      }
                    ],
                    "barpolar": [
                      {
                        "marker": {
                          "line": {
                            "color": "#E5ECF6",
                            "width": 0.5
                          },
                          "pattern": {
                            "fillmode": "overlay",
                            "size": 10,
                            "solidity": 0.2
                          }
                        },
                        "type": "barpolar"
                      }
                    ],
                    "carpet": [
                      {
                        "aaxis": {
                          "endlinecolor": "#2a3f5f",
                          "gridcolor": "white",
                          "linecolor": "white",
                          "minorgridcolor": "white",
                          "startlinecolor": "#2a3f5f"
                        },
                        "baxis": {
                          "endlinecolor": "#2a3f5f",
                          "gridcolor": "white",
                          "linecolor": "white",
                          "minorgridcolor": "white",
                          "startlinecolor": "#2a3f5f"
                        },
                        "type": "carpet"
                      }
                    ],
                    "choropleth": [
                      {
                        "colorbar": {
                          "outlinewidth": 0,
                          "ticks": ""
                        },
                        "type": "choropleth"
                      }
                    ],
                    "contour": [
                      {
                        "colorbar": {
                          "outlinewidth": 0,
                          "ticks": ""
                        },
                        "colorscale": [
                          [
                            0,
                            "#0d0887"
                          ],
                          [
                            0.1111111111111111,
                            "#46039f"
                          ],
                          [
                            0.2222222222222222,
                            "#7201a8"
                          ],
                          [
                            0.3333333333333333,
                            "#9c179e"
                          ],
                          [
                            0.4444444444444444,
                            "#bd3786"
                          ],
                          [
                            0.5555555555555556,
                            "#d8576b"
                          ],
                          [
                            0.6666666666666666,
                            "#ed7953"
                          ],
                          [
                            0.7777777777777778,
                            "#fb9f3a"
                          ],
                          [
                            0.8888888888888888,
                            "#fdca26"
                          ],
                          [
                            1,
                            "#f0f921"
                          ]
                        ],
                        "type": "contour"
                      }
                    ],
                    "contourcarpet": [
                      {
                        "colorbar": {
                          "outlinewidth": 0,
                          "ticks": ""
                        },
                        "type": "contourcarpet"
                      }
                    ],
                    "heatmap": [
                      {
                        "colorbar": {
                          "outlinewidth": 0,
                          "ticks": ""
                        },
                        "colorscale": [
                          [
                            0,
                            "#0d0887"
                          ],
                          [
                            0.1111111111111111,
                            "#46039f"
                          ],
                          [
                            0.2222222222222222,
                            "#7201a8"
                          ],
                          [
                            0.3333333333333333,
                            "#9c179e"
                          ],
                          [
                            0.4444444444444444,
                            "#bd3786"
                          ],
                          [
                            0.5555555555555556,
                            "#d8576b"
                          ],
                          [
                            0.6666666666666666,
                            "#ed7953"
                          ],
                          [
                            0.7777777777777778,
                            "#fb9f3a"
                          ],
                          [
                            0.8888888888888888,
                            "#fdca26"
                          ],
                          [
                            1,
                            "#f0f921"
                          ]
                        ],
                        "type": "heatmap"
                      }
                    ],
                    "heatmapgl": [
                      {
                        "colorbar": {
                          "outlinewidth": 0,
                          "ticks": ""
                        },
                        "colorscale": [
                          [
                            0,
                            "#0d0887"
                          ],
                          [
                            0.1111111111111111,
                            "#46039f"
                          ],
                          [
                            0.2222222222222222,
                            "#7201a8"
                          ],
                          [
                            0.3333333333333333,
                            "#9c179e"
                          ],
                          [
                            0.4444444444444444,
                            "#bd3786"
                          ],
                          [
                            0.5555555555555556,
                            "#d8576b"
                          ],
                          [
                            0.6666666666666666,
                            "#ed7953"
                          ],
                          [
                            0.7777777777777778,
                            "#fb9f3a"
                          ],
                          [
                            0.8888888888888888,
                            "#fdca26"
                          ],
                          [
                            1,
                            "#f0f921"
                          ]
                        ],
                        "type": "heatmapgl"
                      }
                    ],
                    "histogram": [
                      {
                        "marker": {
                          "pattern": {
                            "fillmode": "overlay",
                            "size": 10,
                            "solidity": 0.2
                          }
                        },
                        "type": "histogram"
                      }
                    ],
                    "histogram2d": [
                      {
                        "colorbar": {
                          "outlinewidth": 0,
                          "ticks": ""
                        },
                        "colorscale": [
                          [
                            0,
                            "#0d0887"
                          ],
                          [
                            0.1111111111111111,
                            "#46039f"
                          ],
                          [
                            0.2222222222222222,
                            "#7201a8"
                          ],
                          [
                            0.3333333333333333,
                            "#9c179e"
                          ],
                          [
                            0.4444444444444444,
                            "#bd3786"
                          ],
                          [
                            0.5555555555555556,
                            "#d8576b"
                          ],
                          [
                            0.6666666666666666,
                            "#ed7953"
                          ],
                          [
                            0.7777777777777778,
                            "#fb9f3a"
                          ],
                          [
                            0.8888888888888888,
                            "#fdca26"
                          ],
                          [
                            1,
                            "#f0f921"
                          ]
                        ],
                        "type": "histogram2d"
                      }
                    ],
                    "histogram2dcontour": [
                      {
                        "colorbar": {
                          "outlinewidth": 0,
                          "ticks": ""
                        },
                        "colorscale": [
                          [
                            0,
                            "#0d0887"
                          ],
                          [
                            0.1111111111111111,
                            "#46039f"
                          ],
                          [
                            0.2222222222222222,
                            "#7201a8"
                          ],
                          [
                            0.3333333333333333,
                            "#9c179e"
                          ],
                          [
                            0.4444444444444444,
                            "#bd3786"
                          ],
                          [
                            0.5555555555555556,
                            "#d8576b"
                          ],
                          [
                            0.6666666666666666,
                            "#ed7953"
                          ],
                          [
                            0.7777777777777778,
                            "#fb9f3a"
                          ],
                          [
                            0.8888888888888888,
                            "#fdca26"
                          ],
                          [
                            1,
                            "#f0f921"
                          ]
                        ],
                        "type": "histogram2dcontour"
                      }
                    ],
                    "mesh3d": [
                      {
                        "colorbar": {
                          "outlinewidth": 0,
                          "ticks": ""
                        },
                        "type": "mesh3d"
                      }
                    ],
                    "parcoords": [
                      {
                        "line": {
                          "colorbar": {
                            "outlinewidth": 0,
                            "ticks": ""
                          }
                        },
                        "type": "parcoords"
                      }
                    ],
                    "pie": [
                      {
                        "automargin": true,
                        "type": "pie"
                      }
                    ],
                    "scatter": [
                      {
                        "fillpattern": {
                          "fillmode": "overlay",
                          "size": 10,
                          "solidity": 0.2
                        },
                        "type": "scatter"
                      }
                    ],
                    "scatter3d": [
                      {
                        "line": {
                          "colorbar": {
                            "outlinewidth": 0,
                            "ticks": ""
                          }
                        },
                        "marker": {
                          "colorbar": {
                            "outlinewidth": 0,
                            "ticks": ""
                          }
                        },
                        "type": "scatter3d"
                      }
                    ],
                    "scattercarpet": [
                      {
                        "marker": {
                          "colorbar": {
                            "outlinewidth": 0,
                            "ticks": ""
                          }
                        },
                        "type": "scattercarpet"
                      }
                    ],
                    "scattergeo": [
                      {
                        "marker": {
                          "colorbar": {
                            "outlinewidth": 0,
                            "ticks": ""
                          }
                        },
                        "type": "scattergeo"
                      }
                    ],
                    "scattergl": [
                      {
                        "marker": {
                          "colorbar": {
                            "outlinewidth": 0,
                            "ticks": ""
                          }
                        },
                        "type": "scattergl"
                      }
                    ],
                    "scattermapbox": [
                      {
                        "marker": {
                          "colorbar": {
                            "outlinewidth": 0,
                            "ticks": ""
                          }
                        },
                        "type": "scattermapbox"
                      }
                    ],
                    "scatterpolar": [
                      {
                        "marker": {
                          "colorbar": {
                            "outlinewidth": 0,
                            "ticks": ""
                          }
                        },
                        "type": "scatterpolar"
                      }
                    ],
                    "scatterpolargl": [
                      {
                        "marker": {
                          "colorbar": {
                            "outlinewidth": 0,
                            "ticks": ""
                          }
                        },
                        "type": "scatterpolargl"
                      }
                    ],
                    "scatterternary": [
                      {
                        "marker": {
                          "colorbar": {
                            "outlinewidth": 0,
                            "ticks": ""
                          }
                        },
                        "type": "scatterternary"
                      }
                    ],
                    "surface": [
                      {
                        "colorbar": {
                          "outlinewidth": 0,
                          "ticks": ""
                        },
                        "colorscale": [
                          [
                            0,
                            "#0d0887"
                          ],
                          [
                            0.1111111111111111,
                            "#46039f"
                          ],
                          [
                            0.2222222222222222,
                            "#7201a8"
                          ],
                          [
                            0.3333333333333333,
                            "#9c179e"
                          ],
                          [
                            0.4444444444444444,
                            "#bd3786"
                          ],
                          [
                            0.5555555555555556,
                            "#d8576b"
                          ],
                          [
                            0.6666666666666666,
                            "#ed7953"
                          ],
                          [
                            0.7777777777777778,
                            "#fb9f3a"
                          ],
                          [
                            0.8888888888888888,
                            "#fdca26"
                          ],
                          [
                            1,
                            "#f0f921"
                          ]
                        ],
                        "type": "surface"
                      }
                    ],
                    "table": [
                      {
                        "cells": {
                          "fill": {
                            "color": "#EBF0F8"
                          },
                          "line": {
                            "color": "white"
                          }
                        },
                        "header": {
                          "fill": {
                            "color": "#C8D4E3"
                          },
                          "line": {
                            "color": "white"
                          }
                        },
                        "type": "table"
                      }
                    ]
                  },
                  "layout": {
                    "annotationdefaults": {
                      "arrowcolor": "#2a3f5f",
                      "arrowhead": 0,
                      "arrowwidth": 1
                    },
                    "autotypenumbers": "strict",
                    "coloraxis": {
                      "colorbar": {
                        "outlinewidth": 0,
                        "ticks": ""
                      }
                    },
                    "colorscale": {
                      "diverging": [
                        [
                          0,
                          "#8e0152"
                        ],
                        [
                          0.1,
                          "#c51b7d"
                        ],
                        [
                          0.2,
                          "#de77ae"
                        ],
                        [
                          0.3,
                          "#f1b6da"
                        ],
                        [
                          0.4,
                          "#fde0ef"
                        ],
                        [
                          0.5,
                          "#f7f7f7"
                        ],
                        [
                          0.6,
                          "#e6f5d0"
                        ],
                        [
                          0.7,
                          "#b8e186"
                        ],
                        [
                          0.8,
                          "#7fbc41"
                        ],
                        [
                          0.9,
                          "#4d9221"
                        ],
                        [
                          1,
                          "#276419"
                        ]
                      ],
                      "sequential": [
                        [
                          0,
                          "#0d0887"
                        ],
                        [
                          0.1111111111111111,
                          "#46039f"
                        ],
                        [
                          0.2222222222222222,
                          "#7201a8"
                        ],
                        [
                          0.3333333333333333,
                          "#9c179e"
                        ],
                        [
                          0.4444444444444444,
                          "#bd3786"
                        ],
                        [
                          0.5555555555555556,
                          "#d8576b"
                        ],
                        [
                          0.6666666666666666,
                          "#ed7953"
                        ],
                        [
                          0.7777777777777778,
                          "#fb9f3a"
                        ],
                        [
                          0.8888888888888888,
                          "#fdca26"
                        ],
                        [
                          1,
                          "#f0f921"
                        ]
                      ],
                      "sequentialminus": [
                        [
                          0,
                          "#0d0887"
                        ],
                        [
                          0.1111111111111111,
                          "#46039f"
                        ],
                        [
                          0.2222222222222222,
                          "#7201a8"
                        ],
                        [
                          0.3333333333333333,
                          "#9c179e"
                        ],
                        [
                          0.4444444444444444,
                          "#bd3786"
                        ],
                        [
                          0.5555555555555556,
                          "#d8576b"
                        ],
                        [
                          0.6666666666666666,
                          "#ed7953"
                        ],
                        [
                          0.7777777777777778,
                          "#fb9f3a"
                        ],
                        [
                          0.8888888888888888,
                          "#fdca26"
                        ],
                        [
                          1,
                          "#f0f921"
                        ]
                      ]
                    },
                    "colorway": [
                      "#636efa",
                      "#EF553B",
                      "#00cc96",
                      "#ab63fa",
                      "#FFA15A",
                      "#19d3f3",
                      "#FF6692",
                      "#B6E880",
                      "#FF97FF",
                      "#FECB52"
                    ],
                    "font": {
                      "color": "#2a3f5f"
                    },
                    "geo": {
                      "bgcolor": "white",
                      "lakecolor": "white",
                      "landcolor": "#E5ECF6",
                      "showlakes": true,
                      "showland": true,
                      "subunitcolor": "white"
                    },
                    "hoverlabel": {
                      "align": "left"
                    },
                    "hovermode": "closest",
                    "mapbox": {
                      "style": "light"
                    },
                    "paper_bgcolor": "white",
                    "plot_bgcolor": "#E5ECF6",
                    "polar": {
                      "angularaxis": {
                        "gridcolor": "white",
                        "linecolor": "white",
                        "ticks": ""
                      },
                      "bgcolor": "#E5ECF6",
                      "radialaxis": {
                        "gridcolor": "white",
                        "linecolor": "white",
                        "ticks": ""
                      }
                    },
                    "scene": {
                      "xaxis": {
                        "backgroundcolor": "#E5ECF6",
                        "gridcolor": "white",
                        "gridwidth": 2,
                        "linecolor": "white",
                        "showbackground": true,
                        "ticks": "",
                        "zerolinecolor": "white"
                      },
                      "yaxis": {
                        "backgroundcolor": "#E5ECF6",
                        "gridcolor": "white",
                        "gridwidth": 2,
                        "linecolor": "white",
                        "showbackground": true,
                        "ticks": "",
                        "zerolinecolor": "white"
                      },
                      "zaxis": {
                        "backgroundcolor": "#E5ECF6",
                        "gridcolor": "white",
                        "gridwidth": 2,
                        "linecolor": "white",
                        "showbackground": true,
                        "ticks": "",
                        "zerolinecolor": "white"
                      }
                    },
                    "shapedefaults": {
                      "line": {
                        "color": "#2a3f5f"
                      }
                    },
                    "ternary": {
                      "aaxis": {
                        "gridcolor": "white",
                        "linecolor": "white",
                        "ticks": ""
                      },
                      "baxis": {
                        "gridcolor": "white",
                        "linecolor": "white",
                        "ticks": ""
                      },
                      "bgcolor": "#E5ECF6",
                      "caxis": {
                        "gridcolor": "white",
                        "linecolor": "white",
                        "ticks": ""
                      }
                    },
                    "title": {
                      "x": 0.05
                    },
                    "xaxis": {
                      "automargin": true,
                      "gridcolor": "white",
                      "linecolor": "white",
                      "ticks": "",
                      "title": {
                        "standoff": 15
                      },
                      "zerolinecolor": "white",
                      "zerolinewidth": 2
                    },
                    "yaxis": {
                      "automargin": true,
                      "gridcolor": "white",
                      "linecolor": "white",
                      "ticks": "",
                      "title": {
                        "standoff": 15
                      },
                      "zerolinecolor": "white",
                      "zerolinewidth": 2
                    }
                  }
                },
                "title": {
                  "text": "Number of Men's and Women's Participations in Athletics"
                },
                "width": 1000,
                "xaxis": {
                  "anchor": "y",
                  "domain": [
                    0,
                    1
                  ],
                  "title": {
                    "text": "Number of Participants"
                  }
                },
                "yaxis": {
                  "anchor": "x",
                  "categoryorder": "total ascending",
                  "domain": [
                    0,
                    1
                  ],
                  "tickmode": "array",
                  "tickvals": [
                    "1,500m",
                    "10 kilometres Walk",
                    "10,000m",
                    "100m",
                    "1500m",
                    "20 kilometres Walk",
                    "200m",
                    "20km Race Walk",
                    "3,000 metres Steeplechase",
                    "3000m Steeplechase",
                    "4 x 100 metres Relay",
                    "4 x 100m Relay",
                    "4 x 100m Relay Team",
                    "4 x 400 metres Relay",
                    "4 x 400m Relay",
                    "4 x 400m Relay Team",
                    "400 metres Hurdles",
                    "400m",
                    "400m Hurdles",
                    "5,000m",
                    "5000m",
                    "800m",
                    "Discus Throw",
                    "Hammer Throw",
                    "High Jump",
                    "Javelin Throw",
                    "Long Jump",
                    "Marathon",
                    "Pentathlon",
                    "Pole Vault",
                    "Shot Put",
                    "Triple Jump"
                  ],
                  "title": {
                    "text": "Category"
                  }
                }
              }
            }
          },
          "metadata": {},
          "output_type": "display_data"
        }
      ],
      "source": [
        "swimming_events = olympics_data[olympics_data[\"Sport\"] == \"Athletics\"][\"Event\"]\n",
        "\n",
        "df = pd.DataFrame(swimming_events, columns=['Event'])\n",
        "\n",
        "df['Clean_Event'] = df['Event'].str.replace(r\"Men's |Women's |Mixed \", '', regex=True)\n",
        "df['Gender'] = df['Event'].str.extract(r\"(Men's|Women's)\")\n",
        "\n",
        "event_counts = df.pivot_table(index='Clean_Event', columns='Gender', aggfunc='size', fill_value=0).reset_index()\n",
        "\n",
        "both_genders = event_counts[(event_counts[\"Men's\"] > 0) & (event_counts[\"Women's\"] > 0)]\n",
        "\n",
        "event_counts_melted = both_genders.melt(id_vars=\"Clean_Event\", var_name=\"Gender\", value_name=\"Count\")\n",
        "\n",
        "event_counts_melted = event_counts_melted[event_counts_melted[\"Count\"] > 0]\n",
        "\n",
        "fig = px.scatter(\n",
        "    event_counts_melted,\n",
        "    x=\"Count\",\n",
        "    y=\"Clean_Event\",\n",
        "    color=\"Gender\",\n",
        "    title=\"Number of Men's and Women's Participations in Athletics\",\n",
        "    labels={\"Clean_Event\": \"Event\", \"Count\": \"Number of Events\"},\n",
        "    color_discrete_map={\"Men's\": \"blue\", \"Women's\": \"pink\"},\n",
        "    symbol=\"Gender\"\n",
        ")\n",
        "\n",
        "for event in both_genders[\"Clean_Event\"]:\n",
        "    men_count = both_genders.loc[both_genders[\"Clean_Event\"] == event, \"Men's\"].values[0]\n",
        "    women_count = both_genders.loc[both_genders[\"Clean_Event\"] == event, \"Women's\"].values[0]\n",
        "\n",
        "    fig.add_trace(go.Scatter(\n",
        "        x=[men_count, women_count],\n",
        "        y=[event, event],\n",
        "        mode=\"lines\",\n",
        "        line=dict(color=\"gray\", width=2, dash=\"dot\"),\n",
        "        showlegend=False\n",
        "    ))\n",
        "\n",
        "fig.update_layout(\n",
        "    width=1000,\n",
        "    height=700,\n",
        "    yaxis_categoryorder=\"total ascending\",\n",
        "    xaxis_title=\"Number of Participants\",\n",
        "    yaxis_title=\"Category\",\n",
        "    legend_title=\"Gender\",\n",
        "    plot_bgcolor=\"white\",\n",
        "    paper_bgcolor=\"white\",\n",
        "    font=dict(size=14)\n",
        ")\n",
        "\n",
        "fig.update_layout(\n",
        "    yaxis=dict(\n",
        "        tickmode=\"array\",\n",
        "        tickvals=event_counts_melted[\"Clean_Event\"].unique(),\n",
        "    )\n",
        ")\n",
        "\n",
        "\n",
        "fig.show()"
      ]
    },
    {
      "cell_type": "code",
      "execution_count": 33,
      "id": "deeVa6l8Dh5p",
      "metadata": {
        "colab": {
          "base_uri": "https://localhost:8080/",
          "height": 542
        },
        "id": "deeVa6l8Dh5p",
        "outputId": "7c5f0ee4-19f6-4821-84e1-bb9803447759"
      },
      "outputs": [
        {
          "data": {
            "application/vnd.plotly.v1+json": {
              "config": {
                "plotlyServerURL": "https://plot.ly"
              },
              "data": [
                {
                  "alignmentgroup": "True",
                  "hovertemplate": "variable=Female %<br>Olympic Year=%{x}<br>Percentage of Athletes=%{y}<extra></extra>",
                  "legendgroup": "Female %",
                  "marker": {
                    "color": "pink",
                    "pattern": {
                      "shape": ""
                    }
                  },
                  "name": "Female %",
                  "offsetgroup": "Female %",
                  "orientation": "v",
                  "showlegend": true,
                  "textposition": "auto",
                  "type": "bar",
                  "x": [
                    "1896",
                    "1900",
                    "1904",
                    "1906",
                    "1908",
                    "1912",
                    "1920",
                    "1924",
                    "1928",
                    "1932",
                    "1936",
                    "1948",
                    "1952",
                    "1956",
                    "1960",
                    "1964",
                    "1968",
                    "1972",
                    "1976",
                    "1980",
                    "1984",
                    "1988",
                    "1992",
                    "1996",
                    "2000",
                    "2004",
                    "2008",
                    "2012",
                    "2016",
                    "2020"
                  ],
                  "xaxis": "x",
                  "y": [
                    0,
                    0,
                    0,
                    0,
                    0,
                    0,
                    0,
                    0,
                    13.004032258064516,
                    15.32567049808429,
                    13.306852035749753,
                    22.454804947668887,
                    22.321428571428573,
                    21.322803553800593,
                    20.579268292682926,
                    25.692883895131086,
                    26.319702602230482,
                    30.01186239620403,
                    32.305319969159605,
                    29.49526813880126,
                    30.286738351254485,
                    35.79049466537342,
                    36.952288218111,
                    37.55238893545683,
                    41.77471636952998,
                    46.02298850574712,
                    47.593582887700535,
                    48.15627743634767,
                    48.165869218500795,
                    48.05867126833478
                  ],
                  "yaxis": "y"
                },
                {
                  "alignmentgroup": "True",
                  "hovertemplate": "variable=Male %<br>Olympic Year=%{x}<br>Percentage of Athletes=%{y}<extra></extra>",
                  "legendgroup": "Male %",
                  "marker": {
                    "color": "blue",
                    "pattern": {
                      "shape": ""
                    }
                  },
                  "name": "Male %",
                  "offsetgroup": "Male %",
                  "orientation": "v",
                  "showlegend": true,
                  "textposition": "auto",
                  "type": "bar",
                  "x": [
                    "1896",
                    "1900",
                    "1904",
                    "1906",
                    "1908",
                    "1912",
                    "1920",
                    "1924",
                    "1928",
                    "1932",
                    "1936",
                    "1948",
                    "1952",
                    "1956",
                    "1960",
                    "1964",
                    "1968",
                    "1972",
                    "1976",
                    "1980",
                    "1984",
                    "1988",
                    "1992",
                    "1996",
                    "2000",
                    "2004",
                    "2008",
                    "2012",
                    "2016",
                    "2020"
                  ],
                  "xaxis": "x",
                  "y": [
                    100,
                    100,
                    100,
                    100,
                    100,
                    100,
                    100,
                    100,
                    86.99596774193549,
                    84.67432950191571,
                    86.69314796425024,
                    77.54519505233112,
                    77.67857142857143,
                    78.6771964461994,
                    79.42073170731707,
                    74.30711610486891,
                    73.68029739776951,
                    69.98813760379596,
                    67.6946800308404,
                    70.50473186119874,
                    69.71326164874552,
                    64.20950533462657,
                    63.04771178188899,
                    62.447611064543175,
                    58.22528363047002,
                    53.97701149425287,
                    52.406417112299465,
                    51.84372256365233,
                    51.8341307814992,
                    51.94132873166522
                  ],
                  "yaxis": "y"
                }
              ],
              "layout": {
                "annotations": [
                  {
                    "font": {
                      "color": "black",
                      "size": 14
                    },
                    "showarrow": false,
                    "text": "50%",
                    "x": 1,
                    "xanchor": "left",
                    "xref": "x domain",
                    "y": 50,
                    "yanchor": "middle",
                    "yref": "y"
                  }
                ],
                "barmode": "relative",
                "legend": {
                  "title": {
                    "text": "variable"
                  },
                  "tracegroupgap": 0
                },
                "plot_bgcolor": "white",
                "shapes": [
                  {
                    "line": {
                      "color": "black",
                      "dash": "dash"
                    },
                    "type": "line",
                    "x0": 0,
                    "x1": 1,
                    "xref": "x domain",
                    "y0": 50,
                    "y1": 50,
                    "yref": "y"
                  }
                ],
                "template": {
                  "data": {
                    "bar": [
                      {
                        "error_x": {
                          "color": "#2a3f5f"
                        },
                        "error_y": {
                          "color": "#2a3f5f"
                        },
                        "marker": {
                          "line": {
                            "color": "#E5ECF6",
                            "width": 0.5
                          },
                          "pattern": {
                            "fillmode": "overlay",
                            "size": 10,
                            "solidity": 0.2
                          }
                        },
                        "type": "bar"
                      }
                    ],
                    "barpolar": [
                      {
                        "marker": {
                          "line": {
                            "color": "#E5ECF6",
                            "width": 0.5
                          },
                          "pattern": {
                            "fillmode": "overlay",
                            "size": 10,
                            "solidity": 0.2
                          }
                        },
                        "type": "barpolar"
                      }
                    ],
                    "carpet": [
                      {
                        "aaxis": {
                          "endlinecolor": "#2a3f5f",
                          "gridcolor": "white",
                          "linecolor": "white",
                          "minorgridcolor": "white",
                          "startlinecolor": "#2a3f5f"
                        },
                        "baxis": {
                          "endlinecolor": "#2a3f5f",
                          "gridcolor": "white",
                          "linecolor": "white",
                          "minorgridcolor": "white",
                          "startlinecolor": "#2a3f5f"
                        },
                        "type": "carpet"
                      }
                    ],
                    "choropleth": [
                      {
                        "colorbar": {
                          "outlinewidth": 0,
                          "ticks": ""
                        },
                        "type": "choropleth"
                      }
                    ],
                    "contour": [
                      {
                        "colorbar": {
                          "outlinewidth": 0,
                          "ticks": ""
                        },
                        "colorscale": [
                          [
                            0,
                            "#0d0887"
                          ],
                          [
                            0.1111111111111111,
                            "#46039f"
                          ],
                          [
                            0.2222222222222222,
                            "#7201a8"
                          ],
                          [
                            0.3333333333333333,
                            "#9c179e"
                          ],
                          [
                            0.4444444444444444,
                            "#bd3786"
                          ],
                          [
                            0.5555555555555556,
                            "#d8576b"
                          ],
                          [
                            0.6666666666666666,
                            "#ed7953"
                          ],
                          [
                            0.7777777777777778,
                            "#fb9f3a"
                          ],
                          [
                            0.8888888888888888,
                            "#fdca26"
                          ],
                          [
                            1,
                            "#f0f921"
                          ]
                        ],
                        "type": "contour"
                      }
                    ],
                    "contourcarpet": [
                      {
                        "colorbar": {
                          "outlinewidth": 0,
                          "ticks": ""
                        },
                        "type": "contourcarpet"
                      }
                    ],
                    "heatmap": [
                      {
                        "colorbar": {
                          "outlinewidth": 0,
                          "ticks": ""
                        },
                        "colorscale": [
                          [
                            0,
                            "#0d0887"
                          ],
                          [
                            0.1111111111111111,
                            "#46039f"
                          ],
                          [
                            0.2222222222222222,
                            "#7201a8"
                          ],
                          [
                            0.3333333333333333,
                            "#9c179e"
                          ],
                          [
                            0.4444444444444444,
                            "#bd3786"
                          ],
                          [
                            0.5555555555555556,
                            "#d8576b"
                          ],
                          [
                            0.6666666666666666,
                            "#ed7953"
                          ],
                          [
                            0.7777777777777778,
                            "#fb9f3a"
                          ],
                          [
                            0.8888888888888888,
                            "#fdca26"
                          ],
                          [
                            1,
                            "#f0f921"
                          ]
                        ],
                        "type": "heatmap"
                      }
                    ],
                    "heatmapgl": [
                      {
                        "colorbar": {
                          "outlinewidth": 0,
                          "ticks": ""
                        },
                        "colorscale": [
                          [
                            0,
                            "#0d0887"
                          ],
                          [
                            0.1111111111111111,
                            "#46039f"
                          ],
                          [
                            0.2222222222222222,
                            "#7201a8"
                          ],
                          [
                            0.3333333333333333,
                            "#9c179e"
                          ],
                          [
                            0.4444444444444444,
                            "#bd3786"
                          ],
                          [
                            0.5555555555555556,
                            "#d8576b"
                          ],
                          [
                            0.6666666666666666,
                            "#ed7953"
                          ],
                          [
                            0.7777777777777778,
                            "#fb9f3a"
                          ],
                          [
                            0.8888888888888888,
                            "#fdca26"
                          ],
                          [
                            1,
                            "#f0f921"
                          ]
                        ],
                        "type": "heatmapgl"
                      }
                    ],
                    "histogram": [
                      {
                        "marker": {
                          "pattern": {
                            "fillmode": "overlay",
                            "size": 10,
                            "solidity": 0.2
                          }
                        },
                        "type": "histogram"
                      }
                    ],
                    "histogram2d": [
                      {
                        "colorbar": {
                          "outlinewidth": 0,
                          "ticks": ""
                        },
                        "colorscale": [
                          [
                            0,
                            "#0d0887"
                          ],
                          [
                            0.1111111111111111,
                            "#46039f"
                          ],
                          [
                            0.2222222222222222,
                            "#7201a8"
                          ],
                          [
                            0.3333333333333333,
                            "#9c179e"
                          ],
                          [
                            0.4444444444444444,
                            "#bd3786"
                          ],
                          [
                            0.5555555555555556,
                            "#d8576b"
                          ],
                          [
                            0.6666666666666666,
                            "#ed7953"
                          ],
                          [
                            0.7777777777777778,
                            "#fb9f3a"
                          ],
                          [
                            0.8888888888888888,
                            "#fdca26"
                          ],
                          [
                            1,
                            "#f0f921"
                          ]
                        ],
                        "type": "histogram2d"
                      }
                    ],
                    "histogram2dcontour": [
                      {
                        "colorbar": {
                          "outlinewidth": 0,
                          "ticks": ""
                        },
                        "colorscale": [
                          [
                            0,
                            "#0d0887"
                          ],
                          [
                            0.1111111111111111,
                            "#46039f"
                          ],
                          [
                            0.2222222222222222,
                            "#7201a8"
                          ],
                          [
                            0.3333333333333333,
                            "#9c179e"
                          ],
                          [
                            0.4444444444444444,
                            "#bd3786"
                          ],
                          [
                            0.5555555555555556,
                            "#d8576b"
                          ],
                          [
                            0.6666666666666666,
                            "#ed7953"
                          ],
                          [
                            0.7777777777777778,
                            "#fb9f3a"
                          ],
                          [
                            0.8888888888888888,
                            "#fdca26"
                          ],
                          [
                            1,
                            "#f0f921"
                          ]
                        ],
                        "type": "histogram2dcontour"
                      }
                    ],
                    "mesh3d": [
                      {
                        "colorbar": {
                          "outlinewidth": 0,
                          "ticks": ""
                        },
                        "type": "mesh3d"
                      }
                    ],
                    "parcoords": [
                      {
                        "line": {
                          "colorbar": {
                            "outlinewidth": 0,
                            "ticks": ""
                          }
                        },
                        "type": "parcoords"
                      }
                    ],
                    "pie": [
                      {
                        "automargin": true,
                        "type": "pie"
                      }
                    ],
                    "scatter": [
                      {
                        "fillpattern": {
                          "fillmode": "overlay",
                          "size": 10,
                          "solidity": 0.2
                        },
                        "type": "scatter"
                      }
                    ],
                    "scatter3d": [
                      {
                        "line": {
                          "colorbar": {
                            "outlinewidth": 0,
                            "ticks": ""
                          }
                        },
                        "marker": {
                          "colorbar": {
                            "outlinewidth": 0,
                            "ticks": ""
                          }
                        },
                        "type": "scatter3d"
                      }
                    ],
                    "scattercarpet": [
                      {
                        "marker": {
                          "colorbar": {
                            "outlinewidth": 0,
                            "ticks": ""
                          }
                        },
                        "type": "scattercarpet"
                      }
                    ],
                    "scattergeo": [
                      {
                        "marker": {
                          "colorbar": {
                            "outlinewidth": 0,
                            "ticks": ""
                          }
                        },
                        "type": "scattergeo"
                      }
                    ],
                    "scattergl": [
                      {
                        "marker": {
                          "colorbar": {
                            "outlinewidth": 0,
                            "ticks": ""
                          }
                        },
                        "type": "scattergl"
                      }
                    ],
                    "scattermapbox": [
                      {
                        "marker": {
                          "colorbar": {
                            "outlinewidth": 0,
                            "ticks": ""
                          }
                        },
                        "type": "scattermapbox"
                      }
                    ],
                    "scatterpolar": [
                      {
                        "marker": {
                          "colorbar": {
                            "outlinewidth": 0,
                            "ticks": ""
                          }
                        },
                        "type": "scatterpolar"
                      }
                    ],
                    "scatterpolargl": [
                      {
                        "marker": {
                          "colorbar": {
                            "outlinewidth": 0,
                            "ticks": ""
                          }
                        },
                        "type": "scatterpolargl"
                      }
                    ],
                    "scatterternary": [
                      {
                        "marker": {
                          "colorbar": {
                            "outlinewidth": 0,
                            "ticks": ""
                          }
                        },
                        "type": "scatterternary"
                      }
                    ],
                    "surface": [
                      {
                        "colorbar": {
                          "outlinewidth": 0,
                          "ticks": ""
                        },
                        "colorscale": [
                          [
                            0,
                            "#0d0887"
                          ],
                          [
                            0.1111111111111111,
                            "#46039f"
                          ],
                          [
                            0.2222222222222222,
                            "#7201a8"
                          ],
                          [
                            0.3333333333333333,
                            "#9c179e"
                          ],
                          [
                            0.4444444444444444,
                            "#bd3786"
                          ],
                          [
                            0.5555555555555556,
                            "#d8576b"
                          ],
                          [
                            0.6666666666666666,
                            "#ed7953"
                          ],
                          [
                            0.7777777777777778,
                            "#fb9f3a"
                          ],
                          [
                            0.8888888888888888,
                            "#fdca26"
                          ],
                          [
                            1,
                            "#f0f921"
                          ]
                        ],
                        "type": "surface"
                      }
                    ],
                    "table": [
                      {
                        "cells": {
                          "fill": {
                            "color": "#EBF0F8"
                          },
                          "line": {
                            "color": "white"
                          }
                        },
                        "header": {
                          "fill": {
                            "color": "#C8D4E3"
                          },
                          "line": {
                            "color": "white"
                          }
                        },
                        "type": "table"
                      }
                    ]
                  },
                  "layout": {
                    "annotationdefaults": {
                      "arrowcolor": "#2a3f5f",
                      "arrowhead": 0,
                      "arrowwidth": 1
                    },
                    "autotypenumbers": "strict",
                    "coloraxis": {
                      "colorbar": {
                        "outlinewidth": 0,
                        "ticks": ""
                      }
                    },
                    "colorscale": {
                      "diverging": [
                        [
                          0,
                          "#8e0152"
                        ],
                        [
                          0.1,
                          "#c51b7d"
                        ],
                        [
                          0.2,
                          "#de77ae"
                        ],
                        [
                          0.3,
                          "#f1b6da"
                        ],
                        [
                          0.4,
                          "#fde0ef"
                        ],
                        [
                          0.5,
                          "#f7f7f7"
                        ],
                        [
                          0.6,
                          "#e6f5d0"
                        ],
                        [
                          0.7,
                          "#b8e186"
                        ],
                        [
                          0.8,
                          "#7fbc41"
                        ],
                        [
                          0.9,
                          "#4d9221"
                        ],
                        [
                          1,
                          "#276419"
                        ]
                      ],
                      "sequential": [
                        [
                          0,
                          "#0d0887"
                        ],
                        [
                          0.1111111111111111,
                          "#46039f"
                        ],
                        [
                          0.2222222222222222,
                          "#7201a8"
                        ],
                        [
                          0.3333333333333333,
                          "#9c179e"
                        ],
                        [
                          0.4444444444444444,
                          "#bd3786"
                        ],
                        [
                          0.5555555555555556,
                          "#d8576b"
                        ],
                        [
                          0.6666666666666666,
                          "#ed7953"
                        ],
                        [
                          0.7777777777777778,
                          "#fb9f3a"
                        ],
                        [
                          0.8888888888888888,
                          "#fdca26"
                        ],
                        [
                          1,
                          "#f0f921"
                        ]
                      ],
                      "sequentialminus": [
                        [
                          0,
                          "#0d0887"
                        ],
                        [
                          0.1111111111111111,
                          "#46039f"
                        ],
                        [
                          0.2222222222222222,
                          "#7201a8"
                        ],
                        [
                          0.3333333333333333,
                          "#9c179e"
                        ],
                        [
                          0.4444444444444444,
                          "#bd3786"
                        ],
                        [
                          0.5555555555555556,
                          "#d8576b"
                        ],
                        [
                          0.6666666666666666,
                          "#ed7953"
                        ],
                        [
                          0.7777777777777778,
                          "#fb9f3a"
                        ],
                        [
                          0.8888888888888888,
                          "#fdca26"
                        ],
                        [
                          1,
                          "#f0f921"
                        ]
                      ]
                    },
                    "colorway": [
                      "#636efa",
                      "#EF553B",
                      "#00cc96",
                      "#ab63fa",
                      "#FFA15A",
                      "#19d3f3",
                      "#FF6692",
                      "#B6E880",
                      "#FF97FF",
                      "#FECB52"
                    ],
                    "font": {
                      "color": "#2a3f5f"
                    },
                    "geo": {
                      "bgcolor": "white",
                      "lakecolor": "white",
                      "landcolor": "#E5ECF6",
                      "showlakes": true,
                      "showland": true,
                      "subunitcolor": "white"
                    },
                    "hoverlabel": {
                      "align": "left"
                    },
                    "hovermode": "closest",
                    "mapbox": {
                      "style": "light"
                    },
                    "paper_bgcolor": "white",
                    "plot_bgcolor": "#E5ECF6",
                    "polar": {
                      "angularaxis": {
                        "gridcolor": "white",
                        "linecolor": "white",
                        "ticks": ""
                      },
                      "bgcolor": "#E5ECF6",
                      "radialaxis": {
                        "gridcolor": "white",
                        "linecolor": "white",
                        "ticks": ""
                      }
                    },
                    "scene": {
                      "xaxis": {
                        "backgroundcolor": "#E5ECF6",
                        "gridcolor": "white",
                        "gridwidth": 2,
                        "linecolor": "white",
                        "showbackground": true,
                        "ticks": "",
                        "zerolinecolor": "white"
                      },
                      "yaxis": {
                        "backgroundcolor": "#E5ECF6",
                        "gridcolor": "white",
                        "gridwidth": 2,
                        "linecolor": "white",
                        "showbackground": true,
                        "ticks": "",
                        "zerolinecolor": "white"
                      },
                      "zaxis": {
                        "backgroundcolor": "#E5ECF6",
                        "gridcolor": "white",
                        "gridwidth": 2,
                        "linecolor": "white",
                        "showbackground": true,
                        "ticks": "",
                        "zerolinecolor": "white"
                      }
                    },
                    "shapedefaults": {
                      "line": {
                        "color": "#2a3f5f"
                      }
                    },
                    "ternary": {
                      "aaxis": {
                        "gridcolor": "white",
                        "linecolor": "white",
                        "ticks": ""
                      },
                      "baxis": {
                        "gridcolor": "white",
                        "linecolor": "white",
                        "ticks": ""
                      },
                      "bgcolor": "#E5ECF6",
                      "caxis": {
                        "gridcolor": "white",
                        "linecolor": "white",
                        "ticks": ""
                      }
                    },
                    "title": {
                      "x": 0.05
                    },
                    "xaxis": {
                      "automargin": true,
                      "gridcolor": "white",
                      "linecolor": "white",
                      "ticks": "",
                      "title": {
                        "standoff": 15
                      },
                      "zerolinecolor": "white",
                      "zerolinewidth": 2
                    },
                    "yaxis": {
                      "automargin": true,
                      "gridcolor": "white",
                      "linecolor": "white",
                      "ticks": "",
                      "title": {
                        "standoff": 15
                      },
                      "zerolinecolor": "white",
                      "zerolinewidth": 2
                    }
                  }
                },
                "title": {
                  "text": "Evolution of Male and Female Participation in Olympic Athletics"
                },
                "xaxis": {
                  "anchor": "y",
                  "domain": [
                    0,
                    1
                  ],
                  "tickangle": -90,
                  "tickmode": "array",
                  "ticktext": [
                    "1896",
                    "1900",
                    "1904",
                    "1906",
                    "1908",
                    "1912",
                    "1920",
                    "1924",
                    "1928",
                    "1932",
                    "1936",
                    "1948",
                    "1952",
                    "1956",
                    "1960",
                    "1964",
                    "1968",
                    "1972",
                    "1976",
                    "1980",
                    "1984",
                    "1988",
                    "1992",
                    "1996",
                    "2000",
                    "2004",
                    "2008",
                    "2012",
                    "2016",
                    "2020"
                  ],
                  "tickvals": [
                    "1896",
                    "1900",
                    "1904",
                    "1906",
                    "1908",
                    "1912",
                    "1920",
                    "1924",
                    "1928",
                    "1932",
                    "1936",
                    "1948",
                    "1952",
                    "1956",
                    "1960",
                    "1964",
                    "1968",
                    "1972",
                    "1976",
                    "1980",
                    "1984",
                    "1988",
                    "1992",
                    "1996",
                    "2000",
                    "2004",
                    "2008",
                    "2012",
                    "2016",
                    "2020"
                  ],
                  "title": {
                    "text": "Olympic Year"
                  },
                  "type": "category"
                },
                "yaxis": {
                  "anchor": "x",
                  "domain": [
                    0,
                    1
                  ],
                  "title": {
                    "text": "% Share of Athletes"
                  }
                }
              }
            }
          },
          "metadata": {},
          "output_type": "display_data"
        }
      ],
      "source": [
        "athletics_data = olympics_data[olympics_data[\"Sport\"] == \"Athletics\"]\n",
        "gender_counts = athletics_data.groupby([\"Year\", \"Gender\"]).size().reset_index(name=\"Count\")\n",
        "\n",
        "pivot_df = gender_counts.pivot(index=\"Year\", columns=\"Gender\", values=\"Count\").fillna(0)\n",
        "\n",
        "pivot_df[\"Total\"] = pivot_df.sum(axis=1)\n",
        "pivot_df[\"Female %\"] = (pivot_df[\"Female\"] / pivot_df[\"Total\"]) * 100\n",
        "pivot_df[\"Male %\"] = (pivot_df[\"Male\"] / pivot_df[\"Total\"]) * 100\n",
        "\n",
        "pivot_df = pivot_df.reset_index()\n",
        "\n",
        "pivot_df[\"Year\"] = pivot_df[\"Year\"].astype(str)\n",
        "\n",
        "fig = px.bar(\n",
        "    pivot_df,\n",
        "    x=\"Year\",\n",
        "    y=[\"Female %\", \"Male %\"],\n",
        "    labels={\"value\": \"Percentage of Athletes\", \"Year\": \"Olympic Year\"},\n",
        "    title=\"Evolution of Male and Female Participation in Olympic Athletics\",\n",
        "    color_discrete_map={\"Female %\": \"pink\", \"Male %\": \"blue\"}\n",
        ")\n",
        "\n",
        "fig.update_layout(\n",
        "    barmode=\"relative\",\n",
        "    xaxis=dict(\n",
        "        type=\"category\",\n",
        "        tickmode=\"array\",\n",
        "        tickvals=pivot_df[\"Year\"],\n",
        "        ticktext=pivot_df[\"Year\"],\n",
        "    ),\n",
        "    yaxis=dict(title=\"% Share of Athletes\"),\n",
        "    plot_bgcolor=\"white\"\n",
        ")\n",
        "\n",
        "fig.add_hline(y=50, line_dash=\"dash\", line_color=\"black\", annotation_text=\"50%\",\n",
        "              annotation_position=\"right\", annotation_font_size=14, annotation_font_color=\"black\")\n",
        "\n",
        "fig.update_xaxes(tickangle=-90)\n",
        "\n",
        "fig.show()"
      ]
    },
    {
      "cell_type": "markdown",
      "id": "NINMYCPAeBKc",
      "metadata": {
        "id": "NINMYCPAeBKc"
      },
      "source": [
        "# Longeur de carrière"
      ]
    },
    {
      "cell_type": "code",
      "execution_count": 34,
      "id": "iSDwt9Z-IOvl",
      "metadata": {
        "colab": {
          "base_uri": "https://localhost:8080/",
          "height": 542
        },
        "id": "iSDwt9Z-IOvl",
        "outputId": "902862f9-d04d-4a2d-c328-fafad7695250"
      },
      "outputs": [
        {
          "data": {
            "application/vnd.plotly.v1+json": {
              "config": {
                "plotlyServerURL": "https://plot.ly"
              },
              "data": [
                {
                  "alignmentgroup": "True",
                  "hovertemplate": "Color=gray<br>Sport=%{x}<br>Average Career Length (Years)=%{y}<extra></extra>",
                  "legendgroup": "gray",
                  "marker": {
                    "color": "gray",
                    "pattern": {
                      "shape": ""
                    }
                  },
                  "name": "gray",
                  "offsetgroup": "gray",
                  "orientation": "v",
                  "showlegend": true,
                  "textposition": "auto",
                  "type": "bar",
                  "x": [
                    "Biathlon",
                    "Table Tennis",
                    "Cross Country Skiing",
                    "Luge",
                    "Nordic Combined",
                    "Equestrianism",
                    "Speed Skating",
                    "Shooting",
                    "Trampolining",
                    "Short Track Speed Skating",
                    "Fencing",
                    "Ski Jumping",
                    "Alpine Skiing",
                    "Canoeing",
                    "Freestyle Skiing",
                    "Bobsleigh",
                    "Diving",
                    "Water Polo",
                    "Snowboarding",
                    "Sailing",
                    "Ice Hockey",
                    "Badminton",
                    "Beach Volleyball",
                    "Tennis",
                    "Archery",
                    "Skeleton",
                    "Modern Pentathlon",
                    "Figure Skating",
                    "Hockey",
                    "Athletics",
                    "Wrestling",
                    "Volleyball",
                    "Weightlifting",
                    "Rowing",
                    "Judo",
                    "Synchronized Swimming",
                    "Handball",
                    "Curling",
                    "Triathlon",
                    "Softball",
                    "Cycling",
                    "Basketball",
                    "Gymnastics",
                    "Art Competitions",
                    "Taekwondo",
                    "Baseball",
                    "Tug-Of-War",
                    "Boxing",
                    "Rhythmic Gymnastics",
                    "Football",
                    "Polo",
                    "Military Ski Patrol",
                    "Rugby",
                    "Jeu De Paume",
                    "Motorboating",
                    "Golf",
                    "Rugby Sevens",
                    "Artistic Swimming",
                    "Trampoline Gymnastics",
                    "Surfing",
                    "Sport Climbing",
                    "Baseball/Softball",
                    "Alpinism",
                    "Artistic Gymnastics",
                    "Equestrian",
                    "Basque Pelota",
                    "Skateboarding",
                    "Cycling Road",
                    "Cycling Mountain Bike",
                    "Cycling BMX Racing",
                    "Cycling BMX Freestyle",
                    "Aeronautics",
                    "Karate",
                    "Lacrosse",
                    "Marathon Swimming",
                    "Croquet",
                    "Racquets",
                    "Roque",
                    "Cycling Track",
                    "Cricket",
                    "Canoe Sprint",
                    "Canoe Slalom",
                    "3x3 Basketball"
                  ],
                  "xaxis": "x",
                  "y": [
                    2.4598405885959536,
                    2.3859332732191163,
                    2.312821635826125,
                    2.2873563218390807,
                    2.238095238095238,
                    2.1889974779319044,
                    2.180830215570996,
                    2.1794594594594594,
                    2.164473684210526,
                    2.1603650586701435,
                    2.1167294244217323,
                    2.1128696376509786,
                    2.0397553516819573,
                    2.020256036298817,
                    1.9658484525080042,
                    1.9499672988881622,
                    1.932472691161867,
                    1.8816553727008714,
                    1.8803418803418803,
                    1.866493656286044,
                    1.814902102973169,
                    1.8131868131868132,
                    1.812121212121212,
                    1.8090101522842639,
                    1.7665895061728396,
                    1.763819095477387,
                    1.7467124070897655,
                    1.731070496083551,
                    1.7237134552915028,
                    1.7133261687264911,
                    1.7026736530968696,
                    1.6844528710725895,
                    1.6702951136913402,
                    1.655516590234691,
                    1.6483669214732453,
                    1.647964796479648,
                    1.6379866104636747,
                    1.632829373650108,
                    1.6315049226441631,
                    1.6297071129707112,
                    1.6295238972281056,
                    1.6254145936981759,
                    1.6134721234133373,
                    1.4782001117942984,
                    1.4605978260869565,
                    1.3881431767337808,
                    1.3058823529411765,
                    1.2940340909090908,
                    1.2718832891246685,
                    1.2011423908608732,
                    1.168421052631579,
                    1.1666666666666667,
                    1.0987654320987654,
                    1.0909090909090908,
                    1.0588235294117647,
                    1.013623978201635,
                    1.0016366612111294,
                    1,
                    1,
                    1,
                    1,
                    1,
                    1,
                    1,
                    1,
                    1,
                    1,
                    1,
                    1,
                    1,
                    1,
                    1,
                    1,
                    1,
                    1,
                    1,
                    1,
                    1,
                    1,
                    1,
                    1,
                    1,
                    1
                  ],
                  "yaxis": "y"
                },
                {
                  "alignmentgroup": "True",
                  "hovertemplate": "Color=red<br>Sport=%{x}<br>Average Career Length (Years)=%{y}<extra></extra>",
                  "legendgroup": "red",
                  "marker": {
                    "color": "red",
                    "pattern": {
                      "shape": ""
                    }
                  },
                  "name": "red",
                  "offsetgroup": "red",
                  "orientation": "v",
                  "showlegend": true,
                  "textposition": "auto",
                  "type": "bar",
                  "x": [
                    "Swimming"
                  ],
                  "xaxis": "x",
                  "y": [
                    1.7544806476297878
                  ],
                  "yaxis": "y"
                }
              ],
              "layout": {
                "barmode": "relative",
                "legend": {
                  "title": {
                    "text": "Color"
                  },
                  "tracegroupgap": 0
                },
                "showlegend": false,
                "template": {
                  "data": {
                    "bar": [
                      {
                        "error_x": {
                          "color": "rgb(36,36,36)"
                        },
                        "error_y": {
                          "color": "rgb(36,36,36)"
                        },
                        "marker": {
                          "line": {
                            "color": "white",
                            "width": 0.5
                          },
                          "pattern": {
                            "fillmode": "overlay",
                            "size": 10,
                            "solidity": 0.2
                          }
                        },
                        "type": "bar"
                      }
                    ],
                    "barpolar": [
                      {
                        "marker": {
                          "line": {
                            "color": "white",
                            "width": 0.5
                          },
                          "pattern": {
                            "fillmode": "overlay",
                            "size": 10,
                            "solidity": 0.2
                          }
                        },
                        "type": "barpolar"
                      }
                    ],
                    "carpet": [
                      {
                        "aaxis": {
                          "endlinecolor": "rgb(36,36,36)",
                          "gridcolor": "white",
                          "linecolor": "white",
                          "minorgridcolor": "white",
                          "startlinecolor": "rgb(36,36,36)"
                        },
                        "baxis": {
                          "endlinecolor": "rgb(36,36,36)",
                          "gridcolor": "white",
                          "linecolor": "white",
                          "minorgridcolor": "white",
                          "startlinecolor": "rgb(36,36,36)"
                        },
                        "type": "carpet"
                      }
                    ],
                    "choropleth": [
                      {
                        "colorbar": {
                          "outlinewidth": 1,
                          "tickcolor": "rgb(36,36,36)",
                          "ticks": "outside"
                        },
                        "type": "choropleth"
                      }
                    ],
                    "contour": [
                      {
                        "colorbar": {
                          "outlinewidth": 1,
                          "tickcolor": "rgb(36,36,36)",
                          "ticks": "outside"
                        },
                        "colorscale": [
                          [
                            0,
                            "#440154"
                          ],
                          [
                            0.1111111111111111,
                            "#482878"
                          ],
                          [
                            0.2222222222222222,
                            "#3e4989"
                          ],
                          [
                            0.3333333333333333,
                            "#31688e"
                          ],
                          [
                            0.4444444444444444,
                            "#26828e"
                          ],
                          [
                            0.5555555555555556,
                            "#1f9e89"
                          ],
                          [
                            0.6666666666666666,
                            "#35b779"
                          ],
                          [
                            0.7777777777777778,
                            "#6ece58"
                          ],
                          [
                            0.8888888888888888,
                            "#b5de2b"
                          ],
                          [
                            1,
                            "#fde725"
                          ]
                        ],
                        "type": "contour"
                      }
                    ],
                    "contourcarpet": [
                      {
                        "colorbar": {
                          "outlinewidth": 1,
                          "tickcolor": "rgb(36,36,36)",
                          "ticks": "outside"
                        },
                        "type": "contourcarpet"
                      }
                    ],
                    "heatmap": [
                      {
                        "colorbar": {
                          "outlinewidth": 1,
                          "tickcolor": "rgb(36,36,36)",
                          "ticks": "outside"
                        },
                        "colorscale": [
                          [
                            0,
                            "#440154"
                          ],
                          [
                            0.1111111111111111,
                            "#482878"
                          ],
                          [
                            0.2222222222222222,
                            "#3e4989"
                          ],
                          [
                            0.3333333333333333,
                            "#31688e"
                          ],
                          [
                            0.4444444444444444,
                            "#26828e"
                          ],
                          [
                            0.5555555555555556,
                            "#1f9e89"
                          ],
                          [
                            0.6666666666666666,
                            "#35b779"
                          ],
                          [
                            0.7777777777777778,
                            "#6ece58"
                          ],
                          [
                            0.8888888888888888,
                            "#b5de2b"
                          ],
                          [
                            1,
                            "#fde725"
                          ]
                        ],
                        "type": "heatmap"
                      }
                    ],
                    "heatmapgl": [
                      {
                        "colorbar": {
                          "outlinewidth": 1,
                          "tickcolor": "rgb(36,36,36)",
                          "ticks": "outside"
                        },
                        "colorscale": [
                          [
                            0,
                            "#440154"
                          ],
                          [
                            0.1111111111111111,
                            "#482878"
                          ],
                          [
                            0.2222222222222222,
                            "#3e4989"
                          ],
                          [
                            0.3333333333333333,
                            "#31688e"
                          ],
                          [
                            0.4444444444444444,
                            "#26828e"
                          ],
                          [
                            0.5555555555555556,
                            "#1f9e89"
                          ],
                          [
                            0.6666666666666666,
                            "#35b779"
                          ],
                          [
                            0.7777777777777778,
                            "#6ece58"
                          ],
                          [
                            0.8888888888888888,
                            "#b5de2b"
                          ],
                          [
                            1,
                            "#fde725"
                          ]
                        ],
                        "type": "heatmapgl"
                      }
                    ],
                    "histogram": [
                      {
                        "marker": {
                          "line": {
                            "color": "white",
                            "width": 0.6
                          }
                        },
                        "type": "histogram"
                      }
                    ],
                    "histogram2d": [
                      {
                        "colorbar": {
                          "outlinewidth": 1,
                          "tickcolor": "rgb(36,36,36)",
                          "ticks": "outside"
                        },
                        "colorscale": [
                          [
                            0,
                            "#440154"
                          ],
                          [
                            0.1111111111111111,
                            "#482878"
                          ],
                          [
                            0.2222222222222222,
                            "#3e4989"
                          ],
                          [
                            0.3333333333333333,
                            "#31688e"
                          ],
                          [
                            0.4444444444444444,
                            "#26828e"
                          ],
                          [
                            0.5555555555555556,
                            "#1f9e89"
                          ],
                          [
                            0.6666666666666666,
                            "#35b779"
                          ],
                          [
                            0.7777777777777778,
                            "#6ece58"
                          ],
                          [
                            0.8888888888888888,
                            "#b5de2b"
                          ],
                          [
                            1,
                            "#fde725"
                          ]
                        ],
                        "type": "histogram2d"
                      }
                    ],
                    "histogram2dcontour": [
                      {
                        "colorbar": {
                          "outlinewidth": 1,
                          "tickcolor": "rgb(36,36,36)",
                          "ticks": "outside"
                        },
                        "colorscale": [
                          [
                            0,
                            "#440154"
                          ],
                          [
                            0.1111111111111111,
                            "#482878"
                          ],
                          [
                            0.2222222222222222,
                            "#3e4989"
                          ],
                          [
                            0.3333333333333333,
                            "#31688e"
                          ],
                          [
                            0.4444444444444444,
                            "#26828e"
                          ],
                          [
                            0.5555555555555556,
                            "#1f9e89"
                          ],
                          [
                            0.6666666666666666,
                            "#35b779"
                          ],
                          [
                            0.7777777777777778,
                            "#6ece58"
                          ],
                          [
                            0.8888888888888888,
                            "#b5de2b"
                          ],
                          [
                            1,
                            "#fde725"
                          ]
                        ],
                        "type": "histogram2dcontour"
                      }
                    ],
                    "mesh3d": [
                      {
                        "colorbar": {
                          "outlinewidth": 1,
                          "tickcolor": "rgb(36,36,36)",
                          "ticks": "outside"
                        },
                        "type": "mesh3d"
                      }
                    ],
                    "parcoords": [
                      {
                        "line": {
                          "colorbar": {
                            "outlinewidth": 1,
                            "tickcolor": "rgb(36,36,36)",
                            "ticks": "outside"
                          }
                        },
                        "type": "parcoords"
                      }
                    ],
                    "pie": [
                      {
                        "automargin": true,
                        "type": "pie"
                      }
                    ],
                    "scatter": [
                      {
                        "fillpattern": {
                          "fillmode": "overlay",
                          "size": 10,
                          "solidity": 0.2
                        },
                        "type": "scatter"
                      }
                    ],
                    "scatter3d": [
                      {
                        "line": {
                          "colorbar": {
                            "outlinewidth": 1,
                            "tickcolor": "rgb(36,36,36)",
                            "ticks": "outside"
                          }
                        },
                        "marker": {
                          "colorbar": {
                            "outlinewidth": 1,
                            "tickcolor": "rgb(36,36,36)",
                            "ticks": "outside"
                          }
                        },
                        "type": "scatter3d"
                      }
                    ],
                    "scattercarpet": [
                      {
                        "marker": {
                          "colorbar": {
                            "outlinewidth": 1,
                            "tickcolor": "rgb(36,36,36)",
                            "ticks": "outside"
                          }
                        },
                        "type": "scattercarpet"
                      }
                    ],
                    "scattergeo": [
                      {
                        "marker": {
                          "colorbar": {
                            "outlinewidth": 1,
                            "tickcolor": "rgb(36,36,36)",
                            "ticks": "outside"
                          }
                        },
                        "type": "scattergeo"
                      }
                    ],
                    "scattergl": [
                      {
                        "marker": {
                          "colorbar": {
                            "outlinewidth": 1,
                            "tickcolor": "rgb(36,36,36)",
                            "ticks": "outside"
                          }
                        },
                        "type": "scattergl"
                      }
                    ],
                    "scattermapbox": [
                      {
                        "marker": {
                          "colorbar": {
                            "outlinewidth": 1,
                            "tickcolor": "rgb(36,36,36)",
                            "ticks": "outside"
                          }
                        },
                        "type": "scattermapbox"
                      }
                    ],
                    "scatterpolar": [
                      {
                        "marker": {
                          "colorbar": {
                            "outlinewidth": 1,
                            "tickcolor": "rgb(36,36,36)",
                            "ticks": "outside"
                          }
                        },
                        "type": "scatterpolar"
                      }
                    ],
                    "scatterpolargl": [
                      {
                        "marker": {
                          "colorbar": {
                            "outlinewidth": 1,
                            "tickcolor": "rgb(36,36,36)",
                            "ticks": "outside"
                          }
                        },
                        "type": "scatterpolargl"
                      }
                    ],
                    "scatterternary": [
                      {
                        "marker": {
                          "colorbar": {
                            "outlinewidth": 1,
                            "tickcolor": "rgb(36,36,36)",
                            "ticks": "outside"
                          }
                        },
                        "type": "scatterternary"
                      }
                    ],
                    "surface": [
                      {
                        "colorbar": {
                          "outlinewidth": 1,
                          "tickcolor": "rgb(36,36,36)",
                          "ticks": "outside"
                        },
                        "colorscale": [
                          [
                            0,
                            "#440154"
                          ],
                          [
                            0.1111111111111111,
                            "#482878"
                          ],
                          [
                            0.2222222222222222,
                            "#3e4989"
                          ],
                          [
                            0.3333333333333333,
                            "#31688e"
                          ],
                          [
                            0.4444444444444444,
                            "#26828e"
                          ],
                          [
                            0.5555555555555556,
                            "#1f9e89"
                          ],
                          [
                            0.6666666666666666,
                            "#35b779"
                          ],
                          [
                            0.7777777777777778,
                            "#6ece58"
                          ],
                          [
                            0.8888888888888888,
                            "#b5de2b"
                          ],
                          [
                            1,
                            "#fde725"
                          ]
                        ],
                        "type": "surface"
                      }
                    ],
                    "table": [
                      {
                        "cells": {
                          "fill": {
                            "color": "rgb(237,237,237)"
                          },
                          "line": {
                            "color": "white"
                          }
                        },
                        "header": {
                          "fill": {
                            "color": "rgb(217,217,217)"
                          },
                          "line": {
                            "color": "white"
                          }
                        },
                        "type": "table"
                      }
                    ]
                  },
                  "layout": {
                    "annotationdefaults": {
                      "arrowhead": 0,
                      "arrowwidth": 1
                    },
                    "autotypenumbers": "strict",
                    "coloraxis": {
                      "colorbar": {
                        "outlinewidth": 1,
                        "tickcolor": "rgb(36,36,36)",
                        "ticks": "outside"
                      }
                    },
                    "colorscale": {
                      "diverging": [
                        [
                          0,
                          "rgb(103,0,31)"
                        ],
                        [
                          0.1,
                          "rgb(178,24,43)"
                        ],
                        [
                          0.2,
                          "rgb(214,96,77)"
                        ],
                        [
                          0.3,
                          "rgb(244,165,130)"
                        ],
                        [
                          0.4,
                          "rgb(253,219,199)"
                        ],
                        [
                          0.5,
                          "rgb(247,247,247)"
                        ],
                        [
                          0.6,
                          "rgb(209,229,240)"
                        ],
                        [
                          0.7,
                          "rgb(146,197,222)"
                        ],
                        [
                          0.8,
                          "rgb(67,147,195)"
                        ],
                        [
                          0.9,
                          "rgb(33,102,172)"
                        ],
                        [
                          1,
                          "rgb(5,48,97)"
                        ]
                      ],
                      "sequential": [
                        [
                          0,
                          "#440154"
                        ],
                        [
                          0.1111111111111111,
                          "#482878"
                        ],
                        [
                          0.2222222222222222,
                          "#3e4989"
                        ],
                        [
                          0.3333333333333333,
                          "#31688e"
                        ],
                        [
                          0.4444444444444444,
                          "#26828e"
                        ],
                        [
                          0.5555555555555556,
                          "#1f9e89"
                        ],
                        [
                          0.6666666666666666,
                          "#35b779"
                        ],
                        [
                          0.7777777777777778,
                          "#6ece58"
                        ],
                        [
                          0.8888888888888888,
                          "#b5de2b"
                        ],
                        [
                          1,
                          "#fde725"
                        ]
                      ],
                      "sequentialminus": [
                        [
                          0,
                          "#440154"
                        ],
                        [
                          0.1111111111111111,
                          "#482878"
                        ],
                        [
                          0.2222222222222222,
                          "#3e4989"
                        ],
                        [
                          0.3333333333333333,
                          "#31688e"
                        ],
                        [
                          0.4444444444444444,
                          "#26828e"
                        ],
                        [
                          0.5555555555555556,
                          "#1f9e89"
                        ],
                        [
                          0.6666666666666666,
                          "#35b779"
                        ],
                        [
                          0.7777777777777778,
                          "#6ece58"
                        ],
                        [
                          0.8888888888888888,
                          "#b5de2b"
                        ],
                        [
                          1,
                          "#fde725"
                        ]
                      ]
                    },
                    "colorway": [
                      "#1F77B4",
                      "#FF7F0E",
                      "#2CA02C",
                      "#D62728",
                      "#9467BD",
                      "#8C564B",
                      "#E377C2",
                      "#7F7F7F",
                      "#BCBD22",
                      "#17BECF"
                    ],
                    "font": {
                      "color": "rgb(36,36,36)"
                    },
                    "geo": {
                      "bgcolor": "white",
                      "lakecolor": "white",
                      "landcolor": "white",
                      "showlakes": true,
                      "showland": true,
                      "subunitcolor": "white"
                    },
                    "hoverlabel": {
                      "align": "left"
                    },
                    "hovermode": "closest",
                    "mapbox": {
                      "style": "light"
                    },
                    "paper_bgcolor": "white",
                    "plot_bgcolor": "white",
                    "polar": {
                      "angularaxis": {
                        "gridcolor": "rgb(232,232,232)",
                        "linecolor": "rgb(36,36,36)",
                        "showgrid": false,
                        "showline": true,
                        "ticks": "outside"
                      },
                      "bgcolor": "white",
                      "radialaxis": {
                        "gridcolor": "rgb(232,232,232)",
                        "linecolor": "rgb(36,36,36)",
                        "showgrid": false,
                        "showline": true,
                        "ticks": "outside"
                      }
                    },
                    "scene": {
                      "xaxis": {
                        "backgroundcolor": "white",
                        "gridcolor": "rgb(232,232,232)",
                        "gridwidth": 2,
                        "linecolor": "rgb(36,36,36)",
                        "showbackground": true,
                        "showgrid": false,
                        "showline": true,
                        "ticks": "outside",
                        "zeroline": false,
                        "zerolinecolor": "rgb(36,36,36)"
                      },
                      "yaxis": {
                        "backgroundcolor": "white",
                        "gridcolor": "rgb(232,232,232)",
                        "gridwidth": 2,
                        "linecolor": "rgb(36,36,36)",
                        "showbackground": true,
                        "showgrid": false,
                        "showline": true,
                        "ticks": "outside",
                        "zeroline": false,
                        "zerolinecolor": "rgb(36,36,36)"
                      },
                      "zaxis": {
                        "backgroundcolor": "white",
                        "gridcolor": "rgb(232,232,232)",
                        "gridwidth": 2,
                        "linecolor": "rgb(36,36,36)",
                        "showbackground": true,
                        "showgrid": false,
                        "showline": true,
                        "ticks": "outside",
                        "zeroline": false,
                        "zerolinecolor": "rgb(36,36,36)"
                      }
                    },
                    "shapedefaults": {
                      "fillcolor": "black",
                      "line": {
                        "width": 0
                      },
                      "opacity": 0.3
                    },
                    "ternary": {
                      "aaxis": {
                        "gridcolor": "rgb(232,232,232)",
                        "linecolor": "rgb(36,36,36)",
                        "showgrid": false,
                        "showline": true,
                        "ticks": "outside"
                      },
                      "baxis": {
                        "gridcolor": "rgb(232,232,232)",
                        "linecolor": "rgb(36,36,36)",
                        "showgrid": false,
                        "showline": true,
                        "ticks": "outside"
                      },
                      "bgcolor": "white",
                      "caxis": {
                        "gridcolor": "rgb(232,232,232)",
                        "linecolor": "rgb(36,36,36)",
                        "showgrid": false,
                        "showline": true,
                        "ticks": "outside"
                      }
                    },
                    "title": {
                      "x": 0.05
                    },
                    "xaxis": {
                      "automargin": true,
                      "gridcolor": "rgb(232,232,232)",
                      "linecolor": "rgb(36,36,36)",
                      "showgrid": false,
                      "showline": true,
                      "ticks": "outside",
                      "title": {
                        "standoff": 15
                      },
                      "zeroline": false,
                      "zerolinecolor": "rgb(36,36,36)"
                    },
                    "yaxis": {
                      "automargin": true,
                      "gridcolor": "rgb(232,232,232)",
                      "linecolor": "rgb(36,36,36)",
                      "showgrid": false,
                      "showline": true,
                      "ticks": "outside",
                      "title": {
                        "standoff": 15
                      },
                      "zeroline": false,
                      "zerolinecolor": "rgb(36,36,36)"
                    }
                  }
                },
                "title": {
                  "text": "Average Olympic Career Length by Sport"
                },
                "xaxis": {
                  "anchor": "y",
                  "categoryarray": [
                    "Biathlon",
                    "Table Tennis",
                    "Cross Country Skiing",
                    "Luge",
                    "Nordic Combined",
                    "Equestrianism",
                    "Speed Skating",
                    "Shooting",
                    "Trampolining",
                    "Short Track Speed Skating",
                    "Fencing",
                    "Ski Jumping",
                    "Alpine Skiing",
                    "Canoeing",
                    "Freestyle Skiing",
                    "Bobsleigh",
                    "Diving",
                    "Water Polo",
                    "Snowboarding",
                    "Sailing",
                    "Ice Hockey",
                    "Badminton",
                    "Beach Volleyball",
                    "Tennis",
                    "Archery",
                    "Skeleton",
                    "Swimming",
                    "Modern Pentathlon",
                    "Figure Skating",
                    "Hockey",
                    "Athletics",
                    "Wrestling",
                    "Volleyball",
                    "Weightlifting",
                    "Rowing",
                    "Judo",
                    "Synchronized Swimming",
                    "Handball",
                    "Curling",
                    "Triathlon",
                    "Softball",
                    "Cycling",
                    "Basketball",
                    "Gymnastics",
                    "Art Competitions",
                    "Taekwondo",
                    "Baseball",
                    "Tug-Of-War",
                    "Boxing",
                    "Rhythmic Gymnastics",
                    "Football",
                    "Polo",
                    "Military Ski Patrol",
                    "Rugby",
                    "Jeu De Paume",
                    "Motorboating",
                    "Golf",
                    "Rugby Sevens",
                    "Artistic Swimming",
                    "Trampoline Gymnastics",
                    "Surfing",
                    "Sport Climbing",
                    "Baseball/Softball",
                    "Alpinism",
                    "Artistic Gymnastics",
                    "Equestrian",
                    "Basque Pelota",
                    "Skateboarding",
                    "Cycling Road",
                    "Cycling Mountain Bike",
                    "Cycling BMX Racing",
                    "Cycling BMX Freestyle",
                    "Aeronautics",
                    "Karate",
                    "Lacrosse",
                    "Marathon Swimming",
                    "Croquet",
                    "Racquets",
                    "Roque",
                    "Cycling Track",
                    "Cricket",
                    "Canoe Sprint",
                    "Canoe Slalom",
                    "3x3 Basketball"
                  ],
                  "categoryorder": "array",
                  "domain": [
                    0,
                    1
                  ],
                  "title": {
                    "text": "Sport"
                  }
                },
                "yaxis": {
                  "anchor": "x",
                  "domain": [
                    0,
                    1
                  ],
                  "title": {
                    "text": "Average Career Length (Years)"
                  }
                }
              }
            }
          },
          "metadata": {},
          "output_type": "display_data"
        }
      ],
      "source": [
        "df = olympics_data.copy()\n",
        "\n",
        "# A corriger\n",
        "df['Career Length'] = df.groupby('Name')['Year'].transform('nunique')\n",
        "\n",
        "avg_career_length = df.groupby('Sport')['Career Length'].mean().reset_index()\n",
        "\n",
        "avg_career_length = avg_career_length.sort_values('Career Length', ascending=False)\n",
        "\n",
        "avg_career_length['Color'] = avg_career_length['Sport'].apply(lambda x: 'red' if x == 'Swimming' else 'gray')\n",
        "\n",
        "fig = px.bar(\n",
        "    avg_career_length,\n",
        "    x='Sport',\n",
        "    y='Career Length',\n",
        "    color='Color',\n",
        "    color_discrete_map={'red': 'red', 'gray': 'gray'},\n",
        "    labels={'Career Length': 'Average Career Length (Years)'},\n",
        "    title='Average Olympic Career Length by Sport',\n",
        "    category_orders={'Sport': avg_career_length['Sport'].tolist()}\n",
        ")\n",
        "\n",
        "fig.update_layout(\n",
        "    xaxis_title='Sport',\n",
        "    yaxis_title='Average Career Length (Years)',\n",
        "    showlegend=False,\n",
        "    template='simple_white'\n",
        ")\n",
        "\n",
        "fig.show()"
      ]
    }
  ],
  "metadata": {
    "colab": {
      "provenance": []
    },
    "kernelspec": {
      "display_name": ".venv",
      "language": "python",
      "name": "python3"
    },
    "language_info": {
      "codemirror_mode": {
        "name": "ipython",
        "version": 3
      },
      "file_extension": ".py",
      "mimetype": "text/x-python",
      "name": "python",
      "nbconvert_exporter": "python",
      "pygments_lexer": "ipython3",
      "version": "3.11.9"
    }
  },
  "nbformat": 4,
  "nbformat_minor": 5
}
